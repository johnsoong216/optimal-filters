{
 "cells": [
  {
   "cell_type": "code",
   "execution_count": 1097,
   "metadata": {},
   "outputs": [],
   "source": [
    "import timeit\n",
    "import numpy as np\n",
    "import pandas as pd\n",
    "from scipy import integrate\n",
    "from pykalman import KalmanFilter"
   ]
  },
  {
   "cell_type": "code",
   "execution_count": 482,
   "metadata": {},
   "outputs": [],
   "source": [
    "import plotly.express as px"
   ]
  },
  {
   "cell_type": "code",
   "execution_count": 827,
   "metadata": {},
   "outputs": [
    {
     "data": {
      "text/html": [
       "        <script type=\"text/javascript\">\n",
       "        window.PlotlyConfig = {MathJaxConfig: 'local'};\n",
       "        if (window.MathJax) {MathJax.Hub.Config({SVG: {font: \"STIX-Web\"}});}\n",
       "        if (typeof require !== 'undefined') {\n",
       "        require.undef(\"plotly\");\n",
       "        requirejs.config({\n",
       "            paths: {\n",
       "                'plotly': ['https://cdn.plot.ly/plotly-latest.min']\n",
       "            }\n",
       "        });\n",
       "        require(['plotly'], function(Plotly) {\n",
       "            window._Plotly = Plotly;\n",
       "        });\n",
       "        }\n",
       "        </script>\n",
       "        "
      ]
     },
     "metadata": {},
     "output_type": "display_data"
    }
   ],
   "source": [
    "from plotly.offline import plot, iplot, init_notebook_mode\n",
    "# Make plotly work with Jupyter notebook\n",
    "init_notebook_mode(connected=True)"
   ]
  },
  {
   "cell_type": "markdown",
   "metadata": {},
   "source": [
    "### State Extrapolation Equation\n",
    "- Using the state extrapolation equation, we can predict the next system state, based on the knowledge of the current state. It extrapolates state vector from the present (time step n ) to the future (time step n+1).\n",
    "\n",
    "\n",
    "- x^n+1,n=Fx^n,n+Gu^n,n+wn\n",
    "- Where:\n",
    "- x^n+1,n\tis a predicted system state vector at time step n+1\n",
    "- x^n,n\tis an estimated system state vector at time step n\n",
    "- u^n,n\tis a control variable or input variable - a measurable (deterministic) input to the system\n",
    "- wn\tis a process noise or disturbance - an unmeasurable input that affects the state\n",
    "- F\tis a state transition matrix\n",
    "- G\tis a control matrix or input transition matrix (mapping control to state variables)\n"
   ]
  },
  {
   "cell_type": "code",
   "execution_count": 908,
   "metadata": {},
   "outputs": [],
   "source": [
    "def state_extrapolation(cur_state_vec, control_vec, transition_mat, control_mat):\n",
    "    \n",
    "    \"\"\"\n",
    "    Function extraploates state_vec from time step t to time step t + 1, cur_state_vec(t,t), next_state_vec(t+1, t)\n",
    "    Variable Dimensions:\n",
    "    cur_state_vec: n * 1\n",
    "    transition_mat: n * n \n",
    "    control_mat: n * m\n",
    "    control_vec: m * 1\n",
    "    noise_vec: n * 1\n",
    "    \"\"\"\n",
    "    \n",
    "#     print(transition_mat, transition_mat.shape)\n",
    "#     print(cur_state_vec, cur_state_vec.shape)\n",
    "#     print(control_mat, control_mat.shape)\n",
    "#     print(control_vec, control_vec.shape)\n",
    "    next_state_vec = np.dot(transition_mat, cur_state_vec) + np.dot(control_mat, control_vec)\n",
    "    return next_state_vec"
   ]
  },
  {
   "cell_type": "markdown",
   "metadata": {},
   "source": [
    "### Solve for F & G (Helper Functions)\n",
    "\n",
    "#### Given your dynamic input with your state vec and your control vec, determine what F & G are, functionality currently manually\n",
    "THE STATE SPACE REPRESENTATION\n",
    "You might be wandering, why the state space representation must be in the following form:\n",
    "\n",
    "x˙(t)=Ax(t)+Bu(t)\n",
    "y(t)=Cx(t)+Du(t)"
   ]
  },
  {
   "cell_type": "markdown",
   "metadata": {},
   "source": [
    "### Covariance Extrapolation Update\n",
    "\n",
    "Pn+1,n=FPn,nFT+Q\n",
    "Where:\n",
    "Pn,n\tis an estimate uncertainty (covariance) matrix of the current sate\n",
    "Pn+1,n\tis a predicted estimate uncertainty (covariance) matrix for the next state\n",
    "F\tis a state transition matrix that we've derived in \"Modeling linear dynamic systems\" section\n",
    "B\tis a input matrix\n",
    "Q\tis a process noise matrix\n"
   ]
  },
  {
   "cell_type": "code",
   "execution_count": 805,
   "metadata": {},
   "outputs": [],
   "source": [
    "def cov_extrapolation(cur_cov_mat, transition_mat, process_noise_mat):\n",
    "    next_cov_mat = np.linalg.multi_dot([transition_mat, cur_cov_mat, transition_mat.transpose()]) + process_noise_mat\n",
    "    return next_cov_mat"
   ]
  },
  {
   "cell_type": "code",
   "execution_count": 299,
   "metadata": {},
   "outputs": [],
   "source": []
  },
  {
   "cell_type": "code",
   "execution_count": 300,
   "metadata": {},
   "outputs": [],
   "source": [
    "def calc_process_noise_mat(noise_var, control_mat, time_dependence, continuous=False, control_mat_func=None, delta_t=0):\n",
    "    \n",
    "    if type(noise_var) != np.ndarray and not time_dependence:\n",
    "        noise_var = np.full((control_mat.shape[0],1),noise_var)\n",
    "    elif type(noise_var) != np.ndarray:\n",
    "        noise_var = np.full((control_mat.shape[0], control_mat.shape[0]), noise_var)\n",
    "        \n",
    "    if not time_dependence:\n",
    "        process_noise_mat = np.diag(noise_var)\n",
    "    else:\n",
    "        # discrete\n",
    "        if not continuous:\n",
    "            process_noise_mat = np.multiply(np.dot(control_mat, control_mat.transpose()))\n",
    "        else:\n",
    "            dim = noise_vec.shape[0]\n",
    "            process_noise_mat = np.eye(dim)\n",
    "#             print(dim)\n",
    "            for x in range(dim):\n",
    "                for y in range(dim):\n",
    "                    process_noise_mat[x][y] = noise_integral(delta_t, x, y, control_mat_func, delta_t)\n",
    "            process_noise_mat = np.multiply(noise_var, process_noise_mat)\n",
    "            \n",
    "    return process_noise_mat\n",
    "\n",
    "def integrand(t, dim_x, dim_y):\n",
    "    control_mat = np.array([t**2/2,t, t**3/3])\n",
    "    control_mat_t = np.transpose(np.matrix(control_mat))\n",
    "    return np.array(np.multiply(control_mat, control_mat_t))[dim_x][dim_y]\n",
    "\n",
    "def noise_integral(t, dim_x, dim_y, control_mat_func, delta_t):\n",
    "    return integrate.quad(control_mat_func, 0, delta_t, args=(dim_x, dim_y))[0]"
   ]
  },
  {
   "cell_type": "code",
   "execution_count": 286,
   "metadata": {},
   "outputs": [
    {
     "data": {
      "text/plain": [
       "array([[104.16666667,  52.08333333, 289.35185185],\n",
       "       [ 52.08333333,  27.77777778, 138.88888889],\n",
       "       [289.35185185, 138.88888889, 826.71957672]])"
      ]
     },
     "execution_count": 286,
     "metadata": {},
     "output_type": "execute_result"
    }
   ],
   "source": [
    "calc_process_noise_mat(\n",
    "    noise_vec=np.array([0,1,2]),\n",
    "    control_mat=np.array([[0,1],[1,2]]),\n",
    "    time_dependence=True,\n",
    "    continuous=True,\n",
    "    control_mat_func=integrand,\n",
    "    delta_t=5)"
   ]
  },
  {
   "cell_type": "markdown",
   "metadata": {},
   "source": [
    "### Measurement Equation\n",
    "zn=Hxn+vn\n",
    "Where:\n",
    "zn\tis a measurement vector\n",
    "xn\tis a true system state (hidden state)\n",
    "vn\ta random noise vector\n",
    "H\tis an observation matrix\n"
   ]
  },
  {
   "cell_type": "code",
   "execution_count": 233,
   "metadata": {},
   "outputs": [],
   "source": [
    "def measure_update(cur_state_vec, observation_mat, measure_noise_vec):\n",
    "    \"\"\"\n",
    "    Dimension:\n",
    "    State Vec n * 1\n",
    "    Observation Matrix z * n\n",
    "    Noise Vec z * 1\n",
    "    \"\"\"\n",
    "    measure_vec = np.dot(observation_mat, cur_state_vec) + measure_noise_vec\n",
    "    return measure_vec"
   ]
  },
  {
   "cell_type": "markdown",
   "metadata": {},
   "source": [
    "### State Update Equation\n",
    "x^n,n=x^n,n−1+Kn(zn−Hx^n,n−1)\n",
    "where:\n",
    "x^n,n\tis a estimated system state vector at time step n\n",
    "x^n,n−1\tis a predicted system state vector at time step n−1\n",
    "Kn\tis a Kalman Gain\n",
    "zn\tis a measurement\n",
    "H\tis an observation matrix\n",
    "\n",
    "\n",
    "\n",
    "x\tstate vector\tnx×1\n",
    "z\toutput vector\tnz×1\n",
    "H\tobservation matrix\tnz×nx\n",
    "K\tKalman gain\tnx×nz"
   ]
  },
  {
   "cell_type": "code",
   "execution_count": 364,
   "metadata": {},
   "outputs": [],
   "source": [
    "def state_update(prev_next_state_vec, kalman_gain_mat, measure_vec, observation_mat):\n",
    "    \n",
    "    \"\"\"\n",
    "    Dimension\n",
    "    Prev next state vec n * 1\n",
    "    Measure vc z * 1\n",
    "    Observation Z * X\n",
    "    Kalman Gain X * Z\n",
    "    \"\"\"\n",
    "    next_state_vec = prev_next_state_vec + np.dot(kalman_gain_mat, measure_vec - np.dot(observation_mat, prev_next_state_vec))\n",
    "    return next_state_vec"
   ]
  },
  {
   "cell_type": "markdown",
   "metadata": {},
   "source": [
    "### Cov Update\n",
    "\n",
    "Pn,n=(I−KnH)Pn,n−1(I−KnH)T+KnRnKTn\n",
    "where:\n",
    "Pn,n\tis an estimate uncertainty (covariance) matrix of the current sate\n",
    "Pn,n−1\tis a prior estimate uncertainty (covariance) matrix of the current sate (predicted at the previous state)\n",
    "Kn\tis a Kalman Gain\n",
    "H\tis an observation matrix\n",
    "Rn\tis a Measurement Uncertainty (measurement noise covariance matrix)"
   ]
  },
  {
   "cell_type": "code",
   "execution_count": 376,
   "metadata": {},
   "outputs": [],
   "source": [
    "def cov_update(prev_next_cov_mat, kalman_gain_mat, observation_mat, measure_noise_mat):\n",
    "    \"\"\"\n",
    "    Kalman Gain X * Z\n",
    "    Observation Z * X\n",
    "    Identity X * X\n",
    "    Previous Cov Mat  X * X\n",
    "    Measure Noise Z * 1\n",
    "    \n",
    "    \"\"\"\n",
    "    \n",
    "#     measure_noise_mat = np.cov(np.dot(np.matrix(measure_noise_vec).transpose(), np.matrix(measure_noise_vec)))\n",
    "    \n",
    "    identity_mat = np.eye(kalman_gain_mat.shape[0])\n",
    "    \n",
    "    next_cov_mat = prev_next_cov_mat\n",
    "    \n",
    "    first_part = np.subtract(identity_mat, np.dot(kalman_gain_mat, observation_mat))\n",
    "    \n",
    "    \n",
    "    next_cov_mat = np.linalg.multi_dot([first_part, prev_next_cov_mat, first_part.transpose()]) + \\\n",
    "                   np.linalg.multi_dot([kalman_gain_mat, measure_noise_mat, kalman_gain_mat.transpose()])\n",
    "    \n",
    "    return next_cov_mat\n",
    "\n",
    "\n",
    "def cov_update_simplified(prev_next_cov_mat, kalman_gain_mat, observation_mat, measure_noise_mat):\n",
    "    \n",
    "    identity_mat = np.eye(kalman_gain_mat.shape[0])\n",
    "    next_cov_mat = np.dot(\n",
    "                        np.subtract(identity_mat, np.dot(kalman_gain_mat, observation_mat)),\n",
    "                        prev_next_cov_mat\n",
    "    )\n",
    "    return next_cov_mat"
   ]
  },
  {
   "cell_type": "markdown",
   "metadata": {},
   "source": [
    "### Kalman Gain Equation\n",
    "\n",
    "\n",
    "Kn=Pn,n−1HT(HPn,n−1HT+Rn)−1\n",
    "where:\n",
    "Kn\tis the Kalman Gain\n",
    "Pn,n−1\tis a prior estimate uncertainty (covariance) matrix of the current sate (predicted at the previous state)\n",
    "H\tis an observation matrix\n",
    "Rn\tis a Measurement Uncertainty (measurement noise covariance matrix)"
   ]
  },
  {
   "cell_type": "code",
   "execution_count": 925,
   "metadata": {},
   "outputs": [],
   "source": [
    "def calc_kalman_gain(prev_next_cov_mat, observation_mat, measure_noise_mat):\n",
    "    \"\"\"\n",
    "    observation_mat Z * X\n",
    "    prev_next_cov_mat  X * X\n",
    "    measure_noise_mat Z * Z\n",
    "    \n",
    "    \"\"\"\n",
    "#     print('observation', observation_mat.shape, observation_mat, observation_mat.transpose().shape)\n",
    "#     print('covariance', prev_next_cov_mat.shape, prev_next_cov_mat)\n",
    "#     print('measure', measure_noise_mat, measure_noise_mat.shape)\n",
    "    \n",
    "    \n",
    "    kalman_gain_mat = np.linalg.multi_dot([\n",
    "        prev_next_cov_mat,\n",
    "        observation_mat.transpose(),\n",
    "        np.linalg.inv(\n",
    "            np.linalg.multi_dot([observation_mat, prev_next_cov_mat, observation_mat.transpose()]) + measure_noise_mat\n",
    "        )]\n",
    "    )\n",
    "    \n",
    "#     print(prev_next_cov_mat)\n",
    "#     print(np.linalg.multi_dot([observation_mat, prev_next_cov_mat, observation_mat.transpose()]) + measure_noise_mat)\n",
    "    return kalman_gain_mat"
   ]
  },
  {
   "cell_type": "code",
   "execution_count": 289,
   "metadata": {},
   "outputs": [],
   "source": [
    "class KalmanFilter:\n",
    "    \n",
    "    \n",
    "    def __init__(self, init_state_vec, init_state_cov, transition_mat, observation_mat, control_mat):\n",
    "        pass\n",
    "    \n",
    "    \n",
    "    def predict(self, cur_state_vec, control_vec, noise_vec, transition_mat, control_mat, process_noise_mat):\n",
    "        \n",
    "        pred_next_state_vec = state_extrapolation(cur_state_vec, control_vec, process_noise_vec, transition_mat, control_mat)\n",
    "        pred_next_cov_mat = cov_extrapolation(cur_cov_mat, transition_mat, process_noise_mat)\n",
    "        \n",
    "    def update(self, prev_next_cov_mat, prev_next_state_vec, observation_mat, measure_vec, measure_noise_mat):\n",
    "        \n",
    "        kalman_gain_mat = calc_kalman_gain(prev_next_cov_mat, observation_mat, measure_noise_mat)\n",
    "        cur_state_vec = state_update(prev_next_state_vec, kalman_gain_mat, measure_vec, observation_mat)\n",
    "        cur_state_cov_mat = cov_update(prev_next_cov_mat, kalman_gain_mat, observation_mat, measure_noise_mat)\n"
   ]
  },
  {
   "cell_type": "markdown",
   "metadata": {},
   "source": [
    "###  Plan\n",
    "- Understanding of Multi-Dimensional Kalman Filter, Review KalmanFilter.Net\n",
    "- Process Noise Matrix Q & Measurement Noise Matrix R Determination (Time-Variant/Independent/Discrete/Continuous)\n",
    "- Test on One Dimensional Data (Weight of Gold) (Done) Compare with pyKalman\n",
    "- Test on Multi-Dimensional Data (One Dimension Moving), Compare with pyKalman\n",
    "- Test on Multi-Dimensional Data (With Velocity & Acceleration Changing), Compare with pyKalman\n",
    "- Test on Financial Data, Compare with pyKalman\n",
    "- Test on Cointegrated Pair\n",
    "- Merge all 5 equations into a Class Object\n",
    "- Pandas compatibility\n",
    "- Transition & Control Matrix Auxiliary Helpers (Derivatives Calculation)\n",
    "- Vectorized Implementation (if possible)\n",
    "\n",
    "- Assume distribution for the noise (noise is normally distributed)\n",
    "- Model (Covariance Matrix is unknown, Collect Data (Fitted Covariance Matrix))\n",
    "- Standard Error of Observation (0.05, that is the standard deviation of the error)"
   ]
  },
  {
   "cell_type": "markdown",
   "metadata": {},
   "source": [
    "### Initialize Covariance Matrix is ERROR Covariance (High if you think your initial estimate is inaccurate)"
   ]
  },
  {
   "cell_type": "code",
   "execution_count": null,
   "metadata": {},
   "outputs": [],
   "source": [
    "### Noise Vector Variance Independent or given variance, multiply by control matrix (From Experiment)\n",
    "### Measurement Uncertainty\n"
   ]
  },
  {
   "cell_type": "code",
   "execution_count": null,
   "metadata": {},
   "outputs": [],
   "source": [
    "\"\"\"\n",
    "\n",
    "All noises are assumed as Gaussian models in KF and EKF. To determine the values for the measurement noise you need to collect a sample data sets from the sensors that you are using. For each data set you can calculate the variance value put it to the corresponding position of the measurement noise covariance matrix.\n",
    "\n",
    "Usually process noise covariances are experimental values. You can use a trial and error method to find the values which reduce the error.\n",
    "\n",
    "\n",
    "\"\"\""
   ]
  },
  {
   "cell_type": "markdown",
   "metadata": {},
   "source": [
    "### Weighting Gold (Comparing results with pyKalman)\n",
    "- Results are consistent"
   ]
  },
  {
   "cell_type": "code",
   "execution_count": 812,
   "metadata": {},
   "outputs": [],
   "source": [
    "measure_var = 100\n",
    "init_state_vec = np.asarray(0)\n",
    "init_state_cov = np.matrix(500)\n",
    "transition_mat = np.matrix(1)\n",
    "control_mat = np.matrix(0)\n",
    "control_vec = np.zeros(1)\n",
    "observation_mat = np.matrix(1)\n",
    "measure_noise_mat = np.matrix(measure_var)\n",
    "process_noise_mat = np.matrix(0.00)\n",
    "true_value = 1000"
   ]
  },
  {
   "cell_type": "code",
   "execution_count": 821,
   "metadata": {},
   "outputs": [],
   "source": [
    "kf = KalmanFilter(n_dim_obs=1, \n",
    "                  n_dim_state=1, \n",
    "                  initial_state_mean=init_state_vec,\n",
    "                  initial_state_covariance=init_state_cov,\n",
    "                  transition_matrices=transition_mat,\n",
    "                  observation_matrices=observation_mat,\n",
    "                  observation_covariance=measure_noise_mat,\n",
    "                  transition_covariance=process_noise_mat)"
   ]
  },
  {
   "cell_type": "code",
   "execution_count": 909,
   "metadata": {},
   "outputs": [
    {
     "name": "stdout",
     "output_type": "stream",
     "text": [
      "observation (2, 1) [[0]\n",
      " [1]] [[0 1]]\n",
      "covariance (2, 2) [[501.   0.]\n",
      " [  0.   0.]]\n",
      "measure [[1]] (1, 1)\n"
     ]
    },
    {
     "ename": "ValueError",
     "evalue": "shapes (2,2) and (1,2) not aligned: 2 (dim 1) != 1 (dim 0)",
     "output_type": "error",
     "traceback": [
      "\u001b[1;31m---------------------------------------------------------------------------\u001b[0m",
      "\u001b[1;31mValueError\u001b[0m                                Traceback (most recent call last)",
      "\u001b[1;32m<ipython-input-909-76cbbe13f818>\u001b[0m in \u001b[0;36m<module>\u001b[1;34m\u001b[0m\n\u001b[0;32m      8\u001b[0m \u001b[1;32mfor\u001b[0m \u001b[0mmeasure\u001b[0m \u001b[1;32min\u001b[0m \u001b[0mmeasurements\u001b[0m\u001b[1;33m:\u001b[0m\u001b[1;33m\u001b[0m\u001b[1;33m\u001b[0m\u001b[0m\n\u001b[0;32m      9\u001b[0m     \u001b[0mmeasure_vec\u001b[0m \u001b[1;33m=\u001b[0m \u001b[0mnp\u001b[0m\u001b[1;33m.\u001b[0m\u001b[0masarray\u001b[0m\u001b[1;33m(\u001b[0m\u001b[0mmeasure\u001b[0m\u001b[1;33m)\u001b[0m\u001b[1;33m\u001b[0m\u001b[1;33m\u001b[0m\u001b[0m\n\u001b[1;32m---> 10\u001b[1;33m     \u001b[0mkalman_gain_mat\u001b[0m \u001b[1;33m=\u001b[0m \u001b[0mcalc_kalman_gain\u001b[0m\u001b[1;33m(\u001b[0m\u001b[0mprev_next_cov_mat\u001b[0m\u001b[1;33m,\u001b[0m \u001b[0mobservation_mat\u001b[0m\u001b[1;33m,\u001b[0m \u001b[0mmeasure_noise_mat\u001b[0m\u001b[1;33m)\u001b[0m\u001b[1;33m\u001b[0m\u001b[1;33m\u001b[0m\u001b[0m\n\u001b[0m\u001b[0;32m     11\u001b[0m     \u001b[0mkalman_gain_list\u001b[0m\u001b[1;33m.\u001b[0m\u001b[0mappend\u001b[0m\u001b[1;33m(\u001b[0m\u001b[0mkalman_gain_mat\u001b[0m\u001b[1;33m.\u001b[0m\u001b[0mitem\u001b[0m\u001b[1;33m(\u001b[0m\u001b[1;36m0\u001b[0m\u001b[1;33m)\u001b[0m\u001b[1;33m)\u001b[0m\u001b[1;33m\u001b[0m\u001b[1;33m\u001b[0m\u001b[0m\n\u001b[0;32m     12\u001b[0m \u001b[1;33m\u001b[0m\u001b[0m\n",
      "\u001b[1;32m<ipython-input-904-c1a8e3bf883f>\u001b[0m in \u001b[0;36mcalc_kalman_gain\u001b[1;34m(prev_next_cov_mat, observation_mat, measure_noise_mat)\u001b[0m\n\u001b[0;32m     15\u001b[0m         \u001b[0mobservation_mat\u001b[0m\u001b[1;33m.\u001b[0m\u001b[0mtranspose\u001b[0m\u001b[1;33m(\u001b[0m\u001b[1;33m)\u001b[0m\u001b[1;33m,\u001b[0m\u001b[1;33m\u001b[0m\u001b[1;33m\u001b[0m\u001b[0m\n\u001b[0;32m     16\u001b[0m         np.linalg.inv(\n\u001b[1;32m---> 17\u001b[1;33m             \u001b[0mnp\u001b[0m\u001b[1;33m.\u001b[0m\u001b[0mlinalg\u001b[0m\u001b[1;33m.\u001b[0m\u001b[0mmulti_dot\u001b[0m\u001b[1;33m(\u001b[0m\u001b[1;33m[\u001b[0m\u001b[0mobservation_mat\u001b[0m\u001b[1;33m,\u001b[0m \u001b[0mprev_next_cov_mat\u001b[0m\u001b[1;33m,\u001b[0m \u001b[0mobservation_mat\u001b[0m\u001b[1;33m.\u001b[0m\u001b[0mtranspose\u001b[0m\u001b[1;33m(\u001b[0m\u001b[1;33m)\u001b[0m\u001b[1;33m]\u001b[0m\u001b[1;33m)\u001b[0m \u001b[1;33m+\u001b[0m \u001b[0mmeasure_noise_mat\u001b[0m\u001b[1;33m\u001b[0m\u001b[1;33m\u001b[0m\u001b[0m\n\u001b[0m\u001b[0;32m     18\u001b[0m         )]\n\u001b[0;32m     19\u001b[0m     )\n",
      "\u001b[1;32m<__array_function__ internals>\u001b[0m in \u001b[0;36mmulti_dot\u001b[1;34m(*args, **kwargs)\u001b[0m\n",
      "\u001b[1;32m~\\AppData\\Local\\Continuum\\anaconda3\\envs\\analysis_env\\lib\\site-packages\\numpy\\linalg\\linalg.py\u001b[0m in \u001b[0;36mmulti_dot\u001b[1;34m(arrays)\u001b[0m\n\u001b[0;32m   2668\u001b[0m     \u001b[1;31m# _multi_dot_three is much faster than _multi_dot_matrix_chain_order\u001b[0m\u001b[1;33m\u001b[0m\u001b[1;33m\u001b[0m\u001b[1;33m\u001b[0m\u001b[0m\n\u001b[0;32m   2669\u001b[0m     \u001b[1;32mif\u001b[0m \u001b[0mn\u001b[0m \u001b[1;33m==\u001b[0m \u001b[1;36m3\u001b[0m\u001b[1;33m:\u001b[0m\u001b[1;33m\u001b[0m\u001b[1;33m\u001b[0m\u001b[0m\n\u001b[1;32m-> 2670\u001b[1;33m         \u001b[0mresult\u001b[0m \u001b[1;33m=\u001b[0m \u001b[0m_multi_dot_three\u001b[0m\u001b[1;33m(\u001b[0m\u001b[0marrays\u001b[0m\u001b[1;33m[\u001b[0m\u001b[1;36m0\u001b[0m\u001b[1;33m]\u001b[0m\u001b[1;33m,\u001b[0m \u001b[0marrays\u001b[0m\u001b[1;33m[\u001b[0m\u001b[1;36m1\u001b[0m\u001b[1;33m]\u001b[0m\u001b[1;33m,\u001b[0m \u001b[0marrays\u001b[0m\u001b[1;33m[\u001b[0m\u001b[1;36m2\u001b[0m\u001b[1;33m]\u001b[0m\u001b[1;33m)\u001b[0m\u001b[1;33m\u001b[0m\u001b[1;33m\u001b[0m\u001b[0m\n\u001b[0m\u001b[0;32m   2671\u001b[0m     \u001b[1;32melse\u001b[0m\u001b[1;33m:\u001b[0m\u001b[1;33m\u001b[0m\u001b[1;33m\u001b[0m\u001b[0m\n\u001b[0;32m   2672\u001b[0m         \u001b[0morder\u001b[0m \u001b[1;33m=\u001b[0m \u001b[0m_multi_dot_matrix_chain_order\u001b[0m\u001b[1;33m(\u001b[0m\u001b[0marrays\u001b[0m\u001b[1;33m)\u001b[0m\u001b[1;33m\u001b[0m\u001b[1;33m\u001b[0m\u001b[0m\n",
      "\u001b[1;32m~\\AppData\\Local\\Continuum\\anaconda3\\envs\\analysis_env\\lib\\site-packages\\numpy\\linalg\\linalg.py\u001b[0m in \u001b[0;36m_multi_dot_three\u001b[1;34m(A, B, C)\u001b[0m\n\u001b[0;32m   2700\u001b[0m         \u001b[1;32mreturn\u001b[0m \u001b[0mdot\u001b[0m\u001b[1;33m(\u001b[0m\u001b[0mdot\u001b[0m\u001b[1;33m(\u001b[0m\u001b[0mA\u001b[0m\u001b[1;33m,\u001b[0m \u001b[0mB\u001b[0m\u001b[1;33m)\u001b[0m\u001b[1;33m,\u001b[0m \u001b[0mC\u001b[0m\u001b[1;33m)\u001b[0m\u001b[1;33m\u001b[0m\u001b[1;33m\u001b[0m\u001b[0m\n\u001b[0;32m   2701\u001b[0m     \u001b[1;32melse\u001b[0m\u001b[1;33m:\u001b[0m\u001b[1;33m\u001b[0m\u001b[1;33m\u001b[0m\u001b[0m\n\u001b[1;32m-> 2702\u001b[1;33m         \u001b[1;32mreturn\u001b[0m \u001b[0mdot\u001b[0m\u001b[1;33m(\u001b[0m\u001b[0mA\u001b[0m\u001b[1;33m,\u001b[0m \u001b[0mdot\u001b[0m\u001b[1;33m(\u001b[0m\u001b[0mB\u001b[0m\u001b[1;33m,\u001b[0m \u001b[0mC\u001b[0m\u001b[1;33m)\u001b[0m\u001b[1;33m)\u001b[0m\u001b[1;33m\u001b[0m\u001b[1;33m\u001b[0m\u001b[0m\n\u001b[0m\u001b[0;32m   2703\u001b[0m \u001b[1;33m\u001b[0m\u001b[0m\n\u001b[0;32m   2704\u001b[0m \u001b[1;33m\u001b[0m\u001b[0m\n",
      "\u001b[1;32m<__array_function__ internals>\u001b[0m in \u001b[0;36mdot\u001b[1;34m(*args, **kwargs)\u001b[0m\n",
      "\u001b[1;31mValueError\u001b[0m: shapes (2,2) and (1,2) not aligned: 2 (dim 1) != 1 (dim 0)"
     ]
    }
   ],
   "source": [
    "prev_next_state_vec = state_extrapolation(init_state_vec, control_vec, transition_mat, control_mat)\n",
    "prev_next_cov_mat = cov_extrapolation(init_state_cov, transition_mat, process_noise_mat)\n",
    "\n",
    "kalman_gain_list = []\n",
    "cur_state_vec_list = []\n",
    "cur_state_cov_list = []\n",
    "measurements = measure_var * np.random.randn(2000) + true_value\n",
    "for measure in measurements:\n",
    "    measure_vec = np.asarray(measure)\n",
    "    kalman_gain_mat = calc_kalman_gain(prev_next_cov_mat, observation_mat, measure_noise_mat)\n",
    "    kalman_gain_list.append(kalman_gain_mat.item(0))\n",
    "\n",
    "    cur_state_vec = state_update(prev_next_state_vec, kalman_gain_mat, measure_vec, observation_mat)\n",
    "    cur_state_cov_mat = cov_update(prev_next_cov_mat, kalman_gain_mat, observation_mat, measure_noise_mat)\n",
    "    \n",
    "    cur_state_vec_list.append(cur_state_vec.item(0))\n",
    "    cur_state_cov_list.append(cur_state_cov_mat.item(0))\n",
    "    \n",
    "    prev_next_state_vec = state_extrapolation(cur_state_vec, control_vec, transition_mat, control_mat)\n",
    "    prev_next_cov_mat = cov_extrapolation(cur_state_cov_mat, transition_mat, process_noise_mat)\n",
    "\n",
    "    \n",
    "\n",
    "prev_next_cov_mat = init_state_cov\n",
    "prev_next_state_vec = init_state_vec\n",
    "\n",
    "cur_state_vec_list_2 = []\n",
    "cur_state_cov_list_2 = []\n",
    "    \n",
    "# for measure in measurements:\n",
    "#     measure_vec = np.asarray(measure)\n",
    "#     prev_next_state_vec, prev_next_cov_mat = kf.filter_update(prev_next_state_vec, prev_next_cov_mat,\n",
    "#                     observation=measure_vec,\n",
    "#                     observation_matrix=observation_mat)\n",
    "    \n",
    "    \n",
    "# #     print(prev_next_state_vec)\n",
    "# #     print(type(prev_next_state_vec.item(0)))\n",
    "#     cur_state_vec_list_2.append(prev_next_state_vec.item(0))\n",
    "#     cur_state_cov_list_2.append(prev_next_cov_mat.item(0))\n",
    "\n",
    "#     print(observation_mat.shape, observation_mat, observation_mat.transpose())\n",
    "#     print(prev_next_cov_mat.shape, prev_next_cov_mat)\n",
    "#     print(measure_noise_mat, measure_noise_mat.shape)\n",
    "\n",
    "# def calc_kalman_gain(prev_next_cov_mat, observation_mat, measure_noise_mat):\n",
    "#     \"\"\"\n",
    "#     observation_mat Z * X\n",
    "#     prev_next_cov_mat  X * X\n",
    "#     measure_noise_mat Z * Z\n",
    "    \n",
    "#     \"\"\"\n",
    "#     print('observation', observation_mat.shape, observation_mat, observation_mat.transpose())\n",
    "#     print('covariance', prev_next_cov_mat.shape, prev_next_cov_mat)\n",
    "#     print('measure', measure_noise_mat, measure_noise_mat.shape)\n",
    "    \n",
    "    \n",
    "#     kalman_gain_mat = np.linalg.multi_dot([\n",
    "#         prev_next_cov_mat,\n",
    "#         observation_mat.transpose(),\n",
    "#         np.linalg.inv(\n",
    "#             np.linalg.multi_dot([observation_mat, prev_next_cov_mat, observation_mat.transpose()]) + measure_noise_mat\n",
    "#         )]\n",
    "#     )\n",
    "    \n",
    "# #     print(prev_next_cov_mat)\n",
    "# #     print(np.linalg.multi_dot([observation_mat, prev_next_cov_mat, observation_mat.transpose()]) + measure_noise_mat)\n",
    "#     return kalman_gain_mat\n",
    "    \n",
    "    \n",
    "res_df = pd.DataFrame({'KALMAN_GAIN': kalman_gain_list, 'CUR_STATE': cur_state_vec_list, 'CUR_STATE_STANDARD': cur_state_vec_list_2, 'CUR_COV_STANDARD': cur_state_cov_list_2, 'CUR_COV': cur_state_cov_list, 'TRUE_VALUE': true_value, 'MEASUREMENT': measurements})"
   ]
  },
  {
   "cell_type": "code",
   "execution_count": 825,
   "metadata": {},
   "outputs": [
    {
     "data": {
      "application/vnd.plotly.v1+json": {
       "config": {
        "plotlyServerURL": "https://plot.ly"
       },
       "data": [
        {
         "hoverlabel": {
          "namelength": 0
         },
         "hovertemplate": "variable=CUR_STATE<br>value=%{y}",
         "legendgroup": "variable=CUR_STATE",
         "line": {
          "color": "#636efa",
          "dash": "solid"
         },
         "mode": "lines",
         "name": "variable=CUR_STATE",
         "showlegend": true,
         "type": "scattergl",
         "xaxis": "x",
         "y": [
          727.9393814845301,
          814.2836446796888,
          876.4521040203718,
          948.5831688894509,
          937.4560516299457,
          932.591134258044,
          937.4543184874186,
          937.9301526043309,
          948.6785459501863,
          947.1995048411515,
          945.411515189699,
          932.2422899394638,
          929.9465019694755,
          929.2167812658646,
          938.5770656662174,
          942.4489825667303,
          940.0276890677362,
          947.9481238146737,
          958.0461144989839,
          966.4863085357281,
          960.9361823450272,
          971.4721378125504,
          972.7224920712695,
          970.7664636801131,
          970.4329360634764,
          973.2792538254862,
          973.9715020301767,
          970.6633216504634,
          980.0916497748351,
          982.1789392318349,
          987.6402635574758,
          991.5647972533927,
          990.7646267807737,
          990.7243412302222,
          991.90381398387,
          992.4494425106266,
          992.9295348618908,
          988.5315383789243,
          986.4681760765202,
          983.4575237965087,
          985.1584894418335,
          987.0525322150089,
          987.468849725008,
          987.399897426476,
          990.7319196954061,
          992.6763602139655,
          993.476396006602,
          991.4093856104579,
          992.2376130282732,
          993.7040895624012,
          992.3398684183512,
          993.2811162787432,
          993.3531181834235,
          996.3955143031438,
          994.7878693306216,
          995.8479291902443,
          997.5266205849873,
          1000.1257237990368,
          999.8643113856482,
          998.9330926558711,
          999.2197333928078,
          999.5471925400228,
          1001.6578890868096,
          1003.2560137180767,
          1002.6163858087848,
          1004.1774831468175,
          1004.2393223649718,
          1003.6386096377039,
          1003.9254434017913,
          1005.2879220002411,
          1002.7334761846877,
          1004.1208315007739,
          1003.1829774590201,
          1001.8609270631232,
          1002.384625997984,
          1003.7203034115281,
          1005.3934347327161,
          1003.3077416584533,
          999.8461083306058,
          999.8062502792521,
          1000.0115053866714,
          1000.0380707550877,
          1000.4382484955469,
          998.7428922915695,
          998.0928643517478,
          998.0023666830518,
          998.1634687439067,
          997.1853199997744,
          996.3864473834076,
          995.6943276019829,
          995.567719608136,
          997.3091850504729,
          997.8940730697602,
          998.1329867983012,
          999.8930564029697,
          999.9774396679021,
          999.9102665096109,
          999.4022921700653,
          997.8160413491554,
          998.5096092006526,
          998.0005959719783,
          999.457827454086,
          998.2461170816197,
          998.4572131870809,
          999.0322836785147,
          998.5399406390171,
          999.3210667685153,
          999.1383047688246,
          998.4436919707097,
          997.898256681422,
          998.5539606559132,
          998.1393638356401,
          997.6288474547921,
          998.198005642656,
          997.5813689208242,
          996.0082217471152,
          998.0032095001085,
          997.8347036829985,
          998.2375078630115,
          999.4860814288622,
          998.8175054070972,
          1000.10321658897,
          1000.3364596429507,
          1001.0003173567119,
          1001.1883591246578,
          999.7310078270176,
          1000.6470463670453,
          1000.9957887318501,
          1001.1286597672594,
          1001.5606486298667,
          1002.5426592486003,
          1002.7785026565724,
          1001.8990620018944,
          1002.2939159149008,
          1002.3053911187169,
          1002.7103535378119,
          1003.1266023975072,
          1002.5451775758544,
          1002.9094970506719,
          1003.0708193957,
          1002.7405492454587,
          1002.9634962689508,
          1002.7644532107997,
          1002.2076492480705,
          1002.3902121599091,
          1003.7120704245324,
          1004.1854528065463,
          1003.6686064018319,
          1004.1214872607695,
          1004.0008318460564,
          1004.1281471052281,
          1003.1250514994265,
          1002.6617243631142,
          1003.5786380613362,
          1004.4537827513903,
          1004.5535137694819,
          1003.6793357068454,
          1002.5779846543666,
          1001.9824729693302,
          1002.6348352656527,
          1003.1951591106217,
          1003.0794911871127,
          1003.6590696332785,
          1003.5562639818386,
          1003.5707253760735,
          1004.0870393993057,
          1003.4189608125196,
          1003.0482147228128,
          1002.2173831905278,
          1001.5169162953985,
          1000.9334143397435,
          1001.5748782819977,
          1001.1880703033535,
          1001.6861561006331,
          1000.8513192938764,
          1000.7609571402495,
          1000.5494627768809,
          1000.8697313785129,
          1000.9897489932808,
          1000.853675453561,
          1001.3787422253603,
          1001.2298851454033,
          1000.5680631770529,
          1000.0279398757508,
          1000.2750207762163,
          999.293142903987,
          998.5366626626803,
          998.1620044601577,
          998.1460343902959,
          997.5066001651426,
          997.7435109154352,
          997.9442134815707,
          998.703203231311,
          998.5997846211869,
          998.3198342882561,
          998.796807583949,
          999.2999407387529,
          1000.0587354894575,
          1000.8860537952141,
          1000.7890350560333,
          999.8041810923074,
          1000.1766969285768,
          999.674420118224,
          999.4207074112697,
          999.1327989723864,
          999.200692178442,
          999.0518217015867,
          998.5450481843739,
          999.0245656657801,
          999.3338623494564,
          998.7269705712388,
          999.4698866792712,
          999.5144537997063,
          999.3415524998392,
          1000.0842458571373,
          1000.2569446516563,
          1000.530718341926,
          999.7000853209702,
          999.2141318042371,
          1000.169734652875,
          1000.5187252355312,
          1000.1463935184626,
          1000.6029925278713,
          1000.4558779092407,
          1000.3231546191042,
          1000.5505853007567,
          999.6240756844988,
          998.5522697129725,
          999.253505179316,
          999.0079719475466,
          999.5832133934709,
          999.4732309009612,
          999.2898446945876,
          999.2457279825811,
          999.803489119595,
          999.8616816230128,
          999.7485581647267,
          999.4851932912408,
          999.3369430924711,
          999.7344486840383,
          1000.3520317398145,
          1000.989538201062,
          1000.9499451970886,
          1001.1144294491423,
          1000.9583826861335,
          1001.5269500297201,
          1000.7816414576754,
          1000.7159914963705,
          1000.130223450523,
          999.9772219743355,
          999.793187445481,
          999.903414217299,
          999.5224231160572,
          999.49166970328,
          999.8625097321716,
          999.5320669572567,
          999.4408108361015,
          1000.1858274625648,
          1000.7771772150628,
          1001.0785179685867,
          1001.2173353137275,
          1001.0215598649337,
          1001.7907458660369,
          1001.7533937816031,
          1001.4074821731465,
          1000.9668468677286,
          1000.5750621749181,
          1000.0226084319506,
          999.6052154483705,
          999.4760538178191,
          1000.0034398977541,
          1000.2032470127184,
          999.7347336678788,
          999.7330195876227,
          999.8780773621675,
          999.2893340206464,
          999.9473914608124,
          1000.2665748048443,
          1000.0979718138315,
          1000.2824150601891,
          1000.2989788295642,
          1000.7702576661178,
          1001.6572266049021,
          1001.3471661780131,
          1001.4052978615733,
          1001.373475855159,
          1001.4455060106302,
          1001.3963246623558,
          1001.7982338791184,
          1001.9191507984211,
          1001.758212410868,
          1001.4348641428572,
          1001.0850358257271,
          1001.3206973336368,
          1001.1762513474188,
          1001.2809899106738,
          1001.1267017632589,
          1001.1717255939324,
          1001.2688715714189,
          1001.7281655220702,
          1001.539064900652,
          1001.5319616617195,
          1001.4172888692368,
          1001.8531849647783,
          1001.3340220728594,
          1001.8317137087289,
          1002.0468288481552,
          1002.2069145960313,
          1002.2262948642559,
          1001.9129981033327,
          1001.5518707040359,
          1001.4995234118536,
          1002.1180148376927,
          1002.2852797796813,
          1002.2788989962106,
          1002.450451616048,
          1002.1369331086183,
          1001.5292988381403,
          1001.5337210063448,
          1001.3372046678795,
          1001.6694067696669,
          1001.8757882360899,
          1002.381632051872,
          1002.5783238575257,
          1002.2651538004343,
          1001.9986188590156,
          1001.9850378392491,
          1001.7860008494116,
          1001.182525937755,
          1001.0986126117889,
          1001.4617560119981,
          1001.7710405651188,
          1001.6811861211471,
          1001.7959895173808,
          1001.5633070206903,
          1001.2332068067736,
          1001.1820827470601,
          1001.2321846195033,
          1001.4249008482385,
          1001.868436798211,
          1002.0434467390951,
          1002.6583667836557,
          1003.45997770265,
          1003.8715524703516,
          1004.0947238100237,
          1004.2605524841769,
          1004.55166612243,
          1004.6459894526375,
          1004.9716468999973,
          1004.7788223373757,
          1004.9690333494386,
          1004.7890766948958,
          1004.9593621614014,
          1005.0313017159147,
          1005.0631713519847,
          1004.7981762338552,
          1004.2406955753229,
          1004.0412507314375,
          1003.9092199959921,
          1003.5880907430674,
          1003.6115249204352,
          1003.8873954701811,
          1003.959131904746,
          1003.8772429764168,
          1004.1419619528332,
          1004.1369841675433,
          1004.3864421088111,
          1004.2424824992528,
          1004.2243027197313,
          1004.0523189622356,
          1003.658879076533,
          1003.0450638727908,
          1002.8569838171943,
          1002.7659597923158,
          1002.6579262393774,
          1002.8639848148345,
          1002.7819883359189,
          1002.8959934308152,
          1002.6867281607612,
          1002.6655380541318,
          1002.4962812149599,
          1002.8006727169325,
          1002.5334311968747,
          1002.6517909435007,
          1002.9006726065927,
          1002.6361741656876,
          1002.9114364349707,
          1002.8051791687985,
          1003.0852594496716,
          1002.873687442791,
          1003.6601647577755,
          1003.963550076685,
          1003.8980141312378,
          1003.2778666516077,
          1002.9673029533919,
          1002.7542102964112,
          1002.8823744678524,
          1003.0363699643083,
          1002.9142985118168,
          1002.7198714300642,
          1002.661322258828,
          1002.7863476665916,
          1003.3160589979519,
          1003.2634914057027,
          1003.2343703212052,
          1003.4755573493254,
          1003.4580872436045,
          1003.0169731671834,
          1002.8524393515033,
          1002.56012415326,
          1002.6257231283452,
          1002.5751824360412,
          1002.8259276888834,
          1002.9956316223203,
          1003.2652100908603,
          1003.4944735012622,
          1003.40281355242,
          1003.4451560465328,
          1003.4988440600126,
          1003.5603943019764,
          1003.4464403097386,
          1003.1593529704746,
          1003.3259298581225,
          1003.1260317446478,
          1003.1059268973773,
          1003.2282167266357,
          1003.5076721623449,
          1003.5134373905494,
          1003.1431309111683,
          1003.2083678584397,
          1003.5163431302841,
          1003.3963848033691,
          1003.3812008521563,
          1003.2257137625332,
          1003.4462355261735,
          1003.441479489572,
          1003.8784975432494,
          1003.7177608727442,
          1004.1425835691758,
          1004.027783571722,
          1003.9269643017166,
          1003.8231781156047,
          1003.8685617912183,
          1004.023320840764,
          1003.7228633933919,
          1003.566553977006,
          1003.4955320839061,
          1003.2375287749453,
          1003.5497269867495,
          1003.3641574026565,
          1003.2344492462154,
          1003.3816421320698,
          1003.5543913391202,
          1003.5378591447363,
          1003.1151479688943,
          1003.159720996231,
          1003.3070173159485,
          1003.3893745070761,
          1003.4078519378244,
          1003.4059008315367,
          1003.2971586385705,
          1003.2275546768178,
          1002.9428490897108,
          1002.755483547486,
          1003.0290962319492,
          1002.9312888210216,
          1003.0636732132499,
          1003.2460302640594,
          1003.0460268731055,
          1002.8183284646569,
          1002.7169656321419,
          1002.3682107429796,
          1002.2965080195241,
          1002.2098820726708,
          1001.920934819555,
          1001.8635064607955,
          1002.3070893399664,
          1002.6468426215258,
          1002.784218815731,
          1002.5012753022763,
          1002.4226712339391,
          1002.4932774498809,
          1002.4882249517485,
          1002.3548864433074,
          1002.2327094303158,
          1002.1691994709074,
          1002.1701129926074,
          1002.0627181779001,
          1001.9162074741934,
          1002.3009850484985,
          1002.5503604806845,
          1002.4493856915026,
          1002.3315122319478,
          1002.3269073830958,
          1002.506970245874,
          1002.301648904559,
          1002.125354484799,
          1001.9633781577287,
          1001.9031402594044,
          1001.9497691625364,
          1001.9497954899256,
          1001.8899295762118,
          1001.9215382399113,
          1001.8617490038732,
          1001.9180418937322,
          1001.800545524323,
          1002.0708187316019,
          1002.043302930654,
          1001.8296630829954,
          1001.668639620728,
          1001.8685983337667,
          1001.9524421639235,
          1002.0298176422866,
          1001.8320426321928,
          1001.5621823706254,
          1001.9490467053511,
          1002.3943866172549,
          1002.2905103430566,
          1002.0649428714717,
          1002.0721094468474,
          1001.6381956410778,
          1001.8340497071941,
          1001.8111797988032,
          1001.6987141359987,
          1001.6307277146967,
          1001.3337943846179,
          1000.9871952892174,
          1000.9245507485273,
          1000.9771926763967,
          1000.6762225125669,
          1000.6549625475294,
          1000.818125104046,
          1000.978857895723,
          1000.8110701681388,
          1000.8375093543103,
          1000.7806747900643,
          1000.8871927969907,
          1000.9404613139527,
          1000.8736863981826,
          1000.9659499135965,
          1001.1216554478652,
          1000.8213409025792,
          1001.0614917624671,
          1001.2666829858977,
          1001.1454236426788,
          1001.5164031984001,
          1001.6102357435099,
          1001.5707479821255,
          1001.6874504015705,
          1001.8302199692027,
          1001.8824186762532,
          1001.8503728958332,
          1002.0628753252125,
          1002.0638867633384,
          1002.1501672786075,
          1001.9854928240671,
          1001.9900571375158,
          1002.226924000061,
          1002.2172631592404,
          1002.1460378987313,
          1002.1051358444773,
          1002.3731179532379,
          1002.2296295568148,
          1002.2754593133104,
          1002.6041010920167,
          1002.3803917616715,
          1002.385579473512,
          1002.2728399324983,
          1002.3270967436072,
          1002.4317219800895,
          1002.5860818498944,
          1002.4272336263471,
          1002.3443461110493,
          1002.3433183300001,
          1002.2781118347261,
          1002.3718799358023,
          1002.5486237209486,
          1002.3049244621009,
          1002.3329402011364,
          1002.6005387462385,
          1002.5058289399735,
          1002.5906581417626,
          1002.6161155716042,
          1002.5288515163858,
          1002.1436113342362,
          1002.0999905974287,
          1002.0347773746317,
          1002.1926755770445,
          1002.2046532492883,
          1002.1866991632037,
          1001.9931207314692,
          1002.0482602406175,
          1002.0832305398128,
          1002.0446803201506,
          1002.0585133597434,
          1001.804174041305,
          1001.8597722867146,
          1001.9633674300106,
          1002.3368281272305,
          1001.9744820598946,
          1002.0288435582344,
          1001.9896421206795,
          1001.830371982814,
          1001.807607357488,
          1001.8782098857483,
          1001.7148445621576,
          1001.8446467904065,
          1001.5586910553474,
          1001.4046071652449,
          1001.4478611752842,
          1001.481794331693,
          1001.5571864282513,
          1001.8114163365002,
          1001.9146735010445,
          1001.9073115501933,
          1001.9113071565996,
          1001.7950270335587,
          1001.8308856338989,
          1001.7470424599196,
          1001.6338168411685,
          1001.6236546833512,
          1001.5673226055143,
          1001.6148231188921,
          1001.7421951402175,
          1001.6483219625759,
          1001.5431281369583,
          1001.4433781333885,
          1001.5537594895347,
          1001.4579344692638,
          1001.3399538700488,
          1001.1994357485437,
          1001.5171852505669,
          1001.3927997729188,
          1001.5949740380715,
          1001.3129204914401,
          1001.2959384900793,
          1001.292824848794,
          1001.3662600364243,
          1001.5914946708739,
          1001.4368242929125,
          1001.3679036095149,
          1001.3640543394678,
          1001.2412371514547,
          1001.1944700725691,
          1001.2532980119915,
          1001.1615333734221,
          1001.2010720829247,
          1001.2644706366428,
          1001.1645832529902,
          1001.2756480078552,
          1001.2349968667098,
          1001.1937411444068,
          1000.8459485406742,
          1000.8745299265839,
          1000.7586625228575,
          1000.7065511449373,
          1000.7771639309781,
          1000.7109136081233,
          1000.8661048829968,
          1000.9733166889703,
          1001.0821824628315,
          1000.9828694298411,
          1000.9854314923322,
          1001.0760148131885,
          1000.9334626522299,
          1000.9202161548236,
          1000.9968750984231,
          1000.8959866550462,
          1000.8549639309064,
          1000.613228150739,
          1000.4901631174497,
          1000.6996393342546,
          1000.7276701991872,
          1000.59873067754,
          1000.64231623374,
          1000.8979286529233,
          1000.7326953656182,
          1000.7356740415767,
          1000.7910259272013,
          1000.9228239565119,
          1001.1643068901825,
          1001.2302810836715,
          1001.1283116728257,
          1001.243825997946,
          1001.4011943410919,
          1001.2903884515076,
          1001.1327264866408,
          1000.9181041265822,
          1001.1303788616596,
          1000.988542046629,
          1000.9150578612811,
          1001.0647627305032,
          1001.4465549570475,
          1001.6820203984022,
          1001.8313612891822,
          1002.1054208890721,
          1002.0803826107898,
          1001.999883494207,
          1001.8411605776532,
          1001.7866272948049,
          1001.7452842375299,
          1001.9596218757822,
          1002.2684920980452,
          1002.3595193297721,
          1001.9105701018931,
          1001.6724388997071,
          1001.4865031450079,
          1001.3352570453083,
          1001.2832024906145,
          1001.5370825997268,
          1001.9510894928112,
          1001.8721212734952,
          1001.939912496246,
          1001.9151411811741,
          1001.8978849567952,
          1001.6834859686869,
          1001.6984016480328,
          1001.7226467944181,
          1001.4946372528126,
          1001.6515514970013,
          1001.5726839839242,
          1001.8426187797636,
          1001.8010966478657,
          1001.8360224679449,
          1001.7156024311369,
          1001.7693016845872,
          1001.5298200418512,
          1001.7503228061357,
          1001.7644576318631,
          1001.6778956432255,
          1001.8944250017853,
          1001.9447007627941,
          1002.0083226070134,
          1001.9013514345382,
          1001.9571725659262,
          1001.6901122835513,
          1001.9596933804919,
          1001.9424984514383,
          1001.8157191596944,
          1001.8028997711115,
          1001.8756787384807,
          1001.7262405703615,
          1001.8896189963338,
          1002.0728172486399,
          1002.0908576053725,
          1002.1287180544241,
          1002.0022936276406,
          1001.8315842307966,
          1001.8621426717982,
          1001.8305382560035,
          1001.846133206867,
          1001.8131281926253,
          1001.7772255909608,
          1001.717175790398,
          1001.7348953889463,
          1001.7239286470449,
          1001.9384046661377,
          1001.8812518534104,
          1001.6676191457385,
          1001.820499990098,
          1002.0170460760961,
          1001.9131256614852,
          1002.0746862614449,
          1001.8652975229476,
          1001.9501534312791,
          1002.0438294230526,
          1002.1837708861001,
          1002.1352779480384,
          1002.1391468547218,
          1002.2316361497594,
          1002.2712314663365,
          1002.3776077859812,
          1002.2654763454273,
          1002.2633238520726,
          1002.3263617750703,
          1002.4979588994469,
          1002.6091281982686,
          1002.7023608561332,
          1002.799001726918,
          1002.986046982924,
          1003.0876081640998,
          1003.2606089177817,
          1003.4519190039753,
          1003.4811603805626,
          1003.614814401932,
          1003.7790910245512,
          1003.7315297822108,
          1003.6597402127171,
          1003.6968673952385,
          1003.6513640977075,
          1003.8923348608051,
          1003.9234795019655,
          1003.9959923849761,
          1003.8335232003811,
          1003.9551054828758,
          1003.7188143478091,
          1003.656792422103,
          1003.606544949831,
          1003.7865167377483,
          1003.885481668015,
          1003.7185773300077,
          1003.6416289639777,
          1003.464041815671,
          1003.6098691938183,
          1003.5756157728191,
          1003.5616619402904,
          1003.5908310004231,
          1003.5977725694108,
          1003.5384735640534,
          1003.6742474393623,
          1003.6051326792083,
          1003.5608935980455,
          1003.608040613568,
          1003.5835293284847,
          1003.4377788395863,
          1003.4193863688974,
          1003.2954633219325,
          1003.501635266438,
          1003.3846299987771,
          1003.087930755162,
          1002.9679678697718,
          1002.9359711334882,
          1003.0337918365205,
          1003.092996212588,
          1002.8591629611408,
          1002.9342054642586,
          1002.8431362403715,
          1002.8388538177817,
          1002.905107543433,
          1003.2016881444451,
          1003.1871234651109,
          1003.0936468854426,
          1003.1903117109315,
          1002.9185561463381,
          1002.9555265598513,
          1002.847229191658,
          1002.7948230910785,
          1002.8196037921961,
          1003.0619147046299,
          1003.1590711929668,
          1003.0614426461611,
          1002.9377223631512,
          1002.9731361074644,
          1002.88873429994,
          1002.7085037583792,
          1002.6676974497559,
          1002.7775006653443,
          1002.8020670008518,
          1002.8916974595475,
          1003.0466493135604,
          1002.7801558184317,
          1002.8227513028583,
          1002.8236663685084,
          1002.6411616334257,
          1002.7272821663681,
          1002.7196572093342,
          1002.9815476811845,
          1002.8168249658844,
          1002.6917896263701,
          1002.8172559878961,
          1002.9417338410939,
          1002.8798640721026,
          1002.8691989489439,
          1002.8607698974891,
          1002.805217893468,
          1002.7346969389503,
          1002.6035437863349,
          1002.5220716907779,
          1002.6296080234304,
          1002.7846931198393,
          1002.8765399156854,
          1003.0774564520246,
          1003.1373006774493,
          1003.1986138305597,
          1003.3494661543223,
          1003.3570020922319,
          1003.1949992052512,
          1003.2705072053358,
          1003.3973818131096,
          1003.2997974889823,
          1003.1263824190752,
          1003.0349328763376,
          1003.1019530906418,
          1002.9000882559958,
          1003.1655044799184,
          1003.1138583884937,
          1003.112989184915,
          1003.0898263332247,
          1003.0855162741929,
          1003.0626632788462,
          1003.0972005505919,
          1002.9223054546256,
          1002.8584217204111,
          1002.9464164782979,
          1002.8227684723523,
          1002.8508664719141,
          1002.7730236305432,
          1002.6791920709343,
          1002.652952284516,
          1002.5770465898354,
          1002.5698099202965,
          1002.7450922823843,
          1002.673327940328,
          1002.5573628026352,
          1002.4021520411637,
          1002.4295893094818,
          1002.3961192552468,
          1002.2451721749289,
          1002.1574410783721,
          1002.21619059373,
          1002.0081010370502,
          1002.0096281723748,
          1001.9460476860522,
          1002.057921221421,
          1001.8987439419906,
          1002.0270493081376,
          1001.8340441718722,
          1001.7890767959159,
          1001.8232675454437,
          1001.879951130033,
          1001.9372228292373,
          1001.944197709277,
          1001.9436088077622,
          1001.9551956482189,
          1002.1603477209619,
          1002.2701771887217,
          1002.347666166844,
          1002.3863100757084,
          1002.4160867242855,
          1002.5000557118001,
          1002.6026649615559,
          1002.5353068105369,
          1002.4892089339928,
          1002.4069788498105,
          1002.2463330370471,
          1002.4029366875651,
          1002.4542957090555,
          1002.483078303806,
          1002.3315740123169,
          1002.4456073728514,
          1002.3003114324998,
          1002.284605463018,
          1002.2310738260006,
          1002.2311890176055,
          1002.3997351147389,
          1002.5744525685178,
          1002.5839705962021,
          1002.6223645512531,
          1002.6012937380057,
          1002.6577052972734,
          1002.5505189205516,
          1002.5858214654836,
          1002.5614355566136,
          1002.6575328478709,
          1002.7445773661763,
          1002.7860427519884,
          1002.8804233796569,
          1002.819907151411,
          1002.746177130478,
          1002.681784928221,
          1002.5751348328538,
          1002.525741802096,
          1002.5823930837373,
          1002.5860501399989,
          1002.586961450265,
          1002.3188337203369,
          1002.3974384219539,
          1002.4564903460091,
          1002.4689167100759,
          1002.4404933187432,
          1002.3583061724232,
          1002.4976742961961,
          1002.4826603096766,
          1002.4223132237402,
          1002.4376512534502,
          1002.3430424868627,
          1002.5193612721962,
          1002.4017536779021,
          1002.4845597455603,
          1002.378610089983,
          1002.3604673350779,
          1002.3587135373712,
          1002.4452123234324,
          1002.4485446987068,
          1002.298294533734,
          1002.1658319808972,
          1002.1649854392037,
          1002.0354116826729,
          1002.0057437989412,
          1001.9924164470541,
          1001.8554285930525,
          1001.7769075990476,
          1001.8415063085332,
          1001.6636455524931,
          1001.6733736875397,
          1001.5508158699764,
          1001.5274627788853,
          1001.5035387995481,
          1001.3655042821323,
          1001.3258320019316,
          1001.4104224073292,
          1001.4434702636458,
          1001.3593384606256,
          1001.1833804421212,
          1001.1618306076955,
          1001.106320316832,
          1001.0950905022816,
          1001.2245326069798,
          1001.1982542083637,
          1001.2335318902171,
          1001.1407160570383,
          1001.1966940863467,
          1001.2355062354037,
          1001.2914094196693,
          1001.3096349359146,
          1001.389913865134,
          1001.5641384223803,
          1001.549539508987,
          1001.6609507514607,
          1001.4543426004581,
          1001.5739320337589,
          1001.6708820796052,
          1001.7106088762291,
          1001.8554616188536,
          1001.8898555438861,
          1001.9162484693585,
          1001.925977640091,
          1001.8831091826844,
          1002.0188462263834,
          1001.8256257619638,
          1001.92844950937,
          1002.0531303932217,
          1002.0221957471783,
          1002.1103482747945,
          1002.0280863661135,
          1001.9062070309022,
          1002.0999856529714,
          1002.0733850877916,
          1002.1707697009264,
          1002.2271871091884,
          1002.2699911528798,
          1002.2397900901005,
          1002.250770804254,
          1002.2758757514297,
          1002.2978434740843,
          1002.3655280483814,
          1002.3641164288996,
          1002.4377350049053,
          1002.3410546764276,
          1002.3296883519041,
          1002.3498848055664,
          1002.3661226428991,
          1002.3229540867599,
          1002.3345796493445,
          1002.4196594299162,
          1002.4113331301342,
          1002.2414991390017,
          1002.2151993805354,
          1002.0377417644411,
          1002.0469053277709,
          1002.0213130030743,
          1001.989611132162,
          1002.041182472488,
          1001.9364495546421,
          1001.9616940917883,
          1001.8572714365902,
          1001.7198377002418,
          1001.7404894029497,
          1001.8158126505093,
          1001.8754078029265,
          1001.775853125057,
          1001.7580177454925,
          1002.0318258968516,
          1002.1705560725051,
          1002.1290315258881,
          1002.1147412120519,
          1002.1192739882736,
          1002.090764074325,
          1002.2146050578995,
          1002.1566520461804,
          1002.0941238191224,
          1002.2831854541137,
          1002.1379840066086,
          1002.154363220924,
          1001.9871278180228,
          1001.7526969406686,
          1001.675957714136,
          1001.6167569582113,
          1001.4361968091055,
          1001.4583566723583,
          1001.3450384746561,
          1001.18619809019,
          1001.3233088597168,
          1001.3394588181044,
          1001.4151910819972,
          1001.250101548233,
          1001.2366952380282,
          1001.369953878777,
          1001.4055469728872,
          1001.3485876712886,
          1001.3021165930905,
          1001.3021122213516,
          1001.300145141429,
          1001.3067550477832,
          1001.2779197476341,
          1001.0549507685876,
          1001.0937706969527,
          1001.0984912528259,
          1000.9933233311741,
          1000.8875973901723,
          1000.9790598646327,
          1000.9906916061852,
          1001.0542738326232,
          1001.0857083947874,
          1001.2558978901121,
          1001.1376753135338,
          1001.2161057696024,
          1001.1472479770927,
          1001.162741288125,
          1001.3075496009511,
          1001.1471235327193,
          1001.1555615183865,
          1001.0515606466734,
          1000.9197061886453,
          1000.8764681639839,
          1000.8403075564968,
          1000.9500076135496,
          1000.9397513968624,
          1000.9796020407551,
          1000.9109913713902,
          1000.9088711498539,
          1000.9236249394878,
          1001.0409687887111,
          1001.0736211042008,
          1000.9698870906522,
          1001.0855611189419,
          1001.1546606170762,
          1001.0758659334459,
          1001.1098641699507,
          1001.1445624035224,
          1001.1240870576008,
          1001.0163815610698,
          1000.9573776087676,
          1001.0484017003614,
          1000.8809290259369,
          1000.959931977321,
          1000.9550269194984,
          1000.8362674888101,
          1000.7219391091971,
          1000.8986667187398,
          1000.9154219864809,
          1001.0998455645541,
          1001.1875589841463,
          1001.1652130058269,
          1001.2074655176765,
          1001.2213211376999,
          1001.196424403009,
          1001.3503770181421,
          1001.4059292040268,
          1001.5114026450578,
          1001.52897245087,
          1001.4916796651703,
          1001.3871188963014,
          1001.3785739971263,
          1001.297440807675,
          1001.2141919028866,
          1001.2318728216658,
          1001.2275663975415,
          1001.290571854295,
          1001.2863669279278,
          1001.1648443004656,
          1001.2289175848872,
          1001.3542359661809,
          1001.2944209331774,
          1001.2129247939745,
          1001.2070982585102,
          1001.342211482734,
          1001.496078247127,
          1001.6445513080877,
          1001.6563901909861,
          1001.6973135055816,
          1001.7471180247659,
          1001.777646267508,
          1001.6209226345306,
          1001.6732984270451,
          1001.6902039397788,
          1001.6603395486417,
          1001.6137733123608,
          1001.5706449372607,
          1001.5616854261356,
          1001.6224903335822,
          1001.6526363049909,
          1001.6563000330133,
          1001.7842954097096,
          1001.9258482469969,
          1001.9702550874076,
          1001.853823018947,
          1001.8719468212976,
          1001.6674453479515,
          1001.6291908595056,
          1001.5515685353529,
          1001.6234104587545,
          1001.5274411821605,
          1001.5365766630357,
          1001.7360819377116,
          1001.6611999435356,
          1001.6352223590286,
          1001.5609457175016,
          1001.7266770126097,
          1001.6763443817554,
          1001.7448951357399,
          1001.7492653513876,
          1001.8193777381576,
          1001.7797573100052,
          1001.8087209722688,
          1001.8231209778468,
          1001.8006518417654,
          1001.7341995573097,
          1001.788788127416,
          1001.6232900545702,
          1001.6666427250889,
          1001.6383083794012,
          1001.5697920112294,
          1001.5463151986824,
          1001.6883455712716,
          1001.6888168694245,
          1001.5705786001133,
          1001.5394221270797,
          1001.4881009628484,
          1001.4930298806497,
          1001.4893239666528,
          1001.4303828987141,
          1001.31020441219,
          1001.3999377534986,
          1001.5663666313264,
          1001.5835552287292,
          1001.6079539963589,
          1001.6961859881978,
          1001.5536621492223,
          1001.6545185106884,
          1001.7318785888863,
          1001.6523797397027,
          1001.7631997473301,
          1001.7507294015574,
          1001.7745681511464,
          1001.8406506783946,
          1001.8197873351735,
          1001.7323386142924,
          1001.6155063530695,
          1001.4705523185687,
          1001.5577860930872,
          1001.5411970816721,
          1001.6878964202538,
          1001.7358754623964,
          1001.6860219550637,
          1001.7277927296235,
          1001.7033309632754,
          1001.6871768512661,
          1001.6370567569335,
          1001.4922857541443,
          1001.4099946682198,
          1001.3144897936494,
          1001.2398179236787,
          1001.1743043264182,
          1001.2781191470215,
          1001.2609598016724,
          1001.3377136949741,
          1001.2237401316213,
          1001.323738474065,
          1001.3793900414695,
          1001.4395683507715,
          1001.486989370681,
          1001.4790368924765,
          1001.5310986267623,
          1001.6474760887568,
          1001.6642681009778,
          1001.4740543159182,
          1001.4472764920079,
          1001.4038116613483,
          1001.5152122657223,
          1001.5928190185052,
          1001.5625509387318,
          1001.5574921207742,
          1001.5611637733355,
          1001.5604922051822,
          1001.5496881484881,
          1001.3966959578039,
          1001.5352209818898,
          1001.5276015124686,
          1001.3992649340435,
          1001.4410415832211,
          1001.4373965062753,
          1001.3820777337728,
          1001.4703172798023,
          1001.5188080560362,
          1001.4423082531436,
          1001.5500782420311,
          1001.5681104487591,
          1001.5624206367371,
          1001.6650301449107,
          1001.641937303219,
          1001.5891841687529,
          1001.6340002871489,
          1001.6360267665385,
          1001.6746454997564,
          1001.5712513249659,
          1001.5881675625535,
          1001.5325656833752,
          1001.5517859804794,
          1001.5040416315304,
          1001.4281124347444,
          1001.4246147537908,
          1001.3504949579277,
          1001.4267425138081,
          1001.4515120467603,
          1001.4503714865904,
          1001.4370132790925,
          1001.4599837570828,
          1001.5190984398533,
          1001.5934942301503,
          1001.6179612247165,
          1001.585682487057,
          1001.5397511353666,
          1001.5492604448663,
          1001.5376037635983,
          1001.6132245409946,
          1001.5314353063802,
          1001.5376191970588,
          1001.4386767104223,
          1001.4547750657282,
          1001.4779347581465,
          1001.4332095569894,
          1001.3791074131857,
          1001.3911895818215,
          1001.3154148464849,
          1001.442643870408,
          1001.5648871124221,
          1001.6424561201413,
          1001.6946169081156,
          1001.7227918498448,
          1001.6588029131909,
          1001.7574182504586,
          1001.5849572936647,
          1001.6669486276422,
          1001.7275595370108,
          1001.6387447175908,
          1001.604264407577,
          1001.5641117399922,
          1001.4924098988945,
          1001.4990310549235,
          1001.4290836590451,
          1001.4368774684431,
          1001.4097661727063,
          1001.4527803978511,
          1001.4618132152543,
          1001.5525611023168,
          1001.6424537165692,
          1001.6006895019578,
          1001.6952256743463,
          1001.6872642299587,
          1001.782906003262,
          1001.7792370749142,
          1001.8240283662916,
          1001.8185242370542,
          1001.8292723859544,
          1001.7970647787976,
          1001.875342518685,
          1001.7040625261992,
          1001.7289220902509,
          1001.8003902835917,
          1001.7551772229558,
          1001.8868053645566,
          1001.7881672366123,
          1001.7708462804411,
          1001.7394150621386,
          1001.8109065123077,
          1001.884012987243,
          1001.9171890600945,
          1001.9662209038014,
          1001.9376359761724,
          1001.9216323537507,
          1001.9179966789218,
          1001.8560904405188,
          1001.8740215748417,
          1001.9872671775248,
          1001.9772501912533,
          1001.9610554972024,
          1002.0427888109701,
          1002.0232736234728,
          1002.1053570725119,
          1002.1713584840206,
          1002.1482068959068,
          1002.1647784790115,
          1002.0631293963538,
          1002.0458102587963,
          1001.9720525207096,
          1001.8395865309864,
          1001.8060395317409,
          1001.7517447900644,
          1001.7747527146028,
          1001.8002199249003,
          1001.7074001208742,
          1001.7441604187769,
          1001.812163813618,
          1001.8198972393924,
          1001.7595338566992,
          1001.7075759702395,
          1001.6914260210651,
          1001.624664630838,
          1001.5837279422585,
          1001.6210421996835,
          1001.5016521638945,
          1001.4372768110194,
          1001.3347965349195,
          1001.2754843777767,
          1001.265289419087,
          1001.4323358260334,
          1001.5226097743127,
          1001.5171086616036,
          1001.4536350135432,
          1001.4005055638671,
          1001.4046015148465,
          1001.4145928434274,
          1001.3065984478092,
          1001.2182015405906,
          1001.2043647784939,
          1001.2507246263433,
          1001.2326227298934,
          1001.2258549948418,
          1001.0759537188544,
          1001.15919257731,
          1001.0907038218407,
          1001.1170543368609,
          1001.1598048138145,
          1001.2018478384551,
          1001.2331745840065,
          1001.3014120730347,
          1001.232457579384,
          1001.2363946031272,
          1001.3051319469927,
          1001.2858451906153,
          1001.3360421825402,
          1001.3781676388119,
          1001.2974578438067,
          1001.2626824230887,
          1001.2707702556775,
          1001.178231316205,
          1001.1008439955356,
          1001.0758496153376,
          1001.088329304585,
          1000.9621313921832,
          1001.0031855198898,
          1001.0436007115171,
          1000.9712104614579,
          1000.9546509858673,
          1000.9644446938476,
          1001.0058924411845,
          1001.0042293450962,
          1001.0948109625122,
          1001.189897181114,
          1001.0420394844037,
          1001.0199109656692,
          1000.8429954192194,
          1000.9050677765873,
          1000.9361687062199,
          1000.9598516612846,
          1000.9514789185888,
          1000.960125357064,
          1000.9453782233859,
          1000.8902544544903,
          1000.8301230647169,
          1000.8721724102447,
          1000.9024801637285,
          1000.8829287304512,
          1000.8553465008615,
          1000.8387015553352,
          1000.8919530926893,
          1000.7725657583195,
          1000.7251370140477,
          1000.6300986784482,
          1000.7349327999335,
          1000.7192553774291,
          1000.7881709912538,
          1000.7515234476742,
          1000.7668145043427,
          1000.772002574919,
          1000.7675810189185,
          1000.6572920894273,
          1000.6599656430636,
          1000.6990955692825,
          1000.6806250997568,
          1000.6391032142756,
          1000.6700321991229,
          1000.7062845692193,
          1000.7968206978114,
          1000.7383385107213,
          1000.8309087557674,
          1000.9541620883813,
          1000.8342824838317,
          1000.9115511175752,
          1000.7745551551461,
          1000.7664080963344,
          1000.7312928042271,
          1000.6316251118963,
          1000.6430596488127,
          1000.6517692163927,
          1000.6200474663916,
          1000.5175234130224,
          1000.5427327772219,
          1000.4811874744224,
          1000.4879220831646,
          1000.4314225520955,
          1000.3714550464401,
          1000.4604055937217,
          1000.4655156478221,
          1000.5122869926208,
          1000.6016989438401,
          1000.5970615205226,
          1000.6194502401055,
          1000.6628780196198,
          1000.6223085502417,
          1000.677267989647,
          1000.8105197577894,
          1000.7672326628899,
          1000.8018419266572,
          1000.8332536697001,
          1000.7726153434348,
          1000.7683223693215,
          1000.7335452552669,
          1000.6358770115077,
          1000.7135658746555,
          1000.8214470746458,
          1000.7806549409023,
          1000.7618487505569,
          1000.812424612563,
          1000.7046852177507,
          1000.8373192550597,
          1000.7868505755192,
          1000.7601709096459,
          1000.6724032819499,
          1000.7459464053945,
          1000.7730532130935,
          1000.8114745737375,
          1000.7830320094262,
          1000.8565723925655,
          1000.8330187259244,
          1000.9325568708688,
          1000.9365019055135,
          1000.8610682440097,
          1000.8907823160492,
          1000.9350597876922,
          1001.0282440308715,
          1001.0852293188015,
          1001.0422339843285,
          1001.009165841467,
          1001.0490407936859,
          1001.0328948712104,
          1001.1129985923146,
          1001.024201253115,
          1000.9407684301028,
          1000.9274984910176,
          1000.9269169026261,
          1000.9469347212965,
          1000.802606132515,
          1000.8101356400497,
          1000.7864720092524,
          1000.816544843423,
          1000.7226614094044,
          1000.7095815722478,
          1000.756355796789,
          1000.7310607556537,
          1000.709740023894,
          1000.6473176895018,
          1000.636848621997,
          1000.6354493220214,
          1000.8214493196646,
          1000.8309979525,
          1000.7893625378196,
          1000.8523436250105,
          1000.7879612289988,
          1000.963529886242,
          1000.9383127679603,
          1001.0022811165095,
          1000.889507047245,
          1001.0079803121059,
          1000.9907114436048,
          1000.9792322006633,
          1000.9984936157246,
          1000.9419005166818,
          1000.8617657271002,
          1000.9001972897532,
          1001.0340464924808,
          1001.001492642279,
          1000.9784497594788,
          1000.9528224648553,
          1000.8312976537135,
          1000.8063678418854,
          1000.8468935551467,
          1000.8273467809832,
          1000.8727695767894,
          1000.8204916599761,
          1000.863676536004,
          1000.9183094729236,
          1000.8071190974722,
          1000.9591774688458,
          1001.0948189760256,
          1001.2111337630024,
          1001.2367813635384,
          1001.2077345081843,
          1001.3130953970305,
          1001.3506072104691,
          1001.2370133516301,
          1001.3221441578122,
          1001.3087311771149,
          1001.3668072796808,
          1001.3814868286046,
          1001.4270896360546,
          1001.4207338167096,
          1001.4155635706503,
          1001.4300444164194,
          1001.5595526605982,
          1001.6720725656899,
          1001.685346139338,
          1001.6493126619988,
          1001.7752837583008,
          1001.7452144251018,
          1001.7266546967293,
          1001.7076278675013,
          1001.7553888857067,
          1001.7534720283827,
          1001.8097097752789,
          1001.8501493273723,
          1001.8706155767883,
          1001.9692278610676,
          1001.9758601458851,
          1002.0972959323536,
          1002.1288451809255,
          1002.1291239362271,
          1002.2069654800433,
          1002.2509980046664,
          1002.1635043243178,
          1002.0616825344166,
          1002.0430362779898,
          1001.9539289596736,
          1001.9832361872357,
          1002.0186106594317,
          1002.0886181572424,
          1002.101475881372,
          1002.1195444124633,
          1002.1469790098533,
          1002.1475048758466,
          1002.0994747302685,
          1002.1568761748346,
          1002.1923580543134,
          1002.2574548616473,
          1002.2746325890067,
          1002.2751957021936,
          1002.256501552716,
          1002.1759917470678,
          1002.1915823229094,
          1002.1478416012382,
          1002.1250306797814,
          1002.1474103719544,
          1002.1941126524742,
          1002.172106893954,
          1002.0878423059886,
          1002.0943616633393,
          1002.0612843349046,
          1002.0903705667222,
          1001.990441950243,
          1001.8998910038446,
          1001.9263325877963,
          1001.8951289584382,
          1001.9103479713215,
          1001.9762525239355,
          1001.9583446915827,
          1001.9263778900961,
          1002.0363214573383,
          1001.9783298432384,
          1001.8791334721798,
          1001.815697893588,
          1001.9930828814495,
          1002.0210651128408,
          1002.0117971274615,
          1002.1327143707015,
          1002.1061377146776,
          1002.0624088058222,
          1002.0205891375787,
          1001.9924169861865,
          1001.8826885945873,
          1002.0044083720165,
          1001.9972640774978,
          1001.9641445367203,
          1001.9464190807557,
          1002.0488144935127,
          1002.0209555660797,
          1002.006577943828,
          1002.0058424136494,
          1002.0848451991226,
          1002.1144832709093,
          1002.1905383824397,
          1002.1886354242713,
          1002.3235109270928,
          1002.4056777475756,
          1002.412664885757,
          1002.602595030729,
          1002.6384503036537,
          1002.6421272851477,
          1002.6320099260913,
          1002.6258184424348,
          1002.618927177803,
          1002.6012899644895,
          1002.6503323261326,
          1002.6921836983447,
          1002.6849029702562,
          1002.6349268362289,
          1002.6536155591822,
          1002.6908114178145,
          1002.7636903111527,
          1002.7451241203694,
          1002.7704234141816,
          1002.8920268703016,
          1002.8775127153781,
          1002.8419267027316,
          1002.7774275909501,
          1002.810561322654,
          1002.7570223540541,
          1002.6726108866454,
          1002.6566480570575,
          1002.6622060470638,
          1002.5938395015504,
          1002.6890547931291,
          1002.7132410699382,
          1002.7007596473494,
          1002.5943078226027,
          1002.4717780349272,
          1002.378439068854,
          1002.4008260079106,
          1002.4322444205415,
          1002.3028080679051,
          1002.286743599644,
          1002.2695833044477,
          1002.2209279632665,
          1002.040591196388,
          1002.0236009654031,
          1002.0037223035662,
          1002.0496555412487,
          1002.0780748408876,
          1002.0978084770846,
          1002.077820650482,
          1001.9576067454933,
          1001.8723341007667,
          1001.8623104129414,
          1001.7751439698764,
          1001.7687427354086,
          1001.7902342570256,
          1001.9080375890509,
          1001.821486354824,
          1001.8589991726797,
          1001.8798904488276,
          1001.8202065621092,
          1001.8001774318712,
          1001.7438338427768,
          1001.8064077356263,
          1001.7906598858285,
          1001.8468054956736,
          1001.8793566036874,
          1001.9706702572053,
          1001.9337291492008,
          1002.0075001962747,
          1002.0469237576057,
          1002.0348460893581,
          1001.9950471502007,
          1001.9545794695593,
          1002.0207168154942,
          1001.9567837228949,
          1001.9285135592015,
          1001.9032663592446,
          1001.9229229217051,
          1002.0271531308003,
          1001.9453543692788,
          1001.9573961650434,
          1001.9451284597455,
          1001.9400043748744,
          1001.9184926430031,
          1001.9667746771713,
          1001.9837032870611,
          1001.8642335569956,
          1001.8978546964107,
          1002.0133517333645,
          1002.1096289069092,
          1002.1160443031538,
          1002.1091963443024,
          1002.0318252891666,
          1001.8860415119791,
          1001.8777184402369,
          1001.8929270871257,
          1001.8527978439683,
          1001.7789841399035,
          1001.8661311873512,
          1001.853726956428,
          1001.8771900576997,
          1001.8468823268495,
          1001.7983274323465,
          1001.7340601673243,
          1001.6769618173246,
          1001.60053163529,
          1001.6097401174383,
          1001.612720377651,
          1001.6370453338253,
          1001.5079594131022,
          1001.5133049553413,
          1001.5406111952082,
          1001.4756543197612,
          1001.4574225648187,
          1001.4221228501223,
          1001.460986806371,
          1001.340753913883,
          1001.401353537094,
          1001.4282771461395,
          1001.4053020706825,
          1001.3508449164257,
          1001.2610817808672,
          1001.2277216041268,
          1001.1808037444289,
          1001.1524535330408,
          1001.1250686692034,
          1001.0269722641464,
          1001.0976794978524,
          1001.0823515330916,
          1001.0455835696099,
          1000.9505177109075,
          1000.9514828600279,
          1000.8491807024345,
          1000.8241611628748,
          1000.8481517611958,
          1000.842860925797,
          1000.8190952985871,
          1000.7862008864987,
          1000.7470010466777,
          1000.7321468105117,
          1000.7350975096531,
          1000.7167722290214,
          1000.7227684440718,
          1000.789425505554,
          1000.7502349669337,
          1000.6934755867181,
          1000.721374030733,
          1000.7740509314623,
          1000.8381178285932,
          1000.7742654626184,
          1000.7275734997488,
          1000.7294249545641,
          1000.7147012068536,
          1000.6759454361692,
          1000.7070500861857,
          1000.735992297358,
          1000.635296844405,
          1000.7588407573613,
          1000.8164028009271,
          1000.82334910375,
          1000.8252574392164,
          1000.8802660933802,
          1000.8292933923345,
          1000.8854364014641,
          1000.9741288898822,
          1001.0901479930326,
          1001.0407931786947,
          1000.9280411168648,
          1000.9352861015884,
          1000.869965508316,
          1000.8988020163949,
          1000.8697524761777,
          1000.9332223159561,
          1000.9136149727468,
          1000.8118623732247,
          1000.8365829617983,
          1000.794519130847,
          1000.8022746701704,
          1000.767771984075,
          1000.7375629331856,
          1000.8022977259507,
          1000.8177948444437,
          1000.799045925258,
          1000.836481496158,
          1000.9258329666663,
          1000.9176855708706,
          1000.9942475679136,
          1000.9241758533742,
          1001.0129812146898,
          1001.0114473839416,
          1000.9646339255124,
          1000.9250864581365,
          1000.9209282259529,
          1000.9017125522913,
          1000.8304601654212,
          1000.8815489543324,
          1000.847866525092,
          1000.7301293806919,
          1000.7274850746444,
          1000.702504346344,
          1000.6277015050044,
          1000.5807901109148,
          1000.6189572917613,
          1000.6124689285216,
          1000.6570633698442,
          1000.7537093862383,
          1000.7029878724248,
          1000.7470000623584,
          1000.8086297491935,
          1000.7806626690118,
          1000.8748501496901,
          1000.9325251777211,
          1000.8753836789845,
          1000.8101636449488,
          1000.8030638646761,
          1000.8786560635428,
          1000.908244054307,
          1000.8879287019527,
          1000.8437781759743,
          1000.8574183892116,
          1000.8075375718987,
          1000.8617302927556,
          1000.7657509569195,
          1000.780387966963,
          1000.8536965625814,
          1000.8137119701713,
          1000.8903778858629,
          1000.8535571424283,
          1000.8683758945351,
          1000.8078687608303,
          1000.8537344935886,
          1000.8381826392143,
          1000.8484047672752,
          1000.7945058878519,
          1000.7758477110499,
          1000.7361166091642,
          1000.7292887185818,
          1000.7006489858578,
          1000.698477150872,
          1000.7011641368217,
          1000.7447239956881,
          1000.7388310725844,
          1000.7871938961187,
          1000.8327158364209,
          1000.7919234457316,
          1000.7993930428861,
          1000.7824548473444,
          1000.7742231114431,
          1000.7257236421835,
          1000.7517816622957,
          1000.8421313088771,
          1000.8306617158966,
          1000.7738508352961,
          1000.7831275650094,
          1000.8275887005534,
          1000.8905792475189,
          1000.7806753472369,
          1000.8014832413764,
          1000.7982788898976,
          1000.7500795306273,
          1000.7856064020133,
          1000.8447625680673,
          1000.9009248051235,
          1000.9272777976529,
          1000.8680023919618,
          1000.8739401027931,
          1000.851779966996,
          1000.8223285220264,
          1000.8677188295263,
          1000.8571359992633,
          1000.7765448141124,
          1000.7150429322431,
          1000.7167307311166,
          1000.7038813158966,
          1000.721025926095,
          1000.691296913921,
          1000.7180918580851,
          1000.6322087387604,
          1000.6767526195844,
          1000.695598067958,
          1000.7737744219027,
          1000.7303730265114,
          1000.7311150833751,
          1000.7274141835676,
          1000.6486426442706,
          1000.6637387397082,
          1000.6614380382672,
          1000.5690944690207,
          1000.6350572551567,
          1000.5939590315302,
          1000.5590454955101,
          1000.6475442177128,
          1000.6974101957326,
          1000.6129761747782,
          1000.5710056245352,
          1000.560016245277,
          1000.5937335238822,
          1000.5425032947581,
          1000.6304624891086
         ],
         "yaxis": "y"
        },
        {
         "hoverlabel": {
          "namelength": 0
         },
         "hovertemplate": "variable=CUR_STATE_STANDARD<br>value=%{y}",
         "legendgroup": "variable=CUR_STATE_STANDARD",
         "line": {
          "color": "#EF553B",
          "dash": "solid"
         },
         "mode": "lines",
         "name": "variable=CUR_STATE_STANDARD",
         "showlegend": true,
         "type": "scattergl",
         "xaxis": "x",
         "y": [
          727.9393814845301,
          814.2836446796888,
          876.4521040203718,
          948.5831688894509,
          937.4560516299457,
          932.591134258044,
          937.4543184874186,
          937.9301526043309,
          948.6785459501863,
          947.1995048411515,
          945.411515189699,
          932.2422899394638,
          929.9465019694755,
          929.2167812658646,
          938.5770656662174,
          942.4489825667303,
          940.0276890677362,
          947.9481238146737,
          958.0461144989839,
          966.4863085357281,
          960.9361823450272,
          971.4721378125504,
          972.7224920712695,
          970.7664636801131,
          970.4329360634764,
          973.2792538254862,
          973.9715020301767,
          970.6633216504634,
          980.0916497748351,
          982.1789392318349,
          987.6402635574758,
          991.5647972533927,
          990.7646267807737,
          990.7243412302222,
          991.90381398387,
          992.4494425106266,
          992.9295348618908,
          988.5315383789243,
          986.4681760765202,
          983.4575237965087,
          985.1584894418335,
          987.0525322150089,
          987.468849725008,
          987.399897426476,
          990.7319196954061,
          992.6763602139655,
          993.476396006602,
          991.4093856104579,
          992.2376130282732,
          993.7040895624012,
          992.3398684183512,
          993.2811162787432,
          993.3531181834235,
          996.3955143031438,
          994.7878693306216,
          995.8479291902443,
          997.5266205849873,
          1000.1257237990368,
          999.8643113856482,
          998.9330926558711,
          999.2197333928078,
          999.5471925400228,
          1001.6578890868096,
          1003.2560137180767,
          1002.6163858087848,
          1004.1774831468175,
          1004.2393223649718,
          1003.6386096377039,
          1003.9254434017913,
          1005.2879220002411,
          1002.7334761846877,
          1004.1208315007739,
          1003.1829774590201,
          1001.8609270631232,
          1002.384625997984,
          1003.7203034115281,
          1005.3934347327161,
          1003.3077416584533,
          999.8461083306058,
          999.8062502792521,
          1000.0115053866714,
          1000.0380707550877,
          1000.4382484955469,
          998.7428922915695,
          998.0928643517478,
          998.0023666830518,
          998.1634687439067,
          997.1853199997744,
          996.3864473834076,
          995.6943276019829,
          995.567719608136,
          997.3091850504729,
          997.8940730697602,
          998.1329867983012,
          999.8930564029697,
          999.9774396679021,
          999.9102665096109,
          999.4022921700653,
          997.8160413491554,
          998.5096092006526,
          998.0005959719783,
          999.457827454086,
          998.2461170816197,
          998.4572131870809,
          999.0322836785147,
          998.5399406390171,
          999.3210667685153,
          999.1383047688246,
          998.4436919707097,
          997.898256681422,
          998.5539606559132,
          998.1393638356401,
          997.6288474547921,
          998.198005642656,
          997.5813689208242,
          996.0082217471152,
          998.0032095001085,
          997.8347036829985,
          998.2375078630115,
          999.4860814288622,
          998.8175054070972,
          1000.10321658897,
          1000.3364596429507,
          1001.0003173567119,
          1001.1883591246578,
          999.7310078270175,
          1000.6470463670452,
          1000.99578873185,
          1001.1286597672593,
          1001.5606486298666,
          1002.5426592486002,
          1002.7785026565723,
          1001.8990620018943,
          1002.2939159149007,
          1002.3053911187168,
          1002.7103535378118,
          1003.1266023975071,
          1002.5451775758543,
          1002.9094970506718,
          1003.0708193956999,
          1002.7405492454586,
          1002.9634962689507,
          1002.7644532107996,
          1002.2076492480704,
          1002.390212159909,
          1003.7120704245323,
          1004.1854528065462,
          1003.6686064018318,
          1004.1214872607694,
          1004.0008318460563,
          1004.128147105228,
          1003.1250514994264,
          1002.6617243631141,
          1003.578638061336,
          1004.4537827513902,
          1004.5535137694818,
          1003.6793357068453,
          1002.5779846543664,
          1001.98247296933,
          1002.6348352656526,
          1003.1951591106216,
          1003.0794911871126,
          1003.6590696332784,
          1003.5562639818385,
          1003.5707253760734,
          1004.0870393993056,
          1003.4189608125195,
          1003.0482147228126,
          1002.2173831905277,
          1001.5169162953983,
          1000.9334143397434,
          1001.5748782819976,
          1001.1880703033534,
          1001.686156100633,
          1000.8513192938763,
          1000.7609571402494,
          1000.5494627768808,
          1000.8697313785128,
          1000.9897489932808,
          1000.853675453561,
          1001.3787422253603,
          1001.2298851454033,
          1000.5680631770529,
          1000.0279398757508,
          1000.2750207762163,
          999.293142903987,
          998.5366626626803,
          998.1620044601577,
          998.1460343902959,
          997.5066001651426,
          997.7435109154352,
          997.9442134815707,
          998.703203231311,
          998.5997846211869,
          998.3198342882561,
          998.796807583949,
          999.2999407387529,
          1000.0587354894575,
          1000.8860537952141,
          1000.7890350560333,
          999.8041810923074,
          1000.1766969285768,
          999.674420118224,
          999.4207074112697,
          999.1327989723864,
          999.200692178442,
          999.0518217015867,
          998.5450481843739,
          999.0245656657801,
          999.3338623494564,
          998.7269705712388,
          999.4698866792712,
          999.5144537997063,
          999.3415524998392,
          1000.0842458571373,
          1000.2569446516563,
          1000.530718341926,
          999.7000853209702,
          999.2141318042371,
          1000.169734652875,
          1000.5187252355312,
          1000.1463935184626,
          1000.6029925278713,
          1000.4558779092407,
          1000.3231546191042,
          1000.5505853007567,
          999.6240756844988,
          998.5522697129725,
          999.253505179316,
          999.0079719475466,
          999.5832133934709,
          999.4732309009612,
          999.2898446945876,
          999.2457279825811,
          999.803489119595,
          999.8616816230128,
          999.7485581647267,
          999.4851932912408,
          999.3369430924711,
          999.7344486840383,
          1000.3520317398145,
          1000.989538201062,
          1000.9499451970886,
          1001.1144294491423,
          1000.9583826861335,
          1001.5269500297201,
          1000.7816414576754,
          1000.7159914963705,
          1000.130223450523,
          999.9772219743355,
          999.793187445481,
          999.903414217299,
          999.5224231160572,
          999.49166970328,
          999.8625097321716,
          999.5320669572567,
          999.4408108361015,
          1000.1858274625648,
          1000.7771772150628,
          1001.0785179685867,
          1001.2173353137275,
          1001.0215598649337,
          1001.7907458660369,
          1001.7533937816031,
          1001.4074821731465,
          1000.9668468677286,
          1000.5750621749181,
          1000.0226084319506,
          999.6052154483705,
          999.4760538178191,
          1000.0034398977541,
          1000.2032470127184,
          999.7347336678788,
          999.7330195876227,
          999.8780773621675,
          999.2893340206464,
          999.9473914608124,
          1000.2665748048443,
          1000.0979718138315,
          1000.2824150601891,
          1000.2989788295642,
          1000.7702576661178,
          1001.6572266049021,
          1001.3471661780131,
          1001.4052978615733,
          1001.373475855159,
          1001.4455060106302,
          1001.3963246623558,
          1001.7982338791184,
          1001.9191507984211,
          1001.758212410868,
          1001.4348641428572,
          1001.0850358257271,
          1001.3206973336368,
          1001.1762513474188,
          1001.2809899106738,
          1001.1267017632589,
          1001.1717255939324,
          1001.2688715714189,
          1001.7281655220702,
          1001.539064900652,
          1001.5319616617195,
          1001.4172888692368,
          1001.8531849647783,
          1001.3340220728594,
          1001.8317137087289,
          1002.0468288481552,
          1002.2069145960313,
          1002.2262948642559,
          1001.9129981033327,
          1001.5518707040359,
          1001.4995234118536,
          1002.1180148376927,
          1002.2852797796813,
          1002.2788989962106,
          1002.450451616048,
          1002.1369331086183,
          1001.5292988381403,
          1001.5337210063448,
          1001.3372046678795,
          1001.6694067696669,
          1001.8757882360899,
          1002.381632051872,
          1002.5783238575257,
          1002.2651538004343,
          1001.9986188590156,
          1001.9850378392491,
          1001.7860008494116,
          1001.182525937755,
          1001.0986126117889,
          1001.4617560119981,
          1001.7710405651188,
          1001.6811861211471,
          1001.7959895173808,
          1001.5633070206903,
          1001.2332068067736,
          1001.1820827470601,
          1001.2321846195033,
          1001.4249008482385,
          1001.868436798211,
          1002.0434467390951,
          1002.6583667836557,
          1003.45997770265,
          1003.8715524703516,
          1004.0947238100237,
          1004.2605524841769,
          1004.55166612243,
          1004.6459894526375,
          1004.9716468999973,
          1004.7788223373757,
          1004.9690333494386,
          1004.7890766948958,
          1004.9593621614014,
          1005.0313017159147,
          1005.0631713519847,
          1004.7981762338552,
          1004.2406955753229,
          1004.0412507314375,
          1003.9092199959921,
          1003.5880907430674,
          1003.6115249204352,
          1003.8873954701811,
          1003.959131904746,
          1003.8772429764168,
          1004.1419619528332,
          1004.1369841675433,
          1004.3864421088111,
          1004.2424824992528,
          1004.2243027197313,
          1004.0523189622356,
          1003.658879076533,
          1003.0450638727908,
          1002.8569838171943,
          1002.7659597923158,
          1002.6579262393774,
          1002.8639848148345,
          1002.7819883359189,
          1002.8959934308152,
          1002.6867281607612,
          1002.6655380541318,
          1002.4962812149599,
          1002.8006727169325,
          1002.5334311968747,
          1002.6517909435007,
          1002.9006726065927,
          1002.6361741656876,
          1002.9114364349707,
          1002.8051791687985,
          1003.0852594496716,
          1002.873687442791,
          1003.6601647577755,
          1003.963550076685,
          1003.8980141312378,
          1003.2778666516077,
          1002.9673029533919,
          1002.7542102964112,
          1002.8823744678524,
          1003.0363699643083,
          1002.9142985118168,
          1002.7198714300642,
          1002.661322258828,
          1002.7863476665916,
          1003.3160589979519,
          1003.2634914057027,
          1003.2343703212052,
          1003.4755573493254,
          1003.4580872436045,
          1003.0169731671834,
          1002.8524393515033,
          1002.56012415326,
          1002.6257231283452,
          1002.5751824360412,
          1002.8259276888834,
          1002.9956316223203,
          1003.2652100908603,
          1003.4944735012622,
          1003.40281355242,
          1003.4451560465328,
          1003.4988440600126,
          1003.5603943019764,
          1003.4464403097386,
          1003.1593529704746,
          1003.3259298581225,
          1003.1260317446478,
          1003.1059268973773,
          1003.2282167266357,
          1003.5076721623449,
          1003.5134373905494,
          1003.1431309111683,
          1003.2083678584397,
          1003.5163431302841,
          1003.3963848033691,
          1003.3812008521563,
          1003.2257137625332,
          1003.4462355261735,
          1003.441479489572,
          1003.8784975432494,
          1003.7177608727442,
          1004.1425835691758,
          1004.027783571722,
          1003.9269643017166,
          1003.8231781156047,
          1003.8685617912183,
          1004.023320840764,
          1003.7228633933919,
          1003.566553977006,
          1003.4955320839061,
          1003.2375287749453,
          1003.5497269867495,
          1003.3641574026565,
          1003.2344492462154,
          1003.3816421320698,
          1003.5543913391202,
          1003.5378591447363,
          1003.1151479688943,
          1003.159720996231,
          1003.3070173159485,
          1003.3893745070761,
          1003.4078519378244,
          1003.4059008315367,
          1003.2971586385705,
          1003.2275546768178,
          1002.9428490897108,
          1002.755483547486,
          1003.0290962319492,
          1002.9312888210216,
          1003.0636732132499,
          1003.2460302640594,
          1003.0460268731055,
          1002.8183284646569,
          1002.7169656321419,
          1002.3682107429796,
          1002.2965080195241,
          1002.2098820726708,
          1001.920934819555,
          1001.8635064607955,
          1002.3070893399664,
          1002.6468426215258,
          1002.784218815731,
          1002.5012753022763,
          1002.4226712339391,
          1002.4932774498809,
          1002.4882249517485,
          1002.3548864433074,
          1002.2327094303158,
          1002.1691994709074,
          1002.1701129926074,
          1002.0627181779001,
          1001.9162074741934,
          1002.3009850484985,
          1002.5503604806845,
          1002.4493856915026,
          1002.3315122319478,
          1002.3269073830958,
          1002.506970245874,
          1002.301648904559,
          1002.125354484799,
          1001.9633781577287,
          1001.9031402594044,
          1001.9497691625364,
          1001.9497954899256,
          1001.8899295762118,
          1001.9215382399113,
          1001.8617490038732,
          1001.9180418937322,
          1001.800545524323,
          1002.0708187316019,
          1002.043302930654,
          1001.8296630829954,
          1001.668639620728,
          1001.8685983337667,
          1001.9524421639235,
          1002.0298176422866,
          1001.8320426321928,
          1001.5621823706254,
          1001.9490467053511,
          1002.3943866172549,
          1002.2905103430566,
          1002.0649428714717,
          1002.0721094468474,
          1001.6381956410778,
          1001.8340497071941,
          1001.8111797988032,
          1001.6987141359987,
          1001.6307277146967,
          1001.3337943846179,
          1000.9871952892174,
          1000.9245507485273,
          1000.9771926763967,
          1000.6762225125669,
          1000.6549625475294,
          1000.818125104046,
          1000.978857895723,
          1000.8110701681388,
          1000.8375093543103,
          1000.7806747900643,
          1000.8871927969907,
          1000.9404613139527,
          1000.8736863981826,
          1000.9659499135965,
          1001.1216554478652,
          1000.8213409025792,
          1001.0614917624671,
          1001.2666829858977,
          1001.1454236426788,
          1001.5164031984001,
          1001.6102357435099,
          1001.5707479821255,
          1001.6874504015705,
          1001.8302199692027,
          1001.8824186762532,
          1001.8503728958332,
          1002.0628753252125,
          1002.0638867633384,
          1002.1501672786075,
          1001.9854928240671,
          1001.9900571375158,
          1002.226924000061,
          1002.2172631592404,
          1002.1460378987313,
          1002.1051358444773,
          1002.3731179532379,
          1002.2296295568148,
          1002.2754593133104,
          1002.6041010920167,
          1002.3803917616715,
          1002.385579473512,
          1002.2728399324983,
          1002.3270967436072,
          1002.4317219800895,
          1002.5860818498944,
          1002.4272336263471,
          1002.3443461110493,
          1002.3433183300001,
          1002.2781118347261,
          1002.3718799358023,
          1002.5486237209486,
          1002.3049244621009,
          1002.3329402011364,
          1002.6005387462385,
          1002.5058289399735,
          1002.5906581417626,
          1002.6161155716042,
          1002.5288515163858,
          1002.1436113342362,
          1002.0999905974287,
          1002.0347773746317,
          1002.1926755770445,
          1002.2046532492883,
          1002.1866991632037,
          1001.9931207314692,
          1002.0482602406175,
          1002.0832305398128,
          1002.0446803201506,
          1002.0585133597434,
          1001.804174041305,
          1001.8597722867146,
          1001.9633674300106,
          1002.3368281272305,
          1001.9744820598946,
          1002.0288435582344,
          1001.9896421206795,
          1001.830371982814,
          1001.807607357488,
          1001.8782098857483,
          1001.7148445621576,
          1001.8446467904065,
          1001.5586910553474,
          1001.4046071652449,
          1001.4478611752842,
          1001.481794331693,
          1001.5571864282513,
          1001.8114163365002,
          1001.9146735010445,
          1001.9073115501933,
          1001.9113071565996,
          1001.7950270335587,
          1001.8308856338989,
          1001.7470424599196,
          1001.6338168411685,
          1001.6236546833512,
          1001.5673226055143,
          1001.6148231188921,
          1001.7421951402175,
          1001.6483219625759,
          1001.5431281369583,
          1001.4433781333885,
          1001.5537594895347,
          1001.4579344692638,
          1001.3399538700488,
          1001.1994357485437,
          1001.5171852505669,
          1001.3927997729188,
          1001.5949740380715,
          1001.3129204914401,
          1001.2959384900793,
          1001.292824848794,
          1001.3662600364243,
          1001.5914946708739,
          1001.4368242929125,
          1001.3679036095149,
          1001.3640543394678,
          1001.2412371514547,
          1001.1944700725691,
          1001.2532980119915,
          1001.1615333734221,
          1001.2010720829247,
          1001.2644706366428,
          1001.1645832529902,
          1001.2756480078552,
          1001.2349968667098,
          1001.1937411444068,
          1000.8459485406742,
          1000.8745299265839,
          1000.7586625228575,
          1000.7065511449373,
          1000.7771639309781,
          1000.7109136081233,
          1000.8661048829968,
          1000.9733166889703,
          1001.0821824628315,
          1000.9828694298411,
          1000.9854314923322,
          1001.0760148131885,
          1000.9334626522299,
          1000.9202161548236,
          1000.9968750984231,
          1000.8959866550462,
          1000.8549639309064,
          1000.613228150739,
          1000.4901631174497,
          1000.6996393342546,
          1000.7276701991872,
          1000.59873067754,
          1000.64231623374,
          1000.8979286529233,
          1000.7326953656182,
          1000.7356740415767,
          1000.7910259272013,
          1000.9228239565119,
          1001.1643068901825,
          1001.2302810836715,
          1001.1283116728257,
          1001.243825997946,
          1001.4011943410919,
          1001.2903884515076,
          1001.1327264866408,
          1000.9181041265822,
          1001.1303788616596,
          1000.988542046629,
          1000.9150578612811,
          1001.0647627305032,
          1001.4465549570475,
          1001.6820203984022,
          1001.8313612891822,
          1002.1054208890721,
          1002.0803826107898,
          1001.999883494207,
          1001.8411605776532,
          1001.7866272948049,
          1001.7452842375299,
          1001.9596218757822,
          1002.2684920980452,
          1002.3595193297721,
          1001.9105701018931,
          1001.6724388997071,
          1001.4865031450079,
          1001.3352570453083,
          1001.2832024906145,
          1001.5370825997268,
          1001.9510894928112,
          1001.8721212734952,
          1001.939912496246,
          1001.9151411811741,
          1001.8978849567952,
          1001.6834859686869,
          1001.6984016480328,
          1001.7226467944181,
          1001.4946372528126,
          1001.6515514970013,
          1001.5726839839242,
          1001.8426187797636,
          1001.8010966478657,
          1001.8360224679449,
          1001.7156024311369,
          1001.7693016845872,
          1001.5298200418512,
          1001.7503228061357,
          1001.7644576318631,
          1001.6778956432255,
          1001.8944250017853,
          1001.9447007627941,
          1002.0083226070134,
          1001.9013514345382,
          1001.9571725659262,
          1001.6901122835513,
          1001.9596933804919,
          1001.9424984514383,
          1001.8157191596944,
          1001.8028997711115,
          1001.8756787384807,
          1001.7262405703615,
          1001.8896189963338,
          1002.0728172486399,
          1002.0908576053725,
          1002.1287180544241,
          1002.0022936276406,
          1001.8315842307966,
          1001.8621426717982,
          1001.8305382560035,
          1001.846133206867,
          1001.8131281926253,
          1001.7772255909608,
          1001.717175790398,
          1001.7348953889463,
          1001.7239286470449,
          1001.9384046661377,
          1001.8812518534104,
          1001.6676191457385,
          1001.820499990098,
          1002.0170460760961,
          1001.9131256614852,
          1002.0746862614449,
          1001.8652975229476,
          1001.9501534312791,
          1002.0438294230526,
          1002.1837708861001,
          1002.1352779480384,
          1002.1391468547218,
          1002.2316361497594,
          1002.2712314663365,
          1002.3776077859812,
          1002.2654763454273,
          1002.2633238520726,
          1002.3263617750703,
          1002.4979588994469,
          1002.6091281982686,
          1002.7023608561332,
          1002.799001726918,
          1002.986046982924,
          1003.0876081640998,
          1003.2606089177817,
          1003.4519190039753,
          1003.4811603805626,
          1003.614814401932,
          1003.7790910245512,
          1003.7315297822108,
          1003.6597402127171,
          1003.6968673952385,
          1003.6513640977075,
          1003.8923348608051,
          1003.9234795019655,
          1003.9959923849761,
          1003.8335232003811,
          1003.9551054828758,
          1003.7188143478091,
          1003.656792422103,
          1003.606544949831,
          1003.7865167377483,
          1003.885481668015,
          1003.7185773300077,
          1003.6416289639777,
          1003.464041815671,
          1003.6098691938183,
          1003.5756157728191,
          1003.5616619402904,
          1003.5908310004231,
          1003.5977725694108,
          1003.5384735640534,
          1003.6742474393623,
          1003.6051326792083,
          1003.5608935980455,
          1003.608040613568,
          1003.5835293284847,
          1003.4377788395863,
          1003.4193863688974,
          1003.2954633219325,
          1003.501635266438,
          1003.3846299987771,
          1003.087930755162,
          1002.9679678697718,
          1002.9359711334882,
          1003.0337918365205,
          1003.092996212588,
          1002.8591629611408,
          1002.9342054642586,
          1002.8431362403715,
          1002.8388538177817,
          1002.905107543433,
          1003.2016881444451,
          1003.1871234651109,
          1003.0936468854426,
          1003.1903117109315,
          1002.9185561463381,
          1002.9555265598513,
          1002.847229191658,
          1002.7948230910785,
          1002.8196037921961,
          1003.0619147046299,
          1003.1590711929668,
          1003.0614426461611,
          1002.9377223631512,
          1002.9731361074644,
          1002.88873429994,
          1002.7085037583792,
          1002.6676974497559,
          1002.7775006653443,
          1002.8020670008518,
          1002.8916974595475,
          1003.0466493135604,
          1002.7801558184317,
          1002.8227513028583,
          1002.8236663685084,
          1002.6411616334257,
          1002.7272821663681,
          1002.7196572093342,
          1002.9815476811845,
          1002.8168249658844,
          1002.6917896263701,
          1002.8172559878961,
          1002.9417338410939,
          1002.8798640721026,
          1002.8691989489439,
          1002.8607698974891,
          1002.805217893468,
          1002.7346969389503,
          1002.6035437863349,
          1002.5220716907779,
          1002.6296080234304,
          1002.7846931198393,
          1002.8765399156854,
          1003.0774564520246,
          1003.1373006774493,
          1003.1986138305597,
          1003.3494661543223,
          1003.3570020922319,
          1003.1949992052512,
          1003.2705072053358,
          1003.3973818131096,
          1003.2997974889823,
          1003.1263824190752,
          1003.0349328763376,
          1003.1019530906418,
          1002.9000882559958,
          1003.1655044799184,
          1003.1138583884937,
          1003.112989184915,
          1003.0898263332247,
          1003.0855162741929,
          1003.0626632788462,
          1003.0972005505919,
          1002.9223054546256,
          1002.8584217204111,
          1002.9464164782979,
          1002.8227684723523,
          1002.8508664719141,
          1002.7730236305432,
          1002.6791920709343,
          1002.652952284516,
          1002.5770465898354,
          1002.5698099202965,
          1002.7450922823843,
          1002.673327940328,
          1002.5573628026352,
          1002.4021520411637,
          1002.4295893094818,
          1002.3961192552468,
          1002.2451721749289,
          1002.1574410783721,
          1002.21619059373,
          1002.0081010370502,
          1002.0096281723748,
          1001.9460476860522,
          1002.057921221421,
          1001.8987439419906,
          1002.0270493081376,
          1001.8340441718722,
          1001.7890767959159,
          1001.8232675454437,
          1001.879951130033,
          1001.9372228292373,
          1001.944197709277,
          1001.9436088077622,
          1001.9551956482189,
          1002.1603477209619,
          1002.2701771887217,
          1002.347666166844,
          1002.3863100757084,
          1002.4160867242855,
          1002.5000557118001,
          1002.6026649615559,
          1002.5353068105369,
          1002.4892089339928,
          1002.4069788498105,
          1002.2463330370471,
          1002.4029366875651,
          1002.4542957090555,
          1002.483078303806,
          1002.3315740123169,
          1002.4456073728514,
          1002.3003114324998,
          1002.284605463018,
          1002.2310738260006,
          1002.2311890176055,
          1002.3997351147389,
          1002.5744525685178,
          1002.5839705962021,
          1002.6223645512531,
          1002.6012937380057,
          1002.6577052972734,
          1002.5505189205516,
          1002.5858214654836,
          1002.5614355566136,
          1002.6575328478709,
          1002.7445773661763,
          1002.7860427519884,
          1002.8804233796569,
          1002.819907151411,
          1002.746177130478,
          1002.681784928221,
          1002.5751348328538,
          1002.525741802096,
          1002.5823930837373,
          1002.5860501399989,
          1002.586961450265,
          1002.3188337203369,
          1002.3974384219539,
          1002.4564903460091,
          1002.4689167100759,
          1002.4404933187432,
          1002.3583061724232,
          1002.4976742961961,
          1002.4826603096766,
          1002.4223132237402,
          1002.4376512534502,
          1002.3430424868627,
          1002.5193612721962,
          1002.4017536779021,
          1002.4845597455603,
          1002.378610089983,
          1002.3604673350779,
          1002.3587135373712,
          1002.4452123234324,
          1002.4485446987068,
          1002.298294533734,
          1002.1658319808972,
          1002.1649854392037,
          1002.0354116826729,
          1002.0057437989412,
          1001.9924164470541,
          1001.8554285930525,
          1001.7769075990476,
          1001.8415063085332,
          1001.6636455524931,
          1001.6733736875397,
          1001.5508158699764,
          1001.5274627788853,
          1001.5035387995481,
          1001.3655042821323,
          1001.3258320019316,
          1001.4104224073292,
          1001.4434702636458,
          1001.3593384606256,
          1001.1833804421212,
          1001.1618306076955,
          1001.106320316832,
          1001.0950905022816,
          1001.2245326069798,
          1001.1982542083637,
          1001.2335318902171,
          1001.1407160570383,
          1001.1966940863467,
          1001.2355062354037,
          1001.2914094196693,
          1001.3096349359146,
          1001.389913865134,
          1001.5641384223803,
          1001.549539508987,
          1001.6609507514607,
          1001.4543426004581,
          1001.5739320337589,
          1001.6708820796052,
          1001.7106088762291,
          1001.8554616188536,
          1001.8898555438861,
          1001.9162484693585,
          1001.925977640091,
          1001.8831091826844,
          1002.0188462263834,
          1001.8256257619638,
          1001.92844950937,
          1002.0531303932217,
          1002.0221957471783,
          1002.1103482747945,
          1002.0280863661135,
          1001.9062070309022,
          1002.0999856529714,
          1002.0733850877916,
          1002.1707697009264,
          1002.2271871091884,
          1002.2699911528798,
          1002.2397900901005,
          1002.250770804254,
          1002.2758757514297,
          1002.2978434740843,
          1002.3655280483814,
          1002.3641164288996,
          1002.4377350049053,
          1002.3410546764276,
          1002.3296883519041,
          1002.3498848055664,
          1002.3661226428991,
          1002.3229540867599,
          1002.3345796493445,
          1002.4196594299162,
          1002.4113331301342,
          1002.2414991390017,
          1002.2151993805354,
          1002.0377417644411,
          1002.0469053277709,
          1002.0213130030743,
          1001.989611132162,
          1002.041182472488,
          1001.9364495546421,
          1001.9616940917883,
          1001.8572714365902,
          1001.7198377002418,
          1001.7404894029497,
          1001.8158126505093,
          1001.8754078029265,
          1001.775853125057,
          1001.7580177454925,
          1002.0318258968516,
          1002.1705560725051,
          1002.1290315258881,
          1002.1147412120519,
          1002.1192739882736,
          1002.090764074325,
          1002.2146050578995,
          1002.1566520461804,
          1002.0941238191224,
          1002.2831854541137,
          1002.1379840066086,
          1002.154363220924,
          1001.9871278180228,
          1001.7526969406686,
          1001.675957714136,
          1001.6167569582113,
          1001.4361968091055,
          1001.4583566723583,
          1001.3450384746561,
          1001.18619809019,
          1001.3233088597168,
          1001.3394588181044,
          1001.4151910819972,
          1001.250101548233,
          1001.2366952380282,
          1001.369953878777,
          1001.4055469728872,
          1001.3485876712886,
          1001.3021165930905,
          1001.3021122213516,
          1001.300145141429,
          1001.3067550477832,
          1001.2779197476341,
          1001.0549507685876,
          1001.0937706969527,
          1001.0984912528259,
          1000.9933233311741,
          1000.8875973901723,
          1000.9790598646327,
          1000.9906916061852,
          1001.0542738326232,
          1001.0857083947874,
          1001.2558978901121,
          1001.1376753135338,
          1001.2161057696024,
          1001.1472479770927,
          1001.162741288125,
          1001.3075496009511,
          1001.1471235327193,
          1001.1555615183865,
          1001.0515606466734,
          1000.9197061886453,
          1000.8764681639839,
          1000.8403075564968,
          1000.9500076135496,
          1000.9397513968624,
          1000.9796020407551,
          1000.9109913713902,
          1000.9088711498539,
          1000.9236249394878,
          1001.0409687887111,
          1001.0736211042008,
          1000.9698870906522,
          1001.0855611189419,
          1001.1546606170762,
          1001.0758659334459,
          1001.1098641699507,
          1001.1445624035224,
          1001.1240870576008,
          1001.0163815610698,
          1000.9573776087676,
          1001.0484017003614,
          1000.8809290259369,
          1000.959931977321,
          1000.9550269194984,
          1000.8362674888101,
          1000.7219391091971,
          1000.8986667187398,
          1000.9154219864809,
          1001.0998455645541,
          1001.1875589841463,
          1001.1652130058269,
          1001.2074655176765,
          1001.2213211376999,
          1001.196424403009,
          1001.3503770181421,
          1001.4059292040268,
          1001.5114026450578,
          1001.52897245087,
          1001.4916796651703,
          1001.3871188963014,
          1001.3785739971263,
          1001.297440807675,
          1001.2141919028866,
          1001.2318728216658,
          1001.2275663975415,
          1001.290571854295,
          1001.2863669279278,
          1001.1648443004656,
          1001.2289175848872,
          1001.3542359661809,
          1001.2944209331774,
          1001.2129247939745,
          1001.2070982585102,
          1001.342211482734,
          1001.496078247127,
          1001.6445513080877,
          1001.6563901909861,
          1001.6973135055816,
          1001.7471180247659,
          1001.777646267508,
          1001.6209226345306,
          1001.6732984270451,
          1001.6902039397788,
          1001.6603395486417,
          1001.6137733123608,
          1001.5706449372607,
          1001.5616854261356,
          1001.6224903335822,
          1001.6526363049909,
          1001.6563000330133,
          1001.7842954097096,
          1001.9258482469969,
          1001.9702550874076,
          1001.853823018947,
          1001.8719468212976,
          1001.6674453479515,
          1001.6291908595056,
          1001.5515685353529,
          1001.6234104587545,
          1001.5274411821605,
          1001.5365766630357,
          1001.7360819377116,
          1001.6611999435356,
          1001.6352223590286,
          1001.5609457175016,
          1001.7266770126097,
          1001.6763443817554,
          1001.7448951357399,
          1001.7492653513876,
          1001.8193777381576,
          1001.7797573100052,
          1001.8087209722688,
          1001.8231209778468,
          1001.8006518417654,
          1001.7341995573097,
          1001.788788127416,
          1001.6232900545702,
          1001.6666427250889,
          1001.6383083794012,
          1001.5697920112294,
          1001.5463151986824,
          1001.6883455712716,
          1001.6888168694245,
          1001.5705786001133,
          1001.5394221270797,
          1001.4881009628484,
          1001.4930298806497,
          1001.4893239666528,
          1001.4303828987141,
          1001.31020441219,
          1001.3999377534986,
          1001.5663666313264,
          1001.5835552287292,
          1001.6079539963589,
          1001.6961859881978,
          1001.5536621492223,
          1001.6545185106884,
          1001.7318785888863,
          1001.6523797397027,
          1001.7631997473301,
          1001.7507294015574,
          1001.7745681511464,
          1001.8406506783946,
          1001.8197873351735,
          1001.7323386142924,
          1001.6155063530695,
          1001.4705523185687,
          1001.5577860930872,
          1001.5411970816721,
          1001.6878964202538,
          1001.7358754623964,
          1001.6860219550637,
          1001.7277927296235,
          1001.7033309632754,
          1001.6871768512661,
          1001.6370567569335,
          1001.4922857541443,
          1001.4099946682198,
          1001.3144897936494,
          1001.2398179236787,
          1001.1743043264182,
          1001.2781191470215,
          1001.2609598016724,
          1001.3377136949741,
          1001.2237401316213,
          1001.323738474065,
          1001.3793900414695,
          1001.4395683507715,
          1001.486989370681,
          1001.4790368924765,
          1001.5310986267623,
          1001.6474760887568,
          1001.6642681009778,
          1001.4740543159182,
          1001.4472764920079,
          1001.4038116613483,
          1001.5152122657223,
          1001.5928190185052,
          1001.5625509387318,
          1001.5574921207742,
          1001.5611637733355,
          1001.5604922051822,
          1001.5496881484881,
          1001.3966959578039,
          1001.5352209818898,
          1001.5276015124686,
          1001.3992649340435,
          1001.4410415832211,
          1001.4373965062753,
          1001.3820777337728,
          1001.4703172798023,
          1001.5188080560362,
          1001.4423082531436,
          1001.5500782420311,
          1001.5681104487591,
          1001.5624206367371,
          1001.6650301449107,
          1001.641937303219,
          1001.5891841687529,
          1001.6340002871489,
          1001.6360267665385,
          1001.6746454997564,
          1001.5712513249659,
          1001.5881675625535,
          1001.5325656833752,
          1001.5517859804794,
          1001.5040416315304,
          1001.4281124347444,
          1001.4246147537908,
          1001.3504949579277,
          1001.4267425138081,
          1001.4515120467603,
          1001.4503714865904,
          1001.4370132790925,
          1001.4599837570828,
          1001.5190984398533,
          1001.5934942301503,
          1001.6179612247165,
          1001.585682487057,
          1001.5397511353666,
          1001.5492604448663,
          1001.5376037635983,
          1001.6132245409946,
          1001.5314353063802,
          1001.5376191970588,
          1001.4386767104223,
          1001.4547750657282,
          1001.4779347581465,
          1001.4332095569894,
          1001.3791074131857,
          1001.3911895818215,
          1001.3154148464849,
          1001.442643870408,
          1001.5648871124221,
          1001.6424561201413,
          1001.6946169081156,
          1001.7227918498448,
          1001.6588029131909,
          1001.7574182504586,
          1001.5849572936647,
          1001.6669486276422,
          1001.7275595370108,
          1001.6387447175908,
          1001.604264407577,
          1001.5641117399922,
          1001.4924098988945,
          1001.4990310549235,
          1001.4290836590451,
          1001.4368774684431,
          1001.4097661727063,
          1001.4527803978511,
          1001.4618132152543,
          1001.5525611023168,
          1001.6424537165692,
          1001.6006895019578,
          1001.6952256743463,
          1001.6872642299587,
          1001.782906003262,
          1001.7792370749142,
          1001.8240283662916,
          1001.8185242370542,
          1001.8292723859544,
          1001.7970647787976,
          1001.875342518685,
          1001.7040625261992,
          1001.7289220902509,
          1001.8003902835917,
          1001.7551772229558,
          1001.8868053645566,
          1001.7881672366123,
          1001.7708462804411,
          1001.7394150621386,
          1001.8109065123077,
          1001.884012987243,
          1001.9171890600945,
          1001.9662209038014,
          1001.9376359761724,
          1001.9216323537507,
          1001.9179966789218,
          1001.8560904405188,
          1001.8740215748417,
          1001.9872671775248,
          1001.9772501912533,
          1001.9610554972024,
          1002.0427888109701,
          1002.0232736234728,
          1002.1053570725119,
          1002.1713584840206,
          1002.1482068959068,
          1002.1647784790115,
          1002.0631293963538,
          1002.0458102587963,
          1001.9720525207096,
          1001.8395865309864,
          1001.8060395317409,
          1001.7517447900644,
          1001.7747527146028,
          1001.8002199249003,
          1001.7074001208742,
          1001.7441604187769,
          1001.812163813618,
          1001.8198972393924,
          1001.7595338566992,
          1001.7075759702395,
          1001.6914260210651,
          1001.624664630838,
          1001.5837279422585,
          1001.6210421996835,
          1001.5016521638945,
          1001.4372768110194,
          1001.3347965349195,
          1001.2754843777767,
          1001.265289419087,
          1001.4323358260334,
          1001.5226097743127,
          1001.5171086616036,
          1001.4536350135432,
          1001.4005055638671,
          1001.4046015148465,
          1001.4145928434274,
          1001.3065984478092,
          1001.2182015405906,
          1001.2043647784939,
          1001.2507246263433,
          1001.2326227298934,
          1001.2258549948418,
          1001.0759537188544,
          1001.15919257731,
          1001.0907038218407,
          1001.1170543368609,
          1001.1598048138145,
          1001.2018478384551,
          1001.2331745840065,
          1001.3014120730347,
          1001.232457579384,
          1001.2363946031272,
          1001.3051319469927,
          1001.2858451906153,
          1001.3360421825402,
          1001.3781676388119,
          1001.2974578438067,
          1001.2626824230887,
          1001.2707702556775,
          1001.178231316205,
          1001.1008439955356,
          1001.0758496153376,
          1001.088329304585,
          1000.9621313921832,
          1001.0031855198898,
          1001.0436007115171,
          1000.9712104614579,
          1000.9546509858673,
          1000.9644446938476,
          1001.0058924411845,
          1001.0042293450962,
          1001.0948109625122,
          1001.189897181114,
          1001.0420394844037,
          1001.0199109656692,
          1000.8429954192194,
          1000.9050677765873,
          1000.9361687062199,
          1000.9598516612846,
          1000.9514789185888,
          1000.960125357064,
          1000.9453782233859,
          1000.8902544544903,
          1000.8301230647169,
          1000.8721724102447,
          1000.9024801637285,
          1000.8829287304512,
          1000.8553465008615,
          1000.8387015553352,
          1000.8919530926893,
          1000.7725657583195,
          1000.7251370140477,
          1000.6300986784482,
          1000.7349327999335,
          1000.7192553774291,
          1000.7881709912538,
          1000.7515234476742,
          1000.7668145043427,
          1000.772002574919,
          1000.7675810189185,
          1000.6572920894273,
          1000.6599656430636,
          1000.6990955692825,
          1000.6806250997568,
          1000.6391032142756,
          1000.6700321991229,
          1000.7062845692193,
          1000.7968206978114,
          1000.7383385107213,
          1000.8309087557674,
          1000.9541620883813,
          1000.8342824838317,
          1000.9115511175752,
          1000.7745551551461,
          1000.7664080963344,
          1000.7312928042271,
          1000.6316251118963,
          1000.6430596488127,
          1000.6517692163927,
          1000.6200474663916,
          1000.5175234130224,
          1000.5427327772219,
          1000.4811874744224,
          1000.4879220831646,
          1000.4314225520955,
          1000.3714550464401,
          1000.4604055937217,
          1000.4655156478221,
          1000.5122869926208,
          1000.6016989438401,
          1000.5970615205226,
          1000.6194502401055,
          1000.6628780196198,
          1000.6223085502417,
          1000.677267989647,
          1000.8105197577894,
          1000.7672326628899,
          1000.8018419266572,
          1000.8332536697001,
          1000.7726153434348,
          1000.7683223693215,
          1000.7335452552669,
          1000.6358770115077,
          1000.7135658746555,
          1000.8214470746458,
          1000.7806549409023,
          1000.7618487505569,
          1000.812424612563,
          1000.7046852177507,
          1000.8373192550597,
          1000.7868505755192,
          1000.7601709096459,
          1000.6724032819499,
          1000.7459464053945,
          1000.7730532130935,
          1000.8114745737375,
          1000.7830320094262,
          1000.8565723925655,
          1000.8330187259244,
          1000.9325568708688,
          1000.9365019055135,
          1000.8610682440097,
          1000.8907823160492,
          1000.9350597876922,
          1001.0282440308715,
          1001.0852293188015,
          1001.0422339843285,
          1001.009165841467,
          1001.0490407936859,
          1001.0328948712104,
          1001.1129985923146,
          1001.024201253115,
          1000.9407684301028,
          1000.9274984910176,
          1000.9269169026261,
          1000.9469347212965,
          1000.802606132515,
          1000.8101356400497,
          1000.7864720092524,
          1000.816544843423,
          1000.7226614094044,
          1000.7095815722478,
          1000.756355796789,
          1000.7310607556537,
          1000.709740023894,
          1000.6473176895018,
          1000.636848621997,
          1000.6354493220214,
          1000.8214493196646,
          1000.8309979525,
          1000.7893625378196,
          1000.8523436250105,
          1000.7879612289988,
          1000.963529886242,
          1000.9383127679603,
          1001.0022811165095,
          1000.889507047245,
          1001.0079803121059,
          1000.9907114436048,
          1000.9792322006633,
          1000.9984936157246,
          1000.9419005166818,
          1000.8617657271002,
          1000.9001972897532,
          1001.0340464924808,
          1001.001492642279,
          1000.9784497594788,
          1000.9528224648553,
          1000.8312976537135,
          1000.8063678418854,
          1000.8468935551467,
          1000.8273467809832,
          1000.8727695767894,
          1000.8204916599761,
          1000.863676536004,
          1000.9183094729236,
          1000.8071190974722,
          1000.9591774688458,
          1001.0948189760256,
          1001.2111337630024,
          1001.2367813635384,
          1001.2077345081843,
          1001.3130953970305,
          1001.3506072104691,
          1001.2370133516301,
          1001.3221441578122,
          1001.3087311771149,
          1001.3668072796808,
          1001.3814868286046,
          1001.4270896360546,
          1001.4207338167096,
          1001.4155635706503,
          1001.4300444164194,
          1001.5595526605982,
          1001.6720725656899,
          1001.685346139338,
          1001.6493126619988,
          1001.7752837583008,
          1001.7452144251018,
          1001.7266546967293,
          1001.7076278675013,
          1001.7553888857067,
          1001.7534720283827,
          1001.8097097752789,
          1001.8501493273723,
          1001.8706155767883,
          1001.9692278610676,
          1001.9758601458851,
          1002.0972959323536,
          1002.1288451809255,
          1002.1291239362271,
          1002.2069654800433,
          1002.2509980046664,
          1002.1635043243178,
          1002.0616825344166,
          1002.0430362779898,
          1001.9539289596736,
          1001.9832361872357,
          1002.0186106594317,
          1002.0886181572424,
          1002.101475881372,
          1002.1195444124633,
          1002.1469790098533,
          1002.1475048758466,
          1002.0994747302685,
          1002.1568761748346,
          1002.1923580543134,
          1002.2574548616473,
          1002.2746325890067,
          1002.2751957021936,
          1002.256501552716,
          1002.1759917470678,
          1002.1915823229094,
          1002.1478416012382,
          1002.1250306797814,
          1002.1474103719544,
          1002.1941126524742,
          1002.172106893954,
          1002.0878423059886,
          1002.0943616633393,
          1002.0612843349046,
          1002.0903705667222,
          1001.990441950243,
          1001.8998910038446,
          1001.9263325877963,
          1001.8951289584382,
          1001.9103479713215,
          1001.9762525239355,
          1001.9583446915827,
          1001.9263778900961,
          1002.0363214573383,
          1001.9783298432384,
          1001.8791334721798,
          1001.815697893588,
          1001.9930828814495,
          1002.0210651128408,
          1002.0117971274615,
          1002.1327143707015,
          1002.1061377146776,
          1002.0624088058222,
          1002.0205891375787,
          1001.9924169861865,
          1001.8826885945873,
          1002.0044083720165,
          1001.9972640774978,
          1001.9641445367203,
          1001.9464190807557,
          1002.0488144935127,
          1002.0209555660797,
          1002.006577943828,
          1002.0058424136494,
          1002.0848451991226,
          1002.1144832709093,
          1002.1905383824397,
          1002.1886354242713,
          1002.3235109270928,
          1002.4056777475756,
          1002.412664885757,
          1002.602595030729,
          1002.6384503036537,
          1002.6421272851477,
          1002.6320099260913,
          1002.6258184424348,
          1002.618927177803,
          1002.6012899644895,
          1002.6503323261326,
          1002.6921836983447,
          1002.6849029702562,
          1002.6349268362289,
          1002.6536155591822,
          1002.6908114178145,
          1002.7636903111527,
          1002.7451241203694,
          1002.7704234141816,
          1002.8920268703016,
          1002.8775127153781,
          1002.8419267027316,
          1002.7774275909501,
          1002.810561322654,
          1002.7570223540541,
          1002.6726108866454,
          1002.6566480570575,
          1002.6622060470638,
          1002.5938395015504,
          1002.6890547931291,
          1002.7132410699382,
          1002.7007596473494,
          1002.5943078226027,
          1002.4717780349272,
          1002.378439068854,
          1002.4008260079106,
          1002.4322444205415,
          1002.3028080679051,
          1002.286743599644,
          1002.2695833044477,
          1002.2209279632665,
          1002.040591196388,
          1002.0236009654031,
          1002.0037223035662,
          1002.0496555412487,
          1002.0780748408876,
          1002.0978084770846,
          1002.077820650482,
          1001.9576067454933,
          1001.8723341007667,
          1001.8623104129414,
          1001.7751439698764,
          1001.7687427354086,
          1001.7902342570256,
          1001.9080375890509,
          1001.821486354824,
          1001.8589991726797,
          1001.8798904488276,
          1001.8202065621092,
          1001.8001774318712,
          1001.7438338427768,
          1001.8064077356263,
          1001.7906598858285,
          1001.8468054956736,
          1001.8793566036874,
          1001.9706702572053,
          1001.9337291492008,
          1002.0075001962747,
          1002.0469237576057,
          1002.0348460893581,
          1001.9950471502007,
          1001.9545794695593,
          1002.0207168154942,
          1001.9567837228949,
          1001.9285135592015,
          1001.9032663592446,
          1001.9229229217051,
          1002.0271531308003,
          1001.9453543692788,
          1001.9573961650434,
          1001.9451284597455,
          1001.9400043748744,
          1001.9184926430031,
          1001.9667746771713,
          1001.9837032870611,
          1001.8642335569956,
          1001.8978546964107,
          1002.0133517333645,
          1002.1096289069092,
          1002.1160443031538,
          1002.1091963443024,
          1002.0318252891666,
          1001.8860415119791,
          1001.8777184402369,
          1001.8929270871257,
          1001.8527978439683,
          1001.7789841399035,
          1001.8661311873512,
          1001.853726956428,
          1001.8771900576997,
          1001.8468823268495,
          1001.7983274323465,
          1001.7340601673243,
          1001.6769618173246,
          1001.60053163529,
          1001.6097401174383,
          1001.612720377651,
          1001.6370453338253,
          1001.5079594131022,
          1001.5133049553413,
          1001.5406111952082,
          1001.4756543197612,
          1001.4574225648187,
          1001.4221228501223,
          1001.460986806371,
          1001.340753913883,
          1001.401353537094,
          1001.4282771461395,
          1001.4053020706825,
          1001.3508449164257,
          1001.2610817808672,
          1001.2277216041268,
          1001.1808037444289,
          1001.1524535330408,
          1001.1250686692034,
          1001.0269722641464,
          1001.0976794978524,
          1001.0823515330916,
          1001.0455835696099,
          1000.9505177109075,
          1000.9514828600279,
          1000.8491807024345,
          1000.8241611628748,
          1000.8481517611958,
          1000.842860925797,
          1000.8190952985871,
          1000.7862008864987,
          1000.7470010466777,
          1000.7321468105117,
          1000.7350975096531,
          1000.7167722290214,
          1000.7227684440718,
          1000.789425505554,
          1000.7502349669337,
          1000.6934755867181,
          1000.721374030733,
          1000.7740509314623,
          1000.8381178285932,
          1000.7742654626184,
          1000.7275734997488,
          1000.7294249545641,
          1000.7147012068536,
          1000.6759454361692,
          1000.7070500861857,
          1000.735992297358,
          1000.635296844405,
          1000.7588407573614,
          1000.8164028009272,
          1000.8233491037502,
          1000.8252574392166,
          1000.8802660933803,
          1000.8292933923346,
          1000.8854364014642,
          1000.9741288898823,
          1001.0901479930327,
          1001.0407931786948,
          1000.928041116865,
          1000.9352861015885,
          1000.8699655083161,
          1000.898802016395,
          1000.8697524761778,
          1000.9332223159562,
          1000.9136149727469,
          1000.8118623732248,
          1000.8365829617984,
          1000.7945191308471,
          1000.8022746701705,
          1000.7677719840751,
          1000.7375629331857,
          1000.8022977259508,
          1000.8177948444438,
          1000.7990459252582,
          1000.8364814961581,
          1000.9258329666665,
          1000.9176855708707,
          1000.9942475679137,
          1000.9241758533743,
          1001.01298121469,
          1001.0114473839417,
          1000.9646339255125,
          1000.9250864581367,
          1000.920928225953,
          1000.9017125522914,
          1000.8304601654213,
          1000.8815489543325,
          1000.8478665250921,
          1000.730129380692,
          1000.7274850746445,
          1000.7025043463441,
          1000.6277015050046,
          1000.5807901109149,
          1000.6189572917614,
          1000.6124689285217,
          1000.6570633698443,
          1000.7537093862384,
          1000.702987872425,
          1000.7470000623586,
          1000.8086297491936,
          1000.7806626690119,
          1000.8748501496902,
          1000.9325251777212,
          1000.8753836789846,
          1000.810163644949,
          1000.8030638646762,
          1000.878656063543,
          1000.9082440543071,
          1000.8879287019528,
          1000.8437781759744,
          1000.8574183892117,
          1000.8075375718988,
          1000.8617302927557,
          1000.7657509569196,
          1000.7803879669631,
          1000.8536965625815,
          1000.8137119701714,
          1000.890377885863,
          1000.8535571424284,
          1000.8683758945352,
          1000.8078687608304,
          1000.8537344935887,
          1000.8381826392144,
          1000.8484047672753,
          1000.794505887852,
          1000.77584771105,
          1000.7361166091644,
          1000.7292887185819,
          1000.7006489858579,
          1000.6984771508721,
          1000.7011641368218,
          1000.7447239956882,
          1000.7388310725845,
          1000.7871938961188,
          1000.832715836421,
          1000.7919234457318,
          1000.7993930428862,
          1000.7824548473445,
          1000.7742231114432,
          1000.7257236421837,
          1000.7517816622958,
          1000.8421313088772,
          1000.8306617158967,
          1000.7738508352962,
          1000.7831275650095,
          1000.8275887005535,
          1000.890579247519,
          1000.780675347237,
          1000.8014832413766,
          1000.7982788898977,
          1000.7500795306274,
          1000.7856064020134,
          1000.8447625680674,
          1000.9009248051236,
          1000.927277797653,
          1000.8680023919619,
          1000.8739401027932,
          1000.8517799669961,
          1000.8223285220265,
          1000.8677188295264,
          1000.8571359992634,
          1000.7765448141125,
          1000.7150429322431,
          1000.7167307311166,
          1000.7038813158966,
          1000.721025926095,
          1000.691296913921,
          1000.7180918580851,
          1000.6322087387604,
          1000.6767526195844,
          1000.695598067958,
          1000.7737744219027,
          1000.7303730265114,
          1000.7311150833751,
          1000.7274141835676,
          1000.6486426442706,
          1000.6637387397082,
          1000.6614380382672,
          1000.5690944690207,
          1000.6350572551567,
          1000.5939590315302,
          1000.5590454955101,
          1000.6475442177128,
          1000.6974101957326,
          1000.6129761747782,
          1000.5710056245352,
          1000.560016245277,
          1000.5937335238822,
          1000.5425032947581,
          1000.6304624891086
         ],
         "yaxis": "y"
        }
       ],
       "layout": {
        "height": 600,
        "legend": {
         "tracegroupgap": 0
        },
        "template": {
         "data": {
          "bar": [
           {
            "error_x": {
             "color": "#2a3f5f"
            },
            "error_y": {
             "color": "#2a3f5f"
            },
            "marker": {
             "line": {
              "color": "#E5ECF6",
              "width": 0.5
             }
            },
            "type": "bar"
           }
          ],
          "barpolar": [
           {
            "marker": {
             "line": {
              "color": "#E5ECF6",
              "width": 0.5
             }
            },
            "type": "barpolar"
           }
          ],
          "carpet": [
           {
            "aaxis": {
             "endlinecolor": "#2a3f5f",
             "gridcolor": "white",
             "linecolor": "white",
             "minorgridcolor": "white",
             "startlinecolor": "#2a3f5f"
            },
            "baxis": {
             "endlinecolor": "#2a3f5f",
             "gridcolor": "white",
             "linecolor": "white",
             "minorgridcolor": "white",
             "startlinecolor": "#2a3f5f"
            },
            "type": "carpet"
           }
          ],
          "choropleth": [
           {
            "colorbar": {
             "outlinewidth": 0,
             "ticks": ""
            },
            "type": "choropleth"
           }
          ],
          "contour": [
           {
            "colorbar": {
             "outlinewidth": 0,
             "ticks": ""
            },
            "colorscale": [
             [
              0,
              "#0d0887"
             ],
             [
              0.1111111111111111,
              "#46039f"
             ],
             [
              0.2222222222222222,
              "#7201a8"
             ],
             [
              0.3333333333333333,
              "#9c179e"
             ],
             [
              0.4444444444444444,
              "#bd3786"
             ],
             [
              0.5555555555555556,
              "#d8576b"
             ],
             [
              0.6666666666666666,
              "#ed7953"
             ],
             [
              0.7777777777777778,
              "#fb9f3a"
             ],
             [
              0.8888888888888888,
              "#fdca26"
             ],
             [
              1,
              "#f0f921"
             ]
            ],
            "type": "contour"
           }
          ],
          "contourcarpet": [
           {
            "colorbar": {
             "outlinewidth": 0,
             "ticks": ""
            },
            "type": "contourcarpet"
           }
          ],
          "heatmap": [
           {
            "colorbar": {
             "outlinewidth": 0,
             "ticks": ""
            },
            "colorscale": [
             [
              0,
              "#0d0887"
             ],
             [
              0.1111111111111111,
              "#46039f"
             ],
             [
              0.2222222222222222,
              "#7201a8"
             ],
             [
              0.3333333333333333,
              "#9c179e"
             ],
             [
              0.4444444444444444,
              "#bd3786"
             ],
             [
              0.5555555555555556,
              "#d8576b"
             ],
             [
              0.6666666666666666,
              "#ed7953"
             ],
             [
              0.7777777777777778,
              "#fb9f3a"
             ],
             [
              0.8888888888888888,
              "#fdca26"
             ],
             [
              1,
              "#f0f921"
             ]
            ],
            "type": "heatmap"
           }
          ],
          "heatmapgl": [
           {
            "colorbar": {
             "outlinewidth": 0,
             "ticks": ""
            },
            "colorscale": [
             [
              0,
              "#0d0887"
             ],
             [
              0.1111111111111111,
              "#46039f"
             ],
             [
              0.2222222222222222,
              "#7201a8"
             ],
             [
              0.3333333333333333,
              "#9c179e"
             ],
             [
              0.4444444444444444,
              "#bd3786"
             ],
             [
              0.5555555555555556,
              "#d8576b"
             ],
             [
              0.6666666666666666,
              "#ed7953"
             ],
             [
              0.7777777777777778,
              "#fb9f3a"
             ],
             [
              0.8888888888888888,
              "#fdca26"
             ],
             [
              1,
              "#f0f921"
             ]
            ],
            "type": "heatmapgl"
           }
          ],
          "histogram": [
           {
            "marker": {
             "colorbar": {
              "outlinewidth": 0,
              "ticks": ""
             }
            },
            "type": "histogram"
           }
          ],
          "histogram2d": [
           {
            "colorbar": {
             "outlinewidth": 0,
             "ticks": ""
            },
            "colorscale": [
             [
              0,
              "#0d0887"
             ],
             [
              0.1111111111111111,
              "#46039f"
             ],
             [
              0.2222222222222222,
              "#7201a8"
             ],
             [
              0.3333333333333333,
              "#9c179e"
             ],
             [
              0.4444444444444444,
              "#bd3786"
             ],
             [
              0.5555555555555556,
              "#d8576b"
             ],
             [
              0.6666666666666666,
              "#ed7953"
             ],
             [
              0.7777777777777778,
              "#fb9f3a"
             ],
             [
              0.8888888888888888,
              "#fdca26"
             ],
             [
              1,
              "#f0f921"
             ]
            ],
            "type": "histogram2d"
           }
          ],
          "histogram2dcontour": [
           {
            "colorbar": {
             "outlinewidth": 0,
             "ticks": ""
            },
            "colorscale": [
             [
              0,
              "#0d0887"
             ],
             [
              0.1111111111111111,
              "#46039f"
             ],
             [
              0.2222222222222222,
              "#7201a8"
             ],
             [
              0.3333333333333333,
              "#9c179e"
             ],
             [
              0.4444444444444444,
              "#bd3786"
             ],
             [
              0.5555555555555556,
              "#d8576b"
             ],
             [
              0.6666666666666666,
              "#ed7953"
             ],
             [
              0.7777777777777778,
              "#fb9f3a"
             ],
             [
              0.8888888888888888,
              "#fdca26"
             ],
             [
              1,
              "#f0f921"
             ]
            ],
            "type": "histogram2dcontour"
           }
          ],
          "mesh3d": [
           {
            "colorbar": {
             "outlinewidth": 0,
             "ticks": ""
            },
            "type": "mesh3d"
           }
          ],
          "parcoords": [
           {
            "line": {
             "colorbar": {
              "outlinewidth": 0,
              "ticks": ""
             }
            },
            "type": "parcoords"
           }
          ],
          "scatter": [
           {
            "marker": {
             "colorbar": {
              "outlinewidth": 0,
              "ticks": ""
             }
            },
            "type": "scatter"
           }
          ],
          "scatter3d": [
           {
            "line": {
             "colorbar": {
              "outlinewidth": 0,
              "ticks": ""
             }
            },
            "marker": {
             "colorbar": {
              "outlinewidth": 0,
              "ticks": ""
             }
            },
            "type": "scatter3d"
           }
          ],
          "scattercarpet": [
           {
            "marker": {
             "colorbar": {
              "outlinewidth": 0,
              "ticks": ""
             }
            },
            "type": "scattercarpet"
           }
          ],
          "scattergeo": [
           {
            "marker": {
             "colorbar": {
              "outlinewidth": 0,
              "ticks": ""
             }
            },
            "type": "scattergeo"
           }
          ],
          "scattergl": [
           {
            "marker": {
             "colorbar": {
              "outlinewidth": 0,
              "ticks": ""
             }
            },
            "type": "scattergl"
           }
          ],
          "scattermapbox": [
           {
            "marker": {
             "colorbar": {
              "outlinewidth": 0,
              "ticks": ""
             }
            },
            "type": "scattermapbox"
           }
          ],
          "scatterpolar": [
           {
            "marker": {
             "colorbar": {
              "outlinewidth": 0,
              "ticks": ""
             }
            },
            "type": "scatterpolar"
           }
          ],
          "scatterpolargl": [
           {
            "marker": {
             "colorbar": {
              "outlinewidth": 0,
              "ticks": ""
             }
            },
            "type": "scatterpolargl"
           }
          ],
          "scatterternary": [
           {
            "marker": {
             "colorbar": {
              "outlinewidth": 0,
              "ticks": ""
             }
            },
            "type": "scatterternary"
           }
          ],
          "surface": [
           {
            "colorbar": {
             "outlinewidth": 0,
             "ticks": ""
            },
            "colorscale": [
             [
              0,
              "#0d0887"
             ],
             [
              0.1111111111111111,
              "#46039f"
             ],
             [
              0.2222222222222222,
              "#7201a8"
             ],
             [
              0.3333333333333333,
              "#9c179e"
             ],
             [
              0.4444444444444444,
              "#bd3786"
             ],
             [
              0.5555555555555556,
              "#d8576b"
             ],
             [
              0.6666666666666666,
              "#ed7953"
             ],
             [
              0.7777777777777778,
              "#fb9f3a"
             ],
             [
              0.8888888888888888,
              "#fdca26"
             ],
             [
              1,
              "#f0f921"
             ]
            ],
            "type": "surface"
           }
          ],
          "table": [
           {
            "cells": {
             "fill": {
              "color": "#EBF0F8"
             },
             "line": {
              "color": "white"
             }
            },
            "header": {
             "fill": {
              "color": "#C8D4E3"
             },
             "line": {
              "color": "white"
             }
            },
            "type": "table"
           }
          ]
         },
         "layout": {
          "annotationdefaults": {
           "arrowcolor": "#2a3f5f",
           "arrowhead": 0,
           "arrowwidth": 1
          },
          "colorscale": {
           "diverging": [
            [
             0,
             "#8e0152"
            ],
            [
             0.1,
             "#c51b7d"
            ],
            [
             0.2,
             "#de77ae"
            ],
            [
             0.3,
             "#f1b6da"
            ],
            [
             0.4,
             "#fde0ef"
            ],
            [
             0.5,
             "#f7f7f7"
            ],
            [
             0.6,
             "#e6f5d0"
            ],
            [
             0.7,
             "#b8e186"
            ],
            [
             0.8,
             "#7fbc41"
            ],
            [
             0.9,
             "#4d9221"
            ],
            [
             1,
             "#276419"
            ]
           ],
           "sequential": [
            [
             0,
             "#0d0887"
            ],
            [
             0.1111111111111111,
             "#46039f"
            ],
            [
             0.2222222222222222,
             "#7201a8"
            ],
            [
             0.3333333333333333,
             "#9c179e"
            ],
            [
             0.4444444444444444,
             "#bd3786"
            ],
            [
             0.5555555555555556,
             "#d8576b"
            ],
            [
             0.6666666666666666,
             "#ed7953"
            ],
            [
             0.7777777777777778,
             "#fb9f3a"
            ],
            [
             0.8888888888888888,
             "#fdca26"
            ],
            [
             1,
             "#f0f921"
            ]
           ],
           "sequentialminus": [
            [
             0,
             "#0d0887"
            ],
            [
             0.1111111111111111,
             "#46039f"
            ],
            [
             0.2222222222222222,
             "#7201a8"
            ],
            [
             0.3333333333333333,
             "#9c179e"
            ],
            [
             0.4444444444444444,
             "#bd3786"
            ],
            [
             0.5555555555555556,
             "#d8576b"
            ],
            [
             0.6666666666666666,
             "#ed7953"
            ],
            [
             0.7777777777777778,
             "#fb9f3a"
            ],
            [
             0.8888888888888888,
             "#fdca26"
            ],
            [
             1,
             "#f0f921"
            ]
           ]
          },
          "colorway": [
           "#636efa",
           "#EF553B",
           "#00cc96",
           "#ab63fa",
           "#FFA15A",
           "#19d3f3",
           "#FF6692",
           "#B6E880",
           "#FF97FF",
           "#FECB52"
          ],
          "font": {
           "color": "#2a3f5f"
          },
          "geo": {
           "bgcolor": "white",
           "lakecolor": "white",
           "landcolor": "#E5ECF6",
           "showlakes": true,
           "showland": true,
           "subunitcolor": "white"
          },
          "hoverlabel": {
           "align": "left"
          },
          "hovermode": "closest",
          "mapbox": {
           "style": "light"
          },
          "paper_bgcolor": "white",
          "plot_bgcolor": "#E5ECF6",
          "polar": {
           "angularaxis": {
            "gridcolor": "white",
            "linecolor": "white",
            "ticks": ""
           },
           "bgcolor": "#E5ECF6",
           "radialaxis": {
            "gridcolor": "white",
            "linecolor": "white",
            "ticks": ""
           }
          },
          "scene": {
           "xaxis": {
            "backgroundcolor": "#E5ECF6",
            "gridcolor": "white",
            "gridwidth": 2,
            "linecolor": "white",
            "showbackground": true,
            "ticks": "",
            "zerolinecolor": "white"
           },
           "yaxis": {
            "backgroundcolor": "#E5ECF6",
            "gridcolor": "white",
            "gridwidth": 2,
            "linecolor": "white",
            "showbackground": true,
            "ticks": "",
            "zerolinecolor": "white"
           },
           "zaxis": {
            "backgroundcolor": "#E5ECF6",
            "gridcolor": "white",
            "gridwidth": 2,
            "linecolor": "white",
            "showbackground": true,
            "ticks": "",
            "zerolinecolor": "white"
           }
          },
          "shapedefaults": {
           "line": {
            "color": "#2a3f5f"
           }
          },
          "ternary": {
           "aaxis": {
            "gridcolor": "white",
            "linecolor": "white",
            "ticks": ""
           },
           "baxis": {
            "gridcolor": "white",
            "linecolor": "white",
            "ticks": ""
           },
           "bgcolor": "#E5ECF6",
           "caxis": {
            "gridcolor": "white",
            "linecolor": "white",
            "ticks": ""
           }
          },
          "title": {
           "x": 0.05
          },
          "xaxis": {
           "automargin": true,
           "gridcolor": "white",
           "linecolor": "white",
           "ticks": "",
           "zerolinecolor": "white",
           "zerolinewidth": 2
          },
          "yaxis": {
           "automargin": true,
           "gridcolor": "white",
           "linecolor": "white",
           "ticks": "",
           "zerolinecolor": "white",
           "zerolinewidth": 2
          }
         }
        },
        "title": {
         "text": "PREDICTION ITERATION"
        },
        "xaxis": {
         "anchor": "y",
         "domain": [
          0,
          0.98
         ]
        },
        "yaxis": {
         "anchor": "x",
         "domain": [
          0,
          1
         ],
         "title": {
          "text": "value"
         }
        }
       }
      },
      "text/html": [
       "<div>\n",
       "        \n",
       "        \n",
       "            <div id=\"58023dc1-48ce-4bfa-b132-9d4eda3739f9\" class=\"plotly-graph-div\" style=\"height:600px; width:100%;\"></div>\n",
       "            <script type=\"text/javascript\">\n",
       "                require([\"plotly\"], function(Plotly) {\n",
       "                    window.PLOTLYENV=window.PLOTLYENV || {};\n",
       "                    \n",
       "                if (document.getElementById(\"58023dc1-48ce-4bfa-b132-9d4eda3739f9\")) {\n",
       "                    Plotly.newPlot(\n",
       "                        '58023dc1-48ce-4bfa-b132-9d4eda3739f9',\n",
       "                        [{\"hoverlabel\": {\"namelength\": 0}, \"hovertemplate\": \"variable=CUR_STATE<br>value=%{y}\", \"legendgroup\": \"variable=CUR_STATE\", \"line\": {\"color\": \"#636efa\", \"dash\": \"solid\"}, \"mode\": \"lines\", \"name\": \"variable=CUR_STATE\", \"showlegend\": true, \"type\": \"scattergl\", \"xaxis\": \"x\", \"y\": [727.9393814845301, 814.2836446796888, 876.4521040203718, 948.5831688894509, 937.4560516299457, 932.591134258044, 937.4543184874186, 937.9301526043309, 948.6785459501863, 947.1995048411515, 945.411515189699, 932.2422899394638, 929.9465019694755, 929.2167812658646, 938.5770656662174, 942.4489825667303, 940.0276890677362, 947.9481238146737, 958.0461144989839, 966.4863085357281, 960.9361823450272, 971.4721378125504, 972.7224920712695, 970.7664636801131, 970.4329360634764, 973.2792538254862, 973.9715020301767, 970.6633216504634, 980.0916497748351, 982.1789392318349, 987.6402635574758, 991.5647972533927, 990.7646267807737, 990.7243412302222, 991.90381398387, 992.4494425106266, 992.9295348618908, 988.5315383789243, 986.4681760765202, 983.4575237965087, 985.1584894418335, 987.0525322150089, 987.468849725008, 987.399897426476, 990.7319196954061, 992.6763602139655, 993.476396006602, 991.4093856104579, 992.2376130282732, 993.7040895624012, 992.3398684183512, 993.2811162787432, 993.3531181834235, 996.3955143031438, 994.7878693306216, 995.8479291902443, 997.5266205849873, 1000.1257237990368, 999.8643113856482, 998.9330926558711, 999.2197333928078, 999.5471925400228, 1001.6578890868096, 1003.2560137180767, 1002.6163858087848, 1004.1774831468175, 1004.2393223649718, 1003.6386096377039, 1003.9254434017913, 1005.2879220002411, 1002.7334761846877, 1004.1208315007739, 1003.1829774590201, 1001.8609270631232, 1002.384625997984, 1003.7203034115281, 1005.3934347327161, 1003.3077416584533, 999.8461083306058, 999.8062502792521, 1000.0115053866714, 1000.0380707550877, 1000.4382484955469, 998.7428922915695, 998.0928643517478, 998.0023666830518, 998.1634687439067, 997.1853199997744, 996.3864473834076, 995.6943276019829, 995.567719608136, 997.3091850504729, 997.8940730697602, 998.1329867983012, 999.8930564029697, 999.9774396679021, 999.9102665096109, 999.4022921700653, 997.8160413491554, 998.5096092006526, 998.0005959719783, 999.457827454086, 998.2461170816197, 998.4572131870809, 999.0322836785147, 998.5399406390171, 999.3210667685153, 999.1383047688246, 998.4436919707097, 997.898256681422, 998.5539606559132, 998.1393638356401, 997.6288474547921, 998.198005642656, 997.5813689208242, 996.0082217471152, 998.0032095001085, 997.8347036829985, 998.2375078630115, 999.4860814288622, 998.8175054070972, 1000.10321658897, 1000.3364596429507, 1001.0003173567119, 1001.1883591246578, 999.7310078270176, 1000.6470463670453, 1000.9957887318501, 1001.1286597672594, 1001.5606486298667, 1002.5426592486003, 1002.7785026565724, 1001.8990620018944, 1002.2939159149008, 1002.3053911187169, 1002.7103535378119, 1003.1266023975072, 1002.5451775758544, 1002.9094970506719, 1003.0708193957, 1002.7405492454587, 1002.9634962689508, 1002.7644532107997, 1002.2076492480705, 1002.3902121599091, 1003.7120704245324, 1004.1854528065463, 1003.6686064018319, 1004.1214872607695, 1004.0008318460564, 1004.1281471052281, 1003.1250514994265, 1002.6617243631142, 1003.5786380613362, 1004.4537827513903, 1004.5535137694819, 1003.6793357068454, 1002.5779846543666, 1001.9824729693302, 1002.6348352656527, 1003.1951591106217, 1003.0794911871127, 1003.6590696332785, 1003.5562639818386, 1003.5707253760735, 1004.0870393993057, 1003.4189608125196, 1003.0482147228128, 1002.2173831905278, 1001.5169162953985, 1000.9334143397435, 1001.5748782819977, 1001.1880703033535, 1001.6861561006331, 1000.8513192938764, 1000.7609571402495, 1000.5494627768809, 1000.8697313785129, 1000.9897489932808, 1000.853675453561, 1001.3787422253603, 1001.2298851454033, 1000.5680631770529, 1000.0279398757508, 1000.2750207762163, 999.293142903987, 998.5366626626803, 998.1620044601577, 998.1460343902959, 997.5066001651426, 997.7435109154352, 997.9442134815707, 998.703203231311, 998.5997846211869, 998.3198342882561, 998.796807583949, 999.2999407387529, 1000.0587354894575, 1000.8860537952141, 1000.7890350560333, 999.8041810923074, 1000.1766969285768, 999.674420118224, 999.4207074112697, 999.1327989723864, 999.200692178442, 999.0518217015867, 998.5450481843739, 999.0245656657801, 999.3338623494564, 998.7269705712388, 999.4698866792712, 999.5144537997063, 999.3415524998392, 1000.0842458571373, 1000.2569446516563, 1000.530718341926, 999.7000853209702, 999.2141318042371, 1000.169734652875, 1000.5187252355312, 1000.1463935184626, 1000.6029925278713, 1000.4558779092407, 1000.3231546191042, 1000.5505853007567, 999.6240756844988, 998.5522697129725, 999.253505179316, 999.0079719475466, 999.5832133934709, 999.4732309009612, 999.2898446945876, 999.2457279825811, 999.803489119595, 999.8616816230128, 999.7485581647267, 999.4851932912408, 999.3369430924711, 999.7344486840383, 1000.3520317398145, 1000.989538201062, 1000.9499451970886, 1001.1144294491423, 1000.9583826861335, 1001.5269500297201, 1000.7816414576754, 1000.7159914963705, 1000.130223450523, 999.9772219743355, 999.793187445481, 999.903414217299, 999.5224231160572, 999.49166970328, 999.8625097321716, 999.5320669572567, 999.4408108361015, 1000.1858274625648, 1000.7771772150628, 1001.0785179685867, 1001.2173353137275, 1001.0215598649337, 1001.7907458660369, 1001.7533937816031, 1001.4074821731465, 1000.9668468677286, 1000.5750621749181, 1000.0226084319506, 999.6052154483705, 999.4760538178191, 1000.0034398977541, 1000.2032470127184, 999.7347336678788, 999.7330195876227, 999.8780773621675, 999.2893340206464, 999.9473914608124, 1000.2665748048443, 1000.0979718138315, 1000.2824150601891, 1000.2989788295642, 1000.7702576661178, 1001.6572266049021, 1001.3471661780131, 1001.4052978615733, 1001.373475855159, 1001.4455060106302, 1001.3963246623558, 1001.7982338791184, 1001.9191507984211, 1001.758212410868, 1001.4348641428572, 1001.0850358257271, 1001.3206973336368, 1001.1762513474188, 1001.2809899106738, 1001.1267017632589, 1001.1717255939324, 1001.2688715714189, 1001.7281655220702, 1001.539064900652, 1001.5319616617195, 1001.4172888692368, 1001.8531849647783, 1001.3340220728594, 1001.8317137087289, 1002.0468288481552, 1002.2069145960313, 1002.2262948642559, 1001.9129981033327, 1001.5518707040359, 1001.4995234118536, 1002.1180148376927, 1002.2852797796813, 1002.2788989962106, 1002.450451616048, 1002.1369331086183, 1001.5292988381403, 1001.5337210063448, 1001.3372046678795, 1001.6694067696669, 1001.8757882360899, 1002.381632051872, 1002.5783238575257, 1002.2651538004343, 1001.9986188590156, 1001.9850378392491, 1001.7860008494116, 1001.182525937755, 1001.0986126117889, 1001.4617560119981, 1001.7710405651188, 1001.6811861211471, 1001.7959895173808, 1001.5633070206903, 1001.2332068067736, 1001.1820827470601, 1001.2321846195033, 1001.4249008482385, 1001.868436798211, 1002.0434467390951, 1002.6583667836557, 1003.45997770265, 1003.8715524703516, 1004.0947238100237, 1004.2605524841769, 1004.55166612243, 1004.6459894526375, 1004.9716468999973, 1004.7788223373757, 1004.9690333494386, 1004.7890766948958, 1004.9593621614014, 1005.0313017159147, 1005.0631713519847, 1004.7981762338552, 1004.2406955753229, 1004.0412507314375, 1003.9092199959921, 1003.5880907430674, 1003.6115249204352, 1003.8873954701811, 1003.959131904746, 1003.8772429764168, 1004.1419619528332, 1004.1369841675433, 1004.3864421088111, 1004.2424824992528, 1004.2243027197313, 1004.0523189622356, 1003.658879076533, 1003.0450638727908, 1002.8569838171943, 1002.7659597923158, 1002.6579262393774, 1002.8639848148345, 1002.7819883359189, 1002.8959934308152, 1002.6867281607612, 1002.6655380541318, 1002.4962812149599, 1002.8006727169325, 1002.5334311968747, 1002.6517909435007, 1002.9006726065927, 1002.6361741656876, 1002.9114364349707, 1002.8051791687985, 1003.0852594496716, 1002.873687442791, 1003.6601647577755, 1003.963550076685, 1003.8980141312378, 1003.2778666516077, 1002.9673029533919, 1002.7542102964112, 1002.8823744678524, 1003.0363699643083, 1002.9142985118168, 1002.7198714300642, 1002.661322258828, 1002.7863476665916, 1003.3160589979519, 1003.2634914057027, 1003.2343703212052, 1003.4755573493254, 1003.4580872436045, 1003.0169731671834, 1002.8524393515033, 1002.56012415326, 1002.6257231283452, 1002.5751824360412, 1002.8259276888834, 1002.9956316223203, 1003.2652100908603, 1003.4944735012622, 1003.40281355242, 1003.4451560465328, 1003.4988440600126, 1003.5603943019764, 1003.4464403097386, 1003.1593529704746, 1003.3259298581225, 1003.1260317446478, 1003.1059268973773, 1003.2282167266357, 1003.5076721623449, 1003.5134373905494, 1003.1431309111683, 1003.2083678584397, 1003.5163431302841, 1003.3963848033691, 1003.3812008521563, 1003.2257137625332, 1003.4462355261735, 1003.441479489572, 1003.8784975432494, 1003.7177608727442, 1004.1425835691758, 1004.027783571722, 1003.9269643017166, 1003.8231781156047, 1003.8685617912183, 1004.023320840764, 1003.7228633933919, 1003.566553977006, 1003.4955320839061, 1003.2375287749453, 1003.5497269867495, 1003.3641574026565, 1003.2344492462154, 1003.3816421320698, 1003.5543913391202, 1003.5378591447363, 1003.1151479688943, 1003.159720996231, 1003.3070173159485, 1003.3893745070761, 1003.4078519378244, 1003.4059008315367, 1003.2971586385705, 1003.2275546768178, 1002.9428490897108, 1002.755483547486, 1003.0290962319492, 1002.9312888210216, 1003.0636732132499, 1003.2460302640594, 1003.0460268731055, 1002.8183284646569, 1002.7169656321419, 1002.3682107429796, 1002.2965080195241, 1002.2098820726708, 1001.920934819555, 1001.8635064607955, 1002.3070893399664, 1002.6468426215258, 1002.784218815731, 1002.5012753022763, 1002.4226712339391, 1002.4932774498809, 1002.4882249517485, 1002.3548864433074, 1002.2327094303158, 1002.1691994709074, 1002.1701129926074, 1002.0627181779001, 1001.9162074741934, 1002.3009850484985, 1002.5503604806845, 1002.4493856915026, 1002.3315122319478, 1002.3269073830958, 1002.506970245874, 1002.301648904559, 1002.125354484799, 1001.9633781577287, 1001.9031402594044, 1001.9497691625364, 1001.9497954899256, 1001.8899295762118, 1001.9215382399113, 1001.8617490038732, 1001.9180418937322, 1001.800545524323, 1002.0708187316019, 1002.043302930654, 1001.8296630829954, 1001.668639620728, 1001.8685983337667, 1001.9524421639235, 1002.0298176422866, 1001.8320426321928, 1001.5621823706254, 1001.9490467053511, 1002.3943866172549, 1002.2905103430566, 1002.0649428714717, 1002.0721094468474, 1001.6381956410778, 1001.8340497071941, 1001.8111797988032, 1001.6987141359987, 1001.6307277146967, 1001.3337943846179, 1000.9871952892174, 1000.9245507485273, 1000.9771926763967, 1000.6762225125669, 1000.6549625475294, 1000.818125104046, 1000.978857895723, 1000.8110701681388, 1000.8375093543103, 1000.7806747900643, 1000.8871927969907, 1000.9404613139527, 1000.8736863981826, 1000.9659499135965, 1001.1216554478652, 1000.8213409025792, 1001.0614917624671, 1001.2666829858977, 1001.1454236426788, 1001.5164031984001, 1001.6102357435099, 1001.5707479821255, 1001.6874504015705, 1001.8302199692027, 1001.8824186762532, 1001.8503728958332, 1002.0628753252125, 1002.0638867633384, 1002.1501672786075, 1001.9854928240671, 1001.9900571375158, 1002.226924000061, 1002.2172631592404, 1002.1460378987313, 1002.1051358444773, 1002.3731179532379, 1002.2296295568148, 1002.2754593133104, 1002.6041010920167, 1002.3803917616715, 1002.385579473512, 1002.2728399324983, 1002.3270967436072, 1002.4317219800895, 1002.5860818498944, 1002.4272336263471, 1002.3443461110493, 1002.3433183300001, 1002.2781118347261, 1002.3718799358023, 1002.5486237209486, 1002.3049244621009, 1002.3329402011364, 1002.6005387462385, 1002.5058289399735, 1002.5906581417626, 1002.6161155716042, 1002.5288515163858, 1002.1436113342362, 1002.0999905974287, 1002.0347773746317, 1002.1926755770445, 1002.2046532492883, 1002.1866991632037, 1001.9931207314692, 1002.0482602406175, 1002.0832305398128, 1002.0446803201506, 1002.0585133597434, 1001.804174041305, 1001.8597722867146, 1001.9633674300106, 1002.3368281272305, 1001.9744820598946, 1002.0288435582344, 1001.9896421206795, 1001.830371982814, 1001.807607357488, 1001.8782098857483, 1001.7148445621576, 1001.8446467904065, 1001.5586910553474, 1001.4046071652449, 1001.4478611752842, 1001.481794331693, 1001.5571864282513, 1001.8114163365002, 1001.9146735010445, 1001.9073115501933, 1001.9113071565996, 1001.7950270335587, 1001.8308856338989, 1001.7470424599196, 1001.6338168411685, 1001.6236546833512, 1001.5673226055143, 1001.6148231188921, 1001.7421951402175, 1001.6483219625759, 1001.5431281369583, 1001.4433781333885, 1001.5537594895347, 1001.4579344692638, 1001.3399538700488, 1001.1994357485437, 1001.5171852505669, 1001.3927997729188, 1001.5949740380715, 1001.3129204914401, 1001.2959384900793, 1001.292824848794, 1001.3662600364243, 1001.5914946708739, 1001.4368242929125, 1001.3679036095149, 1001.3640543394678, 1001.2412371514547, 1001.1944700725691, 1001.2532980119915, 1001.1615333734221, 1001.2010720829247, 1001.2644706366428, 1001.1645832529902, 1001.2756480078552, 1001.2349968667098, 1001.1937411444068, 1000.8459485406742, 1000.8745299265839, 1000.7586625228575, 1000.7065511449373, 1000.7771639309781, 1000.7109136081233, 1000.8661048829968, 1000.9733166889703, 1001.0821824628315, 1000.9828694298411, 1000.9854314923322, 1001.0760148131885, 1000.9334626522299, 1000.9202161548236, 1000.9968750984231, 1000.8959866550462, 1000.8549639309064, 1000.613228150739, 1000.4901631174497, 1000.6996393342546, 1000.7276701991872, 1000.59873067754, 1000.64231623374, 1000.8979286529233, 1000.7326953656182, 1000.7356740415767, 1000.7910259272013, 1000.9228239565119, 1001.1643068901825, 1001.2302810836715, 1001.1283116728257, 1001.243825997946, 1001.4011943410919, 1001.2903884515076, 1001.1327264866408, 1000.9181041265822, 1001.1303788616596, 1000.988542046629, 1000.9150578612811, 1001.0647627305032, 1001.4465549570475, 1001.6820203984022, 1001.8313612891822, 1002.1054208890721, 1002.0803826107898, 1001.999883494207, 1001.8411605776532, 1001.7866272948049, 1001.7452842375299, 1001.9596218757822, 1002.2684920980452, 1002.3595193297721, 1001.9105701018931, 1001.6724388997071, 1001.4865031450079, 1001.3352570453083, 1001.2832024906145, 1001.5370825997268, 1001.9510894928112, 1001.8721212734952, 1001.939912496246, 1001.9151411811741, 1001.8978849567952, 1001.6834859686869, 1001.6984016480328, 1001.7226467944181, 1001.4946372528126, 1001.6515514970013, 1001.5726839839242, 1001.8426187797636, 1001.8010966478657, 1001.8360224679449, 1001.7156024311369, 1001.7693016845872, 1001.5298200418512, 1001.7503228061357, 1001.7644576318631, 1001.6778956432255, 1001.8944250017853, 1001.9447007627941, 1002.0083226070134, 1001.9013514345382, 1001.9571725659262, 1001.6901122835513, 1001.9596933804919, 1001.9424984514383, 1001.8157191596944, 1001.8028997711115, 1001.8756787384807, 1001.7262405703615, 1001.8896189963338, 1002.0728172486399, 1002.0908576053725, 1002.1287180544241, 1002.0022936276406, 1001.8315842307966, 1001.8621426717982, 1001.8305382560035, 1001.846133206867, 1001.8131281926253, 1001.7772255909608, 1001.717175790398, 1001.7348953889463, 1001.7239286470449, 1001.9384046661377, 1001.8812518534104, 1001.6676191457385, 1001.820499990098, 1002.0170460760961, 1001.9131256614852, 1002.0746862614449, 1001.8652975229476, 1001.9501534312791, 1002.0438294230526, 1002.1837708861001, 1002.1352779480384, 1002.1391468547218, 1002.2316361497594, 1002.2712314663365, 1002.3776077859812, 1002.2654763454273, 1002.2633238520726, 1002.3263617750703, 1002.4979588994469, 1002.6091281982686, 1002.7023608561332, 1002.799001726918, 1002.986046982924, 1003.0876081640998, 1003.2606089177817, 1003.4519190039753, 1003.4811603805626, 1003.614814401932, 1003.7790910245512, 1003.7315297822108, 1003.6597402127171, 1003.6968673952385, 1003.6513640977075, 1003.8923348608051, 1003.9234795019655, 1003.9959923849761, 1003.8335232003811, 1003.9551054828758, 1003.7188143478091, 1003.656792422103, 1003.606544949831, 1003.7865167377483, 1003.885481668015, 1003.7185773300077, 1003.6416289639777, 1003.464041815671, 1003.6098691938183, 1003.5756157728191, 1003.5616619402904, 1003.5908310004231, 1003.5977725694108, 1003.5384735640534, 1003.6742474393623, 1003.6051326792083, 1003.5608935980455, 1003.608040613568, 1003.5835293284847, 1003.4377788395863, 1003.4193863688974, 1003.2954633219325, 1003.501635266438, 1003.3846299987771, 1003.087930755162, 1002.9679678697718, 1002.9359711334882, 1003.0337918365205, 1003.092996212588, 1002.8591629611408, 1002.9342054642586, 1002.8431362403715, 1002.8388538177817, 1002.905107543433, 1003.2016881444451, 1003.1871234651109, 1003.0936468854426, 1003.1903117109315, 1002.9185561463381, 1002.9555265598513, 1002.847229191658, 1002.7948230910785, 1002.8196037921961, 1003.0619147046299, 1003.1590711929668, 1003.0614426461611, 1002.9377223631512, 1002.9731361074644, 1002.88873429994, 1002.7085037583792, 1002.6676974497559, 1002.7775006653443, 1002.8020670008518, 1002.8916974595475, 1003.0466493135604, 1002.7801558184317, 1002.8227513028583, 1002.8236663685084, 1002.6411616334257, 1002.7272821663681, 1002.7196572093342, 1002.9815476811845, 1002.8168249658844, 1002.6917896263701, 1002.8172559878961, 1002.9417338410939, 1002.8798640721026, 1002.8691989489439, 1002.8607698974891, 1002.805217893468, 1002.7346969389503, 1002.6035437863349, 1002.5220716907779, 1002.6296080234304, 1002.7846931198393, 1002.8765399156854, 1003.0774564520246, 1003.1373006774493, 1003.1986138305597, 1003.3494661543223, 1003.3570020922319, 1003.1949992052512, 1003.2705072053358, 1003.3973818131096, 1003.2997974889823, 1003.1263824190752, 1003.0349328763376, 1003.1019530906418, 1002.9000882559958, 1003.1655044799184, 1003.1138583884937, 1003.112989184915, 1003.0898263332247, 1003.0855162741929, 1003.0626632788462, 1003.0972005505919, 1002.9223054546256, 1002.8584217204111, 1002.9464164782979, 1002.8227684723523, 1002.8508664719141, 1002.7730236305432, 1002.6791920709343, 1002.652952284516, 1002.5770465898354, 1002.5698099202965, 1002.7450922823843, 1002.673327940328, 1002.5573628026352, 1002.4021520411637, 1002.4295893094818, 1002.3961192552468, 1002.2451721749289, 1002.1574410783721, 1002.21619059373, 1002.0081010370502, 1002.0096281723748, 1001.9460476860522, 1002.057921221421, 1001.8987439419906, 1002.0270493081376, 1001.8340441718722, 1001.7890767959159, 1001.8232675454437, 1001.879951130033, 1001.9372228292373, 1001.944197709277, 1001.9436088077622, 1001.9551956482189, 1002.1603477209619, 1002.2701771887217, 1002.347666166844, 1002.3863100757084, 1002.4160867242855, 1002.5000557118001, 1002.6026649615559, 1002.5353068105369, 1002.4892089339928, 1002.4069788498105, 1002.2463330370471, 1002.4029366875651, 1002.4542957090555, 1002.483078303806, 1002.3315740123169, 1002.4456073728514, 1002.3003114324998, 1002.284605463018, 1002.2310738260006, 1002.2311890176055, 1002.3997351147389, 1002.5744525685178, 1002.5839705962021, 1002.6223645512531, 1002.6012937380057, 1002.6577052972734, 1002.5505189205516, 1002.5858214654836, 1002.5614355566136, 1002.6575328478709, 1002.7445773661763, 1002.7860427519884, 1002.8804233796569, 1002.819907151411, 1002.746177130478, 1002.681784928221, 1002.5751348328538, 1002.525741802096, 1002.5823930837373, 1002.5860501399989, 1002.586961450265, 1002.3188337203369, 1002.3974384219539, 1002.4564903460091, 1002.4689167100759, 1002.4404933187432, 1002.3583061724232, 1002.4976742961961, 1002.4826603096766, 1002.4223132237402, 1002.4376512534502, 1002.3430424868627, 1002.5193612721962, 1002.4017536779021, 1002.4845597455603, 1002.378610089983, 1002.3604673350779, 1002.3587135373712, 1002.4452123234324, 1002.4485446987068, 1002.298294533734, 1002.1658319808972, 1002.1649854392037, 1002.0354116826729, 1002.0057437989412, 1001.9924164470541, 1001.8554285930525, 1001.7769075990476, 1001.8415063085332, 1001.6636455524931, 1001.6733736875397, 1001.5508158699764, 1001.5274627788853, 1001.5035387995481, 1001.3655042821323, 1001.3258320019316, 1001.4104224073292, 1001.4434702636458, 1001.3593384606256, 1001.1833804421212, 1001.1618306076955, 1001.106320316832, 1001.0950905022816, 1001.2245326069798, 1001.1982542083637, 1001.2335318902171, 1001.1407160570383, 1001.1966940863467, 1001.2355062354037, 1001.2914094196693, 1001.3096349359146, 1001.389913865134, 1001.5641384223803, 1001.549539508987, 1001.6609507514607, 1001.4543426004581, 1001.5739320337589, 1001.6708820796052, 1001.7106088762291, 1001.8554616188536, 1001.8898555438861, 1001.9162484693585, 1001.925977640091, 1001.8831091826844, 1002.0188462263834, 1001.8256257619638, 1001.92844950937, 1002.0531303932217, 1002.0221957471783, 1002.1103482747945, 1002.0280863661135, 1001.9062070309022, 1002.0999856529714, 1002.0733850877916, 1002.1707697009264, 1002.2271871091884, 1002.2699911528798, 1002.2397900901005, 1002.250770804254, 1002.2758757514297, 1002.2978434740843, 1002.3655280483814, 1002.3641164288996, 1002.4377350049053, 1002.3410546764276, 1002.3296883519041, 1002.3498848055664, 1002.3661226428991, 1002.3229540867599, 1002.3345796493445, 1002.4196594299162, 1002.4113331301342, 1002.2414991390017, 1002.2151993805354, 1002.0377417644411, 1002.0469053277709, 1002.0213130030743, 1001.989611132162, 1002.041182472488, 1001.9364495546421, 1001.9616940917883, 1001.8572714365902, 1001.7198377002418, 1001.7404894029497, 1001.8158126505093, 1001.8754078029265, 1001.775853125057, 1001.7580177454925, 1002.0318258968516, 1002.1705560725051, 1002.1290315258881, 1002.1147412120519, 1002.1192739882736, 1002.090764074325, 1002.2146050578995, 1002.1566520461804, 1002.0941238191224, 1002.2831854541137, 1002.1379840066086, 1002.154363220924, 1001.9871278180228, 1001.7526969406686, 1001.675957714136, 1001.6167569582113, 1001.4361968091055, 1001.4583566723583, 1001.3450384746561, 1001.18619809019, 1001.3233088597168, 1001.3394588181044, 1001.4151910819972, 1001.250101548233, 1001.2366952380282, 1001.369953878777, 1001.4055469728872, 1001.3485876712886, 1001.3021165930905, 1001.3021122213516, 1001.300145141429, 1001.3067550477832, 1001.2779197476341, 1001.0549507685876, 1001.0937706969527, 1001.0984912528259, 1000.9933233311741, 1000.8875973901723, 1000.9790598646327, 1000.9906916061852, 1001.0542738326232, 1001.0857083947874, 1001.2558978901121, 1001.1376753135338, 1001.2161057696024, 1001.1472479770927, 1001.162741288125, 1001.3075496009511, 1001.1471235327193, 1001.1555615183865, 1001.0515606466734, 1000.9197061886453, 1000.8764681639839, 1000.8403075564968, 1000.9500076135496, 1000.9397513968624, 1000.9796020407551, 1000.9109913713902, 1000.9088711498539, 1000.9236249394878, 1001.0409687887111, 1001.0736211042008, 1000.9698870906522, 1001.0855611189419, 1001.1546606170762, 1001.0758659334459, 1001.1098641699507, 1001.1445624035224, 1001.1240870576008, 1001.0163815610698, 1000.9573776087676, 1001.0484017003614, 1000.8809290259369, 1000.959931977321, 1000.9550269194984, 1000.8362674888101, 1000.7219391091971, 1000.8986667187398, 1000.9154219864809, 1001.0998455645541, 1001.1875589841463, 1001.1652130058269, 1001.2074655176765, 1001.2213211376999, 1001.196424403009, 1001.3503770181421, 1001.4059292040268, 1001.5114026450578, 1001.52897245087, 1001.4916796651703, 1001.3871188963014, 1001.3785739971263, 1001.297440807675, 1001.2141919028866, 1001.2318728216658, 1001.2275663975415, 1001.290571854295, 1001.2863669279278, 1001.1648443004656, 1001.2289175848872, 1001.3542359661809, 1001.2944209331774, 1001.2129247939745, 1001.2070982585102, 1001.342211482734, 1001.496078247127, 1001.6445513080877, 1001.6563901909861, 1001.6973135055816, 1001.7471180247659, 1001.777646267508, 1001.6209226345306, 1001.6732984270451, 1001.6902039397788, 1001.6603395486417, 1001.6137733123608, 1001.5706449372607, 1001.5616854261356, 1001.6224903335822, 1001.6526363049909, 1001.6563000330133, 1001.7842954097096, 1001.9258482469969, 1001.9702550874076, 1001.853823018947, 1001.8719468212976, 1001.6674453479515, 1001.6291908595056, 1001.5515685353529, 1001.6234104587545, 1001.5274411821605, 1001.5365766630357, 1001.7360819377116, 1001.6611999435356, 1001.6352223590286, 1001.5609457175016, 1001.7266770126097, 1001.6763443817554, 1001.7448951357399, 1001.7492653513876, 1001.8193777381576, 1001.7797573100052, 1001.8087209722688, 1001.8231209778468, 1001.8006518417654, 1001.7341995573097, 1001.788788127416, 1001.6232900545702, 1001.6666427250889, 1001.6383083794012, 1001.5697920112294, 1001.5463151986824, 1001.6883455712716, 1001.6888168694245, 1001.5705786001133, 1001.5394221270797, 1001.4881009628484, 1001.4930298806497, 1001.4893239666528, 1001.4303828987141, 1001.31020441219, 1001.3999377534986, 1001.5663666313264, 1001.5835552287292, 1001.6079539963589, 1001.6961859881978, 1001.5536621492223, 1001.6545185106884, 1001.7318785888863, 1001.6523797397027, 1001.7631997473301, 1001.7507294015574, 1001.7745681511464, 1001.8406506783946, 1001.8197873351735, 1001.7323386142924, 1001.6155063530695, 1001.4705523185687, 1001.5577860930872, 1001.5411970816721, 1001.6878964202538, 1001.7358754623964, 1001.6860219550637, 1001.7277927296235, 1001.7033309632754, 1001.6871768512661, 1001.6370567569335, 1001.4922857541443, 1001.4099946682198, 1001.3144897936494, 1001.2398179236787, 1001.1743043264182, 1001.2781191470215, 1001.2609598016724, 1001.3377136949741, 1001.2237401316213, 1001.323738474065, 1001.3793900414695, 1001.4395683507715, 1001.486989370681, 1001.4790368924765, 1001.5310986267623, 1001.6474760887568, 1001.6642681009778, 1001.4740543159182, 1001.4472764920079, 1001.4038116613483, 1001.5152122657223, 1001.5928190185052, 1001.5625509387318, 1001.5574921207742, 1001.5611637733355, 1001.5604922051822, 1001.5496881484881, 1001.3966959578039, 1001.5352209818898, 1001.5276015124686, 1001.3992649340435, 1001.4410415832211, 1001.4373965062753, 1001.3820777337728, 1001.4703172798023, 1001.5188080560362, 1001.4423082531436, 1001.5500782420311, 1001.5681104487591, 1001.5624206367371, 1001.6650301449107, 1001.641937303219, 1001.5891841687529, 1001.6340002871489, 1001.6360267665385, 1001.6746454997564, 1001.5712513249659, 1001.5881675625535, 1001.5325656833752, 1001.5517859804794, 1001.5040416315304, 1001.4281124347444, 1001.4246147537908, 1001.3504949579277, 1001.4267425138081, 1001.4515120467603, 1001.4503714865904, 1001.4370132790925, 1001.4599837570828, 1001.5190984398533, 1001.5934942301503, 1001.6179612247165, 1001.585682487057, 1001.5397511353666, 1001.5492604448663, 1001.5376037635983, 1001.6132245409946, 1001.5314353063802, 1001.5376191970588, 1001.4386767104223, 1001.4547750657282, 1001.4779347581465, 1001.4332095569894, 1001.3791074131857, 1001.3911895818215, 1001.3154148464849, 1001.442643870408, 1001.5648871124221, 1001.6424561201413, 1001.6946169081156, 1001.7227918498448, 1001.6588029131909, 1001.7574182504586, 1001.5849572936647, 1001.6669486276422, 1001.7275595370108, 1001.6387447175908, 1001.604264407577, 1001.5641117399922, 1001.4924098988945, 1001.4990310549235, 1001.4290836590451, 1001.4368774684431, 1001.4097661727063, 1001.4527803978511, 1001.4618132152543, 1001.5525611023168, 1001.6424537165692, 1001.6006895019578, 1001.6952256743463, 1001.6872642299587, 1001.782906003262, 1001.7792370749142, 1001.8240283662916, 1001.8185242370542, 1001.8292723859544, 1001.7970647787976, 1001.875342518685, 1001.7040625261992, 1001.7289220902509, 1001.8003902835917, 1001.7551772229558, 1001.8868053645566, 1001.7881672366123, 1001.7708462804411, 1001.7394150621386, 1001.8109065123077, 1001.884012987243, 1001.9171890600945, 1001.9662209038014, 1001.9376359761724, 1001.9216323537507, 1001.9179966789218, 1001.8560904405188, 1001.8740215748417, 1001.9872671775248, 1001.9772501912533, 1001.9610554972024, 1002.0427888109701, 1002.0232736234728, 1002.1053570725119, 1002.1713584840206, 1002.1482068959068, 1002.1647784790115, 1002.0631293963538, 1002.0458102587963, 1001.9720525207096, 1001.8395865309864, 1001.8060395317409, 1001.7517447900644, 1001.7747527146028, 1001.8002199249003, 1001.7074001208742, 1001.7441604187769, 1001.812163813618, 1001.8198972393924, 1001.7595338566992, 1001.7075759702395, 1001.6914260210651, 1001.624664630838, 1001.5837279422585, 1001.6210421996835, 1001.5016521638945, 1001.4372768110194, 1001.3347965349195, 1001.2754843777767, 1001.265289419087, 1001.4323358260334, 1001.5226097743127, 1001.5171086616036, 1001.4536350135432, 1001.4005055638671, 1001.4046015148465, 1001.4145928434274, 1001.3065984478092, 1001.2182015405906, 1001.2043647784939, 1001.2507246263433, 1001.2326227298934, 1001.2258549948418, 1001.0759537188544, 1001.15919257731, 1001.0907038218407, 1001.1170543368609, 1001.1598048138145, 1001.2018478384551, 1001.2331745840065, 1001.3014120730347, 1001.232457579384, 1001.2363946031272, 1001.3051319469927, 1001.2858451906153, 1001.3360421825402, 1001.3781676388119, 1001.2974578438067, 1001.2626824230887, 1001.2707702556775, 1001.178231316205, 1001.1008439955356, 1001.0758496153376, 1001.088329304585, 1000.9621313921832, 1001.0031855198898, 1001.0436007115171, 1000.9712104614579, 1000.9546509858673, 1000.9644446938476, 1001.0058924411845, 1001.0042293450962, 1001.0948109625122, 1001.189897181114, 1001.0420394844037, 1001.0199109656692, 1000.8429954192194, 1000.9050677765873, 1000.9361687062199, 1000.9598516612846, 1000.9514789185888, 1000.960125357064, 1000.9453782233859, 1000.8902544544903, 1000.8301230647169, 1000.8721724102447, 1000.9024801637285, 1000.8829287304512, 1000.8553465008615, 1000.8387015553352, 1000.8919530926893, 1000.7725657583195, 1000.7251370140477, 1000.6300986784482, 1000.7349327999335, 1000.7192553774291, 1000.7881709912538, 1000.7515234476742, 1000.7668145043427, 1000.772002574919, 1000.7675810189185, 1000.6572920894273, 1000.6599656430636, 1000.6990955692825, 1000.6806250997568, 1000.6391032142756, 1000.6700321991229, 1000.7062845692193, 1000.7968206978114, 1000.7383385107213, 1000.8309087557674, 1000.9541620883813, 1000.8342824838317, 1000.9115511175752, 1000.7745551551461, 1000.7664080963344, 1000.7312928042271, 1000.6316251118963, 1000.6430596488127, 1000.6517692163927, 1000.6200474663916, 1000.5175234130224, 1000.5427327772219, 1000.4811874744224, 1000.4879220831646, 1000.4314225520955, 1000.3714550464401, 1000.4604055937217, 1000.4655156478221, 1000.5122869926208, 1000.6016989438401, 1000.5970615205226, 1000.6194502401055, 1000.6628780196198, 1000.6223085502417, 1000.677267989647, 1000.8105197577894, 1000.7672326628899, 1000.8018419266572, 1000.8332536697001, 1000.7726153434348, 1000.7683223693215, 1000.7335452552669, 1000.6358770115077, 1000.7135658746555, 1000.8214470746458, 1000.7806549409023, 1000.7618487505569, 1000.812424612563, 1000.7046852177507, 1000.8373192550597, 1000.7868505755192, 1000.7601709096459, 1000.6724032819499, 1000.7459464053945, 1000.7730532130935, 1000.8114745737375, 1000.7830320094262, 1000.8565723925655, 1000.8330187259244, 1000.9325568708688, 1000.9365019055135, 1000.8610682440097, 1000.8907823160492, 1000.9350597876922, 1001.0282440308715, 1001.0852293188015, 1001.0422339843285, 1001.009165841467, 1001.0490407936859, 1001.0328948712104, 1001.1129985923146, 1001.024201253115, 1000.9407684301028, 1000.9274984910176, 1000.9269169026261, 1000.9469347212965, 1000.802606132515, 1000.8101356400497, 1000.7864720092524, 1000.816544843423, 1000.7226614094044, 1000.7095815722478, 1000.756355796789, 1000.7310607556537, 1000.709740023894, 1000.6473176895018, 1000.636848621997, 1000.6354493220214, 1000.8214493196646, 1000.8309979525, 1000.7893625378196, 1000.8523436250105, 1000.7879612289988, 1000.963529886242, 1000.9383127679603, 1001.0022811165095, 1000.889507047245, 1001.0079803121059, 1000.9907114436048, 1000.9792322006633, 1000.9984936157246, 1000.9419005166818, 1000.8617657271002, 1000.9001972897532, 1001.0340464924808, 1001.001492642279, 1000.9784497594788, 1000.9528224648553, 1000.8312976537135, 1000.8063678418854, 1000.8468935551467, 1000.8273467809832, 1000.8727695767894, 1000.8204916599761, 1000.863676536004, 1000.9183094729236, 1000.8071190974722, 1000.9591774688458, 1001.0948189760256, 1001.2111337630024, 1001.2367813635384, 1001.2077345081843, 1001.3130953970305, 1001.3506072104691, 1001.2370133516301, 1001.3221441578122, 1001.3087311771149, 1001.3668072796808, 1001.3814868286046, 1001.4270896360546, 1001.4207338167096, 1001.4155635706503, 1001.4300444164194, 1001.5595526605982, 1001.6720725656899, 1001.685346139338, 1001.6493126619988, 1001.7752837583008, 1001.7452144251018, 1001.7266546967293, 1001.7076278675013, 1001.7553888857067, 1001.7534720283827, 1001.8097097752789, 1001.8501493273723, 1001.8706155767883, 1001.9692278610676, 1001.9758601458851, 1002.0972959323536, 1002.1288451809255, 1002.1291239362271, 1002.2069654800433, 1002.2509980046664, 1002.1635043243178, 1002.0616825344166, 1002.0430362779898, 1001.9539289596736, 1001.9832361872357, 1002.0186106594317, 1002.0886181572424, 1002.101475881372, 1002.1195444124633, 1002.1469790098533, 1002.1475048758466, 1002.0994747302685, 1002.1568761748346, 1002.1923580543134, 1002.2574548616473, 1002.2746325890067, 1002.2751957021936, 1002.256501552716, 1002.1759917470678, 1002.1915823229094, 1002.1478416012382, 1002.1250306797814, 1002.1474103719544, 1002.1941126524742, 1002.172106893954, 1002.0878423059886, 1002.0943616633393, 1002.0612843349046, 1002.0903705667222, 1001.990441950243, 1001.8998910038446, 1001.9263325877963, 1001.8951289584382, 1001.9103479713215, 1001.9762525239355, 1001.9583446915827, 1001.9263778900961, 1002.0363214573383, 1001.9783298432384, 1001.8791334721798, 1001.815697893588, 1001.9930828814495, 1002.0210651128408, 1002.0117971274615, 1002.1327143707015, 1002.1061377146776, 1002.0624088058222, 1002.0205891375787, 1001.9924169861865, 1001.8826885945873, 1002.0044083720165, 1001.9972640774978, 1001.9641445367203, 1001.9464190807557, 1002.0488144935127, 1002.0209555660797, 1002.006577943828, 1002.0058424136494, 1002.0848451991226, 1002.1144832709093, 1002.1905383824397, 1002.1886354242713, 1002.3235109270928, 1002.4056777475756, 1002.412664885757, 1002.602595030729, 1002.6384503036537, 1002.6421272851477, 1002.6320099260913, 1002.6258184424348, 1002.618927177803, 1002.6012899644895, 1002.6503323261326, 1002.6921836983447, 1002.6849029702562, 1002.6349268362289, 1002.6536155591822, 1002.6908114178145, 1002.7636903111527, 1002.7451241203694, 1002.7704234141816, 1002.8920268703016, 1002.8775127153781, 1002.8419267027316, 1002.7774275909501, 1002.810561322654, 1002.7570223540541, 1002.6726108866454, 1002.6566480570575, 1002.6622060470638, 1002.5938395015504, 1002.6890547931291, 1002.7132410699382, 1002.7007596473494, 1002.5943078226027, 1002.4717780349272, 1002.378439068854, 1002.4008260079106, 1002.4322444205415, 1002.3028080679051, 1002.286743599644, 1002.2695833044477, 1002.2209279632665, 1002.040591196388, 1002.0236009654031, 1002.0037223035662, 1002.0496555412487, 1002.0780748408876, 1002.0978084770846, 1002.077820650482, 1001.9576067454933, 1001.8723341007667, 1001.8623104129414, 1001.7751439698764, 1001.7687427354086, 1001.7902342570256, 1001.9080375890509, 1001.821486354824, 1001.8589991726797, 1001.8798904488276, 1001.8202065621092, 1001.8001774318712, 1001.7438338427768, 1001.8064077356263, 1001.7906598858285, 1001.8468054956736, 1001.8793566036874, 1001.9706702572053, 1001.9337291492008, 1002.0075001962747, 1002.0469237576057, 1002.0348460893581, 1001.9950471502007, 1001.9545794695593, 1002.0207168154942, 1001.9567837228949, 1001.9285135592015, 1001.9032663592446, 1001.9229229217051, 1002.0271531308003, 1001.9453543692788, 1001.9573961650434, 1001.9451284597455, 1001.9400043748744, 1001.9184926430031, 1001.9667746771713, 1001.9837032870611, 1001.8642335569956, 1001.8978546964107, 1002.0133517333645, 1002.1096289069092, 1002.1160443031538, 1002.1091963443024, 1002.0318252891666, 1001.8860415119791, 1001.8777184402369, 1001.8929270871257, 1001.8527978439683, 1001.7789841399035, 1001.8661311873512, 1001.853726956428, 1001.8771900576997, 1001.8468823268495, 1001.7983274323465, 1001.7340601673243, 1001.6769618173246, 1001.60053163529, 1001.6097401174383, 1001.612720377651, 1001.6370453338253, 1001.5079594131022, 1001.5133049553413, 1001.5406111952082, 1001.4756543197612, 1001.4574225648187, 1001.4221228501223, 1001.460986806371, 1001.340753913883, 1001.401353537094, 1001.4282771461395, 1001.4053020706825, 1001.3508449164257, 1001.2610817808672, 1001.2277216041268, 1001.1808037444289, 1001.1524535330408, 1001.1250686692034, 1001.0269722641464, 1001.0976794978524, 1001.0823515330916, 1001.0455835696099, 1000.9505177109075, 1000.9514828600279, 1000.8491807024345, 1000.8241611628748, 1000.8481517611958, 1000.842860925797, 1000.8190952985871, 1000.7862008864987, 1000.7470010466777, 1000.7321468105117, 1000.7350975096531, 1000.7167722290214, 1000.7227684440718, 1000.789425505554, 1000.7502349669337, 1000.6934755867181, 1000.721374030733, 1000.7740509314623, 1000.8381178285932, 1000.7742654626184, 1000.7275734997488, 1000.7294249545641, 1000.7147012068536, 1000.6759454361692, 1000.7070500861857, 1000.735992297358, 1000.635296844405, 1000.7588407573613, 1000.8164028009271, 1000.82334910375, 1000.8252574392164, 1000.8802660933802, 1000.8292933923345, 1000.8854364014641, 1000.9741288898822, 1001.0901479930326, 1001.0407931786947, 1000.9280411168648, 1000.9352861015884, 1000.869965508316, 1000.8988020163949, 1000.8697524761777, 1000.9332223159561, 1000.9136149727468, 1000.8118623732247, 1000.8365829617983, 1000.794519130847, 1000.8022746701704, 1000.767771984075, 1000.7375629331856, 1000.8022977259507, 1000.8177948444437, 1000.799045925258, 1000.836481496158, 1000.9258329666663, 1000.9176855708706, 1000.9942475679136, 1000.9241758533742, 1001.0129812146898, 1001.0114473839416, 1000.9646339255124, 1000.9250864581365, 1000.9209282259529, 1000.9017125522913, 1000.8304601654212, 1000.8815489543324, 1000.847866525092, 1000.7301293806919, 1000.7274850746444, 1000.702504346344, 1000.6277015050044, 1000.5807901109148, 1000.6189572917613, 1000.6124689285216, 1000.6570633698442, 1000.7537093862383, 1000.7029878724248, 1000.7470000623584, 1000.8086297491935, 1000.7806626690118, 1000.8748501496901, 1000.9325251777211, 1000.8753836789845, 1000.8101636449488, 1000.8030638646761, 1000.8786560635428, 1000.908244054307, 1000.8879287019527, 1000.8437781759743, 1000.8574183892116, 1000.8075375718987, 1000.8617302927556, 1000.7657509569195, 1000.780387966963, 1000.8536965625814, 1000.8137119701713, 1000.8903778858629, 1000.8535571424283, 1000.8683758945351, 1000.8078687608303, 1000.8537344935886, 1000.8381826392143, 1000.8484047672752, 1000.7945058878519, 1000.7758477110499, 1000.7361166091642, 1000.7292887185818, 1000.7006489858578, 1000.698477150872, 1000.7011641368217, 1000.7447239956881, 1000.7388310725844, 1000.7871938961187, 1000.8327158364209, 1000.7919234457316, 1000.7993930428861, 1000.7824548473444, 1000.7742231114431, 1000.7257236421835, 1000.7517816622957, 1000.8421313088771, 1000.8306617158966, 1000.7738508352961, 1000.7831275650094, 1000.8275887005534, 1000.8905792475189, 1000.7806753472369, 1000.8014832413764, 1000.7982788898976, 1000.7500795306273, 1000.7856064020133, 1000.8447625680673, 1000.9009248051235, 1000.9272777976529, 1000.8680023919618, 1000.8739401027931, 1000.851779966996, 1000.8223285220264, 1000.8677188295263, 1000.8571359992633, 1000.7765448141124, 1000.7150429322431, 1000.7167307311166, 1000.7038813158966, 1000.721025926095, 1000.691296913921, 1000.7180918580851, 1000.6322087387604, 1000.6767526195844, 1000.695598067958, 1000.7737744219027, 1000.7303730265114, 1000.7311150833751, 1000.7274141835676, 1000.6486426442706, 1000.6637387397082, 1000.6614380382672, 1000.5690944690207, 1000.6350572551567, 1000.5939590315302, 1000.5590454955101, 1000.6475442177128, 1000.6974101957326, 1000.6129761747782, 1000.5710056245352, 1000.560016245277, 1000.5937335238822, 1000.5425032947581, 1000.6304624891086], \"yaxis\": \"y\"}, {\"hoverlabel\": {\"namelength\": 0}, \"hovertemplate\": \"variable=CUR_STATE_STANDARD<br>value=%{y}\", \"legendgroup\": \"variable=CUR_STATE_STANDARD\", \"line\": {\"color\": \"#EF553B\", \"dash\": \"solid\"}, \"mode\": \"lines\", \"name\": \"variable=CUR_STATE_STANDARD\", \"showlegend\": true, \"type\": \"scattergl\", \"xaxis\": \"x\", \"y\": [727.9393814845301, 814.2836446796888, 876.4521040203718, 948.5831688894509, 937.4560516299457, 932.591134258044, 937.4543184874186, 937.9301526043309, 948.6785459501863, 947.1995048411515, 945.411515189699, 932.2422899394638, 929.9465019694755, 929.2167812658646, 938.5770656662174, 942.4489825667303, 940.0276890677362, 947.9481238146737, 958.0461144989839, 966.4863085357281, 960.9361823450272, 971.4721378125504, 972.7224920712695, 970.7664636801131, 970.4329360634764, 973.2792538254862, 973.9715020301767, 970.6633216504634, 980.0916497748351, 982.1789392318349, 987.6402635574758, 991.5647972533927, 990.7646267807737, 990.7243412302222, 991.90381398387, 992.4494425106266, 992.9295348618908, 988.5315383789243, 986.4681760765202, 983.4575237965087, 985.1584894418335, 987.0525322150089, 987.468849725008, 987.399897426476, 990.7319196954061, 992.6763602139655, 993.476396006602, 991.4093856104579, 992.2376130282732, 993.7040895624012, 992.3398684183512, 993.2811162787432, 993.3531181834235, 996.3955143031438, 994.7878693306216, 995.8479291902443, 997.5266205849873, 1000.1257237990368, 999.8643113856482, 998.9330926558711, 999.2197333928078, 999.5471925400228, 1001.6578890868096, 1003.2560137180767, 1002.6163858087848, 1004.1774831468175, 1004.2393223649718, 1003.6386096377039, 1003.9254434017913, 1005.2879220002411, 1002.7334761846877, 1004.1208315007739, 1003.1829774590201, 1001.8609270631232, 1002.384625997984, 1003.7203034115281, 1005.3934347327161, 1003.3077416584533, 999.8461083306058, 999.8062502792521, 1000.0115053866714, 1000.0380707550877, 1000.4382484955469, 998.7428922915695, 998.0928643517478, 998.0023666830518, 998.1634687439067, 997.1853199997744, 996.3864473834076, 995.6943276019829, 995.567719608136, 997.3091850504729, 997.8940730697602, 998.1329867983012, 999.8930564029697, 999.9774396679021, 999.9102665096109, 999.4022921700653, 997.8160413491554, 998.5096092006526, 998.0005959719783, 999.457827454086, 998.2461170816197, 998.4572131870809, 999.0322836785147, 998.5399406390171, 999.3210667685153, 999.1383047688246, 998.4436919707097, 997.898256681422, 998.5539606559132, 998.1393638356401, 997.6288474547921, 998.198005642656, 997.5813689208242, 996.0082217471152, 998.0032095001085, 997.8347036829985, 998.2375078630115, 999.4860814288622, 998.8175054070972, 1000.10321658897, 1000.3364596429507, 1001.0003173567119, 1001.1883591246578, 999.7310078270175, 1000.6470463670452, 1000.99578873185, 1001.1286597672593, 1001.5606486298666, 1002.5426592486002, 1002.7785026565723, 1001.8990620018943, 1002.2939159149007, 1002.3053911187168, 1002.7103535378118, 1003.1266023975071, 1002.5451775758543, 1002.9094970506718, 1003.0708193956999, 1002.7405492454586, 1002.9634962689507, 1002.7644532107996, 1002.2076492480704, 1002.390212159909, 1003.7120704245323, 1004.1854528065462, 1003.6686064018318, 1004.1214872607694, 1004.0008318460563, 1004.128147105228, 1003.1250514994264, 1002.6617243631141, 1003.578638061336, 1004.4537827513902, 1004.5535137694818, 1003.6793357068453, 1002.5779846543664, 1001.98247296933, 1002.6348352656526, 1003.1951591106216, 1003.0794911871126, 1003.6590696332784, 1003.5562639818385, 1003.5707253760734, 1004.0870393993056, 1003.4189608125195, 1003.0482147228126, 1002.2173831905277, 1001.5169162953983, 1000.9334143397434, 1001.5748782819976, 1001.1880703033534, 1001.686156100633, 1000.8513192938763, 1000.7609571402494, 1000.5494627768808, 1000.8697313785128, 1000.9897489932808, 1000.853675453561, 1001.3787422253603, 1001.2298851454033, 1000.5680631770529, 1000.0279398757508, 1000.2750207762163, 999.293142903987, 998.5366626626803, 998.1620044601577, 998.1460343902959, 997.5066001651426, 997.7435109154352, 997.9442134815707, 998.703203231311, 998.5997846211869, 998.3198342882561, 998.796807583949, 999.2999407387529, 1000.0587354894575, 1000.8860537952141, 1000.7890350560333, 999.8041810923074, 1000.1766969285768, 999.674420118224, 999.4207074112697, 999.1327989723864, 999.200692178442, 999.0518217015867, 998.5450481843739, 999.0245656657801, 999.3338623494564, 998.7269705712388, 999.4698866792712, 999.5144537997063, 999.3415524998392, 1000.0842458571373, 1000.2569446516563, 1000.530718341926, 999.7000853209702, 999.2141318042371, 1000.169734652875, 1000.5187252355312, 1000.1463935184626, 1000.6029925278713, 1000.4558779092407, 1000.3231546191042, 1000.5505853007567, 999.6240756844988, 998.5522697129725, 999.253505179316, 999.0079719475466, 999.5832133934709, 999.4732309009612, 999.2898446945876, 999.2457279825811, 999.803489119595, 999.8616816230128, 999.7485581647267, 999.4851932912408, 999.3369430924711, 999.7344486840383, 1000.3520317398145, 1000.989538201062, 1000.9499451970886, 1001.1144294491423, 1000.9583826861335, 1001.5269500297201, 1000.7816414576754, 1000.7159914963705, 1000.130223450523, 999.9772219743355, 999.793187445481, 999.903414217299, 999.5224231160572, 999.49166970328, 999.8625097321716, 999.5320669572567, 999.4408108361015, 1000.1858274625648, 1000.7771772150628, 1001.0785179685867, 1001.2173353137275, 1001.0215598649337, 1001.7907458660369, 1001.7533937816031, 1001.4074821731465, 1000.9668468677286, 1000.5750621749181, 1000.0226084319506, 999.6052154483705, 999.4760538178191, 1000.0034398977541, 1000.2032470127184, 999.7347336678788, 999.7330195876227, 999.8780773621675, 999.2893340206464, 999.9473914608124, 1000.2665748048443, 1000.0979718138315, 1000.2824150601891, 1000.2989788295642, 1000.7702576661178, 1001.6572266049021, 1001.3471661780131, 1001.4052978615733, 1001.373475855159, 1001.4455060106302, 1001.3963246623558, 1001.7982338791184, 1001.9191507984211, 1001.758212410868, 1001.4348641428572, 1001.0850358257271, 1001.3206973336368, 1001.1762513474188, 1001.2809899106738, 1001.1267017632589, 1001.1717255939324, 1001.2688715714189, 1001.7281655220702, 1001.539064900652, 1001.5319616617195, 1001.4172888692368, 1001.8531849647783, 1001.3340220728594, 1001.8317137087289, 1002.0468288481552, 1002.2069145960313, 1002.2262948642559, 1001.9129981033327, 1001.5518707040359, 1001.4995234118536, 1002.1180148376927, 1002.2852797796813, 1002.2788989962106, 1002.450451616048, 1002.1369331086183, 1001.5292988381403, 1001.5337210063448, 1001.3372046678795, 1001.6694067696669, 1001.8757882360899, 1002.381632051872, 1002.5783238575257, 1002.2651538004343, 1001.9986188590156, 1001.9850378392491, 1001.7860008494116, 1001.182525937755, 1001.0986126117889, 1001.4617560119981, 1001.7710405651188, 1001.6811861211471, 1001.7959895173808, 1001.5633070206903, 1001.2332068067736, 1001.1820827470601, 1001.2321846195033, 1001.4249008482385, 1001.868436798211, 1002.0434467390951, 1002.6583667836557, 1003.45997770265, 1003.8715524703516, 1004.0947238100237, 1004.2605524841769, 1004.55166612243, 1004.6459894526375, 1004.9716468999973, 1004.7788223373757, 1004.9690333494386, 1004.7890766948958, 1004.9593621614014, 1005.0313017159147, 1005.0631713519847, 1004.7981762338552, 1004.2406955753229, 1004.0412507314375, 1003.9092199959921, 1003.5880907430674, 1003.6115249204352, 1003.8873954701811, 1003.959131904746, 1003.8772429764168, 1004.1419619528332, 1004.1369841675433, 1004.3864421088111, 1004.2424824992528, 1004.2243027197313, 1004.0523189622356, 1003.658879076533, 1003.0450638727908, 1002.8569838171943, 1002.7659597923158, 1002.6579262393774, 1002.8639848148345, 1002.7819883359189, 1002.8959934308152, 1002.6867281607612, 1002.6655380541318, 1002.4962812149599, 1002.8006727169325, 1002.5334311968747, 1002.6517909435007, 1002.9006726065927, 1002.6361741656876, 1002.9114364349707, 1002.8051791687985, 1003.0852594496716, 1002.873687442791, 1003.6601647577755, 1003.963550076685, 1003.8980141312378, 1003.2778666516077, 1002.9673029533919, 1002.7542102964112, 1002.8823744678524, 1003.0363699643083, 1002.9142985118168, 1002.7198714300642, 1002.661322258828, 1002.7863476665916, 1003.3160589979519, 1003.2634914057027, 1003.2343703212052, 1003.4755573493254, 1003.4580872436045, 1003.0169731671834, 1002.8524393515033, 1002.56012415326, 1002.6257231283452, 1002.5751824360412, 1002.8259276888834, 1002.9956316223203, 1003.2652100908603, 1003.4944735012622, 1003.40281355242, 1003.4451560465328, 1003.4988440600126, 1003.5603943019764, 1003.4464403097386, 1003.1593529704746, 1003.3259298581225, 1003.1260317446478, 1003.1059268973773, 1003.2282167266357, 1003.5076721623449, 1003.5134373905494, 1003.1431309111683, 1003.2083678584397, 1003.5163431302841, 1003.3963848033691, 1003.3812008521563, 1003.2257137625332, 1003.4462355261735, 1003.441479489572, 1003.8784975432494, 1003.7177608727442, 1004.1425835691758, 1004.027783571722, 1003.9269643017166, 1003.8231781156047, 1003.8685617912183, 1004.023320840764, 1003.7228633933919, 1003.566553977006, 1003.4955320839061, 1003.2375287749453, 1003.5497269867495, 1003.3641574026565, 1003.2344492462154, 1003.3816421320698, 1003.5543913391202, 1003.5378591447363, 1003.1151479688943, 1003.159720996231, 1003.3070173159485, 1003.3893745070761, 1003.4078519378244, 1003.4059008315367, 1003.2971586385705, 1003.2275546768178, 1002.9428490897108, 1002.755483547486, 1003.0290962319492, 1002.9312888210216, 1003.0636732132499, 1003.2460302640594, 1003.0460268731055, 1002.8183284646569, 1002.7169656321419, 1002.3682107429796, 1002.2965080195241, 1002.2098820726708, 1001.920934819555, 1001.8635064607955, 1002.3070893399664, 1002.6468426215258, 1002.784218815731, 1002.5012753022763, 1002.4226712339391, 1002.4932774498809, 1002.4882249517485, 1002.3548864433074, 1002.2327094303158, 1002.1691994709074, 1002.1701129926074, 1002.0627181779001, 1001.9162074741934, 1002.3009850484985, 1002.5503604806845, 1002.4493856915026, 1002.3315122319478, 1002.3269073830958, 1002.506970245874, 1002.301648904559, 1002.125354484799, 1001.9633781577287, 1001.9031402594044, 1001.9497691625364, 1001.9497954899256, 1001.8899295762118, 1001.9215382399113, 1001.8617490038732, 1001.9180418937322, 1001.800545524323, 1002.0708187316019, 1002.043302930654, 1001.8296630829954, 1001.668639620728, 1001.8685983337667, 1001.9524421639235, 1002.0298176422866, 1001.8320426321928, 1001.5621823706254, 1001.9490467053511, 1002.3943866172549, 1002.2905103430566, 1002.0649428714717, 1002.0721094468474, 1001.6381956410778, 1001.8340497071941, 1001.8111797988032, 1001.6987141359987, 1001.6307277146967, 1001.3337943846179, 1000.9871952892174, 1000.9245507485273, 1000.9771926763967, 1000.6762225125669, 1000.6549625475294, 1000.818125104046, 1000.978857895723, 1000.8110701681388, 1000.8375093543103, 1000.7806747900643, 1000.8871927969907, 1000.9404613139527, 1000.8736863981826, 1000.9659499135965, 1001.1216554478652, 1000.8213409025792, 1001.0614917624671, 1001.2666829858977, 1001.1454236426788, 1001.5164031984001, 1001.6102357435099, 1001.5707479821255, 1001.6874504015705, 1001.8302199692027, 1001.8824186762532, 1001.8503728958332, 1002.0628753252125, 1002.0638867633384, 1002.1501672786075, 1001.9854928240671, 1001.9900571375158, 1002.226924000061, 1002.2172631592404, 1002.1460378987313, 1002.1051358444773, 1002.3731179532379, 1002.2296295568148, 1002.2754593133104, 1002.6041010920167, 1002.3803917616715, 1002.385579473512, 1002.2728399324983, 1002.3270967436072, 1002.4317219800895, 1002.5860818498944, 1002.4272336263471, 1002.3443461110493, 1002.3433183300001, 1002.2781118347261, 1002.3718799358023, 1002.5486237209486, 1002.3049244621009, 1002.3329402011364, 1002.6005387462385, 1002.5058289399735, 1002.5906581417626, 1002.6161155716042, 1002.5288515163858, 1002.1436113342362, 1002.0999905974287, 1002.0347773746317, 1002.1926755770445, 1002.2046532492883, 1002.1866991632037, 1001.9931207314692, 1002.0482602406175, 1002.0832305398128, 1002.0446803201506, 1002.0585133597434, 1001.804174041305, 1001.8597722867146, 1001.9633674300106, 1002.3368281272305, 1001.9744820598946, 1002.0288435582344, 1001.9896421206795, 1001.830371982814, 1001.807607357488, 1001.8782098857483, 1001.7148445621576, 1001.8446467904065, 1001.5586910553474, 1001.4046071652449, 1001.4478611752842, 1001.481794331693, 1001.5571864282513, 1001.8114163365002, 1001.9146735010445, 1001.9073115501933, 1001.9113071565996, 1001.7950270335587, 1001.8308856338989, 1001.7470424599196, 1001.6338168411685, 1001.6236546833512, 1001.5673226055143, 1001.6148231188921, 1001.7421951402175, 1001.6483219625759, 1001.5431281369583, 1001.4433781333885, 1001.5537594895347, 1001.4579344692638, 1001.3399538700488, 1001.1994357485437, 1001.5171852505669, 1001.3927997729188, 1001.5949740380715, 1001.3129204914401, 1001.2959384900793, 1001.292824848794, 1001.3662600364243, 1001.5914946708739, 1001.4368242929125, 1001.3679036095149, 1001.3640543394678, 1001.2412371514547, 1001.1944700725691, 1001.2532980119915, 1001.1615333734221, 1001.2010720829247, 1001.2644706366428, 1001.1645832529902, 1001.2756480078552, 1001.2349968667098, 1001.1937411444068, 1000.8459485406742, 1000.8745299265839, 1000.7586625228575, 1000.7065511449373, 1000.7771639309781, 1000.7109136081233, 1000.8661048829968, 1000.9733166889703, 1001.0821824628315, 1000.9828694298411, 1000.9854314923322, 1001.0760148131885, 1000.9334626522299, 1000.9202161548236, 1000.9968750984231, 1000.8959866550462, 1000.8549639309064, 1000.613228150739, 1000.4901631174497, 1000.6996393342546, 1000.7276701991872, 1000.59873067754, 1000.64231623374, 1000.8979286529233, 1000.7326953656182, 1000.7356740415767, 1000.7910259272013, 1000.9228239565119, 1001.1643068901825, 1001.2302810836715, 1001.1283116728257, 1001.243825997946, 1001.4011943410919, 1001.2903884515076, 1001.1327264866408, 1000.9181041265822, 1001.1303788616596, 1000.988542046629, 1000.9150578612811, 1001.0647627305032, 1001.4465549570475, 1001.6820203984022, 1001.8313612891822, 1002.1054208890721, 1002.0803826107898, 1001.999883494207, 1001.8411605776532, 1001.7866272948049, 1001.7452842375299, 1001.9596218757822, 1002.2684920980452, 1002.3595193297721, 1001.9105701018931, 1001.6724388997071, 1001.4865031450079, 1001.3352570453083, 1001.2832024906145, 1001.5370825997268, 1001.9510894928112, 1001.8721212734952, 1001.939912496246, 1001.9151411811741, 1001.8978849567952, 1001.6834859686869, 1001.6984016480328, 1001.7226467944181, 1001.4946372528126, 1001.6515514970013, 1001.5726839839242, 1001.8426187797636, 1001.8010966478657, 1001.8360224679449, 1001.7156024311369, 1001.7693016845872, 1001.5298200418512, 1001.7503228061357, 1001.7644576318631, 1001.6778956432255, 1001.8944250017853, 1001.9447007627941, 1002.0083226070134, 1001.9013514345382, 1001.9571725659262, 1001.6901122835513, 1001.9596933804919, 1001.9424984514383, 1001.8157191596944, 1001.8028997711115, 1001.8756787384807, 1001.7262405703615, 1001.8896189963338, 1002.0728172486399, 1002.0908576053725, 1002.1287180544241, 1002.0022936276406, 1001.8315842307966, 1001.8621426717982, 1001.8305382560035, 1001.846133206867, 1001.8131281926253, 1001.7772255909608, 1001.717175790398, 1001.7348953889463, 1001.7239286470449, 1001.9384046661377, 1001.8812518534104, 1001.6676191457385, 1001.820499990098, 1002.0170460760961, 1001.9131256614852, 1002.0746862614449, 1001.8652975229476, 1001.9501534312791, 1002.0438294230526, 1002.1837708861001, 1002.1352779480384, 1002.1391468547218, 1002.2316361497594, 1002.2712314663365, 1002.3776077859812, 1002.2654763454273, 1002.2633238520726, 1002.3263617750703, 1002.4979588994469, 1002.6091281982686, 1002.7023608561332, 1002.799001726918, 1002.986046982924, 1003.0876081640998, 1003.2606089177817, 1003.4519190039753, 1003.4811603805626, 1003.614814401932, 1003.7790910245512, 1003.7315297822108, 1003.6597402127171, 1003.6968673952385, 1003.6513640977075, 1003.8923348608051, 1003.9234795019655, 1003.9959923849761, 1003.8335232003811, 1003.9551054828758, 1003.7188143478091, 1003.656792422103, 1003.606544949831, 1003.7865167377483, 1003.885481668015, 1003.7185773300077, 1003.6416289639777, 1003.464041815671, 1003.6098691938183, 1003.5756157728191, 1003.5616619402904, 1003.5908310004231, 1003.5977725694108, 1003.5384735640534, 1003.6742474393623, 1003.6051326792083, 1003.5608935980455, 1003.608040613568, 1003.5835293284847, 1003.4377788395863, 1003.4193863688974, 1003.2954633219325, 1003.501635266438, 1003.3846299987771, 1003.087930755162, 1002.9679678697718, 1002.9359711334882, 1003.0337918365205, 1003.092996212588, 1002.8591629611408, 1002.9342054642586, 1002.8431362403715, 1002.8388538177817, 1002.905107543433, 1003.2016881444451, 1003.1871234651109, 1003.0936468854426, 1003.1903117109315, 1002.9185561463381, 1002.9555265598513, 1002.847229191658, 1002.7948230910785, 1002.8196037921961, 1003.0619147046299, 1003.1590711929668, 1003.0614426461611, 1002.9377223631512, 1002.9731361074644, 1002.88873429994, 1002.7085037583792, 1002.6676974497559, 1002.7775006653443, 1002.8020670008518, 1002.8916974595475, 1003.0466493135604, 1002.7801558184317, 1002.8227513028583, 1002.8236663685084, 1002.6411616334257, 1002.7272821663681, 1002.7196572093342, 1002.9815476811845, 1002.8168249658844, 1002.6917896263701, 1002.8172559878961, 1002.9417338410939, 1002.8798640721026, 1002.8691989489439, 1002.8607698974891, 1002.805217893468, 1002.7346969389503, 1002.6035437863349, 1002.5220716907779, 1002.6296080234304, 1002.7846931198393, 1002.8765399156854, 1003.0774564520246, 1003.1373006774493, 1003.1986138305597, 1003.3494661543223, 1003.3570020922319, 1003.1949992052512, 1003.2705072053358, 1003.3973818131096, 1003.2997974889823, 1003.1263824190752, 1003.0349328763376, 1003.1019530906418, 1002.9000882559958, 1003.1655044799184, 1003.1138583884937, 1003.112989184915, 1003.0898263332247, 1003.0855162741929, 1003.0626632788462, 1003.0972005505919, 1002.9223054546256, 1002.8584217204111, 1002.9464164782979, 1002.8227684723523, 1002.8508664719141, 1002.7730236305432, 1002.6791920709343, 1002.652952284516, 1002.5770465898354, 1002.5698099202965, 1002.7450922823843, 1002.673327940328, 1002.5573628026352, 1002.4021520411637, 1002.4295893094818, 1002.3961192552468, 1002.2451721749289, 1002.1574410783721, 1002.21619059373, 1002.0081010370502, 1002.0096281723748, 1001.9460476860522, 1002.057921221421, 1001.8987439419906, 1002.0270493081376, 1001.8340441718722, 1001.7890767959159, 1001.8232675454437, 1001.879951130033, 1001.9372228292373, 1001.944197709277, 1001.9436088077622, 1001.9551956482189, 1002.1603477209619, 1002.2701771887217, 1002.347666166844, 1002.3863100757084, 1002.4160867242855, 1002.5000557118001, 1002.6026649615559, 1002.5353068105369, 1002.4892089339928, 1002.4069788498105, 1002.2463330370471, 1002.4029366875651, 1002.4542957090555, 1002.483078303806, 1002.3315740123169, 1002.4456073728514, 1002.3003114324998, 1002.284605463018, 1002.2310738260006, 1002.2311890176055, 1002.3997351147389, 1002.5744525685178, 1002.5839705962021, 1002.6223645512531, 1002.6012937380057, 1002.6577052972734, 1002.5505189205516, 1002.5858214654836, 1002.5614355566136, 1002.6575328478709, 1002.7445773661763, 1002.7860427519884, 1002.8804233796569, 1002.819907151411, 1002.746177130478, 1002.681784928221, 1002.5751348328538, 1002.525741802096, 1002.5823930837373, 1002.5860501399989, 1002.586961450265, 1002.3188337203369, 1002.3974384219539, 1002.4564903460091, 1002.4689167100759, 1002.4404933187432, 1002.3583061724232, 1002.4976742961961, 1002.4826603096766, 1002.4223132237402, 1002.4376512534502, 1002.3430424868627, 1002.5193612721962, 1002.4017536779021, 1002.4845597455603, 1002.378610089983, 1002.3604673350779, 1002.3587135373712, 1002.4452123234324, 1002.4485446987068, 1002.298294533734, 1002.1658319808972, 1002.1649854392037, 1002.0354116826729, 1002.0057437989412, 1001.9924164470541, 1001.8554285930525, 1001.7769075990476, 1001.8415063085332, 1001.6636455524931, 1001.6733736875397, 1001.5508158699764, 1001.5274627788853, 1001.5035387995481, 1001.3655042821323, 1001.3258320019316, 1001.4104224073292, 1001.4434702636458, 1001.3593384606256, 1001.1833804421212, 1001.1618306076955, 1001.106320316832, 1001.0950905022816, 1001.2245326069798, 1001.1982542083637, 1001.2335318902171, 1001.1407160570383, 1001.1966940863467, 1001.2355062354037, 1001.2914094196693, 1001.3096349359146, 1001.389913865134, 1001.5641384223803, 1001.549539508987, 1001.6609507514607, 1001.4543426004581, 1001.5739320337589, 1001.6708820796052, 1001.7106088762291, 1001.8554616188536, 1001.8898555438861, 1001.9162484693585, 1001.925977640091, 1001.8831091826844, 1002.0188462263834, 1001.8256257619638, 1001.92844950937, 1002.0531303932217, 1002.0221957471783, 1002.1103482747945, 1002.0280863661135, 1001.9062070309022, 1002.0999856529714, 1002.0733850877916, 1002.1707697009264, 1002.2271871091884, 1002.2699911528798, 1002.2397900901005, 1002.250770804254, 1002.2758757514297, 1002.2978434740843, 1002.3655280483814, 1002.3641164288996, 1002.4377350049053, 1002.3410546764276, 1002.3296883519041, 1002.3498848055664, 1002.3661226428991, 1002.3229540867599, 1002.3345796493445, 1002.4196594299162, 1002.4113331301342, 1002.2414991390017, 1002.2151993805354, 1002.0377417644411, 1002.0469053277709, 1002.0213130030743, 1001.989611132162, 1002.041182472488, 1001.9364495546421, 1001.9616940917883, 1001.8572714365902, 1001.7198377002418, 1001.7404894029497, 1001.8158126505093, 1001.8754078029265, 1001.775853125057, 1001.7580177454925, 1002.0318258968516, 1002.1705560725051, 1002.1290315258881, 1002.1147412120519, 1002.1192739882736, 1002.090764074325, 1002.2146050578995, 1002.1566520461804, 1002.0941238191224, 1002.2831854541137, 1002.1379840066086, 1002.154363220924, 1001.9871278180228, 1001.7526969406686, 1001.675957714136, 1001.6167569582113, 1001.4361968091055, 1001.4583566723583, 1001.3450384746561, 1001.18619809019, 1001.3233088597168, 1001.3394588181044, 1001.4151910819972, 1001.250101548233, 1001.2366952380282, 1001.369953878777, 1001.4055469728872, 1001.3485876712886, 1001.3021165930905, 1001.3021122213516, 1001.300145141429, 1001.3067550477832, 1001.2779197476341, 1001.0549507685876, 1001.0937706969527, 1001.0984912528259, 1000.9933233311741, 1000.8875973901723, 1000.9790598646327, 1000.9906916061852, 1001.0542738326232, 1001.0857083947874, 1001.2558978901121, 1001.1376753135338, 1001.2161057696024, 1001.1472479770927, 1001.162741288125, 1001.3075496009511, 1001.1471235327193, 1001.1555615183865, 1001.0515606466734, 1000.9197061886453, 1000.8764681639839, 1000.8403075564968, 1000.9500076135496, 1000.9397513968624, 1000.9796020407551, 1000.9109913713902, 1000.9088711498539, 1000.9236249394878, 1001.0409687887111, 1001.0736211042008, 1000.9698870906522, 1001.0855611189419, 1001.1546606170762, 1001.0758659334459, 1001.1098641699507, 1001.1445624035224, 1001.1240870576008, 1001.0163815610698, 1000.9573776087676, 1001.0484017003614, 1000.8809290259369, 1000.959931977321, 1000.9550269194984, 1000.8362674888101, 1000.7219391091971, 1000.8986667187398, 1000.9154219864809, 1001.0998455645541, 1001.1875589841463, 1001.1652130058269, 1001.2074655176765, 1001.2213211376999, 1001.196424403009, 1001.3503770181421, 1001.4059292040268, 1001.5114026450578, 1001.52897245087, 1001.4916796651703, 1001.3871188963014, 1001.3785739971263, 1001.297440807675, 1001.2141919028866, 1001.2318728216658, 1001.2275663975415, 1001.290571854295, 1001.2863669279278, 1001.1648443004656, 1001.2289175848872, 1001.3542359661809, 1001.2944209331774, 1001.2129247939745, 1001.2070982585102, 1001.342211482734, 1001.496078247127, 1001.6445513080877, 1001.6563901909861, 1001.6973135055816, 1001.7471180247659, 1001.777646267508, 1001.6209226345306, 1001.6732984270451, 1001.6902039397788, 1001.6603395486417, 1001.6137733123608, 1001.5706449372607, 1001.5616854261356, 1001.6224903335822, 1001.6526363049909, 1001.6563000330133, 1001.7842954097096, 1001.9258482469969, 1001.9702550874076, 1001.853823018947, 1001.8719468212976, 1001.6674453479515, 1001.6291908595056, 1001.5515685353529, 1001.6234104587545, 1001.5274411821605, 1001.5365766630357, 1001.7360819377116, 1001.6611999435356, 1001.6352223590286, 1001.5609457175016, 1001.7266770126097, 1001.6763443817554, 1001.7448951357399, 1001.7492653513876, 1001.8193777381576, 1001.7797573100052, 1001.8087209722688, 1001.8231209778468, 1001.8006518417654, 1001.7341995573097, 1001.788788127416, 1001.6232900545702, 1001.6666427250889, 1001.6383083794012, 1001.5697920112294, 1001.5463151986824, 1001.6883455712716, 1001.6888168694245, 1001.5705786001133, 1001.5394221270797, 1001.4881009628484, 1001.4930298806497, 1001.4893239666528, 1001.4303828987141, 1001.31020441219, 1001.3999377534986, 1001.5663666313264, 1001.5835552287292, 1001.6079539963589, 1001.6961859881978, 1001.5536621492223, 1001.6545185106884, 1001.7318785888863, 1001.6523797397027, 1001.7631997473301, 1001.7507294015574, 1001.7745681511464, 1001.8406506783946, 1001.8197873351735, 1001.7323386142924, 1001.6155063530695, 1001.4705523185687, 1001.5577860930872, 1001.5411970816721, 1001.6878964202538, 1001.7358754623964, 1001.6860219550637, 1001.7277927296235, 1001.7033309632754, 1001.6871768512661, 1001.6370567569335, 1001.4922857541443, 1001.4099946682198, 1001.3144897936494, 1001.2398179236787, 1001.1743043264182, 1001.2781191470215, 1001.2609598016724, 1001.3377136949741, 1001.2237401316213, 1001.323738474065, 1001.3793900414695, 1001.4395683507715, 1001.486989370681, 1001.4790368924765, 1001.5310986267623, 1001.6474760887568, 1001.6642681009778, 1001.4740543159182, 1001.4472764920079, 1001.4038116613483, 1001.5152122657223, 1001.5928190185052, 1001.5625509387318, 1001.5574921207742, 1001.5611637733355, 1001.5604922051822, 1001.5496881484881, 1001.3966959578039, 1001.5352209818898, 1001.5276015124686, 1001.3992649340435, 1001.4410415832211, 1001.4373965062753, 1001.3820777337728, 1001.4703172798023, 1001.5188080560362, 1001.4423082531436, 1001.5500782420311, 1001.5681104487591, 1001.5624206367371, 1001.6650301449107, 1001.641937303219, 1001.5891841687529, 1001.6340002871489, 1001.6360267665385, 1001.6746454997564, 1001.5712513249659, 1001.5881675625535, 1001.5325656833752, 1001.5517859804794, 1001.5040416315304, 1001.4281124347444, 1001.4246147537908, 1001.3504949579277, 1001.4267425138081, 1001.4515120467603, 1001.4503714865904, 1001.4370132790925, 1001.4599837570828, 1001.5190984398533, 1001.5934942301503, 1001.6179612247165, 1001.585682487057, 1001.5397511353666, 1001.5492604448663, 1001.5376037635983, 1001.6132245409946, 1001.5314353063802, 1001.5376191970588, 1001.4386767104223, 1001.4547750657282, 1001.4779347581465, 1001.4332095569894, 1001.3791074131857, 1001.3911895818215, 1001.3154148464849, 1001.442643870408, 1001.5648871124221, 1001.6424561201413, 1001.6946169081156, 1001.7227918498448, 1001.6588029131909, 1001.7574182504586, 1001.5849572936647, 1001.6669486276422, 1001.7275595370108, 1001.6387447175908, 1001.604264407577, 1001.5641117399922, 1001.4924098988945, 1001.4990310549235, 1001.4290836590451, 1001.4368774684431, 1001.4097661727063, 1001.4527803978511, 1001.4618132152543, 1001.5525611023168, 1001.6424537165692, 1001.6006895019578, 1001.6952256743463, 1001.6872642299587, 1001.782906003262, 1001.7792370749142, 1001.8240283662916, 1001.8185242370542, 1001.8292723859544, 1001.7970647787976, 1001.875342518685, 1001.7040625261992, 1001.7289220902509, 1001.8003902835917, 1001.7551772229558, 1001.8868053645566, 1001.7881672366123, 1001.7708462804411, 1001.7394150621386, 1001.8109065123077, 1001.884012987243, 1001.9171890600945, 1001.9662209038014, 1001.9376359761724, 1001.9216323537507, 1001.9179966789218, 1001.8560904405188, 1001.8740215748417, 1001.9872671775248, 1001.9772501912533, 1001.9610554972024, 1002.0427888109701, 1002.0232736234728, 1002.1053570725119, 1002.1713584840206, 1002.1482068959068, 1002.1647784790115, 1002.0631293963538, 1002.0458102587963, 1001.9720525207096, 1001.8395865309864, 1001.8060395317409, 1001.7517447900644, 1001.7747527146028, 1001.8002199249003, 1001.7074001208742, 1001.7441604187769, 1001.812163813618, 1001.8198972393924, 1001.7595338566992, 1001.7075759702395, 1001.6914260210651, 1001.624664630838, 1001.5837279422585, 1001.6210421996835, 1001.5016521638945, 1001.4372768110194, 1001.3347965349195, 1001.2754843777767, 1001.265289419087, 1001.4323358260334, 1001.5226097743127, 1001.5171086616036, 1001.4536350135432, 1001.4005055638671, 1001.4046015148465, 1001.4145928434274, 1001.3065984478092, 1001.2182015405906, 1001.2043647784939, 1001.2507246263433, 1001.2326227298934, 1001.2258549948418, 1001.0759537188544, 1001.15919257731, 1001.0907038218407, 1001.1170543368609, 1001.1598048138145, 1001.2018478384551, 1001.2331745840065, 1001.3014120730347, 1001.232457579384, 1001.2363946031272, 1001.3051319469927, 1001.2858451906153, 1001.3360421825402, 1001.3781676388119, 1001.2974578438067, 1001.2626824230887, 1001.2707702556775, 1001.178231316205, 1001.1008439955356, 1001.0758496153376, 1001.088329304585, 1000.9621313921832, 1001.0031855198898, 1001.0436007115171, 1000.9712104614579, 1000.9546509858673, 1000.9644446938476, 1001.0058924411845, 1001.0042293450962, 1001.0948109625122, 1001.189897181114, 1001.0420394844037, 1001.0199109656692, 1000.8429954192194, 1000.9050677765873, 1000.9361687062199, 1000.9598516612846, 1000.9514789185888, 1000.960125357064, 1000.9453782233859, 1000.8902544544903, 1000.8301230647169, 1000.8721724102447, 1000.9024801637285, 1000.8829287304512, 1000.8553465008615, 1000.8387015553352, 1000.8919530926893, 1000.7725657583195, 1000.7251370140477, 1000.6300986784482, 1000.7349327999335, 1000.7192553774291, 1000.7881709912538, 1000.7515234476742, 1000.7668145043427, 1000.772002574919, 1000.7675810189185, 1000.6572920894273, 1000.6599656430636, 1000.6990955692825, 1000.6806250997568, 1000.6391032142756, 1000.6700321991229, 1000.7062845692193, 1000.7968206978114, 1000.7383385107213, 1000.8309087557674, 1000.9541620883813, 1000.8342824838317, 1000.9115511175752, 1000.7745551551461, 1000.7664080963344, 1000.7312928042271, 1000.6316251118963, 1000.6430596488127, 1000.6517692163927, 1000.6200474663916, 1000.5175234130224, 1000.5427327772219, 1000.4811874744224, 1000.4879220831646, 1000.4314225520955, 1000.3714550464401, 1000.4604055937217, 1000.4655156478221, 1000.5122869926208, 1000.6016989438401, 1000.5970615205226, 1000.6194502401055, 1000.6628780196198, 1000.6223085502417, 1000.677267989647, 1000.8105197577894, 1000.7672326628899, 1000.8018419266572, 1000.8332536697001, 1000.7726153434348, 1000.7683223693215, 1000.7335452552669, 1000.6358770115077, 1000.7135658746555, 1000.8214470746458, 1000.7806549409023, 1000.7618487505569, 1000.812424612563, 1000.7046852177507, 1000.8373192550597, 1000.7868505755192, 1000.7601709096459, 1000.6724032819499, 1000.7459464053945, 1000.7730532130935, 1000.8114745737375, 1000.7830320094262, 1000.8565723925655, 1000.8330187259244, 1000.9325568708688, 1000.9365019055135, 1000.8610682440097, 1000.8907823160492, 1000.9350597876922, 1001.0282440308715, 1001.0852293188015, 1001.0422339843285, 1001.009165841467, 1001.0490407936859, 1001.0328948712104, 1001.1129985923146, 1001.024201253115, 1000.9407684301028, 1000.9274984910176, 1000.9269169026261, 1000.9469347212965, 1000.802606132515, 1000.8101356400497, 1000.7864720092524, 1000.816544843423, 1000.7226614094044, 1000.7095815722478, 1000.756355796789, 1000.7310607556537, 1000.709740023894, 1000.6473176895018, 1000.636848621997, 1000.6354493220214, 1000.8214493196646, 1000.8309979525, 1000.7893625378196, 1000.8523436250105, 1000.7879612289988, 1000.963529886242, 1000.9383127679603, 1001.0022811165095, 1000.889507047245, 1001.0079803121059, 1000.9907114436048, 1000.9792322006633, 1000.9984936157246, 1000.9419005166818, 1000.8617657271002, 1000.9001972897532, 1001.0340464924808, 1001.001492642279, 1000.9784497594788, 1000.9528224648553, 1000.8312976537135, 1000.8063678418854, 1000.8468935551467, 1000.8273467809832, 1000.8727695767894, 1000.8204916599761, 1000.863676536004, 1000.9183094729236, 1000.8071190974722, 1000.9591774688458, 1001.0948189760256, 1001.2111337630024, 1001.2367813635384, 1001.2077345081843, 1001.3130953970305, 1001.3506072104691, 1001.2370133516301, 1001.3221441578122, 1001.3087311771149, 1001.3668072796808, 1001.3814868286046, 1001.4270896360546, 1001.4207338167096, 1001.4155635706503, 1001.4300444164194, 1001.5595526605982, 1001.6720725656899, 1001.685346139338, 1001.6493126619988, 1001.7752837583008, 1001.7452144251018, 1001.7266546967293, 1001.7076278675013, 1001.7553888857067, 1001.7534720283827, 1001.8097097752789, 1001.8501493273723, 1001.8706155767883, 1001.9692278610676, 1001.9758601458851, 1002.0972959323536, 1002.1288451809255, 1002.1291239362271, 1002.2069654800433, 1002.2509980046664, 1002.1635043243178, 1002.0616825344166, 1002.0430362779898, 1001.9539289596736, 1001.9832361872357, 1002.0186106594317, 1002.0886181572424, 1002.101475881372, 1002.1195444124633, 1002.1469790098533, 1002.1475048758466, 1002.0994747302685, 1002.1568761748346, 1002.1923580543134, 1002.2574548616473, 1002.2746325890067, 1002.2751957021936, 1002.256501552716, 1002.1759917470678, 1002.1915823229094, 1002.1478416012382, 1002.1250306797814, 1002.1474103719544, 1002.1941126524742, 1002.172106893954, 1002.0878423059886, 1002.0943616633393, 1002.0612843349046, 1002.0903705667222, 1001.990441950243, 1001.8998910038446, 1001.9263325877963, 1001.8951289584382, 1001.9103479713215, 1001.9762525239355, 1001.9583446915827, 1001.9263778900961, 1002.0363214573383, 1001.9783298432384, 1001.8791334721798, 1001.815697893588, 1001.9930828814495, 1002.0210651128408, 1002.0117971274615, 1002.1327143707015, 1002.1061377146776, 1002.0624088058222, 1002.0205891375787, 1001.9924169861865, 1001.8826885945873, 1002.0044083720165, 1001.9972640774978, 1001.9641445367203, 1001.9464190807557, 1002.0488144935127, 1002.0209555660797, 1002.006577943828, 1002.0058424136494, 1002.0848451991226, 1002.1144832709093, 1002.1905383824397, 1002.1886354242713, 1002.3235109270928, 1002.4056777475756, 1002.412664885757, 1002.602595030729, 1002.6384503036537, 1002.6421272851477, 1002.6320099260913, 1002.6258184424348, 1002.618927177803, 1002.6012899644895, 1002.6503323261326, 1002.6921836983447, 1002.6849029702562, 1002.6349268362289, 1002.6536155591822, 1002.6908114178145, 1002.7636903111527, 1002.7451241203694, 1002.7704234141816, 1002.8920268703016, 1002.8775127153781, 1002.8419267027316, 1002.7774275909501, 1002.810561322654, 1002.7570223540541, 1002.6726108866454, 1002.6566480570575, 1002.6622060470638, 1002.5938395015504, 1002.6890547931291, 1002.7132410699382, 1002.7007596473494, 1002.5943078226027, 1002.4717780349272, 1002.378439068854, 1002.4008260079106, 1002.4322444205415, 1002.3028080679051, 1002.286743599644, 1002.2695833044477, 1002.2209279632665, 1002.040591196388, 1002.0236009654031, 1002.0037223035662, 1002.0496555412487, 1002.0780748408876, 1002.0978084770846, 1002.077820650482, 1001.9576067454933, 1001.8723341007667, 1001.8623104129414, 1001.7751439698764, 1001.7687427354086, 1001.7902342570256, 1001.9080375890509, 1001.821486354824, 1001.8589991726797, 1001.8798904488276, 1001.8202065621092, 1001.8001774318712, 1001.7438338427768, 1001.8064077356263, 1001.7906598858285, 1001.8468054956736, 1001.8793566036874, 1001.9706702572053, 1001.9337291492008, 1002.0075001962747, 1002.0469237576057, 1002.0348460893581, 1001.9950471502007, 1001.9545794695593, 1002.0207168154942, 1001.9567837228949, 1001.9285135592015, 1001.9032663592446, 1001.9229229217051, 1002.0271531308003, 1001.9453543692788, 1001.9573961650434, 1001.9451284597455, 1001.9400043748744, 1001.9184926430031, 1001.9667746771713, 1001.9837032870611, 1001.8642335569956, 1001.8978546964107, 1002.0133517333645, 1002.1096289069092, 1002.1160443031538, 1002.1091963443024, 1002.0318252891666, 1001.8860415119791, 1001.8777184402369, 1001.8929270871257, 1001.8527978439683, 1001.7789841399035, 1001.8661311873512, 1001.853726956428, 1001.8771900576997, 1001.8468823268495, 1001.7983274323465, 1001.7340601673243, 1001.6769618173246, 1001.60053163529, 1001.6097401174383, 1001.612720377651, 1001.6370453338253, 1001.5079594131022, 1001.5133049553413, 1001.5406111952082, 1001.4756543197612, 1001.4574225648187, 1001.4221228501223, 1001.460986806371, 1001.340753913883, 1001.401353537094, 1001.4282771461395, 1001.4053020706825, 1001.3508449164257, 1001.2610817808672, 1001.2277216041268, 1001.1808037444289, 1001.1524535330408, 1001.1250686692034, 1001.0269722641464, 1001.0976794978524, 1001.0823515330916, 1001.0455835696099, 1000.9505177109075, 1000.9514828600279, 1000.8491807024345, 1000.8241611628748, 1000.8481517611958, 1000.842860925797, 1000.8190952985871, 1000.7862008864987, 1000.7470010466777, 1000.7321468105117, 1000.7350975096531, 1000.7167722290214, 1000.7227684440718, 1000.789425505554, 1000.7502349669337, 1000.6934755867181, 1000.721374030733, 1000.7740509314623, 1000.8381178285932, 1000.7742654626184, 1000.7275734997488, 1000.7294249545641, 1000.7147012068536, 1000.6759454361692, 1000.7070500861857, 1000.735992297358, 1000.635296844405, 1000.7588407573614, 1000.8164028009272, 1000.8233491037502, 1000.8252574392166, 1000.8802660933803, 1000.8292933923346, 1000.8854364014642, 1000.9741288898823, 1001.0901479930327, 1001.0407931786948, 1000.928041116865, 1000.9352861015885, 1000.8699655083161, 1000.898802016395, 1000.8697524761778, 1000.9332223159562, 1000.9136149727469, 1000.8118623732248, 1000.8365829617984, 1000.7945191308471, 1000.8022746701705, 1000.7677719840751, 1000.7375629331857, 1000.8022977259508, 1000.8177948444438, 1000.7990459252582, 1000.8364814961581, 1000.9258329666665, 1000.9176855708707, 1000.9942475679137, 1000.9241758533743, 1001.01298121469, 1001.0114473839417, 1000.9646339255125, 1000.9250864581367, 1000.920928225953, 1000.9017125522914, 1000.8304601654213, 1000.8815489543325, 1000.8478665250921, 1000.730129380692, 1000.7274850746445, 1000.7025043463441, 1000.6277015050046, 1000.5807901109149, 1000.6189572917614, 1000.6124689285217, 1000.6570633698443, 1000.7537093862384, 1000.702987872425, 1000.7470000623586, 1000.8086297491936, 1000.7806626690119, 1000.8748501496902, 1000.9325251777212, 1000.8753836789846, 1000.810163644949, 1000.8030638646762, 1000.878656063543, 1000.9082440543071, 1000.8879287019528, 1000.8437781759744, 1000.8574183892117, 1000.8075375718988, 1000.8617302927557, 1000.7657509569196, 1000.7803879669631, 1000.8536965625815, 1000.8137119701714, 1000.890377885863, 1000.8535571424284, 1000.8683758945352, 1000.8078687608304, 1000.8537344935887, 1000.8381826392144, 1000.8484047672753, 1000.794505887852, 1000.77584771105, 1000.7361166091644, 1000.7292887185819, 1000.7006489858579, 1000.6984771508721, 1000.7011641368218, 1000.7447239956882, 1000.7388310725845, 1000.7871938961188, 1000.832715836421, 1000.7919234457318, 1000.7993930428862, 1000.7824548473445, 1000.7742231114432, 1000.7257236421837, 1000.7517816622958, 1000.8421313088772, 1000.8306617158967, 1000.7738508352962, 1000.7831275650095, 1000.8275887005535, 1000.890579247519, 1000.780675347237, 1000.8014832413766, 1000.7982788898977, 1000.7500795306274, 1000.7856064020134, 1000.8447625680674, 1000.9009248051236, 1000.927277797653, 1000.8680023919619, 1000.8739401027932, 1000.8517799669961, 1000.8223285220265, 1000.8677188295264, 1000.8571359992634, 1000.7765448141125, 1000.7150429322431, 1000.7167307311166, 1000.7038813158966, 1000.721025926095, 1000.691296913921, 1000.7180918580851, 1000.6322087387604, 1000.6767526195844, 1000.695598067958, 1000.7737744219027, 1000.7303730265114, 1000.7311150833751, 1000.7274141835676, 1000.6486426442706, 1000.6637387397082, 1000.6614380382672, 1000.5690944690207, 1000.6350572551567, 1000.5939590315302, 1000.5590454955101, 1000.6475442177128, 1000.6974101957326, 1000.6129761747782, 1000.5710056245352, 1000.560016245277, 1000.5937335238822, 1000.5425032947581, 1000.6304624891086], \"yaxis\": \"y\"}],\n",
       "                        {\"height\": 600, \"legend\": {\"tracegroupgap\": 0}, \"template\": {\"data\": {\"bar\": [{\"error_x\": {\"color\": \"#2a3f5f\"}, \"error_y\": {\"color\": \"#2a3f5f\"}, \"marker\": {\"line\": {\"color\": \"#E5ECF6\", \"width\": 0.5}}, \"type\": \"bar\"}], \"barpolar\": [{\"marker\": {\"line\": {\"color\": \"#E5ECF6\", \"width\": 0.5}}, \"type\": \"barpolar\"}], \"carpet\": [{\"aaxis\": {\"endlinecolor\": \"#2a3f5f\", \"gridcolor\": \"white\", \"linecolor\": \"white\", \"minorgridcolor\": \"white\", \"startlinecolor\": \"#2a3f5f\"}, \"baxis\": {\"endlinecolor\": \"#2a3f5f\", \"gridcolor\": \"white\", \"linecolor\": \"white\", \"minorgridcolor\": \"white\", \"startlinecolor\": \"#2a3f5f\"}, \"type\": \"carpet\"}], \"choropleth\": [{\"colorbar\": {\"outlinewidth\": 0, \"ticks\": \"\"}, \"type\": \"choropleth\"}], \"contour\": [{\"colorbar\": {\"outlinewidth\": 0, \"ticks\": \"\"}, \"colorscale\": [[0.0, \"#0d0887\"], [0.1111111111111111, \"#46039f\"], [0.2222222222222222, \"#7201a8\"], [0.3333333333333333, \"#9c179e\"], [0.4444444444444444, \"#bd3786\"], [0.5555555555555556, \"#d8576b\"], [0.6666666666666666, \"#ed7953\"], [0.7777777777777778, \"#fb9f3a\"], [0.8888888888888888, \"#fdca26\"], [1.0, \"#f0f921\"]], \"type\": \"contour\"}], \"contourcarpet\": [{\"colorbar\": {\"outlinewidth\": 0, \"ticks\": \"\"}, \"type\": \"contourcarpet\"}], \"heatmap\": [{\"colorbar\": {\"outlinewidth\": 0, \"ticks\": \"\"}, \"colorscale\": [[0.0, \"#0d0887\"], [0.1111111111111111, \"#46039f\"], [0.2222222222222222, \"#7201a8\"], [0.3333333333333333, \"#9c179e\"], [0.4444444444444444, \"#bd3786\"], [0.5555555555555556, \"#d8576b\"], [0.6666666666666666, \"#ed7953\"], [0.7777777777777778, \"#fb9f3a\"], [0.8888888888888888, \"#fdca26\"], [1.0, \"#f0f921\"]], \"type\": \"heatmap\"}], \"heatmapgl\": [{\"colorbar\": {\"outlinewidth\": 0, \"ticks\": \"\"}, \"colorscale\": [[0.0, \"#0d0887\"], [0.1111111111111111, \"#46039f\"], [0.2222222222222222, \"#7201a8\"], [0.3333333333333333, \"#9c179e\"], [0.4444444444444444, \"#bd3786\"], [0.5555555555555556, \"#d8576b\"], [0.6666666666666666, \"#ed7953\"], [0.7777777777777778, \"#fb9f3a\"], [0.8888888888888888, \"#fdca26\"], [1.0, \"#f0f921\"]], \"type\": \"heatmapgl\"}], \"histogram\": [{\"marker\": {\"colorbar\": {\"outlinewidth\": 0, \"ticks\": \"\"}}, \"type\": \"histogram\"}], \"histogram2d\": [{\"colorbar\": {\"outlinewidth\": 0, \"ticks\": \"\"}, \"colorscale\": [[0.0, \"#0d0887\"], [0.1111111111111111, \"#46039f\"], [0.2222222222222222, \"#7201a8\"], [0.3333333333333333, \"#9c179e\"], [0.4444444444444444, \"#bd3786\"], [0.5555555555555556, \"#d8576b\"], [0.6666666666666666, \"#ed7953\"], [0.7777777777777778, \"#fb9f3a\"], [0.8888888888888888, \"#fdca26\"], [1.0, \"#f0f921\"]], \"type\": \"histogram2d\"}], \"histogram2dcontour\": [{\"colorbar\": {\"outlinewidth\": 0, \"ticks\": \"\"}, \"colorscale\": [[0.0, \"#0d0887\"], [0.1111111111111111, \"#46039f\"], [0.2222222222222222, \"#7201a8\"], [0.3333333333333333, \"#9c179e\"], [0.4444444444444444, \"#bd3786\"], [0.5555555555555556, \"#d8576b\"], [0.6666666666666666, \"#ed7953\"], [0.7777777777777778, \"#fb9f3a\"], [0.8888888888888888, \"#fdca26\"], [1.0, \"#f0f921\"]], \"type\": \"histogram2dcontour\"}], \"mesh3d\": [{\"colorbar\": {\"outlinewidth\": 0, \"ticks\": \"\"}, \"type\": \"mesh3d\"}], \"parcoords\": [{\"line\": {\"colorbar\": {\"outlinewidth\": 0, \"ticks\": \"\"}}, \"type\": \"parcoords\"}], \"scatter\": [{\"marker\": {\"colorbar\": {\"outlinewidth\": 0, \"ticks\": \"\"}}, \"type\": \"scatter\"}], \"scatter3d\": [{\"line\": {\"colorbar\": {\"outlinewidth\": 0, \"ticks\": \"\"}}, \"marker\": {\"colorbar\": {\"outlinewidth\": 0, \"ticks\": \"\"}}, \"type\": \"scatter3d\"}], \"scattercarpet\": [{\"marker\": {\"colorbar\": {\"outlinewidth\": 0, \"ticks\": \"\"}}, \"type\": \"scattercarpet\"}], \"scattergeo\": [{\"marker\": {\"colorbar\": {\"outlinewidth\": 0, \"ticks\": \"\"}}, \"type\": \"scattergeo\"}], \"scattergl\": [{\"marker\": {\"colorbar\": {\"outlinewidth\": 0, \"ticks\": \"\"}}, \"type\": \"scattergl\"}], \"scattermapbox\": [{\"marker\": {\"colorbar\": {\"outlinewidth\": 0, \"ticks\": \"\"}}, \"type\": \"scattermapbox\"}], \"scatterpolar\": [{\"marker\": {\"colorbar\": {\"outlinewidth\": 0, \"ticks\": \"\"}}, \"type\": \"scatterpolar\"}], \"scatterpolargl\": [{\"marker\": {\"colorbar\": {\"outlinewidth\": 0, \"ticks\": \"\"}}, \"type\": \"scatterpolargl\"}], \"scatterternary\": [{\"marker\": {\"colorbar\": {\"outlinewidth\": 0, \"ticks\": \"\"}}, \"type\": \"scatterternary\"}], \"surface\": [{\"colorbar\": {\"outlinewidth\": 0, \"ticks\": \"\"}, \"colorscale\": [[0.0, \"#0d0887\"], [0.1111111111111111, \"#46039f\"], [0.2222222222222222, \"#7201a8\"], [0.3333333333333333, \"#9c179e\"], [0.4444444444444444, \"#bd3786\"], [0.5555555555555556, \"#d8576b\"], [0.6666666666666666, \"#ed7953\"], [0.7777777777777778, \"#fb9f3a\"], [0.8888888888888888, \"#fdca26\"], [1.0, \"#f0f921\"]], \"type\": \"surface\"}], \"table\": [{\"cells\": {\"fill\": {\"color\": \"#EBF0F8\"}, \"line\": {\"color\": \"white\"}}, \"header\": {\"fill\": {\"color\": \"#C8D4E3\"}, \"line\": {\"color\": \"white\"}}, \"type\": \"table\"}]}, \"layout\": {\"annotationdefaults\": {\"arrowcolor\": \"#2a3f5f\", \"arrowhead\": 0, \"arrowwidth\": 1}, \"colorscale\": {\"diverging\": [[0, \"#8e0152\"], [0.1, \"#c51b7d\"], [0.2, \"#de77ae\"], [0.3, \"#f1b6da\"], [0.4, \"#fde0ef\"], [0.5, \"#f7f7f7\"], [0.6, \"#e6f5d0\"], [0.7, \"#b8e186\"], [0.8, \"#7fbc41\"], [0.9, \"#4d9221\"], [1, \"#276419\"]], \"sequential\": [[0.0, \"#0d0887\"], [0.1111111111111111, \"#46039f\"], [0.2222222222222222, \"#7201a8\"], [0.3333333333333333, \"#9c179e\"], [0.4444444444444444, \"#bd3786\"], [0.5555555555555556, \"#d8576b\"], [0.6666666666666666, \"#ed7953\"], [0.7777777777777778, \"#fb9f3a\"], [0.8888888888888888, \"#fdca26\"], [1.0, \"#f0f921\"]], \"sequentialminus\": [[0.0, \"#0d0887\"], [0.1111111111111111, \"#46039f\"], [0.2222222222222222, \"#7201a8\"], [0.3333333333333333, \"#9c179e\"], [0.4444444444444444, \"#bd3786\"], [0.5555555555555556, \"#d8576b\"], [0.6666666666666666, \"#ed7953\"], [0.7777777777777778, \"#fb9f3a\"], [0.8888888888888888, \"#fdca26\"], [1.0, \"#f0f921\"]]}, \"colorway\": [\"#636efa\", \"#EF553B\", \"#00cc96\", \"#ab63fa\", \"#FFA15A\", \"#19d3f3\", \"#FF6692\", \"#B6E880\", \"#FF97FF\", \"#FECB52\"], \"font\": {\"color\": \"#2a3f5f\"}, \"geo\": {\"bgcolor\": \"white\", \"lakecolor\": \"white\", \"landcolor\": \"#E5ECF6\", \"showlakes\": true, \"showland\": true, \"subunitcolor\": \"white\"}, \"hoverlabel\": {\"align\": \"left\"}, \"hovermode\": \"closest\", \"mapbox\": {\"style\": \"light\"}, \"paper_bgcolor\": \"white\", \"plot_bgcolor\": \"#E5ECF6\", \"polar\": {\"angularaxis\": {\"gridcolor\": \"white\", \"linecolor\": \"white\", \"ticks\": \"\"}, \"bgcolor\": \"#E5ECF6\", \"radialaxis\": {\"gridcolor\": \"white\", \"linecolor\": \"white\", \"ticks\": \"\"}}, \"scene\": {\"xaxis\": {\"backgroundcolor\": \"#E5ECF6\", \"gridcolor\": \"white\", \"gridwidth\": 2, \"linecolor\": \"white\", \"showbackground\": true, \"ticks\": \"\", \"zerolinecolor\": \"white\"}, \"yaxis\": {\"backgroundcolor\": \"#E5ECF6\", \"gridcolor\": \"white\", \"gridwidth\": 2, \"linecolor\": \"white\", \"showbackground\": true, \"ticks\": \"\", \"zerolinecolor\": \"white\"}, \"zaxis\": {\"backgroundcolor\": \"#E5ECF6\", \"gridcolor\": \"white\", \"gridwidth\": 2, \"linecolor\": \"white\", \"showbackground\": true, \"ticks\": \"\", \"zerolinecolor\": \"white\"}}, \"shapedefaults\": {\"line\": {\"color\": \"#2a3f5f\"}}, \"ternary\": {\"aaxis\": {\"gridcolor\": \"white\", \"linecolor\": \"white\", \"ticks\": \"\"}, \"baxis\": {\"gridcolor\": \"white\", \"linecolor\": \"white\", \"ticks\": \"\"}, \"bgcolor\": \"#E5ECF6\", \"caxis\": {\"gridcolor\": \"white\", \"linecolor\": \"white\", \"ticks\": \"\"}}, \"title\": {\"x\": 0.05}, \"xaxis\": {\"automargin\": true, \"gridcolor\": \"white\", \"linecolor\": \"white\", \"ticks\": \"\", \"zerolinecolor\": \"white\", \"zerolinewidth\": 2}, \"yaxis\": {\"automargin\": true, \"gridcolor\": \"white\", \"linecolor\": \"white\", \"ticks\": \"\", \"zerolinecolor\": \"white\", \"zerolinewidth\": 2}}}, \"title\": {\"text\": \"PREDICTION ITERATION\"}, \"xaxis\": {\"anchor\": \"y\", \"domain\": [0.0, 0.98]}, \"yaxis\": {\"anchor\": \"x\", \"domain\": [0.0, 1.0], \"title\": {\"text\": \"value\"}}},\n",
       "                        {\"responsive\": true}\n",
       "                    ).then(function(){\n",
       "                            \n",
       "var gd = document.getElementById('58023dc1-48ce-4bfa-b132-9d4eda3739f9');\n",
       "var x = new MutationObserver(function (mutations, observer) {{\n",
       "        var display = window.getComputedStyle(gd).display;\n",
       "        if (!display || display === 'none') {{\n",
       "            console.log([gd, 'removed!']);\n",
       "            Plotly.purge(gd);\n",
       "            observer.disconnect();\n",
       "        }}\n",
       "}});\n",
       "\n",
       "// Listen for the removal of the full notebook cells\n",
       "var notebookContainer = gd.closest('#notebook-container');\n",
       "if (notebookContainer) {{\n",
       "    x.observe(notebookContainer, {childList: true});\n",
       "}}\n",
       "\n",
       "// Listen for the clearing of the current output cell\n",
       "var outputEl = gd.closest('.output');\n",
       "if (outputEl) {{\n",
       "    x.observe(outputEl, {childList: true});\n",
       "}}\n",
       "\n",
       "                        })\n",
       "                };\n",
       "                });\n",
       "            </script>\n",
       "        </div>"
      ]
     },
     "metadata": {},
     "output_type": "display_data"
    }
   ],
   "source": [
    "px.line(pd.melt(\n",
    "    res_df, value_vars=['CUR_STATE', 'CUR_STATE_STANDARD']), y='value', color='variable',\n",
    "       title='PREDICTION ITERATION')"
   ]
  },
  {
   "cell_type": "code",
   "execution_count": 826,
   "metadata": {},
   "outputs": [
    {
     "data": {
      "application/vnd.plotly.v1+json": {
       "config": {
        "plotlyServerURL": "https://plot.ly"
       },
       "data": [
        {
         "hoverlabel": {
          "namelength": 0
         },
         "hovertemplate": "variable=CUR_COV<br>value=%{y}",
         "legendgroup": "variable=CUR_COV",
         "line": {
          "color": "#636efa",
          "dash": "solid"
         },
         "mode": "lines",
         "name": "variable=CUR_COV",
         "showlegend": true,
         "type": "scattergl",
         "xaxis": "x",
         "y": [
          83.33333333333334,
          45.45454545454545,
          31.250000000000004,
          23.80952380952381,
          19.23076923076923,
          16.129032258064516,
          13.888888888888891,
          12.195121951219516,
          10.869565217391306,
          9.803921568627453,
          8.92857142857143,
          8.196721311475413,
          7.575757575757577,
          7.042253521126762,
          6.578947368421055,
          6.172839506172841,
          5.8139534883720945,
          5.494505494505495,
          5.208333333333334,
          4.9504950495049505,
          4.716981132075472,
          4.504504504504505,
          4.310344827586206,
          4.132231404958677,
          3.968253968253968,
          3.816793893129771,
          3.6764705882352944,
          3.5460992907801416,
          3.4246575342465753,
          3.3112582781456954,
          3.2051282051282053,
          3.1055900621118018,
          3.012048192771085,
          2.923976608187135,
          2.8409090909090913,
          2.7624309392265194,
          2.688172043010753,
          2.617801047120419,
          2.5510204081632657,
          2.4875621890547266,
          2.4271844660194177,
          2.3696682464454977,
          2.314814814814815,
          2.262443438914027,
          2.212389380530973,
          2.164502164502164,
          2.11864406779661,
          2.0746887966804977,
          2.0325203252032518,
          1.99203187250996,
          1.9531249999999998,
          1.9157088122605361,
          1.8796992481203005,
          1.8450184501845017,
          1.8115942028985508,
          1.7793594306049823,
          1.7482517482517483,
          1.7182130584192439,
          1.689189189189189,
          1.661129568106312,
          1.6339869281045751,
          1.6077170418006432,
          1.5822784810126584,
          1.5576323987538943,
          1.5337423312883434,
          1.510574018126888,
          1.4880952380952384,
          1.4662756598240472,
          1.4450867052023124,
          1.4245014245014247,
          1.4044943820224722,
          1.3850415512465377,
          1.366120218579235,
          1.3477088948787062,
          1.3297872340425532,
          1.3123359580052494,
          1.2953367875647668,
          1.278772378516624,
          1.2626262626262625,
          1.2468827930174562,
          1.231527093596059,
          1.21654501216545,
          1.2019230769230769,
          1.187648456057007,
          1.1737089201877935,
          1.160092807424594,
          1.1467889908256883,
          1.1337868480725626,
          1.1210762331838566,
          1.1086474501108647,
          1.0964912280701755,
          1.0845986984815619,
          1.072961373390558,
          1.061571125265393,
          1.0504201680672272,
          1.0395010395010398,
          1.0288065843621401,
          1.0183299389002038,
          1.0080645161290325,
          0.9980039920159682,
          0.9881422924901186,
          0.9784735812133073,
          0.9689922480620154,
          0.9596928982725527,
          0.9505703422053231,
          0.9416195856873822,
          0.9328358208955222,
          0.9242144177449166,
          0.9157509157509156,
          0.9074410163339381,
          0.8992805755395682,
          0.89126559714795,
          0.88339222614841,
          0.8756567425569177,
          0.8680555555555556,
          0.8605851979345955,
          0.8532423208191126,
          0.8460236886632827,
          0.8389261744966444,
          0.8319467554076541,
          0.8250825082508252,
          0.8183306055646482,
          0.8116883116883118,
          0.8051529790660226,
          0.7987220447284344,
          0.7923930269413628,
          0.7861635220125783,
          0.7800312012480495,
          0.7739938080495352,
          0.7680491551459289,
          0.7621951219512192,
          0.7564296520423598,
          0.7507507507507505,
          0.7451564828614007,
          0.739644970414201,
          0.7342143906020556,
          0.7288629737609328,
          0.7235890014471779,
          0.718390804597701,
          0.7132667617689014,
          0.7082152974504248,
          0.7032348804500702,
          0.6983240223463686,
          0.6934812760055478,
          0.6887052341597795,
          0.6839945280437755,
          0.6793478260869564,
          0.6747638326585694,
          0.6702412868632707,
          0.6657789613848201,
          0.6613756613756612,
          0.6570302233902757,
          0.6527415143603131,
          0.6485084306095977,
          0.6443298969072163,
          0.6402048655569781,
          0.6361323155216283,
          0.6321112515802779,
          0.6281407035175878,
          0.6242197253433207,
          0.6203473945409428,
          0.6165228113440195,
          0.6127450980392155,
          0.6090133982947623,
          0.6053268765133171,
          0.6016847172081827,
          0.5980861244019138,
          0.5945303210463733,
          0.5910165484633569,
          0.5875440658049353,
          0.5841121495327103,
          0.5807200929152149,
          0.5773672055427252,
          0.5740528128587831,
          0.5707762557077626,
          0.5675368898978433,
          0.564334085778781,
          0.5611672278338945,
          0.5580357142857143,
          0.5549389567147615,
          0.5518763796909493,
          0.5488474204171241,
          0.5458515283842795,
          0.5428881650380022,
          0.5399568034557237,
          0.5370569280343718,
          0.5341880341880343,
          0.5313496280552605,
          0.528541226215645,
          0.5257623554153525,
          0.5230125523012554,
          0.5202913631633717,
          0.5175983436853003,
          0.5149330587023688,
          0.5122950819672132,
          0.5096839959225281,
          0.5070993914807304,
          0.5045408678102928,
          0.5020080321285143,
          0.4995004995004997,
          0.4970178926441354,
          0.4945598417408508,
          0.4921259842519687,
          0.48971596474045065,
          0.48732943469785583,
          0.4849660523763337,
          0.4826254826254826,
          0.48030739673390965,
          0.47801147227533464,
          0.4757373929590866,
          0.4734848484848485,
          0.471253534401508,
          0.46904315196998125,
          0.4668534080298786,
          0.4646840148698885,
          0.4625346901017577,
          0.4604051565377532,
          0.458295142071494,
          0.4562043795620438,
          0.4541326067211627,
          0.45207956600361676,
          0.45004500450045015,
          0.44802867383512557,
          0.4460303300624444,
          0.44404973357016003,
          0.4420866489832009,
          0.4401408450704226,
          0.43821209465381256,
          0.4363001745200699,
          0.43440486533449185,
          0.4325259515570935,
          0.4306632213608959,
          0.42881646655231576,
          0.4269854824935954,
          0.4251700680272111,
          0.4233700254022017,
          0.42158516020236103,
          0.4198152812762387,
          0.41806020066889654,
          0.4163197335553707,
          0.4145936981757879,
          0.4128819157720893,
          0.41118421052631593,
          0.40950040950040967,
          0.40783034257748796,
          0.40617384240454935,
          0.40453074433656977,
          0.4029008863819502,
          0.40128410914927787,
          0.39968025579536387,
          0.3980891719745224,
          0.39651070578905645,
          0.3949447077409164,
          0.39339103068450054,
          0.3918495297805644,
          0.39032006245121015,
          0.3888024883359255,
          0.3872966692486446,
          0.38580246913580263,
          0.38431975403535756,
          0.38284839203675364,
          0.38138825324180037,
          0.37993920972644396,
          0.3785011355034067,
          0.3770739064856714,
          0.3756574004507891,
          0.37425149700598825,
          0.3728560775540644,
          0.37147102526003,
          0.3700962250185051,
          0.36873156342182917,
          0.36737692872887606,
          0.3660322108345537,
          0.3646973012399711,
          0.36337209302325607,
          0.3620564808110068,
          0.360750360750361,
          0.3594536304816681,
          0.3581661891117481,
          0.35688793718772327,
          0.35561877667140845,
          0.3543586109142454,
          0.35310734463276866,
          0.3518648838845886,
          0.35063113604488105,
          0.34940600978336855,
          0.34818941504178297,
          0.3469812630117976,
          0.3457814661134166,
          0.34458993797381143,
          0.3434065934065937,
          0.34223134839151303,
          0.34106412005457065,
          0.33990482664853877,
          0.3387533875338757,
          0.33760972316002735,
          0.3364737550471067,
          0.33534540576794136,
          0.33422459893048173,
          0.33311125916056006,
          0.3320053120849938,
          0.33090668431502357,
          0.32981530343007953,
          0.32873109796186756,
          0.32765399737876844,
          0.3265839320705425,
          0.32552083333333365,
          0.32446463335496467,
          0.3234152652005178,
          0.32237266279819493,
          0.3213367609254501,
          0.32030749519538776,
          0.3192848020434229,
          0.318268618714195,
          0.3172588832487312,
          0.3162555344718535,
          0.3152585119798237,
          0.31426775612822155,
          0.3132832080200504,
          0.31230480949406647,
          0.3113325031133253,
          0.3103662321539419,
          0.3094059405940597,
          0.3084515731030231,
          0.30750307503075064,
          0.3065603923973026,
          0.30562347188264083,
          0.3046922608165756,
          0.3037667071688946,
          0.3028467595396732,
          0.30193236714975874,
          0.30102347983142713,
          0.300120048019208,
          0.29922202274087406,
          0.2983293556085922,
          0.2974419988102323,
          0.29655990510083063,
          0.2956830277942049,
          0.2948113207547173,
          0.2939447383891831,
          0.29308323563892175,
          0.2922267679719465,
          0.2913752913752916,
          0.2905287623474726,
          0.2896871378910778,
          0.2888503755054883,
          0.28801843317972364,
          0.28719126938541084,
          0.28636884306987415,
          0.2855511136493434,
          0.28473804100227806,
          0.28392958546280533,
          0.28312570781426966,
          0.2823263692828911,
          0.28153153153153165,
          0.2807411566535655,
          0.2799552071668534,
          0.27917364600781697,
          0.2783964365256126,
          0.2776235424764021,
          0.27685492801771877,
          0.2760905577029266,
          0.275330396475771,
          0.2745744096650193,
          0.2738225629791896,
          0.2730748225013655,
          0.272331154684096,
          0.27159152634437816,
          0.27085590465872167,
          0.27012425715829297,
          0.2693965517241382,
          0.2686727565824828,
          0.2679528403001074,
          0.26723677177979704,
          0.2665245202558637,
          0.26581605528973967,
          0.26511134676564174,
          0.26441036488630376,
          0.2637130801687766,
          0.2630194634402948,
          0.26232948583420795,
          0.26164311878597607,
          0.2609603340292277,
          0.2602811035918794,
          0.25960539979231584,
          0.25893319523562935,
          0.2582644628099175,
          0.2575991756826379,
          0.25693730729701963,
          0.2562788313685291,
          0.2556237218813907,
          0.25497195308516074,
          0.25432349949135313,
          0.2536783358701168,
          0.2530364372469637,
          0.25239777889954573,
          0.2517623363544814,
          0.25113008538422904,
          0.25050100200400804,
          0.24987506246876565,
          0.24925224327018944,
          0.2486325211337643,
          0.24801587301587302,
          0.24740227610094015,
          0.24679170779861798,
          0.2461841457410143,
          0.24557956777996073,
          0.24497795198432143,
          0.24437927663734116,
          0.2437835202340322,
          0.24319066147859925,
          0.24260067928190202,
          0.24201355275895453,
          0.24142926122646072,
          0.24084778420038544,
          0.24026910139356086,
          0.239693192713327,
          0.23912003825920616,
          0.23854961832061072,
          0.23798191337458358,
          0.23741690408357077,
          0.236854571293226,
          0.23629489603024584,
          0.2357378595002358,
          0.23518344308560682,
          0.2346316283435008,
          0.23408239700374542,
          0.23353573096683802,
          0.23299161230195722,
          0.2324500232450024,
          0.2319109461966606,
          0.23137436372049988,
          0.2308402585410897,
          0.23030861354214657,
          0.22977941176470598,
          0.22925263640531876,
          0.22872827081427277,
          0.22820629849383856,
          0.2276867030965393,
          0.227169468423444,
          0.22665457842248424,
          0.22614201718679341,
          0.2256317689530687,
          0.22512381809995508,
          0.22461814914645115,
          0.2241147467503363,
          0.2236135957066191,
          0.2231146809460064,
          0.22261798753339285,
          0.22212350066637065,
          0.22163120567375902,
          0.2211410880141532,
          0.22065313327449265,
          0.22016732716864829,
          0.21968365553602823,
          0.2192021043402018,
          0.2187226596675417,
          0.21824530772588405,
          0.21777003484320576,
          0.21729682746631918,
          0.21682567215958387,
          0.21635655560363495,
          0.21588946459412797,
          0.21542438604049996,
          0.21496130696474652,
          0.21450021450021467,
          0.21404109589041112,
          0.21358393848782586,
          0.2131287297527708,
          0.21267545725223325,
          0.21222410865874378,
          0.21177467174925893,
          0.21132713440405762,
          0.21088148460565176,
          0.2104377104377106,
          0.2099958000839985,
          0.20955574182732625,
          0.20911752404851544,
          0.2086811352253758,
          0.2082465639316953,
          0.2078137988362429,
          0.20738282870178362,
          0.20695364238410607,
          0.20652622883106167,
          0.206100577081616,
          0.20567667626491176,
          0.20525451559934343,
          0.20483408439164297,
          0.2044153720359773,
          0.20399836801305607,
          0.20358306188925096,
          0.20316944331572548,
          0.2027575020275752,
          0.20234722784297873,
          0.20193861066235883,
          0.2015316404675536,
          0.20112630732099773,
          0.20072260136491385,
          0.20032051282051297,
          0.19992003198720526,
          0.19952114924181977,
          0.19912385503783367,
          0.19872813990461063,
          0.1983339944466483,
          0.19794140934283463,
          0.19755037534571326,
          0.1971608832807572,
          0.19677292404565142,
          0.1963864886095838,
          0.1960015680125442,
          0.19561815336463237,
          0.19523623584537303,
          0.19485580670303987,
          0.1944768572539869,
          0.1940993788819877,
          0.19372336303758245,
          0.19334880123743242,
          0.19297568506368207,
          0.19260400616332826,
          0.19223375624759714,
          0.1918649270913278,
          0.19149751053236314,
          0.19113149847094807,
          0.19076688286913399,
          0.19040365575019044,
          0.19004180919802358,
          0.18968133535660092,
          0.18932222642938282,
          0.18896447467876037,
          0.1886080724254998,
          0.18825301204819275,
          0.18789928598271324,
          0.18754688672168043,
          0.1871958068139274,
          0.1868460388639761,
          0.18649757553151808,
          0.18615040953090095,
          0.18580453363062058,
          0.18545994065281898,
          0.18511662347278784,
          0.18477457501847744,
          0.18443378827001106,
          0.1840942562592047,
          0.18375597206909225,
          0.18341892883345562,
          0.18308311973636032,
          0.1827485380116959,
          0.18241517694272164,
          0.18208302986161692,
          0.18175209014903673,
          0.181422351233672,
          0.1810938065918146,
          0.18076644974692702,
          0.1804402742692169,
          0.18011527377521616,
          0.17979144192736426,
          0.17946877243359655,
          0.17914725904693657,
          0.17882689556509296,
          0.17850767583006066,
          0.17818959372772628,
          0.17787264318747772,
          0.17755681818181812,
          0.17724211272598364,
          0.17692852087756544,
          0.17661603673613563,
          0.17630465444287727,
          0.1759943681802182,
          0.1756851721714687,
          0.17537706068046297,
          0.17507002801120444,
          0.1747640685075148,
          0.1744591765526866,
          0.1741553465691396,
          0.1738525730180806,
          0.1735508503991669,
          0.1732501732501732,
          0.172950536146662,
          0.1726519337016574,
          0.17235436056532225,
          0.1720578114246386,
          0.17176228100309163,
          0.17146776406035658,
          0.17117425539198897,
          0.17088174982911816,
          0.1705902422381439,
          0.17029972752043587,
          0.17001020061203662,
          0.16972165648336718,
          0.1694340901389359,
          0.16914749661705,
          0.16886187098953048,
          0.16857720836142945,
          0.1682935038707505,
          0.16801075268817195,
          0.1677289500167728,
          0.16744809109176145,
          0.16716817118020716,
          0.16688918558077423,
          0.1666111296234587,
          0.16633399866932783,
          0.16605778811026217,
          0.16578249336870002,
          0.16550810989738474,
          0.1652346331791141,
          0.16496205872649267,
          0.16469038208168618,
          0.16441959881617865,
          0.16414970453053157,
          0.16388069485414591,
          0.16361256544502592,
          0.16334531198954563,
          0.16307893020221761,
          0.16281341582546374,
          0.16254876462938855,
          0.16228497241155443,
          0.1620220349967593,
          0.16175994823681628,
          0.16149870801033564,
          0.1612383102225086,
          0.16097875080489346,
          0.16072002571520383,
          0.16046213093709855,
          0.16020506247997407,
          0.1599488163787585,
          0.1596933886937078,
          0.1594387755102038,
          0.15918497293855433,
          0.15893197711379503,
          0.15867978419549322,
          0.1584283903675536,
          0.1581777918380257,
          0.1579279848389132,
          0.15767896562598524,
          0.15743073047858916,
          0.1571832756994653,
          0.15693659761456344,
          0.1566906925728609,
          0.15644555694618245,
          0.1562011871290219,
          0.15595757953836525,
          0.1557147306135157,
          0.15547263681592005,
          0.15523129462899685,
          0.15499070055796615,
          0.15475085112968084,
          0.15451174289245945,
          0.1542733724159206,
          0.15403573629081907,
          0.153798831128883,
          0.1535626535626531,
          0.15332720024532306,
          0.1530924678505813,
          0.15285845307245446,
          0.1526251526251522,
          0.1523925632429133,
          0.15216068167985347,
          0.1519295047098142,
          0.15169902912621314,
          0.15146925174189593,
          0.15124016938898927,
          0.15101177891875522,
          0.1507840772014471,
          0.1505570611261664,
          0.15033072760072116,
          0.1501050735514856,
          0.14988009592326096,
          0.14965579167913756,
          0.14943215780035823,
          0.14920919128618282,
          0.14898688915375405,
          0.14876524843796446,
          0.14854426619132463,
          0.14832393948383235,
          0.14810426540284324,
          0.14788524105294254,
          0.1476668635558177,
          0.14744913005013233,
          0.14723203769140128,
          0.14701558365186673,
          0.14679976512037543,
          0.14658457930225702,
          0.14637002341920335,
          0.14615609470914898,
          0.14594279042615252,
          0.14573010784027937,
          0.14551804423748502,
          0.14530659691949968,
          0.14509576320371398,
          0.1448855404230653,
          0.14467592592592546,
          0.14446691707598913,
          0.1442585112521634,
          0.1440507058484582,
          0.14384349827387755,
          0.14363688595231208,
          0.14343086632243207,
          0.14322543683758185,
          0.14302059496567457,
          0.14281633818908834,
          0.14261266400456313,
          0.14240956992309836,
          0.14220705346985163,
          0.14200511218403813,
          0.14180374361883108,
          0.1416029453412626,
          0.14140271493212622,
          0.1412030499858792,
          0.14100394811054656,
          0.1408054069276255,
          0.14060742407199045,
          0.1404099971917995,
          0.14021312394840102,
          0.14001680201624142,
          0.13982102908277352,
          0.13962580284836584,
          0.13943112102621252,
          0.139236981342244,
          0.13904338153503842,
          0.13885031935573403,
          0.13865779256794183,
          0.13846579894765945,
          0.1382743362831854,
          0.13808340237503408,
          0.13789299503585176,
          0.1377031120903328,
          0.13751375137513708,
          0.13732491073880757,
          0.13713658804168907,
          0.13694878115584727,
          0.13676148796498863,
          0.1365747063643809,
          0.13638843426077432,
          0.13620266957232324,
          0.13601741022850888,
          0.13583265417006213,
          0.13564839934888734,
          0.13546464372798664,
          0.13528138528138492,
          0.13509862199405528,
          0.13491635186184525,
          0.13473457289140353,
          0.13455328310010725,
          0.13437248051598993,
          0.13419216317767002,
          0.13401232913427996,
          0.13383297644539577,
          0.13365410318096727,
          0.13347570742124895,
          0.1332977872567311,
          0.133120340788072,
          0.13294336612602992,
          0.13276686139139632,
          0.13259082471492933,
          0.13241525423728776,
          0.1322401481089655,
          0.13206550449022678,
          0.13189132155104158,
          0.13171759747102174,
          0.13154433043935768,
          0.13137151865475527,
          0.13119916032537357,
          0.13102725366876275,
          0.13085579691180285,
          0.13068478829064262,
          0.1305142260506392,
          0.1303441084462979,
          0.1301744337412129,
          0.13000520020800801,
          0.12983640612827807,
          0.12966804979253083,
          0.12950012950012924,
          0.1293326435592341,
          0.12916559028674734,
          0.12899896800825567,
          0.12883277505797447,
          0.12866700977869247,
          0.12850167052171652,
          0.12833675564681699,
          0.12817226352217354,
          0.1280081925243213,
          0.12784454103809742,
          0.12768130745658812,
          0.12751849018107603,
          0.12735608762098805,
          0.12719409819384359,
          0.12703252032520304,
          0.1268713524486169,
          0.12671059300557505,
          0.12655024044545662,
          0.12639029322548007,
          0.12623074981065366,
          0.12607160867372647,
          0.12591286829513956,
          0.12575452716297766,
          0.12559658377292118,
          0.1254390366281985,
          0.12528188423953876,
          0.12512512512512491,
          0.12496875781054714,
          0.12481278082875666,
          0.12465719272001972,
          0.12450199203187232,
          0.12434717731907467,
          0.12419274714356661,
          0.12403870007442301,
          0.12388503468780951,
          0.12373174956693868,
          0.12357884330202648,
          0.12342631449024911,
          0.1232741617357,
          0.12312238364934726,
          0.12297097884899144,
          0.12281994595922359,
          0.1226692836113835,
          0.12251899044351854,
          0.12236906510034241,
          0.12221950623319461,
          0.12207031249999979,
          0.12192148256522779,
          0.12177301509985367,
          0.12162490878131822,
          0.12147716229348862,
          0.12132977432661955,
          0.12118274357731439,
          0.12103606874848684,
          0.1208897485493228,
          0.12074378169524248,
          0.12059816690786279,
          0.12045290291496004,
          0.1203079884504329,
          0.1201634222542656,
          0.12001920307249138,
          0.11987532965715633,
          0.1197318007662833,
          0.11958861516383618,
          0.11944577161968443,
          0.11930326890956791,
          0.11916110581506177,
          0.11901928112354182,
          0.11887779362815007,
          0.11873664212776043,
          0.11859582542694477,
          0.11845534233593913,
          0.11831519167061028,
          0.11817537225242235,
          0.1180358829084039,
          0.11789672247111507,
          0.11775788977861494,
          0.11761938367442933,
          0.11748120300751858,
          0.11734334663224573,
          0.11720581340834482,
          0.1170686022008895,
          0.11693171188026168,
          0.11679514132212074,
          0.11665888940737258,
          0.11652295502213912,
          0.11638733705772786,
          0.11625203441060192,
          0.11611704598234997,
          0.11598237067965644,
          0.1158480074142722,
          0.11571395510298516,
          0.11558021266759105,
          0.11544677903486467,
          0.11531365313653111,
          0.11518083390923725,
          0.11504832029452346,
          0.11491611123879544,
          0.11478420569329637,
          0.11465260261407911,
          0.1145213009619787,
          0.11439029970258499,
          0.11425959780621552,
          0.1141291942478884,
          0.1139990880072957,
          0.11386927806877681,
          0.11373976342129183,
          0.11361054305839556,
          0.1134816159782113,
          0.1133529811834049,
          0.11322463768115919,
          0.11309658448314837,
          0.11296882060551265,
          0.11284134506883299,
          0.11271415689810617,
          0.11258725512271987,
          0.11246063877642803,
          0.11233430689732625,
          0.11220825852782747,
          0.1120824927146378,
          0.11195700850873247,
          0.11183180496533196,
          0.11170688114387828,
          0.11158223610801143,
          0.11145786892554597,
          0.11133377866844785,
          0.11120996441281124,
          0.11108642523883565,
          0.1109631602308032,
          0.11084016847705591,
          0.11071744906997326,
          0.11059500110594984,
          0.11047282368537324,
          0.1103509159126019,
          0.11022927689594339,
          0.1101079057476325,
          0.10998680158380979,
          0.10986596352449994,
          0.10974539069359068,
          0.10962508221881148,
          0.10950503723171247,
          0.10938525486764365,
          0.10926573426573408,
          0.10914647456887125,
          0.10902747492368058,
          0.10890873448050513,
          0.10879025239338534,
          0.10867202782003893,
          0.10855405992184089,
          0.10843634786380375,
          0.10831889081455785,
          0.10820168794633175,
          0.10808473843493278,
          0.10796804145972771,
          0.10785159620362361,
          0.10773540185304872,
          0.10761945759793352,
          0.10750376263169194,
          0.10738831615120258,
          0.10727311735679022,
          0.1071581654522073,
          0.10704345964461555,
          0.10692899914456784,
          0.10681478316599002,
          0.10670081092616289,
          0.10658708164570439,
          0.10647359454855182,
          0.10636034886194413,
          0.10624734381640448,
          0.10613457864572266,
          0.10602205258693796,
          0.10590976488032185,
          0.10579771476936087,
          0.10568590150073968,
          0.10557432432432422,
          0.1054629824931448,
          0.10535187526337958,
          0.10524100189433792,
          0.10513036164844396,
          0.10501995379122021,
          0.1049097775912714,
          0.10479983232026818,
          0.10469011725293124,
          0.10458063166701519,
          0.10447137484329286,
          0.1043623460655395,
          0.10425354462051706,
          0.10414496979795872,
          0.10403662089055343,
          0.10392849719393053,
          0.10382059800664448,
          0.10371292263015966,
          0.1036054703688354,
          0.10349824052991091,
          0.10339123242349041,
          0.10328444536252833,
          0.10317787866281461,
          0.10307153164296012,
          0.10296540362438213,
          0.10285949393128978,
          0.10275380189066988,
          0.10264832683227254,
          0.10254306808859712,
          0.102438024994878,
          0.10233319688907072,
          0.10222858311183797,
          0.10212418300653585,
          0.10201999591920007,
          0.10191602119853231,
          0.10181225819588668,
          0.1017087062652562,
          0.1016053647632594,
          0.10150223304912699,
          0.10139931048468862,
          0.10129659643435972,
          0.10119409026512842,
          0.10109179134654256,
          0.10098969905069671,
          0.10088781275221943,
          0.10078613182826034,
          0.10068465565847755,
          0.10058338362502504,
          0.10048231511254009,
          0.10038144950813079,
          0.1002807862013637,
          0.10018032458425154,
          0.10008006405124087,
          0.09998000399920004,
          0.09988014382740701,
          0.09978048293753732,
          0.0996810207336522,
          0.09958175662218668,
          0.09948269001193778,
          0.09938382031405274,
          0.09928514694201734,
          0.09918666931164438,
          0.0990883868410621,
          0.09899029895070269,
          0.098892405063291,
          0.09879470460383309,
          0.09869719699960507,
          0.09859988168014185,
          0.09850275807722603,
          0.09840582562487685,
          0.09830908375933922,
          0.09821253191907273,
          0.09811616954474082,
          0.0980199960792,
          0.09792401096748908,
          0.09782821365681849,
          0.09773260359655968,
          0.09763718023823459,
          0.09754194303550513,
          0.0974468914441628,
          0.09735202492211825,
          0.09725734292939105,
          0.09716284492809937,
          0.09706853038244989,
          0.09697439875872757,
          0.09688044952528567,
          0.09678668215253566,
          0.09669309611293739,
          0.09659969088098902,
          0.09650646593321735,
          0.09641342074816799,
          0.09632055480639552,
          0.09622786759045403,
          0.09613535858488734,
          0.09604302727621956,
          0.09595087315294551,
          0.0958588957055213,
          0.09576709442635492,
          0.09567546880979698,
          0.09558401835213133,
          0.0954927425515659,
          0.09540164090822344,
          0.09531071292413248,
          0.09521995810321825,
          0.09512937595129357,
          0.09503896597605,
          0.0949487276870488,
          0.0948586605957122,
          0.09476876421531444,
          0.0946790380609731,
          0.09458948164964036,
          0.0945000945000943,
          0.0944108761329303,
          0.0943218260705525,
          0.09423294383716525,
          0.09414422895876462,
          0.09405568096312995,
          0.0939672993798156,
          0.09387908374014246,
          0.09379103357718978,
          0.09370314842578686,
          0.09361542782250491,
          0.09352787130564884,
          0.09344047841524925,
          0.0933532486930543,
          0.0932661816825217,
          0.09317927692881081,
          0.09309253397877466,
          0.09300595238095215,
          0.09291953168556007,
          0.09283327144448549,
          0.09274717121127782,
          0.09266123054114134,
          0.09257544899092736,
          0.09248982611912666,
          0.0924043614858619,
          0.09231905465288012,
          0.09223390518354524,
          0.09214891264283058,
          0.0920640765973115,
          0.09197939661515796,
          0.0918948722661273,
          0.09181050312155685,
          0.09172628875435675,
          0.09164222873900268,
          0.09155832265152876,
          0.09147457006952041,
          0.09139097057210721,
          0.0913075237399559,
          0.09122422915526338,
          0.09114108640174966,
          0.09105809506465098,
          0.090975254730713,
          0.09089256498818371,
          0.09081002542680687,
          0.09072763563781504,
          0.09064539521392291,
          0.09056330374932055,
          0.0904813608396668,
          0.09039956608208259,
          0.09031791907514429,
          0.09023641941887724,
          0.09015506671474915,
          0.09007386056566363,
          0.0899928005759537,
          0.08991188635137541,
          0.08983111749910143,
          0.08975049362771469,
          0.08967001434720204,
          0.08958967926894795,
          0.08950948800572835,
          0.08942944017170426,
          0.08934953538241576,
          0.08926977325477568,
          0.08919015340706361,
          0.08911067545891974,
          0.08903133903133878,
          0.08895214374666403,
          0.08887308922858132,
          0.08879417510211304,
          0.08871540099361223,
          0.0886367665307567,
          0.08855827134254313,
          0.08847991505928128,
          0.08840169731258812,
          0.08832361773538216,
          0.0882456759618776,
          0.08816787162757865,
          0.08809020436927388,
          0.08801267382503054,
          0.08793527963418897,
          0.08785802143735696,
          0.08778089887640425,
          0.08770391159445687,
          0.0876270592358918,
          0.08755034144633139,
          0.08747375787263796,
          0.08739730816290833,
          0.08732099196646849,
          0.08724480893386818,
          0.08716875871687564,
          0.08709284096847215,
          0.08701705534284697,
          0.0869414014953919,
          0.08686587908269609,
          0.086790487762541,
          0.08671522719389503,
          0.08664009703690846,
          0.08656509695290837,
          0.08649022660439347,
          0.08641548565502914,
          0.0863408737696423,
          0.08626639061421645,
          0.08619203585588667,
          0.08611780916293464,
          0.08604371020478377,
          0.08596973865199424,
          0.08589589417625812,
          0.08582217645039453,
          0.0857485851483448,
          0.08567511994516765,
          0.08560178051703449,
          0.0855285665412245,
          0.08545547769612005,
          0.08538251366120192,
          0.08530967411704461,
          0.0852369587453117,
          0.08516436722875123,
          0.08509189925119104,
          0.08501955449753419,
          0.08494733265375444,
          0.08487523340689164,
          0.08480325644504727,
          0.08473140145737988,
          0.0846596681341007,
          0.08458805616646908,
          0.08451656524678816,
          0.0844451950684004,
          0.08437394532568321,
          0.08430281571404463,
          0.0842318059299189,
          0.08416091567076225,
          0.08409014463504852,
          0.0840194925222649,
          0.08394895903290772,
          0.08387854386847818,
          0.08380824673147813,
          0.08373806732540588,
          0.08366800535475209,
          0.08359806052499559,
          0.08352823254259917,
          0.08345852111500561,
          0.08338892595063352,
          0.08331944675887328,
          0.083250083250083,
          0.08318083513558451,
          0.08311170212765932,
          0.08304268393954467,
          0.08297378028542954,
          0.08290499088045074,
          0.08283631544068891,
          0.08276775368316475,
          0.08269930532583496,
          0.08263097008758852,
          0.08256274768824276,
          0.08249463784853954,
          0.08242664029014145,
          0.08235875473562809,
          0.08229098090849211,
          0.08222331853313568,
          0.08215576733486658,
          0.0820883270398946,
          0.08202099737532774,
          0.08195377806916865,
          0.08188666885031083,
          0.0818196694485351,
          0.08175277959450589,
          0.08168599901976768,
          0.08161932745674143,
          0.08155276463872092,
          0.08148631029986929,
          0.08141996417521544,
          0.08135372600065048,
          0.08128759551292437,
          0.08122157244964227,
          0.08115565654926113,
          0.08108984755108625,
          0.08102414519526786,
          0.0809585492227976,
          0.08089305937550524,
          0.08082767539605527,
          0.08076239702794345,
          0.08069722401549353,
          0.08063215610385388,
          0.08056719303899419,
          0.08050233456770213,
          0.0804375804375801,
          0.08037293039704195,
          0.08030838419530968,
          0.08024394158241022,
          0.08017960230917223,
          0.08011536612722289,
          0.08005123278898464,
          0.07998720204767207,
          0.0799232736572887,
          0.07985944737262389,
          0.07979572294924962,
          0.07973210014351749,
          0.07966857871255548,
          0.07960515841426495,
          0.07954183900731757,
          0.07947862025115215,
          0.07941550190597176,
          0.07935248373274055,
          0.07928956549318081,
          0.07922674694976996,
          0.07916402786573751,
          0.07910140800506217,
          0.07903888713246886,
          0.07897646501342569,
          0.0789141414141411,
          0.07885191610156095,
          0.07878978884336557,
          0.07872775940796692,
          0.07866582756450564,
          0.07860399308284828,
          0.07854225573358434,
          0.07848061528802353,
          0.07841907151819291,
          0.07835762419683404,
          0.07829627309740025,
          0.07823501799405383,
          0.07817385866166322,
          0.07811279487580036,
          0.07805182641273777,
          0.07799095304944598,
          0.07793017456359073,
          0.07786949073353032,
          0.07780890133831281,
          0.07774840615767348,
          0.07768800497203203,
          0.07762769756249001,
          0.07756748371082814,
          0.07750736319950367,
          0.07744733581164781,
          0.07738740133106302,
          0.07732755954222058,
          0.0772678102302578,
          0.07720815318097564,
          0.07714858818083603,
          0.07708911501695935,
          0.07702973347712191,
          0.07697044334975343,
          0.07691124442393452,
          0.07685213648939414,
          0.07679311933650719,
          0.07673419275629195,
          0.07667535654040765,
          0.07661661048115205,
          0.07655795437145893,
          0.07649938800489571,
          0.07644091117566099,
          0.07638252367858211,
          0.07632422530911288,
          0.07626601586333105,
          0.07620789513793605,
          0.07614986293024649,
          0.07609191903819791,
          0.0760340632603404,
          0.07597629539583627,
          0.07591861524445771,
          0.07586102260658452,
          0.07580351728320173,
          0.07574609907589737,
          0.07568876778686019,
          0.0756315232188774,
          0.0755743651753323,
          0.07551729346020215,
          0.0754603078780559,
          0.07540340823405194,
          0.07534659433393587,
          0.0752898659840383,
          0.0752332229912727,
          0.07517666516313312,
          0.07512019230769207,
          0.07506380423359832,
          0.07500750075007477,
          0.07495128166691627,
          0.07489514679448749,
          0.07483909594372076,
          0.07478312892611404,
          0.07472724555372866,
          0.07467144563918734,
          0.07461572899567205,
          0.07456009543692191,
          0.07450454477723116,
          0.07444907683144703,
          0.07439369141496775,
          0.07433838834374044,
          0.07428316743425911,
          0.07422802850356267,
          0.07417297136923277,
          0.07411799584939197,
          0.07406310176270156,
          0.0740082889283597,
          0.07395355716609942,
          0.07389890629618655,
          0.07384433613941783,
          0.07378984651711899,
          0.07373543725114265,
          0.07368110816386653,
          0.07362685907819147,
          0.07357268981753949,
          0.07351860020585185,
          0.0734645900675872,
          0.07341065922771964,
          0.07335680751173686,
          0.07330303474563823,
          0.07324934075593297,
          0.0731957253696382,
          0.07314218841427714,
          0.07308872971787729,
          0.07303534910896853,
          0.0729820464165813,
          0.07292882147024483,
          0.07287567409998522,
          0.0728226041363237,
          0.07276961141027485,
          0.07271669575334475,
          0.07266385699752918,
          0.07261109497531198,
          0.07255840951966308,
          0.07250580046403687,
          0.07245326764237042,
          0.0724008108890817,
          0.07234843003906788,
          0.0722961249277036,
          0.0722438953908392,
          0.07219174126479902,
          0.07213966238637974,
          0.07208765859284862,
          0.07203572972194179,
          0.07198387561186266,
          0.07193209610128011,
          0.07188039102932692,
          0.07182876023559806,
          0.07177720356014902,
          0.0717257208434942,
          0.07167431192660523,
          0.07162297665090933,
          0.07157171485828773,
          0.07152052639107395,
          0.07146941109205232,
          0.07141836880445623,
          0.0713673993719666,
          0.07131650263871031,
          0.07126567844925855,
          0.07121492664862526,
          0.07116424708226558,
          0.07111363959607424,
          0.07106310403638402,
          0.0710126402499642,
          0.07096224808401902,
          0.07091192738618607,
          0.07086167800453487,
          0.07081149978756522,
          0.07076139258420577,
          0.07071135624381246,
          0.07066139061616702,
          0.07061149555147547,
          0.07056167090036661,
          0.07051191651389054,
          0.07046223224351716,
          0.07041261794113472,
          0.07036307345904837,
          0.07031359864997859,
          0.07026419336705983,
          0.07021485746383903,
          0.07016559079427417,
          0.07011639321273282,
          0.0700672645739907,
          0.07001820473323031,
          0.06996921354603941,
          0.06992029086840969,
          0.06987143655673528,
          0.06982265046781143,
          0.06977393245883305,
          0.06972528238739335,
          0.0696767001114824,
          0.06962818548948582,
          0.06957973838018336,
          0.06953135864274754,
          0.06948304613674229,
          0.06943480072212159,
          0.06938662225922808,
          0.06933851060879176,
          0.06929046563192869,
          0.0692424871901395,
          0.06919457514530825,
          0.06914672935970093,
          0.06909894969596427,
          0.06905123601712435,
          0.06900358818658534,
          0.06895600606812817,
          0.06890848952590922,
          0.06886103842445906,
          0.06881365262868114,
          0.0687663320038505,
          0.06871907641561256,
          0.06867188572998173,
          0.06862475981334024,
          0.06857769853243684,
          0.06853070175438555,
          0.06848376934666443,
          0.06843690117711429,
          0.0683900971139375,
          0.06834335702569669,
          0.06829668078131362,
          0.06825006825006787,
          0.0682035193015956,
          0.06815703380588839,
          0.06811061163329209,
          0.06806425265450547,
          0.06801795674057914,
          0.06797172376291426,
          0.0679255535932614,
          0.0678794461037194,
          0.06783340116673411,
          0.06778741865509723,
          0.06774149844194516,
          0.06769564040075782,
          0.0676498444053575,
          0.0676041103299077,
          0.06755843804891196,
          0.06751282743721272,
          0.06746727836999021,
          0.06742179072276125,
          0.06737636437137817,
          0.06733099919202766,
          0.06728569506122964,
          0.06724045185583613,
          0.06719526945303016,
          0.06715014773032466,
          0.06710508656556131,
          0.06706008583690952,
          0.06701514542286521,
          0.06697026520224984,
          0.06692544505420923,
          0.06688068485821257,
          0.06683598449405122,
          0.06679134384183771,
          0.0667467627820047,
          0.06670224119530378,
          0.06665777896280456,
          0.06661337596589355,
          0.06656903208627306,
          0.0665247472059602,
          0.06648052120728583,
          0.06643635397289352,
          0.0663922453857385,
          0.06634819532908659,
          0.06630420368651327,
          0.06626027034190254,
          0.06621639517944598,
          0.06617257808364169,
          0.06612881893929329,
          0.06608511763150893,
          0.06604147404570025,
          0.06599788806758139,
          0.065954359583168,
          0.06591088847877624,
          0.06586747464102181,
          0.06582411795681893,
          0.06578081831337937,
          0.06573757559821149,
          0.06569438969911924,
          0.06565126050420123,
          0.0656081879018497,
          0.06556517178074964,
          0.0655222120298777,
          0.0654793085385014,
          0.06543646119617808,
          0.06539366989275394,
          0.06535093451836317,
          0.06530825496342693,
          0.06526563111865248,
          0.06522306287503218,
          0.06518055012384262,
          0.06513809275664366,
          0.06509569066527754,
          0.06505334374186791,
          0.06501105187881899,
          0.06496881496881456,
          0.06492663290481715,
          0.06488450558006707,
          0.06484243288808156,
          0.06480041472265383,
          0.06475845097785221,
          0.06471654154801927,
          0.0646746863277709,
          0.06463288521199546,
          0.06459113809585285,
          0.06454944487477368,
          0.06450780544445839,
          0.06446621970087635,
          0.06442468754026504,
          0.06438320885912914,
          0.06434178355423971,
          0.06430041152263333,
          0.0642590926616112,
          0.06421782686873834,
          0.06417661404184273,
          0.06413545407901446,
          0.06409434687860488,
          0.06405329233922581,
          0.06401229035974865,
          0.06397134083930356,
          0.0639304436772787,
          0.06388959877331929,
          0.06384880602732688,
          0.0638080653394585,
          0.06376737661012585,
          0.06372673973999449,
          0.06368615462998303,
          0.06364562118126232,
          0.06360513929525466,
          0.06356470887363297,
          0.06352432981832003,
          0.06348400203148767,
          0.06344372541555601,
          0.06340349987319262,
          0.06336332530731174,
          0.06332320162107359,
          0.06328312871788344,
          0.06324310650139098,
          0.06320313487548945,
          0.06316321374431495,
          0.06312334301224556,
          0.06308352258390072,
          0.06304375236414035,
          0.06300403225806415,
          0.06296436217101084,
          0.0629247420085574,
          0.0628851716765183,
          0.06284565108094482,
          0.06280618012812422,
          0.06276675872457908,
          0.06272738677706649,
          0.06268806419257736,
          0.06264879087833568,
          0.06260956674179778,
          0.06257039169065162,
          0.06253126563281605,
          0.06249218847644009,
          0.062453160129902215,
          0.06241418050180965,
          0.06237524950099764,
          0.06233636703652875,
          0.062297533017692135,
          0.06225874735400287,
          0.062220009955201216,
          0.06218132073125197,
          0.06214267959234365,
          0.062104086448887964,
          0.06206554121151899,
          0.06202704379109254,
          0.06198859409868548,
          0.06195019204559498,
          0.06191183754333793,
          0.06187353050365018,
          0.061835270838485924,
          0.06179705846001694,
          0.06175889328063206,
          0.06172077521293633,
          0.061682704169750455,
          0.06164468006411012,
          0.0616067028092653,
          0.06156877231867962,
          0.06153088850602967,
          0.06149305128520442,
          0.06145526057030447,
          0.061417516275641466,
          0.061379818315737446,
          0.06134216660532416,
          0.06130456105934248,
          0.061267001592941704,
          0.061229488121478964,
          0.06119202056051857,
          0.061154598825831366,
          0.061117222833394116,
          0.06107989249938886,
          0.06104260774020232,
          0.061005368472425235,
          0.060968174612851755,
          0.06093102607847883,
          0.06089392278650557,
          0.060856864654332675,
          0.06081985159956177,
          0.060782883539994816,
          0.060745960393633495,
          0.060709082078678644,
          0.060672248513529585,
          0.060635459616783564,
          0.06059871530723516,
          0.06056201550387564,
          0.06052536012589241,
          0.06048874909266842,
          0.06045218232378155,
          0.060415659739004014,
          0.060379181258301814,
          0.060342746801834095,
          0.06030635628995264,
          0.06027000964320121,
          0.06023370678231504,
          0.06019744762822022,
          0.06016123210203311,
          0.06012506012505979,
          0.060088931618795485,
          0.06005284650492401,
          0.06001680470531716,
          0.05998080614203422,
          0.05994485073732134,
          0.05990893841361098,
          0.05987306909352141,
          0.05983724269985606,
          0.05980145915560306,
          0.05976571838393465,
          0.05973002030820659,
          0.05969436485195766,
          0.05965875193890912,
          0.059623181492964146,
          0.05958765343820729,
          0.059552167698903924,
          0.05951672419949974,
          0.05948132286462019,
          0.05944596361906995,
          0.05941064638783238,
          0.05937537109606903,
          0.059340137669119074,
          0.05930494603249879,
          0.05926979611190106,
          0.0592346878331948,
          0.05919962112242449,
          0.059164595905809636,
          0.05912961210974423,
          0.05909466966079627,
          0.05905976848570721,
          0.05902490851139148,
          0.05899008966493596,
          0.05895531187359949,
          0.05892057506481231,
          0.05888587916617563,
          0.05885122410546107,
          0.058816609810610196,
          0.058782036209733976,
          0.058747503231112344,
          0.05871301080319366,
          0.0586785588545942,
          0.058644147314097714,
          0.05860977611065492,
          0.058575445173382985,
          0.05854115443156505,
          0.05850690381464979,
          0.05847269325225086,
          0.05843852267414646,
          0.05840439201027883,
          0.0583703011907538,
          0.058336250145840284,
          0.058302238805969804,
          0.05826826710173605,
          0.058234334963894366,
          0.0582004423233613,
          0.05816658911121416,
          0.05813277525869049,
          0.05809900069718765,
          0.05806526535826233,
          0.05803156917363009,
          0.057997912075164915,
          0.05796429399489877,
          0.05793071486502107,
          0.05789717461787827,
          0.05786367318597347,
          0.05783021050196586,
          0.057796786498670316,
          0.05776340110905694,
          0.057730054266250656,
          0.05769674590353068,
          0.05766347595433017,
          0.057630244352235696,
          0.05759705103098685,
          0.057563895924475805,
          0.05753077896674684,
          0.05749770009199595,
          0.05746465923457037,
          0.05743165632896817,
          0.05739869130983777,
          0.0573657641119776,
          0.0573328746703356,
          0.057300022920008804,
          0.05726720879624291,
          0.05723443223443188,
          0.05720169317011748,
          0.0571689915389889,
          0.05713632727688229,
          0.05710370031978037,
          0.057071110603811995,
          0.05703855806525176,
          0.057006042640519554,
          0.05697356426618015,
          0.05694112287894283,
          0.05690871841566094,
          0.056876350813331485,
          0.05684402000909471,
          0.05681172594023374,
          0.0567794685441741,
          0.05674724775848339,
          0.056715063520870815,
          0.05668291576918684,
          0.05665080444142273,
          0.05661872947571023,
          0.056586690810321076,
          0.05655468838366667,
          0.05652272213429765,
          0.056490792000903504,
          0.056458897922312214,
          0.05642703983748978,
          0.056395217685539914,
          0.05636343140570363,
          0.05633168093735882,
          0.05629996622001992,
          0.056268287193337485,
          0.05623664379709783,
          0.05620503597122266,
          0.05617346365576864,
          0.05614192679092709,
          0.05611042531702353,
          0.05607895917451734,
          0.056047528304001414,
          0.056016132646201734,
          0.055984772141977,
          0.055953446732318335,
          0.0559221563583488,
          0.055890900961323126,
          0.055859680482627266,
          0.055828494863778104,
          0.05579734404642302,
          0.05576622797233958,
          0.05573514658343514,
          0.055704099821746504,
          0.05567308762943955,
          0.05564210994880889,
          0.055611166722277464,
          0.05558025789239625,
          0.055549383401843865,
          0.05551854319342624,
          0.0554877372100762,
          0.05545696539485322,
          0.055426227690942985,
          0.05539552404165707,
          0.0553648543904326,
          0.055334218680831875,
          0.055303616856542066,
          0.055273048861374845,
          0.05524251463926603,
          0.05521201413427527,
          0.05518154729058568,
          0.055151114052503517,
          0.05512071436445782,
          0.055090348171000086,
          0.05506001541680396,
          0.05502971604666485,
          0.0549994500054996,
          0.054969217238346184,
          0.054939017690363356,
          0.05490885130683032,
          0.0548787180331464,
          0.054848617814830726,
          0.05481855059752186,
          0.054788516326977524,
          0.05475851494907425,
          0.054728546409807025,
          0.054698610655289026,
          0.05466870763175125,
          0.054638837285542224,
          0.054608999563127654,
          0.054579194411090146,
          0.05454942177612883,
          0.05451968160505908,
          0.05448997384481221,
          0.05446029844243512,
          0.05443065534509001,
          0.054401044500054056,
          0.0543714658547191,
          0.054341919356591335,
          0.05431240495329099,
          0.05428292259255204,
          0.05425347222222188,
          0.05422405379026101,
          0.05419466724474277,
          0.05416531253385298,
          0.05413598960588966,
          0.05410669840926273,
          0.05407743889249371,
          0.05404821100421542,
          0.054019014693171656,
          0.05398984990821691,
          0.05396071659831608,
          0.05393161471254415,
          0.0539025442000859,
          0.05387350501023563,
          0.05384449709239682,
          0.05381552039608189,
          0.05378657487091189,
          0.05375766046661616,
          0.05372877713303212,
          0.05369992482010492,
          0.05367110347788716,
          0.05364231305653865,
          0.05361355350632605,
          0.05358482477762263,
          0.05355612682090796,
          0.05352745958676766,
          0.05349882302589309,
          0.05347021708908104,
          0.053441641727233515,
          0.05341309689135742,
          0.05338458253256425,
          0.05335609860206987,
          0.053327645051194195,
          0.05329922183136092,
          0.053270828894097254,
          0.05324246619103362,
          0.053214133673903444,
          0.05318583129454279,
          0.05315755900489015,
          0.053129316756986164,
          0.05310110450297332,
          0.05307292219509572,
          0.053044769785698775,
          0.053016647227228986,
          0.052988554472233634,
          0.05296049147336051,
          0.05293245818335768,
          0.052904454555073185,
          0.05287648054145481,
          0.0528485360955498,
          0.052820621170504616,
          0.05279273571956464,
          0.05276487969607394,
          0.05273705305347502,
          0.05270925574530853,
          0.05268148772521301,
          0.052653748946924664,
          0.05262603936427709,
          0.05259835893120099,
          0.05257070760172396,
          0.052543085329970214,
          0.05251549207016034,
          0.05248792777661102,
          0.052460392403734825,
          0.052432885906039915,
          0.052405408238129815,
          0.052377959354703185,
          0.052350539210553514,
          0.05232314776056892,
          0.05229578495973189,
          0.052268450763119034,
          0.05224114512590081,
          0.052213868003341345,
          0.05218661935079811,
          0.05215939912372175,
          0.052132207277655794,
          0.05210504376823642,
          0.05207790855119224,
          0.05205080158234402,
          0.05202372281760448,
          0.051996672212978025,
          0.051969649724560515,
          0.05194265530853904,
          0.05191568892119165,
          0.05188875051888717,
          0.05186184005808491,
          0.051834957495334504,
          0.05180810278727557,
          0.05178127589063758,
          0.051754476762239564,
          0.0517277053589899,
          0.05170096163788609,
          0.051674245556014506,
          0.05164755707055019,
          0.05162089613875658,
          0.051594262717985374,
          0.05156765676567619,
          0.05154107823935639,
          0.05151452709664088,
          0.051488003295231836,
          0.05146150679291853,
          0.05143503754757704,
          0.05140859551717011,
          0.05138218065974684,
          0.051355792933442536,
          0.05132943229647845,
          0.05130309870716157,
          0.05127679212388438,
          0.05125051250512469,
          0.051224259809445394,
          0.05119803399549421,
          0.05117183502200353,
          0.05114566284779015,
          0.0511195174317551,
          0.05109339873288337,
          0.051067306710243766,
          0.05104124132298864,
          0.05101520253035371,
          0.05098919029165783,
          0.05096320456630279,
          0.05093724531377309,
          0.05091131249363574,
          0.050885406065540054,
          0.05085952598921742,
          0.05083367222448114,
          0.05080784473122614,
          0.05078204346942885,
          0.05075626839914694,
          0.05073051948051912,
          0.050704796673764985,
          0.05067909993918472,
          0.050653429237159,
          0.050627784528148694,
          0.05060216577269472,
          0.05057657293141782,
          0.05055100596501835,
          0.05052546483427613,
          0.050499949500050156,
          0.05047445992327848,
          0.05044899606497797,
          0.050423557886244114,
          0.05039814534825084,
          0.050372758412250314,
          0.050347397039572715,
          0.05032206119162608,
          0.05029675082989606,
          0.050271465915945786,
          0.05024620641141561,
          0.050220972278022975,
          0.05019576347756216,
          0.05017057997190414,
          0.05014542172299636,
          0.05012028869286254,
          0.05009518084360251,
          0.050070098137392015,
          0.050045040536482496,
          0.050020008003200944,
          0.04999500049994967
         ],
         "yaxis": "y"
        },
        {
         "hoverlabel": {
          "namelength": 0
         },
         "hovertemplate": "variable=CUR_COV_STANDARD<br>value=%{y}",
         "legendgroup": "variable=CUR_COV_STANDARD",
         "line": {
          "color": "#EF553B",
          "dash": "solid"
         },
         "mode": "lines",
         "name": "variable=CUR_COV_STANDARD",
         "showlegend": true,
         "type": "scattergl",
         "xaxis": "x",
         "y": [
          83.33333333333331,
          45.45454545454545,
          31.249999999999996,
          23.80952380952381,
          19.23076923076923,
          16.129032258064516,
          13.88888888888889,
          12.195121951219512,
          10.869565217391305,
          9.803921568627452,
          8.928571428571429,
          8.196721311475411,
          7.575757575757577,
          7.042253521126762,
          6.578947368421054,
          6.17283950617284,
          5.813953488372094,
          5.494505494505495,
          5.208333333333334,
          4.950495049504951,
          4.716981132075473,
          4.504504504504506,
          4.310344827586208,
          4.132231404958679,
          3.9682539682539693,
          3.816793893129772,
          3.6764705882352953,
          3.546099290780143,
          3.4246575342465766,
          3.3112582781456967,
          3.2051282051282066,
          3.1055900621118027,
          3.012048192771086,
          2.923976608187136,
          2.840909090909092,
          2.7624309392265207,
          2.688172043010754,
          2.61780104712042,
          2.5510204081632666,
          2.4875621890547275,
          2.4271844660194186,
          2.3696682464454986,
          2.3148148148148158,
          2.262443438914028,
          2.2123893805309742,
          2.1645021645021654,
          2.118644067796611,
          2.074688796680499,
          2.032520325203253,
          1.9920318725099613,
          1.953125000000001,
          1.9157088122605375,
          1.8796992481203019,
          1.8450184501845028,
          1.8115942028985517,
          1.7793594306049831,
          1.7482517482517492,
          1.718213058419245,
          1.6891891891891901,
          1.6611295681063132,
          1.633986928104576,
          1.607717041800644,
          1.582278481012659,
          1.557632398753895,
          1.5337423312883445,
          1.5105740181268892,
          1.488095238095239,
          1.4662756598240478,
          1.445086705202313,
          1.4245014245014254,
          1.4044943820224727,
          1.3850415512465382,
          1.3661202185792358,
          1.347708894878707,
          1.329787234042554,
          1.3123359580052503,
          1.2953367875647677,
          1.278772378516625,
          1.2626262626262634,
          1.246882793017457,
          1.2315270935960598,
          1.2165450121654509,
          1.2019230769230775,
          1.1876484560570078,
          1.173708920187794,
          1.1600928074245944,
          1.1467889908256885,
          1.1337868480725628,
          1.1210762331838569,
          1.1086474501108652,
          1.096491228070176,
          1.0845986984815623,
          1.0729613733905585,
          1.0615711252653934,
          1.0504201680672276,
          1.0395010395010402,
          1.0288065843621406,
          1.0183299389002043,
          1.008064516129033,
          0.9980039920159687,
          0.9881422924901192,
          0.9784735812133079,
          0.9689922480620161,
          0.9596928982725533,
          0.9505703422053238,
          0.9416195856873829,
          0.932835820895523,
          0.9242144177449174,
          0.9157509157509164,
          0.9074410163339389,
          0.899280575539569,
          0.8912655971479507,
          0.8833922261484105,
          0.8756567425569183,
          0.8680555555555561,
          0.8605851979345961,
          0.8532423208191132,
          0.8460236886632831,
          0.8389261744966449,
          0.8319467554076545,
          0.8250825082508256,
          0.8183306055646486,
          0.8116883116883122,
          0.8051529790660231,
          0.7987220447284351,
          0.7923930269413635,
          0.7861635220125792,
          0.7800312012480505,
          0.7739938080495361,
          0.7680491551459299,
          0.7621951219512201,
          0.7564296520423606,
          0.7507507507507513,
          0.7451564828614013,
          0.7396449704142016,
          0.7342143906020563,
          0.7288629737609335,
          0.7235890014471785,
          0.7183908045977017,
          0.713266761768902,
          0.7082152974504253,
          0.7032348804500708,
          0.6983240223463691,
          0.6934812760055483,
          0.68870523415978,
          0.683994528043776,
          0.6793478260869569,
          0.6747638326585699,
          0.6702412868632711,
          0.6657789613848206,
          0.6613756613756617,
          0.6570302233902763,
          0.6527415143603137,
          0.6485084306095983,
          0.6443298969072169,
          0.6402048655569786,
          0.6361323155216289,
          0.6321112515802785,
          0.6281407035175883,
          0.6242197253433213,
          0.6203473945409433,
          0.6165228113440201,
          0.6127450980392161,
          0.6090133982947629,
          0.6053268765133175,
          0.6016847172081833,
          0.5980861244019142,
          0.5945303210463737,
          0.5910165484633573,
          0.5875440658049357,
          0.5841121495327106,
          0.5807200929152152,
          0.5773672055427255,
          0.5740528128587833,
          0.5707762557077628,
          0.5675368898978436,
          0.5643340857787812,
          0.5611672278338946,
          0.5580357142857144,
          0.5549389567147615,
          0.5518763796909493,
          0.5488474204171241,
          0.5458515283842795,
          0.5428881650380022,
          0.5399568034557236,
          0.5370569280343717,
          0.5341880341880342,
          0.5313496280552603,
          0.5285412262156448,
          0.5257623554153522,
          0.5230125523012552,
          0.5202913631633714,
          0.5175983436853001,
          0.5149330587023686,
          0.5122950819672131,
          0.509683995922528,
          0.5070993914807302,
          0.5045408678102926,
          0.5020080321285141,
          0.4995004995004995,
          0.4970178926441352,
          0.49455984174085066,
          0.4921259842519685,
          0.48971596474045054,
          0.4873294346978557,
          0.4849660523763336,
          0.4826254826254826,
          0.4803073967339097,
          0.47801147227533464,
          0.4757373929590866,
          0.4734848484848485,
          0.471253534401508,
          0.46904315196998125,
          0.4668534080298786,
          0.4646840148698885,
          0.46253469010175763,
          0.4604051565377532,
          0.458295142071494,
          0.4562043795620438,
          0.45413260672116257,
          0.45207956600361665,
          0.45004500450045004,
          0.44802867383512546,
          0.44603033006244425,
          0.44404973357015987,
          0.4420866489832007,
          0.44014084507042256,
          0.43821209465381245,
          0.4363001745200698,
          0.43440486533449174,
          0.43252595155709345,
          0.4306632213608958,
          0.42881646655231564,
          0.42698548249359525,
          0.4251700680272109,
          0.42337002540220153,
          0.42158516020236086,
          0.41981528127623846,
          0.4180602006688963,
          0.4163197335553705,
          0.41459369817578773,
          0.41288191577208916,
          0.41118421052631576,
          0.4095004095004095,
          0.4078303425774878,
          0.4061738424045492,
          0.4045307443365696,
          0.40290088638195004,
          0.4012841091492777,
          0.3996802557953637,
          0.39808917197452226,
          0.3965107057890563,
          0.3949447077409162,
          0.3933910306845003,
          0.3918495297805642,
          0.3903200624512099,
          0.3888024883359253,
          0.3872966692486444,
          0.3858024691358024,
          0.38431975403535734,
          0.38284839203675336,
          0.3813882532418001,
          0.3799392097264437,
          0.3785011355034064,
          0.3770739064856711,
          0.37565740045078877,
          0.3742514970059879,
          0.372856077554064,
          0.3714710252600296,
          0.3700962250185047,
          0.3687315634218288,
          0.3673769287288757,
          0.3660322108345533,
          0.3646973012399707,
          0.3633720930232557,
          0.3620564808110064,
          0.3607503607503606,
          0.35945363048166773,
          0.3581661891117477,
          0.3568879371877229,
          0.35561877667140807,
          0.35435861091424503,
          0.35310734463276816,
          0.35186488388458814,
          0.3506311360448806,
          0.3494060097833681,
          0.3481894150417826,
          0.3469812630117972,
          0.34578146611341615,
          0.344589937973811,
          0.34340659340659324,
          0.3422313483915125,
          0.3410641200545701,
          0.33990482664853827,
          0.3387533875338752,
          0.33760972316002685,
          0.3364737550471062,
          0.33534540576794086,
          0.3342245989304812,
          0.3331112591605595,
          0.33200531208499323,
          0.330906684315023,
          0.32981530343007903,
          0.32873109796186706,
          0.3276539973787679,
          0.326583932070542,
          0.3255208333333332,
          0.32446463335496417,
          0.32341526520051733,
          0.3223726627981946,
          0.32133676092544977,
          0.3203074951953875,
          0.31928480204342263,
          0.3182686187141947,
          0.3172588832487309,
          0.31625553447185323,
          0.3152585119798234,
          0.3142677561282212,
          0.3132832080200501,
          0.3123048094940662,
          0.311332503113325,
          0.3103662321539416,
          0.30940594059405935,
          0.3084515731030228,
          0.30750307503075025,
          0.3065603923973022,
          0.30562347188264055,
          0.30469226081657524,
          0.30376670716889426,
          0.3028467595396729,
          0.3019323671497584,
          0.3010234798314268,
          0.3001200480192076,
          0.29922202274087367,
          0.2983293556085918,
          0.2974419988102319,
          0.2965599051008303,
          0.2956830277942045,
          0.2948113207547169,
          0.2939447383891827,
          0.29308323563892136,
          0.29222676797194613,
          0.2913752913752913,
          0.2905287623474723,
          0.2896871378910776,
          0.2888503755054881,
          0.2880184331797234,
          0.2871912693854106,
          0.2863688430698739,
          0.28555111364934316,
          0.28473804100227784,
          0.28392958546280517,
          0.2831257078142695,
          0.28232636928289095,
          0.2815315315315315,
          0.28074115665356536,
          0.27995520716685324,
          0.2791736460078168,
          0.2783964365256124,
          0.2776235424764019,
          0.27685492801771866,
          0.2760905577029265,
          0.2753303964757709,
          0.27457440966501917,
          0.27382256297918944,
          0.27307482250136533,
          0.2723311546840958,
          0.271591526344378,
          0.2708559046587215,
          0.27012425715829275,
          0.26939655172413784,
          0.26867275658248246,
          0.26795284030010713,
          0.2672367717797969,
          0.26652452025586354,
          0.2658160552897395,
          0.2651113467656416,
          0.26441036488630354,
          0.26371308016877637,
          0.2630194634402946,
          0.2623294858342078,
          0.26164311878597596,
          0.2609603340292276,
          0.2602811035918792,
          0.25960539979231567,
          0.2589331952356292,
          0.25826446280991733,
          0.2575991756826378,
          0.2569373072970195,
          0.25627883136852897,
          0.2556237218813906,
          0.25497195308516063,
          0.254323499491353,
          0.25367833587011673,
          0.2530364372469636,
          0.25239777889954573,
          0.2517623363544814,
          0.2511300853842291,
          0.2505010020040081,
          0.2498750624687657,
          0.24925224327018952,
          0.24863252113376438,
          0.2480158730158731,
          0.2474022761009402,
          0.24679170779861803,
          0.24618414574101435,
          0.2455795677799608,
          0.24497795198432148,
          0.24437927663734121,
          0.24378352023403224,
          0.24319066147859927,
          0.24260067928190204,
          0.24201355275895456,
          0.24142926122646072,
          0.24084778420038544,
          0.24026910139356086,
          0.239693192713327,
          0.2391200382592062,
          0.23854961832061075,
          0.2379819133745836,
          0.23741690408357083,
          0.23685457129322604,
          0.23629489603024584,
          0.23573785950023582,
          0.23518344308560685,
          0.23463162834350076,
          0.2340823970037454,
          0.233535730966838,
          0.2329916123019572,
          0.23245002324500239,
          0.23191094619666056,
          0.23137436372049985,
          0.23084025854108964,
          0.23030861354214655,
          0.22977941176470595,
          0.22925263640531873,
          0.22872827081427272,
          0.2282062984938385,
          0.22768670309653924,
          0.22716946842344396,
          0.2266545784224842,
          0.2261420171867934,
          0.22563176895306866,
          0.22512381809995505,
          0.22461814914645112,
          0.22411474675033627,
          0.22361359570661907,
          0.22311468094600634,
          0.2226179875333928,
          0.2221235006663706,
          0.22163120567375896,
          0.22114108801415314,
          0.2206531332744926,
          0.22016732716864826,
          0.2196836555360282,
          0.21920210434020174,
          0.21872265966754162,
          0.21824530772588396,
          0.21777003484320565,
          0.21729682746631906,
          0.21682567215958376,
          0.21635655560363484,
          0.21588946459412786,
          0.21542438604049985,
          0.2149613069647464,
          0.21450021450021456,
          0.214041095890411,
          0.21358393848782575,
          0.21312872975277072,
          0.21267545725223314,
          0.21222410865874367,
          0.21177467174925882,
          0.2113271344040575,
          0.21088148460565165,
          0.21043771043771045,
          0.20999580008399835,
          0.2095557418273261,
          0.20911752404851527,
          0.20868113522537562,
          0.20824656393169513,
          0.20781379883624274,
          0.2073828287017835,
          0.206953642384106,
          0.2065262288310616,
          0.20610057708161586,
          0.2056766762649116,
          0.2052545155993432,
          0.2048340843916428,
          0.20441537203597715,
          0.20399836801305593,
          0.20358306188925085,
          0.20316944331572534,
          0.20275750202757503,
          0.20234722784297857,
          0.20193861066235866,
          0.20153164046755342,
          0.2011263073209976,
          0.20072260136491368,
          0.2003205128205128,
          0.1999200319872051,
          0.1995211492418196,
          0.1991238550378335,
          0.19872813990461047,
          0.19833399444664812,
          0.1979414093428345,
          0.19755037534571313,
          0.19716088328075707,
          0.19677292404565128,
          0.19638648860958363,
          0.19600156801254406,
          0.1956181533646322,
          0.19523623584537286,
          0.1948558067030397,
          0.19447685725398672,
          0.19409937888198753,
          0.19372336303758228,
          0.19334880123743228,
          0.19297568506368193,
          0.19260400616332815,
          0.19223375624759703,
          0.19186492709132766,
          0.19149751053236302,
          0.19113149847094796,
          0.19076688286913387,
          0.19040365575019036,
          0.19004180919802352,
          0.18968133535660087,
          0.18932222642938276,
          0.18896447467876035,
          0.18860807242549976,
          0.18825301204819272,
          0.18789928598271322,
          0.18754688672168038,
          0.18719580681392733,
          0.18684603886397605,
          0.18649757553151805,
          0.18615040953090092,
          0.18580453363062055,
          0.18545994065281896,
          0.18511662347278782,
          0.1847745750184774,
          0.18443378827001103,
          0.18409425625920467,
          0.1837559720690922,
          0.18341892883345556,
          0.18308311973636027,
          0.18274853801169585,
          0.18241517694272158,
          0.18208302986161684,
          0.18175209014903665,
          0.18142235123367192,
          0.1810938065918145,
          0.18076644974692693,
          0.18044027426921685,
          0.1801152737752161,
          0.17979144192736424,
          0.17946877243359655,
          0.17914725904693657,
          0.17882689556509299,
          0.1785076758300607,
          0.1781895937277263,
          0.17787264318747778,
          0.1775568181818182,
          0.17724211272598372,
          0.1769285208775655,
          0.17661603673613568,
          0.17630465444287732,
          0.17599436818021827,
          0.17568517217146876,
          0.17537706068046302,
          0.1750700280112045,
          0.17476406850751486,
          0.17445917655268667,
          0.17415534656913967,
          0.17385257301808066,
          0.17355085039916696,
          0.17325017325017325,
          0.17295053614666206,
          0.17265193370165746,
          0.1723543605653223,
          0.1720578114246387,
          0.17176228100309174,
          0.17146776406035666,
          0.17117425539198905,
          0.17088174982911825,
          0.17059024223814398,
          0.17029972752043596,
          0.1700102006120367,
          0.16972165648336726,
          0.16943409013893593,
          0.16914749661705003,
          0.16886187098953054,
          0.1685772083614295,
          0.16829350387075057,
          0.16801075268817203,
          0.16772895001677288,
          0.16744809109176154,
          0.16716817118020727,
          0.16688918558077434,
          0.1666111296234588,
          0.16633399866932796,
          0.16605778811026234,
          0.16578249336870024,
          0.16550810989738496,
          0.16523463317911433,
          0.1649620587264929,
          0.1646903820816864,
          0.16441959881617887,
          0.16414970453053182,
          0.16388069485414616,
          0.16361256544502617,
          0.16334531198954588,
          0.16307893020221786,
          0.16281341582546402,
          0.16254876462938883,
          0.1622849724115547,
          0.16202203499675957,
          0.16175994823681658,
          0.16149870801033595,
          0.1612383102225089,
          0.1609787508048938,
          0.16072002571520416,
          0.16046213093709888,
          0.1602050624799744,
          0.15994881637875882,
          0.1596933886937081,
          0.1594387755102041,
          0.15918497293855463,
          0.15893197711379534,
          0.15867978419549353,
          0.1584283903675539,
          0.158177791838026,
          0.15792798483891352,
          0.15767896562598555,
          0.15743073047858946,
          0.1571832756994656,
          0.15693659761456374,
          0.1566906925728612,
          0.15644555694618276,
          0.1562011871290222,
          0.1559575795383656,
          0.15571473061351607,
          0.15547263681592044,
          0.15523129462899724,
          0.15499070055796654,
          0.15475085112968123,
          0.15451174289245984,
          0.154273372415921,
          0.15403573629081946,
          0.1537988311288834,
          0.15356265356265356,
          0.1533272002453235,
          0.15309246785058173,
          0.15285845307245488,
          0.1526251526251526,
          0.15239256324291373,
          0.15216068167985392,
          0.15192950470981464,
          0.15169902912621358,
          0.15146925174189638,
          0.1512401693889897,
          0.15101177891875567,
          0.15078407720144754,
          0.15055706112616682,
          0.15033072760072158,
          0.15010507355148603,
          0.14988009592326137,
          0.14965579167913798,
          0.14943215780035862,
          0.1492091912861832,
          0.14898688915375444,
          0.14876524843796485,
          0.14854426619132496,
          0.14832393948383263,
          0.14810426540284355,
          0.14788524105294287,
          0.14766686355581804,
          0.14744913005013266,
          0.1472320376914016,
          0.14701558365186707,
          0.14679976512037576,
          0.14658457930225735,
          0.1463700234192037,
          0.1461560947091493,
          0.14594279042615288,
          0.14573010784027973,
          0.14551804423748538,
          0.14530659691950007,
          0.14509576320371437,
          0.1448855404230657,
          0.14467592592592585,
          0.14446691707598952,
          0.1442585112521638,
          0.14405070584845858,
          0.14384349827387793,
          0.14363688595231247,
          0.14343086632243252,
          0.1432254368375823,
          0.14302059496567499,
          0.14281633818908876,
          0.14261266400456354,
          0.14240956992309878,
          0.14220705346985205,
          0.14200511218403858,
          0.1418037436188315,
          0.14160294534126305,
          0.14140271493212664,
          0.14120304998587963,
          0.14100394811054703,
          0.14080540692762597,
          0.14060742407199095,
          0.1404099971918,
          0.14021312394840152,
          0.1400168020162419,
          0.139821029082774,
          0.13962580284836631,
          0.139431121026213,
          0.13923698134224444,
          0.13904338153503887,
          0.13885031935573444,
          0.13865779256794225,
          0.13846579894765987,
          0.13827433628318578,
          0.13808340237503447,
          0.13789299503585212,
          0.13770311209033317,
          0.13751375137513744,
          0.13732491073880795,
          0.13713658804168946,
          0.13694878115584766,
          0.136761487964989,
          0.13657470636438124,
          0.1363884342607746,
          0.13620266957232352,
          0.13601741022850916,
          0.1358326541700624,
          0.13564839934888762,
          0.13546464372798692,
          0.1352813852813852,
          0.1350986219940556,
          0.13491635186184558,
          0.13473457289140386,
          0.13455328310010758,
          0.13437248051599027,
          0.13419216317767035,
          0.1340123291342803,
          0.13383297644539607,
          0.13365410318096757,
          0.13347570742124926,
          0.13329778725673147,
          0.13312034078807236,
          0.13294336612603025,
          0.13276686139139665,
          0.13259082471492967,
          0.1324152542372881,
          0.13224014810896584,
          0.1320655044902271,
          0.13189132155104188,
          0.13171759747102207,
          0.131544330439358,
          0.1313715186547556,
          0.13119916032537388,
          0.13102725366876306,
          0.13085579691180316,
          0.13068478829064292,
          0.13051422605063948,
          0.13034410844629818,
          0.13017443374121318,
          0.13000520020800826,
          0.12983640612827832,
          0.12966804979253108,
          0.12950012950012946,
          0.1293326435592343,
          0.12916559028674757,
          0.1289989680082559,
          0.1288327750579747,
          0.1286670097786927,
          0.12850167052171674,
          0.1283367556468172,
          0.12817226352217376,
          0.12800819252432152,
          0.12784454103809764,
          0.12768130745658832,
          0.12751849018107622,
          0.12735608762098824,
          0.12719409819384375,
          0.1270325203252032,
          0.12687135244861705,
          0.12671059300557522,
          0.1265502404454568,
          0.12639029322548023,
          0.12623074981065383,
          0.12607160867372663,
          0.12591286829513973,
          0.12575452716297783,
          0.12559658377292135,
          0.12543903662819866,
          0.12528188423953893,
          0.12512512512512508,
          0.12496875781054732,
          0.12481278082875683,
          0.1246571927200199,
          0.12450199203187247,
          0.12434717731907481,
          0.12419274714356678,
          0.12403870007442318,
          0.12388503468780968,
          0.12373174956693885,
          0.12357884330202666,
          0.1234263144902493,
          0.12327416173570017,
          0.12312238364934742,
          0.12297097884899161,
          0.12281994595922374,
          0.12266928361138367,
          0.1225189904435187,
          0.1223690651003426,
          0.12221950623319477,
          0.12207031249999996,
          0.12192148256522795,
          0.12177301509985382,
          0.12162490878131836,
          0.12147716229348877,
          0.1213297743266197,
          0.12118274357731454,
          0.12103606874848699,
          0.12088974854932295,
          0.12074378169524264,
          0.12059816690786294,
          0.12045290291496019,
          0.12030798845043306,
          0.12016342225426575,
          0.12001920307249155,
          0.1198753296571565,
          0.11973180076628347,
          0.11958861516383634,
          0.1194457716196846,
          0.11930326890956806,
          0.11916110581506191,
          0.11901928112354196,
          0.11887779362815021,
          0.11873664212776057,
          0.11859582542694491,
          0.1184553423359393,
          0.11831519167061046,
          0.11817537225242254,
          0.1180358829084041,
          0.11789672247111524,
          0.11775788977861511,
          0.11761938367442949,
          0.11748120300751874,
          0.1173433466322459,
          0.117205813408345,
          0.11706860220088967,
          0.11693171188026188,
          0.11679514132212096,
          0.1166588894073728,
          0.11652295502213933,
          0.1163873370577281,
          0.11625203441060215,
          0.11611704598235018,
          0.11598237067965667,
          0.11584800741427245,
          0.11571395510298539,
          0.11558021266759128,
          0.11544677903486489,
          0.11531365313653133,
          0.11518083390923747,
          0.11504832029452366,
          0.11491611123879564,
          0.11478420569329656,
          0.1146526026140793,
          0.11452130096197888,
          0.11439029970258517,
          0.11425959780621567,
          0.11412919424788856,
          0.1139990880072959,
          0.113869278068777,
          0.11373976342129204,
          0.11361054305839577,
          0.11348161597821148,
          0.11335298118340507,
          0.11322463768115937,
          0.11309658448314856,
          0.11296882060551283,
          0.11284134506883317,
          0.11271415689810635,
          0.11258725512272005,
          0.1124606387764282,
          0.11233430689732639,
          0.11220825852782759,
          0.11208249271463792,
          0.1119570085087326,
          0.11183180496533209,
          0.1117068811438784,
          0.11158223610801155,
          0.11145786892554609,
          0.11133377866844794,
          0.11120996441281132,
          0.11108642523883575,
          0.1109631602308033,
          0.11084016847705601,
          0.11071744906997336,
          0.11059500110594994,
          0.11047282368537333,
          0.110350915912602,
          0.11022927689594349,
          0.1101079057476326,
          0.10998680158380986,
          0.10986596352450002,
          0.10974539069359078,
          0.10962508221881158,
          0.10950503723171258,
          0.10938525486764376,
          0.10926573426573419,
          0.10914647456887135,
          0.10902747492368069,
          0.10890873448050525,
          0.10879025239338547,
          0.10867202782003904,
          0.108554059921841,
          0.10843634786380388,
          0.10831889081455799,
          0.10820168794633189,
          0.10808473843493292,
          0.10796804145972785,
          0.10785159620362375,
          0.10773540185304885,
          0.10761945759793365,
          0.10750376263169205,
          0.10738831615120269,
          0.10727311735679032,
          0.1071581654522074,
          0.10704345964461565,
          0.10692899914456794,
          0.10681478316599011,
          0.10670081092616297,
          0.10658708164570448,
          0.10647359454855189,
          0.1063603488619442,
          0.10624734381640452,
          0.1061345786457227,
          0.10602205258693802,
          0.1059097648803219,
          0.10579771476936092,
          0.10568590150073974,
          0.10557432432432426,
          0.10546298249314484,
          0.10535187526337962,
          0.10524100189433797,
          0.105130361648444,
          0.10501995379122026,
          0.10490977759127143,
          0.10479983232026821,
          0.10469011725293124,
          0.10458063166701519,
          0.10447137484329286,
          0.10436234606553947,
          0.10425354462051702,
          0.10414496979795868,
          0.10403662089055339,
          0.10392849719393049,
          0.10382059800664444,
          0.10371292263015963,
          0.10360547036883538,
          0.1034982405299109,
          0.1033912324234904,
          0.10328444536252832,
          0.10317787866281461,
          0.10307153164296014,
          0.10296540362438213,
          0.10285949393128978,
          0.10275380189066988,
          0.10264832683227255,
          0.10254306808859713,
          0.10243802499487802,
          0.10233319688907073,
          0.102228583111838,
          0.10212418300653588,
          0.1020199959192001,
          0.10191602119853234,
          0.10181225819588671,
          0.10170870626525623,
          0.10160536476325942,
          0.101502233049127,
          0.10139931048468863,
          0.10129659643435973,
          0.10119409026512845,
          0.10109179134654259,
          0.10098969905069675,
          0.10088781275221946,
          0.10078613182826036,
          0.10068465565847758,
          0.10058338362502507,
          0.10048231511254012,
          0.10038144950813083,
          0.10028078620136374,
          0.10018032458425158,
          0.10008006405124092,
          0.0999800039992001,
          0.09988014382740705,
          0.09978048293753736,
          0.09968102073365225,
          0.09958175662218675,
          0.09948269001193787,
          0.09938382031405281,
          0.09928514694201741,
          0.09918666931164445,
          0.09908838684106216,
          0.09899029895070277,
          0.09889240506329108,
          0.09879470460383317,
          0.09869719699960515,
          0.09859988168014193,
          0.09850275807722611,
          0.09840582562487694,
          0.09830908375933932,
          0.09821253191907282,
          0.09811616954474092,
          0.0980199960792001,
          0.09792401096748918,
          0.09782821365681858,
          0.09773260359655978,
          0.09763718023823469,
          0.09754194303550523,
          0.0974468914441629,
          0.09735202492211835,
          0.09725734292939114,
          0.09716284492809947,
          0.09706853038244999,
          0.09697439875872768,
          0.09688044952528578,
          0.09678668215253579,
          0.09669309611293751,
          0.09659969088098916,
          0.0965064659332175,
          0.09641342074816812,
          0.09632055480639566,
          0.09622786759045417,
          0.09613535858488749,
          0.09604302727621972,
          0.09595087315294566,
          0.09585889570552145,
          0.09576709442635507,
          0.09567546880979713,
          0.09558401835213148,
          0.09549274255156603,
          0.09540164090822358,
          0.09531071292413262,
          0.09521995810321839,
          0.09512937595129371,
          0.09503896597605013,
          0.09494872768704894,
          0.09485866059571234,
          0.09476876421531458,
          0.09467903806097325,
          0.09458948164964051,
          0.09450009450009444,
          0.09441087613293046,
          0.09432182607055267,
          0.09423294383716542,
          0.09414422895876477,
          0.09405568096313012,
          0.09396729937981577,
          0.09387908374014264,
          0.09379103357718997,
          0.09370314842578706,
          0.0936154278225051,
          0.09352787130564905,
          0.09344047841524945,
          0.09335324869305449,
          0.09326618168252189,
          0.093179276928811,
          0.09309253397877487,
          0.09300595238095236,
          0.09291953168556027,
          0.09283327144448568,
          0.09274717121127803,
          0.09266123054114156,
          0.09257544899092758,
          0.09248982611912687,
          0.0924043614858621,
          0.09231905465288033,
          0.09223390518354545,
          0.09214891264283079,
          0.09206407659731171,
          0.09197939661515818,
          0.09189487226612753,
          0.09181050312155709,
          0.09172628875435698,
          0.09164222873900292,
          0.09155832265152901,
          0.09147457006952066,
          0.09139097057210746,
          0.09130752373995615,
          0.09122422915526363,
          0.0911410864017499,
          0.09105809506465123,
          0.09097525473071323,
          0.09089256498818395,
          0.0908100254268071,
          0.09072763563781526,
          0.09064539521392312,
          0.09056330374932076,
          0.09048136083966701,
          0.09039956608208279,
          0.09031791907514448,
          0.09023641941887743,
          0.09015506671474934,
          0.09007386056566381,
          0.0899928005759539,
          0.08991188635137562,
          0.08983111749910165,
          0.08975049362771491,
          0.08967001434720225,
          0.08958967926894816,
          0.08950948800572855,
          0.08942944017170447,
          0.08934953538241595,
          0.08926977325477588,
          0.08919015340706381,
          0.08911067545891993,
          0.08903133903133899,
          0.08895214374666426,
          0.08887308922858154,
          0.08879417510211327,
          0.08871540099361246,
          0.08863676653075692,
          0.08855827134254335,
          0.0884799150592815,
          0.08840169731258836,
          0.0883236177353824,
          0.08824567596187782,
          0.08816787162757886,
          0.08809020436927409,
          0.08801267382503075,
          0.08793527963418918,
          0.08785802143735717,
          0.08778089887640443,
          0.08770391159445705,
          0.08762705923589198,
          0.08755034144633157,
          0.08747375787263814,
          0.08739730816290851,
          0.08732099196646867,
          0.08724480893386836,
          0.08716875871687581,
          0.08709284096847232,
          0.08701705534284712,
          0.08694140149539203,
          0.08686587908269625,
          0.08679048776254115,
          0.08671522719389518,
          0.08664009703690861,
          0.08656509695290852,
          0.08649022660439364,
          0.08641548565502931,
          0.08634087376964247,
          0.08626639061421662,
          0.08619203585588683,
          0.08611780916293481,
          0.08604371020478395,
          0.08596973865199442,
          0.0858958941762583,
          0.08582217645039471,
          0.08574858514834498,
          0.08567511994516785,
          0.08560178051703468,
          0.08552856654122469,
          0.08545547769612025,
          0.08538251366120211,
          0.0853096741170448,
          0.0852369587453119,
          0.08516436722875143,
          0.08509189925119122,
          0.08501955449753437,
          0.0849473326537546,
          0.0848752334068918,
          0.08480325644504742,
          0.08473140145738003,
          0.08465966813410085,
          0.08458805616646924,
          0.08451656524678831,
          0.08444519506840055,
          0.08437394532568337,
          0.0843028157140448,
          0.08423180592991909,
          0.08416091567076245,
          0.08409014463504873,
          0.08401949252226512,
          0.08394895903290794,
          0.0838785438684784,
          0.08380824673147834,
          0.08373806732540609,
          0.0836680053547523,
          0.08359806052499578,
          0.08352823254259936,
          0.0834585211150058,
          0.08338892595063371,
          0.08331944675887348,
          0.0832500832500832,
          0.08318083513558472,
          0.08311170212765953,
          0.08304268393954488,
          0.08297378028542976,
          0.08290499088045096,
          0.08283631544068916,
          0.082767753683165,
          0.08269930532583522,
          0.08263097008758878,
          0.08256274768824302,
          0.0824946378485398,
          0.08242664029014174,
          0.08235875473562836,
          0.08229098090849239,
          0.08222331853313596,
          0.08215576733486686,
          0.08208832703989488,
          0.08202099737532804,
          0.08195377806916895,
          0.08188666885031114,
          0.0818196694485354,
          0.08175277959450619,
          0.08168599901976799,
          0.08161932745674173,
          0.08155276463872123,
          0.0814863102998696,
          0.08141996417521573,
          0.0813537260006508,
          0.08128759551292469,
          0.08122157244964259,
          0.08115565654926145,
          0.08108984755108657,
          0.08102414519526815,
          0.0809585492227979,
          0.08089305937550555,
          0.08082767539605558,
          0.08076239702794376,
          0.08069722401549384,
          0.08063215610385419,
          0.08056719303899448,
          0.08050233456770242,
          0.0804375804375804,
          0.08037293039704224,
          0.08030838419530996,
          0.0802439415824105,
          0.08017960230917251,
          0.08011536612722317,
          0.08005123278898492,
          0.07998720204767235,
          0.07992327365728898,
          0.07985944737262415,
          0.07979572294924989,
          0.07973210014351775,
          0.07966857871255574,
          0.07960515841426521,
          0.07954183900731782,
          0.0794786202511524,
          0.079415501905972,
          0.0793524837327408,
          0.07928956549318106,
          0.07922674694977021,
          0.07916402786573777,
          0.07910140800506245,
          0.07903888713246913,
          0.07897646501342596,
          0.07891414141414138,
          0.07885191610156124,
          0.07878978884336588,
          0.07872775940796722,
          0.07866582756450595,
          0.07860399308284859,
          0.07854225573358464,
          0.07848061528802383,
          0.0784190715181932,
          0.07835762419683433,
          0.07829627309740055,
          0.07823501799405412,
          0.07817385866166353,
          0.07811279487580064,
          0.07805182641273804,
          0.07799095304944625,
          0.07793017456359101,
          0.0778694907335306,
          0.0778089013383131,
          0.07774840615767377,
          0.07768800497203232,
          0.0776276975624903,
          0.07756748371082843,
          0.07750736319950396,
          0.07744733581164809,
          0.07738740133106331,
          0.07732755954222086,
          0.07726781023025808,
          0.07720815318097592,
          0.0771485881808363,
          0.07708911501695961,
          0.07702973347712218,
          0.0769704433497537,
          0.07691124442393478,
          0.0768521364893944,
          0.07679311933650744,
          0.07673419275629219,
          0.0766753565404079,
          0.0766166104811523,
          0.07655795437145918,
          0.07649938800489595,
          0.0764409111756612,
          0.07638252367858232,
          0.07632422530911309,
          0.07626601586333127,
          0.07620789513793627,
          0.07614986293024671,
          0.07609191903819813,
          0.07603406326034062,
          0.07597629539583649,
          0.07591861524445793,
          0.07586102260658473,
          0.07580351728320193,
          0.07574609907589759,
          0.07568876778686043,
          0.07563152321887763,
          0.07557436517533253,
          0.07551729346020239,
          0.07546030787805615,
          0.07540340823405219,
          0.07534659433393612,
          0.07528986598403856,
          0.07523322299127295,
          0.07517666516313337,
          0.07512019230769232,
          0.07506380423359857,
          0.07500750075007502,
          0.07495128166691652,
          0.07489514679448774,
          0.07483909594372101,
          0.07478312892611429,
          0.07472724555372891,
          0.0746714456391876,
          0.07461572899567231,
          0.07456009543692219,
          0.07450454477723144,
          0.07444907683144732,
          0.07439369141496804,
          0.07433838834374074,
          0.07428316743425943,
          0.07422802850356298,
          0.07417297136923309,
          0.07411799584939227,
          0.07406310176270187,
          0.07400828892836002,
          0.07395355716609973,
          0.07389890629618687,
          0.07384433613941815,
          0.0737898465171193,
          0.07373543725114295,
          0.07368110816386685,
          0.07362685907819179,
          0.0735726898175398,
          0.07351860020585214,
          0.07346459006758749,
          0.07341065922771993,
          0.07335680751173715,
          0.07330303474563853,
          0.07324934075593326,
          0.07319572536963848,
          0.07314218841427741,
          0.07308872971787757,
          0.0730353491089688,
          0.07298204641658158,
          0.0729288214702451,
          0.07287567409998548,
          0.07282260413632397,
          0.07276961141027512,
          0.07271669575334502,
          0.07266385699752949,
          0.07261109497531229,
          0.07255840951966339,
          0.07250580046403718,
          0.07245326764237073,
          0.07240081088908201,
          0.07234843003906821,
          0.07229612492770393,
          0.07224389539083953,
          0.07219174126479937,
          0.07213966238638009,
          0.07208765859284896,
          0.07203572972194214,
          0.071983875611863,
          0.07193209610128044,
          0.07188039102932725,
          0.07182876023559838,
          0.07177720356014934,
          0.07172572084349452,
          0.07167431192660555,
          0.07162297665090965,
          0.07157171485828805,
          0.07152052639107428,
          0.07146941109205265,
          0.07141836880445655,
          0.07136739937196693,
          0.07131650263871064,
          0.07126567844925888,
          0.0712149266486256,
          0.07116424708226592,
          0.07111363959607457,
          0.07106310403638436,
          0.07101264024996454,
          0.07096224808401934,
          0.07091192738618639,
          0.07086167800453518,
          0.07081149978756553,
          0.07076139258420608,
          0.07071135624381278,
          0.07066139061616734,
          0.07061149555147579,
          0.07056167090036693,
          0.07051191651389085,
          0.07046223224351748,
          0.07041261794113506,
          0.0703630734590487,
          0.07031359864997891,
          0.07026419336706015,
          0.07021485746383935,
          0.0701655907942745,
          0.07011639321273314,
          0.07006726457399103,
          0.07001820473323063,
          0.06996921354603973,
          0.06992029086841,
          0.0698714365567356,
          0.06982265046781175,
          0.06977393245883337,
          0.06972528238739366,
          0.0696767001114827,
          0.06962818548948613,
          0.06957973838018368,
          0.06953135864274787,
          0.06948304613674262,
          0.06943480072212192,
          0.06938662225922841,
          0.06933851060879212,
          0.06929046563192905,
          0.06924248719013987,
          0.0691945751453086,
          0.06914672935970129,
          0.06909894969596463,
          0.0690512360171247,
          0.0690035881865857,
          0.06895600606812853,
          0.06890848952590958,
          0.06886103842445943,
          0.06881365262868151,
          0.06876633200385089,
          0.06871907641561295,
          0.06867188572998212,
          0.06862475981334062,
          0.06857769853243723,
          0.06853070175438594,
          0.06848376934666482,
          0.06843690117711468,
          0.06839009711393788,
          0.06834335702569709,
          0.06829668078131401,
          0.06825006825006823,
          0.06820351930159593,
          0.06815703380588874,
          0.06811061163329243,
          0.06806425265450582,
          0.06801795674057948,
          0.06797172376291459,
          0.06792555359326174,
          0.06787944610371975,
          0.06783340116673446,
          0.06778741865509758,
          0.06774149844194549,
          0.06769564040075815,
          0.06764984440535783,
          0.06760411032990803,
          0.06755843804891228,
          0.06751282743721304,
          0.06746727836999053,
          0.06742179072276157,
          0.06737636437137849,
          0.06733099919202798,
          0.06728569506122996,
          0.06724045185583645,
          0.06719526945303049,
          0.06715014773032499,
          0.06710508656556165,
          0.06706008583690985,
          0.06701514542286555,
          0.06697026520225018,
          0.06692544505420958,
          0.06688068485821291,
          0.06683598449405156,
          0.06679134384183806,
          0.06674676278200503,
          0.06670224119530412,
          0.0666577789628049,
          0.0666133759658939,
          0.0665690320862734,
          0.06652474720596056,
          0.06648052120728622,
          0.06643635397289392,
          0.0663922453857389,
          0.066348195329087,
          0.06630420368651369,
          0.06626027034190296,
          0.0662163951794464,
          0.0661725780836421,
          0.0661288189392937,
          0.06608511763150934,
          0.06604147404570065,
          0.06599788806758179,
          0.0659543595831684,
          0.06591088847877666,
          0.06586747464102223,
          0.06582411795681935,
          0.06578081831337979,
          0.0657375755982119,
          0.06569438969911966,
          0.06565126050420164,
          0.0656081879018501,
          0.06556517178075003,
          0.06552221202987808,
          0.06547930853850178,
          0.06543646119617846,
          0.06539366989275433,
          0.06535093451836356,
          0.06530825496342732,
          0.06526563111865286,
          0.06522306287503254,
          0.06518055012384298,
          0.06513809275664402,
          0.0650956906652779,
          0.06505334374186827,
          0.06501105187881934,
          0.0649688149688149,
          0.0649266329048175,
          0.06488450558006742,
          0.0648424328880819,
          0.06480041472265417,
          0.06475845097785256,
          0.06471654154801962,
          0.06467468632777125,
          0.0646328852119958,
          0.06459113809585318,
          0.064549444874774,
          0.06450780544445871,
          0.06446621970087667,
          0.06442468754026535,
          0.06438320885912946,
          0.06434178355424004,
          0.06430041152263366,
          0.06425909266161153,
          0.06421782686873868,
          0.06417661404184308,
          0.0641354540790148,
          0.06409434687860523,
          0.06405329233922616,
          0.064012290359749,
          0.06397134083930392,
          0.06393044367727904,
          0.06388959877331962,
          0.0638488060273272,
          0.06380806533945882,
          0.06376737661012617,
          0.06372673973999482,
          0.06368615462998337,
          0.06364562118126266,
          0.06360513929525498,
          0.06356470887363327,
          0.06352432981832033,
          0.06348400203148798,
          0.06344372541555632,
          0.06340349987319292,
          0.06336332530731205,
          0.06332320162107388,
          0.06328312871788373,
          0.06324310650139127,
          0.06320313487548974,
          0.06316321374431523,
          0.06312334301224584,
          0.063083522583901,
          0.06304375236414063,
          0.06300403225806443,
          0.06296436217101112,
          0.06292474200855767,
          0.06288517167651858,
          0.0628456510809451,
          0.06280618012812451,
          0.06276675872457937,
          0.06272738677706678,
          0.06268806419257765,
          0.06264879087833597,
          0.06260956674179807,
          0.06257039169065191,
          0.06253126563281634,
          0.06249218847644038,
          0.062453160129902506,
          0.06241418050180995,
          0.06237524950099794,
          0.06233636703652905,
          0.06229753301769243,
          0.06225874735400317,
          0.06222000995520153,
          0.062181320731252265,
          0.06214267959234396,
          0.06210408644888827,
          0.0620655412115193,
          0.06202704379109285,
          0.061988594098685776,
          0.06195019204559528,
          0.061911837543338226,
          0.06187353050365048,
          0.061835270838486216,
          0.06179705846001725,
          0.06175889328063236,
          0.061720775212936625,
          0.06168270416975075,
          0.06164468006411042,
          0.0616067028092656,
          0.06156877231867992,
          0.06153088850602998,
          0.06149305128520473,
          0.06145526057030477,
          0.06141751627564177,
          0.061379818315737744,
          0.06134216660532446,
          0.061304561059342774,
          0.061267001592942,
          0.06122948812147926,
          0.06119202056051887,
          0.061154598825831664,
          0.061117222833394415,
          0.061079892499389166,
          0.06104260774020263,
          0.06100536847242554,
          0.06096817461285206,
          0.06093102607847913,
          0.06089392278650588,
          0.06085686465433298,
          0.06081985159956207,
          0.06078288353999511,
          0.060745960393633794,
          0.06070908207867894,
          0.06067224851352988,
          0.06063545961678387,
          0.060598715307235464,
          0.060562015503875945,
          0.06052536012589273,
          0.06048874909266874,
          0.06045218232378187,
          0.06041565973900433,
          0.06037918125830212,
          0.0603427468018344,
          0.06030635628995294,
          0.060270009643201526,
          0.06023370678231537,
          0.06019744762822055,
          0.06016123210203344,
          0.060125060125060116,
          0.06008893161879581,
          0.060052846504924325,
          0.06001680470531748,
          0.05998080614203454,
          0.059944850737321656,
          0.0599089384136113,
          0.059873069093521726,
          0.05983724269985638,
          0.059801459155603386,
          0.05976571838393496,
          0.05973002030820689,
          0.05969436485195796,
          0.059658751938909425,
          0.05962318149296445,
          0.05958765343820759,
          0.05955216769890423,
          0.05951672419950005,
          0.059481322864620496,
          0.05944596361907025,
          0.05941064638783269,
          0.059375371096069336,
          0.05934013766911938,
          0.0593049460324991,
          0.05926979611190136,
          0.059234687833195104,
          0.0591996211224248,
          0.05916459590580995,
          0.059129612109744545,
          0.05909466966079658,
          0.05905976848570752,
          0.05902490851139179,
          0.058990089664936275,
          0.05895531187359979,
          0.058920575064812616,
          0.058885879166175936,
          0.058851224105461376,
          0.0588166098106105,
          0.05878203620973429,
          0.05874750323111266,
          0.05871301080319397,
          0.05867855885459452,
          0.05864414731409804,
          0.058609776110655244,
          0.058575445173383305,
          0.05854115443156538,
          0.05850690381465012,
          0.058472693252251184,
          0.05843852267414679,
          0.05840439201027916,
          0.05837030119075413,
          0.05833625014584061,
          0.05830223880597013,
          0.058268267101736375,
          0.05823433496389469,
          0.058200442323361634,
          0.058166589111214494,
          0.05813277525869082,
          0.05809900069718798,
          0.05806526535826266,
          0.05803156917363043,
          0.05799791207516527,
          0.057964293994899115,
          0.05793071486502141,
          0.057897174617878626,
          0.057863673185973824,
          0.057830210501966205,
          0.05779678649867065,
          0.057763401109057276,
          0.05773005426625098,
          0.057696745903531015,
          0.0576634759543305,
          0.05763024435223603,
          0.05759705103098719,
          0.057563895924476145,
          0.05753077896674719,
          0.0574977000919963,
          0.05746465923457072,
          0.05743165632896851,
          0.057398691309838115,
          0.057365764111977954,
          0.05733287467033595,
          0.05730002292000915,
          0.05726720879624325,
          0.05723443223443222,
          0.05720169317011782,
          0.05716899153898924,
          0.05713632727688263,
          0.05710370031978071,
          0.057071110603812335,
          0.05703855806525209,
          0.05700604264051987,
          0.05697356426618047,
          0.05694112287894315,
          0.05690871841566126,
          0.0568763508133318,
          0.056844020009095025,
          0.056811725940234044,
          0.056779468544174407,
          0.05674724775848369,
          0.05671506352087112,
          0.056682915769187145,
          0.05665080444142304,
          0.05661872947571054,
          0.05658669081032139,
          0.05655468838366698,
          0.05652272213429796,
          0.056490792000903824,
          0.056458897922312526,
          0.056427039837490096,
          0.05639521768554024,
          0.056363431405703955,
          0.056331680937359144,
          0.05629996622002024,
          0.056268287193337804,
          0.05623664379709816,
          0.05620503597122299,
          0.05617346365576899,
          0.056141926790927436,
          0.05611042531702388,
          0.0560789591745177,
          0.05604752830400177,
          0.05601613264620208,
          0.055984772141977356,
          0.05595344673231868,
          0.05592215635834915,
          0.055890900961323466,
          0.055859680482627606,
          0.05582849486377844,
          0.05579734404642336,
          0.05576622797233992,
          0.05573514658343548,
          0.055704099821746844,
          0.05567308762943989,
          0.05564210994880922,
          0.0556111667222778,
          0.05558025789239658,
          0.0555493834018442,
          0.05551854319342656,
          0.055487737210076535,
          0.055456965394853557,
          0.05542622769094332,
          0.055395524041657394,
          0.05536485439043291,
          0.05533421868083219,
          0.05530361685654238,
          0.05527304886137516,
          0.05524251463926634,
          0.05521201413427558,
          0.05518154729058599,
          0.05515111405250382,
          0.055120714364458125,
          0.0550903481710004,
          0.055060015416804275,
          0.05502971604666516,
          0.054999450005499904,
          0.05496921723834648,
          0.054939017690363655,
          0.05490885130683062,
          0.0548787180331467,
          0.054848617814831024,
          0.05481855059752216,
          0.05478851632697782,
          0.054758514949074535,
          0.05472854640980731,
          0.05469861065528931,
          0.054668707631751544,
          0.05463883728554252,
          0.05460899956312796,
          0.05457919441109045,
          0.054549421776129134,
          0.054519681605059385,
          0.054489973844812516,
          0.054460298442435426,
          0.05443065534509032,
          0.05440104450005436,
          0.05437146585471941,
          0.05434191935659164,
          0.054312404953291295,
          0.054282922592552345,
          0.05425347222222218,
          0.05422405379026132,
          0.05419466724474308,
          0.05416531253385329,
          0.054135989605889966,
          0.054106698409263035,
          0.05407743889249402,
          0.05404821100421573,
          0.05401901469317197,
          0.05398984990821723,
          0.0539607165983164,
          0.05393161471254447,
          0.05390254420008622,
          0.053873505010235946,
          0.05384449709239714,
          0.05381552039608221,
          0.0537865748709122,
          0.05375766046661647,
          0.05372877713303243,
          0.05369992482010523,
          0.053671103477887484,
          0.05364231305653898,
          0.05361355350632638,
          0.053584824777622955,
          0.05355612682090829,
          0.05352745958676799,
          0.053498823025893406,
          0.05347021708908136,
          0.05344164172723384,
          0.05341309689135774,
          0.053384582532564576,
          0.0533560986020702,
          0.05332764505119452,
          0.053299221831361245,
          0.05327082889409757,
          0.05324246619103395,
          0.05321413367390377,
          0.053185831294543115,
          0.05315755900489048,
          0.05312931675698648,
          0.05310110450297364,
          0.05307292219509604,
          0.05304476978569911,
          0.053016647227229326,
          0.052988554472233974,
          0.05296049147336085,
          0.05293245818335801,
          0.05290445455507351,
          0.052876480541455134,
          0.052848536095550125,
          0.052820621170504935,
          0.05279273571956496,
          0.05276487969607426,
          0.05273705305347534,
          0.052709255745308846,
          0.05268148772521333,
          0.052653748946925,
          0.05262603936427742,
          0.05259835893120132,
          0.0525707076017243,
          0.052543085329970554,
          0.05251549207016067,
          0.052487927776611355,
          0.05246039240373516,
          0.05243288590604025,
          0.052405408238130155,
          0.05237795935470352,
          0.05235053921055385,
          0.052323147760569254,
          0.05229578495973222,
          0.05226845076311936,
          0.05224114512590114,
          0.052213868003341664,
          0.05218661935079843,
          0.05215939912372207,
          0.05213220727765611,
          0.05210504376823674,
          0.05207790855119256,
          0.05205080158234435,
          0.052023722817604805,
          0.051996672212978344,
          0.05196964972456083,
          0.051942655308539344,
          0.05191568892119196,
          0.05188875051888748,
          0.05186184005808524,
          0.05183495749533483,
          0.051808102787275906,
          0.05178127589063792,
          0.05175447676223991,
          0.05172770535899025,
          0.05170096163788644,
          0.05167424555601486,
          0.05164755707055054,
          0.05162089613875695,
          0.05159426271798574,
          0.051567656765676546,
          0.05154107823935675,
          0.051514527096641234,
          0.05148800329523219,
          0.051461506792918874,
          0.05143503754757739,
          0.051408595517170454,
          0.05138218065974718,
          0.051355792933442876,
          0.05132943229647879,
          0.0513030987071619,
          0.05127679212388472,
          0.05125051250512504,
          0.05122425980944574,
          0.05119803399549456,
          0.05117183502200388,
          0.05114566284779049,
          0.051119517431755426,
          0.051093398732883696,
          0.051067306710244086,
          0.051041241322988956,
          0.05101520253035403,
          0.05098919029165815,
          0.050963204566303114,
          0.050937245313773416,
          0.05091131249363607,
          0.05088540606554039,
          0.050859525989217766,
          0.050833672224481485,
          0.05080784473122649,
          0.050782043469429196,
          0.05075626839914728,
          0.050730519480519466,
          0.050704796673765325,
          0.05067909993918507,
          0.05065342923715934,
          0.050627784528149034,
          0.05060216577269506,
          0.05057657293141815,
          0.050551005965018686,
          0.05052546483427646,
          0.05049994950005048,
          0.05047445992327881,
          0.05044899606497829,
          0.05042355788624443,
          0.05039814534825116,
          0.05037275841225063,
          0.050347397039573034,
          0.05032206119162639,
          0.05029675082989637,
          0.05027146591594609,
          0.05024620641141592,
          0.05022097227802328,
          0.05019576347756247,
          0.05017057997190445,
          0.050145421722996665,
          0.05012028869286284,
          0.050095180843602816,
          0.05007009813739232,
          0.05004504053648281,
          0.050020008003201256,
          0.04999500049994998
         ],
         "yaxis": "y"
        }
       ],
       "layout": {
        "height": 600,
        "legend": {
         "tracegroupgap": 0
        },
        "template": {
         "data": {
          "bar": [
           {
            "error_x": {
             "color": "#2a3f5f"
            },
            "error_y": {
             "color": "#2a3f5f"
            },
            "marker": {
             "line": {
              "color": "#E5ECF6",
              "width": 0.5
             }
            },
            "type": "bar"
           }
          ],
          "barpolar": [
           {
            "marker": {
             "line": {
              "color": "#E5ECF6",
              "width": 0.5
             }
            },
            "type": "barpolar"
           }
          ],
          "carpet": [
           {
            "aaxis": {
             "endlinecolor": "#2a3f5f",
             "gridcolor": "white",
             "linecolor": "white",
             "minorgridcolor": "white",
             "startlinecolor": "#2a3f5f"
            },
            "baxis": {
             "endlinecolor": "#2a3f5f",
             "gridcolor": "white",
             "linecolor": "white",
             "minorgridcolor": "white",
             "startlinecolor": "#2a3f5f"
            },
            "type": "carpet"
           }
          ],
          "choropleth": [
           {
            "colorbar": {
             "outlinewidth": 0,
             "ticks": ""
            },
            "type": "choropleth"
           }
          ],
          "contour": [
           {
            "colorbar": {
             "outlinewidth": 0,
             "ticks": ""
            },
            "colorscale": [
             [
              0,
              "#0d0887"
             ],
             [
              0.1111111111111111,
              "#46039f"
             ],
             [
              0.2222222222222222,
              "#7201a8"
             ],
             [
              0.3333333333333333,
              "#9c179e"
             ],
             [
              0.4444444444444444,
              "#bd3786"
             ],
             [
              0.5555555555555556,
              "#d8576b"
             ],
             [
              0.6666666666666666,
              "#ed7953"
             ],
             [
              0.7777777777777778,
              "#fb9f3a"
             ],
             [
              0.8888888888888888,
              "#fdca26"
             ],
             [
              1,
              "#f0f921"
             ]
            ],
            "type": "contour"
           }
          ],
          "contourcarpet": [
           {
            "colorbar": {
             "outlinewidth": 0,
             "ticks": ""
            },
            "type": "contourcarpet"
           }
          ],
          "heatmap": [
           {
            "colorbar": {
             "outlinewidth": 0,
             "ticks": ""
            },
            "colorscale": [
             [
              0,
              "#0d0887"
             ],
             [
              0.1111111111111111,
              "#46039f"
             ],
             [
              0.2222222222222222,
              "#7201a8"
             ],
             [
              0.3333333333333333,
              "#9c179e"
             ],
             [
              0.4444444444444444,
              "#bd3786"
             ],
             [
              0.5555555555555556,
              "#d8576b"
             ],
             [
              0.6666666666666666,
              "#ed7953"
             ],
             [
              0.7777777777777778,
              "#fb9f3a"
             ],
             [
              0.8888888888888888,
              "#fdca26"
             ],
             [
              1,
              "#f0f921"
             ]
            ],
            "type": "heatmap"
           }
          ],
          "heatmapgl": [
           {
            "colorbar": {
             "outlinewidth": 0,
             "ticks": ""
            },
            "colorscale": [
             [
              0,
              "#0d0887"
             ],
             [
              0.1111111111111111,
              "#46039f"
             ],
             [
              0.2222222222222222,
              "#7201a8"
             ],
             [
              0.3333333333333333,
              "#9c179e"
             ],
             [
              0.4444444444444444,
              "#bd3786"
             ],
             [
              0.5555555555555556,
              "#d8576b"
             ],
             [
              0.6666666666666666,
              "#ed7953"
             ],
             [
              0.7777777777777778,
              "#fb9f3a"
             ],
             [
              0.8888888888888888,
              "#fdca26"
             ],
             [
              1,
              "#f0f921"
             ]
            ],
            "type": "heatmapgl"
           }
          ],
          "histogram": [
           {
            "marker": {
             "colorbar": {
              "outlinewidth": 0,
              "ticks": ""
             }
            },
            "type": "histogram"
           }
          ],
          "histogram2d": [
           {
            "colorbar": {
             "outlinewidth": 0,
             "ticks": ""
            },
            "colorscale": [
             [
              0,
              "#0d0887"
             ],
             [
              0.1111111111111111,
              "#46039f"
             ],
             [
              0.2222222222222222,
              "#7201a8"
             ],
             [
              0.3333333333333333,
              "#9c179e"
             ],
             [
              0.4444444444444444,
              "#bd3786"
             ],
             [
              0.5555555555555556,
              "#d8576b"
             ],
             [
              0.6666666666666666,
              "#ed7953"
             ],
             [
              0.7777777777777778,
              "#fb9f3a"
             ],
             [
              0.8888888888888888,
              "#fdca26"
             ],
             [
              1,
              "#f0f921"
             ]
            ],
            "type": "histogram2d"
           }
          ],
          "histogram2dcontour": [
           {
            "colorbar": {
             "outlinewidth": 0,
             "ticks": ""
            },
            "colorscale": [
             [
              0,
              "#0d0887"
             ],
             [
              0.1111111111111111,
              "#46039f"
             ],
             [
              0.2222222222222222,
              "#7201a8"
             ],
             [
              0.3333333333333333,
              "#9c179e"
             ],
             [
              0.4444444444444444,
              "#bd3786"
             ],
             [
              0.5555555555555556,
              "#d8576b"
             ],
             [
              0.6666666666666666,
              "#ed7953"
             ],
             [
              0.7777777777777778,
              "#fb9f3a"
             ],
             [
              0.8888888888888888,
              "#fdca26"
             ],
             [
              1,
              "#f0f921"
             ]
            ],
            "type": "histogram2dcontour"
           }
          ],
          "mesh3d": [
           {
            "colorbar": {
             "outlinewidth": 0,
             "ticks": ""
            },
            "type": "mesh3d"
           }
          ],
          "parcoords": [
           {
            "line": {
             "colorbar": {
              "outlinewidth": 0,
              "ticks": ""
             }
            },
            "type": "parcoords"
           }
          ],
          "scatter": [
           {
            "marker": {
             "colorbar": {
              "outlinewidth": 0,
              "ticks": ""
             }
            },
            "type": "scatter"
           }
          ],
          "scatter3d": [
           {
            "line": {
             "colorbar": {
              "outlinewidth": 0,
              "ticks": ""
             }
            },
            "marker": {
             "colorbar": {
              "outlinewidth": 0,
              "ticks": ""
             }
            },
            "type": "scatter3d"
           }
          ],
          "scattercarpet": [
           {
            "marker": {
             "colorbar": {
              "outlinewidth": 0,
              "ticks": ""
             }
            },
            "type": "scattercarpet"
           }
          ],
          "scattergeo": [
           {
            "marker": {
             "colorbar": {
              "outlinewidth": 0,
              "ticks": ""
             }
            },
            "type": "scattergeo"
           }
          ],
          "scattergl": [
           {
            "marker": {
             "colorbar": {
              "outlinewidth": 0,
              "ticks": ""
             }
            },
            "type": "scattergl"
           }
          ],
          "scattermapbox": [
           {
            "marker": {
             "colorbar": {
              "outlinewidth": 0,
              "ticks": ""
             }
            },
            "type": "scattermapbox"
           }
          ],
          "scatterpolar": [
           {
            "marker": {
             "colorbar": {
              "outlinewidth": 0,
              "ticks": ""
             }
            },
            "type": "scatterpolar"
           }
          ],
          "scatterpolargl": [
           {
            "marker": {
             "colorbar": {
              "outlinewidth": 0,
              "ticks": ""
             }
            },
            "type": "scatterpolargl"
           }
          ],
          "scatterternary": [
           {
            "marker": {
             "colorbar": {
              "outlinewidth": 0,
              "ticks": ""
             }
            },
            "type": "scatterternary"
           }
          ],
          "surface": [
           {
            "colorbar": {
             "outlinewidth": 0,
             "ticks": ""
            },
            "colorscale": [
             [
              0,
              "#0d0887"
             ],
             [
              0.1111111111111111,
              "#46039f"
             ],
             [
              0.2222222222222222,
              "#7201a8"
             ],
             [
              0.3333333333333333,
              "#9c179e"
             ],
             [
              0.4444444444444444,
              "#bd3786"
             ],
             [
              0.5555555555555556,
              "#d8576b"
             ],
             [
              0.6666666666666666,
              "#ed7953"
             ],
             [
              0.7777777777777778,
              "#fb9f3a"
             ],
             [
              0.8888888888888888,
              "#fdca26"
             ],
             [
              1,
              "#f0f921"
             ]
            ],
            "type": "surface"
           }
          ],
          "table": [
           {
            "cells": {
             "fill": {
              "color": "#EBF0F8"
             },
             "line": {
              "color": "white"
             }
            },
            "header": {
             "fill": {
              "color": "#C8D4E3"
             },
             "line": {
              "color": "white"
             }
            },
            "type": "table"
           }
          ]
         },
         "layout": {
          "annotationdefaults": {
           "arrowcolor": "#2a3f5f",
           "arrowhead": 0,
           "arrowwidth": 1
          },
          "colorscale": {
           "diverging": [
            [
             0,
             "#8e0152"
            ],
            [
             0.1,
             "#c51b7d"
            ],
            [
             0.2,
             "#de77ae"
            ],
            [
             0.3,
             "#f1b6da"
            ],
            [
             0.4,
             "#fde0ef"
            ],
            [
             0.5,
             "#f7f7f7"
            ],
            [
             0.6,
             "#e6f5d0"
            ],
            [
             0.7,
             "#b8e186"
            ],
            [
             0.8,
             "#7fbc41"
            ],
            [
             0.9,
             "#4d9221"
            ],
            [
             1,
             "#276419"
            ]
           ],
           "sequential": [
            [
             0,
             "#0d0887"
            ],
            [
             0.1111111111111111,
             "#46039f"
            ],
            [
             0.2222222222222222,
             "#7201a8"
            ],
            [
             0.3333333333333333,
             "#9c179e"
            ],
            [
             0.4444444444444444,
             "#bd3786"
            ],
            [
             0.5555555555555556,
             "#d8576b"
            ],
            [
             0.6666666666666666,
             "#ed7953"
            ],
            [
             0.7777777777777778,
             "#fb9f3a"
            ],
            [
             0.8888888888888888,
             "#fdca26"
            ],
            [
             1,
             "#f0f921"
            ]
           ],
           "sequentialminus": [
            [
             0,
             "#0d0887"
            ],
            [
             0.1111111111111111,
             "#46039f"
            ],
            [
             0.2222222222222222,
             "#7201a8"
            ],
            [
             0.3333333333333333,
             "#9c179e"
            ],
            [
             0.4444444444444444,
             "#bd3786"
            ],
            [
             0.5555555555555556,
             "#d8576b"
            ],
            [
             0.6666666666666666,
             "#ed7953"
            ],
            [
             0.7777777777777778,
             "#fb9f3a"
            ],
            [
             0.8888888888888888,
             "#fdca26"
            ],
            [
             1,
             "#f0f921"
            ]
           ]
          },
          "colorway": [
           "#636efa",
           "#EF553B",
           "#00cc96",
           "#ab63fa",
           "#FFA15A",
           "#19d3f3",
           "#FF6692",
           "#B6E880",
           "#FF97FF",
           "#FECB52"
          ],
          "font": {
           "color": "#2a3f5f"
          },
          "geo": {
           "bgcolor": "white",
           "lakecolor": "white",
           "landcolor": "#E5ECF6",
           "showlakes": true,
           "showland": true,
           "subunitcolor": "white"
          },
          "hoverlabel": {
           "align": "left"
          },
          "hovermode": "closest",
          "mapbox": {
           "style": "light"
          },
          "paper_bgcolor": "white",
          "plot_bgcolor": "#E5ECF6",
          "polar": {
           "angularaxis": {
            "gridcolor": "white",
            "linecolor": "white",
            "ticks": ""
           },
           "bgcolor": "#E5ECF6",
           "radialaxis": {
            "gridcolor": "white",
            "linecolor": "white",
            "ticks": ""
           }
          },
          "scene": {
           "xaxis": {
            "backgroundcolor": "#E5ECF6",
            "gridcolor": "white",
            "gridwidth": 2,
            "linecolor": "white",
            "showbackground": true,
            "ticks": "",
            "zerolinecolor": "white"
           },
           "yaxis": {
            "backgroundcolor": "#E5ECF6",
            "gridcolor": "white",
            "gridwidth": 2,
            "linecolor": "white",
            "showbackground": true,
            "ticks": "",
            "zerolinecolor": "white"
           },
           "zaxis": {
            "backgroundcolor": "#E5ECF6",
            "gridcolor": "white",
            "gridwidth": 2,
            "linecolor": "white",
            "showbackground": true,
            "ticks": "",
            "zerolinecolor": "white"
           }
          },
          "shapedefaults": {
           "line": {
            "color": "#2a3f5f"
           }
          },
          "ternary": {
           "aaxis": {
            "gridcolor": "white",
            "linecolor": "white",
            "ticks": ""
           },
           "baxis": {
            "gridcolor": "white",
            "linecolor": "white",
            "ticks": ""
           },
           "bgcolor": "#E5ECF6",
           "caxis": {
            "gridcolor": "white",
            "linecolor": "white",
            "ticks": ""
           }
          },
          "title": {
           "x": 0.05
          },
          "xaxis": {
           "automargin": true,
           "gridcolor": "white",
           "linecolor": "white",
           "ticks": "",
           "zerolinecolor": "white",
           "zerolinewidth": 2
          },
          "yaxis": {
           "automargin": true,
           "gridcolor": "white",
           "linecolor": "white",
           "ticks": "",
           "zerolinecolor": "white",
           "zerolinewidth": 2
          }
         }
        },
        "title": {
         "text": "KALMAN GAIN ITERATION"
        },
        "xaxis": {
         "anchor": "y",
         "domain": [
          0,
          0.98
         ]
        },
        "yaxis": {
         "anchor": "x",
         "domain": [
          0,
          1
         ],
         "title": {
          "text": "value"
         }
        }
       }
      },
      "text/html": [
       "<div>\n",
       "        \n",
       "        \n",
       "            <div id=\"a92bd88a-6daa-4706-90c3-769fb24eabfd\" class=\"plotly-graph-div\" style=\"height:600px; width:100%;\"></div>\n",
       "            <script type=\"text/javascript\">\n",
       "                require([\"plotly\"], function(Plotly) {\n",
       "                    window.PLOTLYENV=window.PLOTLYENV || {};\n",
       "                    \n",
       "                if (document.getElementById(\"a92bd88a-6daa-4706-90c3-769fb24eabfd\")) {\n",
       "                    Plotly.newPlot(\n",
       "                        'a92bd88a-6daa-4706-90c3-769fb24eabfd',\n",
       "                        [{\"hoverlabel\": {\"namelength\": 0}, \"hovertemplate\": \"variable=CUR_COV<br>value=%{y}\", \"legendgroup\": \"variable=CUR_COV\", \"line\": {\"color\": \"#636efa\", \"dash\": \"solid\"}, \"mode\": \"lines\", \"name\": \"variable=CUR_COV\", \"showlegend\": true, \"type\": \"scattergl\", \"xaxis\": \"x\", \"y\": [83.33333333333334, 45.45454545454545, 31.250000000000004, 23.80952380952381, 19.23076923076923, 16.129032258064516, 13.888888888888891, 12.195121951219516, 10.869565217391306, 9.803921568627453, 8.92857142857143, 8.196721311475413, 7.575757575757577, 7.042253521126762, 6.578947368421055, 6.172839506172841, 5.8139534883720945, 5.494505494505495, 5.208333333333334, 4.9504950495049505, 4.716981132075472, 4.504504504504505, 4.310344827586206, 4.132231404958677, 3.968253968253968, 3.816793893129771, 3.6764705882352944, 3.5460992907801416, 3.4246575342465753, 3.3112582781456954, 3.2051282051282053, 3.1055900621118018, 3.012048192771085, 2.923976608187135, 2.8409090909090913, 2.7624309392265194, 2.688172043010753, 2.617801047120419, 2.5510204081632657, 2.4875621890547266, 2.4271844660194177, 2.3696682464454977, 2.314814814814815, 2.262443438914027, 2.212389380530973, 2.164502164502164, 2.11864406779661, 2.0746887966804977, 2.0325203252032518, 1.99203187250996, 1.9531249999999998, 1.9157088122605361, 1.8796992481203005, 1.8450184501845017, 1.8115942028985508, 1.7793594306049823, 1.7482517482517483, 1.7182130584192439, 1.689189189189189, 1.661129568106312, 1.6339869281045751, 1.6077170418006432, 1.5822784810126584, 1.5576323987538943, 1.5337423312883434, 1.510574018126888, 1.4880952380952384, 1.4662756598240472, 1.4450867052023124, 1.4245014245014247, 1.4044943820224722, 1.3850415512465377, 1.366120218579235, 1.3477088948787062, 1.3297872340425532, 1.3123359580052494, 1.2953367875647668, 1.278772378516624, 1.2626262626262625, 1.2468827930174562, 1.231527093596059, 1.21654501216545, 1.2019230769230769, 1.187648456057007, 1.1737089201877935, 1.160092807424594, 1.1467889908256883, 1.1337868480725626, 1.1210762331838566, 1.1086474501108647, 1.0964912280701755, 1.0845986984815619, 1.072961373390558, 1.061571125265393, 1.0504201680672272, 1.0395010395010398, 1.0288065843621401, 1.0183299389002038, 1.0080645161290325, 0.9980039920159682, 0.9881422924901186, 0.9784735812133073, 0.9689922480620154, 0.9596928982725527, 0.9505703422053231, 0.9416195856873822, 0.9328358208955222, 0.9242144177449166, 0.9157509157509156, 0.9074410163339381, 0.8992805755395682, 0.89126559714795, 0.88339222614841, 0.8756567425569177, 0.8680555555555556, 0.8605851979345955, 0.8532423208191126, 0.8460236886632827, 0.8389261744966444, 0.8319467554076541, 0.8250825082508252, 0.8183306055646482, 0.8116883116883118, 0.8051529790660226, 0.7987220447284344, 0.7923930269413628, 0.7861635220125783, 0.7800312012480495, 0.7739938080495352, 0.7680491551459289, 0.7621951219512192, 0.7564296520423598, 0.7507507507507505, 0.7451564828614007, 0.739644970414201, 0.7342143906020556, 0.7288629737609328, 0.7235890014471779, 0.718390804597701, 0.7132667617689014, 0.7082152974504248, 0.7032348804500702, 0.6983240223463686, 0.6934812760055478, 0.6887052341597795, 0.6839945280437755, 0.6793478260869564, 0.6747638326585694, 0.6702412868632707, 0.6657789613848201, 0.6613756613756612, 0.6570302233902757, 0.6527415143603131, 0.6485084306095977, 0.6443298969072163, 0.6402048655569781, 0.6361323155216283, 0.6321112515802779, 0.6281407035175878, 0.6242197253433207, 0.6203473945409428, 0.6165228113440195, 0.6127450980392155, 0.6090133982947623, 0.6053268765133171, 0.6016847172081827, 0.5980861244019138, 0.5945303210463733, 0.5910165484633569, 0.5875440658049353, 0.5841121495327103, 0.5807200929152149, 0.5773672055427252, 0.5740528128587831, 0.5707762557077626, 0.5675368898978433, 0.564334085778781, 0.5611672278338945, 0.5580357142857143, 0.5549389567147615, 0.5518763796909493, 0.5488474204171241, 0.5458515283842795, 0.5428881650380022, 0.5399568034557237, 0.5370569280343718, 0.5341880341880343, 0.5313496280552605, 0.528541226215645, 0.5257623554153525, 0.5230125523012554, 0.5202913631633717, 0.5175983436853003, 0.5149330587023688, 0.5122950819672132, 0.5096839959225281, 0.5070993914807304, 0.5045408678102928, 0.5020080321285143, 0.4995004995004997, 0.4970178926441354, 0.4945598417408508, 0.4921259842519687, 0.48971596474045065, 0.48732943469785583, 0.4849660523763337, 0.4826254826254826, 0.48030739673390965, 0.47801147227533464, 0.4757373929590866, 0.4734848484848485, 0.471253534401508, 0.46904315196998125, 0.4668534080298786, 0.4646840148698885, 0.4625346901017577, 0.4604051565377532, 0.458295142071494, 0.4562043795620438, 0.4541326067211627, 0.45207956600361676, 0.45004500450045015, 0.44802867383512557, 0.4460303300624444, 0.44404973357016003, 0.4420866489832009, 0.4401408450704226, 0.43821209465381256, 0.4363001745200699, 0.43440486533449185, 0.4325259515570935, 0.4306632213608959, 0.42881646655231576, 0.4269854824935954, 0.4251700680272111, 0.4233700254022017, 0.42158516020236103, 0.4198152812762387, 0.41806020066889654, 0.4163197335553707, 0.4145936981757879, 0.4128819157720893, 0.41118421052631593, 0.40950040950040967, 0.40783034257748796, 0.40617384240454935, 0.40453074433656977, 0.4029008863819502, 0.40128410914927787, 0.39968025579536387, 0.3980891719745224, 0.39651070578905645, 0.3949447077409164, 0.39339103068450054, 0.3918495297805644, 0.39032006245121015, 0.3888024883359255, 0.3872966692486446, 0.38580246913580263, 0.38431975403535756, 0.38284839203675364, 0.38138825324180037, 0.37993920972644396, 0.3785011355034067, 0.3770739064856714, 0.3756574004507891, 0.37425149700598825, 0.3728560775540644, 0.37147102526003, 0.3700962250185051, 0.36873156342182917, 0.36737692872887606, 0.3660322108345537, 0.3646973012399711, 0.36337209302325607, 0.3620564808110068, 0.360750360750361, 0.3594536304816681, 0.3581661891117481, 0.35688793718772327, 0.35561877667140845, 0.3543586109142454, 0.35310734463276866, 0.3518648838845886, 0.35063113604488105, 0.34940600978336855, 0.34818941504178297, 0.3469812630117976, 0.3457814661134166, 0.34458993797381143, 0.3434065934065937, 0.34223134839151303, 0.34106412005457065, 0.33990482664853877, 0.3387533875338757, 0.33760972316002735, 0.3364737550471067, 0.33534540576794136, 0.33422459893048173, 0.33311125916056006, 0.3320053120849938, 0.33090668431502357, 0.32981530343007953, 0.32873109796186756, 0.32765399737876844, 0.3265839320705425, 0.32552083333333365, 0.32446463335496467, 0.3234152652005178, 0.32237266279819493, 0.3213367609254501, 0.32030749519538776, 0.3192848020434229, 0.318268618714195, 0.3172588832487312, 0.3162555344718535, 0.3152585119798237, 0.31426775612822155, 0.3132832080200504, 0.31230480949406647, 0.3113325031133253, 0.3103662321539419, 0.3094059405940597, 0.3084515731030231, 0.30750307503075064, 0.3065603923973026, 0.30562347188264083, 0.3046922608165756, 0.3037667071688946, 0.3028467595396732, 0.30193236714975874, 0.30102347983142713, 0.300120048019208, 0.29922202274087406, 0.2983293556085922, 0.2974419988102323, 0.29655990510083063, 0.2956830277942049, 0.2948113207547173, 0.2939447383891831, 0.29308323563892175, 0.2922267679719465, 0.2913752913752916, 0.2905287623474726, 0.2896871378910778, 0.2888503755054883, 0.28801843317972364, 0.28719126938541084, 0.28636884306987415, 0.2855511136493434, 0.28473804100227806, 0.28392958546280533, 0.28312570781426966, 0.2823263692828911, 0.28153153153153165, 0.2807411566535655, 0.2799552071668534, 0.27917364600781697, 0.2783964365256126, 0.2776235424764021, 0.27685492801771877, 0.2760905577029266, 0.275330396475771, 0.2745744096650193, 0.2738225629791896, 0.2730748225013655, 0.272331154684096, 0.27159152634437816, 0.27085590465872167, 0.27012425715829297, 0.2693965517241382, 0.2686727565824828, 0.2679528403001074, 0.26723677177979704, 0.2665245202558637, 0.26581605528973967, 0.26511134676564174, 0.26441036488630376, 0.2637130801687766, 0.2630194634402948, 0.26232948583420795, 0.26164311878597607, 0.2609603340292277, 0.2602811035918794, 0.25960539979231584, 0.25893319523562935, 0.2582644628099175, 0.2575991756826379, 0.25693730729701963, 0.2562788313685291, 0.2556237218813907, 0.25497195308516074, 0.25432349949135313, 0.2536783358701168, 0.2530364372469637, 0.25239777889954573, 0.2517623363544814, 0.25113008538422904, 0.25050100200400804, 0.24987506246876565, 0.24925224327018944, 0.2486325211337643, 0.24801587301587302, 0.24740227610094015, 0.24679170779861798, 0.2461841457410143, 0.24557956777996073, 0.24497795198432143, 0.24437927663734116, 0.2437835202340322, 0.24319066147859925, 0.24260067928190202, 0.24201355275895453, 0.24142926122646072, 0.24084778420038544, 0.24026910139356086, 0.239693192713327, 0.23912003825920616, 0.23854961832061072, 0.23798191337458358, 0.23741690408357077, 0.236854571293226, 0.23629489603024584, 0.2357378595002358, 0.23518344308560682, 0.2346316283435008, 0.23408239700374542, 0.23353573096683802, 0.23299161230195722, 0.2324500232450024, 0.2319109461966606, 0.23137436372049988, 0.2308402585410897, 0.23030861354214657, 0.22977941176470598, 0.22925263640531876, 0.22872827081427277, 0.22820629849383856, 0.2276867030965393, 0.227169468423444, 0.22665457842248424, 0.22614201718679341, 0.2256317689530687, 0.22512381809995508, 0.22461814914645115, 0.2241147467503363, 0.2236135957066191, 0.2231146809460064, 0.22261798753339285, 0.22212350066637065, 0.22163120567375902, 0.2211410880141532, 0.22065313327449265, 0.22016732716864829, 0.21968365553602823, 0.2192021043402018, 0.2187226596675417, 0.21824530772588405, 0.21777003484320576, 0.21729682746631918, 0.21682567215958387, 0.21635655560363495, 0.21588946459412797, 0.21542438604049996, 0.21496130696474652, 0.21450021450021467, 0.21404109589041112, 0.21358393848782586, 0.2131287297527708, 0.21267545725223325, 0.21222410865874378, 0.21177467174925893, 0.21132713440405762, 0.21088148460565176, 0.2104377104377106, 0.2099958000839985, 0.20955574182732625, 0.20911752404851544, 0.2086811352253758, 0.2082465639316953, 0.2078137988362429, 0.20738282870178362, 0.20695364238410607, 0.20652622883106167, 0.206100577081616, 0.20567667626491176, 0.20525451559934343, 0.20483408439164297, 0.2044153720359773, 0.20399836801305607, 0.20358306188925096, 0.20316944331572548, 0.2027575020275752, 0.20234722784297873, 0.20193861066235883, 0.2015316404675536, 0.20112630732099773, 0.20072260136491385, 0.20032051282051297, 0.19992003198720526, 0.19952114924181977, 0.19912385503783367, 0.19872813990461063, 0.1983339944466483, 0.19794140934283463, 0.19755037534571326, 0.1971608832807572, 0.19677292404565142, 0.1963864886095838, 0.1960015680125442, 0.19561815336463237, 0.19523623584537303, 0.19485580670303987, 0.1944768572539869, 0.1940993788819877, 0.19372336303758245, 0.19334880123743242, 0.19297568506368207, 0.19260400616332826, 0.19223375624759714, 0.1918649270913278, 0.19149751053236314, 0.19113149847094807, 0.19076688286913399, 0.19040365575019044, 0.19004180919802358, 0.18968133535660092, 0.18932222642938282, 0.18896447467876037, 0.1886080724254998, 0.18825301204819275, 0.18789928598271324, 0.18754688672168043, 0.1871958068139274, 0.1868460388639761, 0.18649757553151808, 0.18615040953090095, 0.18580453363062058, 0.18545994065281898, 0.18511662347278784, 0.18477457501847744, 0.18443378827001106, 0.1840942562592047, 0.18375597206909225, 0.18341892883345562, 0.18308311973636032, 0.1827485380116959, 0.18241517694272164, 0.18208302986161692, 0.18175209014903673, 0.181422351233672, 0.1810938065918146, 0.18076644974692702, 0.1804402742692169, 0.18011527377521616, 0.17979144192736426, 0.17946877243359655, 0.17914725904693657, 0.17882689556509296, 0.17850767583006066, 0.17818959372772628, 0.17787264318747772, 0.17755681818181812, 0.17724211272598364, 0.17692852087756544, 0.17661603673613563, 0.17630465444287727, 0.1759943681802182, 0.1756851721714687, 0.17537706068046297, 0.17507002801120444, 0.1747640685075148, 0.1744591765526866, 0.1741553465691396, 0.1738525730180806, 0.1735508503991669, 0.1732501732501732, 0.172950536146662, 0.1726519337016574, 0.17235436056532225, 0.1720578114246386, 0.17176228100309163, 0.17146776406035658, 0.17117425539198897, 0.17088174982911816, 0.1705902422381439, 0.17029972752043587, 0.17001020061203662, 0.16972165648336718, 0.1694340901389359, 0.16914749661705, 0.16886187098953048, 0.16857720836142945, 0.1682935038707505, 0.16801075268817195, 0.1677289500167728, 0.16744809109176145, 0.16716817118020716, 0.16688918558077423, 0.1666111296234587, 0.16633399866932783, 0.16605778811026217, 0.16578249336870002, 0.16550810989738474, 0.1652346331791141, 0.16496205872649267, 0.16469038208168618, 0.16441959881617865, 0.16414970453053157, 0.16388069485414591, 0.16361256544502592, 0.16334531198954563, 0.16307893020221761, 0.16281341582546374, 0.16254876462938855, 0.16228497241155443, 0.1620220349967593, 0.16175994823681628, 0.16149870801033564, 0.1612383102225086, 0.16097875080489346, 0.16072002571520383, 0.16046213093709855, 0.16020506247997407, 0.1599488163787585, 0.1596933886937078, 0.1594387755102038, 0.15918497293855433, 0.15893197711379503, 0.15867978419549322, 0.1584283903675536, 0.1581777918380257, 0.1579279848389132, 0.15767896562598524, 0.15743073047858916, 0.1571832756994653, 0.15693659761456344, 0.1566906925728609, 0.15644555694618245, 0.1562011871290219, 0.15595757953836525, 0.1557147306135157, 0.15547263681592005, 0.15523129462899685, 0.15499070055796615, 0.15475085112968084, 0.15451174289245945, 0.1542733724159206, 0.15403573629081907, 0.153798831128883, 0.1535626535626531, 0.15332720024532306, 0.1530924678505813, 0.15285845307245446, 0.1526251526251522, 0.1523925632429133, 0.15216068167985347, 0.1519295047098142, 0.15169902912621314, 0.15146925174189593, 0.15124016938898927, 0.15101177891875522, 0.1507840772014471, 0.1505570611261664, 0.15033072760072116, 0.1501050735514856, 0.14988009592326096, 0.14965579167913756, 0.14943215780035823, 0.14920919128618282, 0.14898688915375405, 0.14876524843796446, 0.14854426619132463, 0.14832393948383235, 0.14810426540284324, 0.14788524105294254, 0.1476668635558177, 0.14744913005013233, 0.14723203769140128, 0.14701558365186673, 0.14679976512037543, 0.14658457930225702, 0.14637002341920335, 0.14615609470914898, 0.14594279042615252, 0.14573010784027937, 0.14551804423748502, 0.14530659691949968, 0.14509576320371398, 0.1448855404230653, 0.14467592592592546, 0.14446691707598913, 0.1442585112521634, 0.1440507058484582, 0.14384349827387755, 0.14363688595231208, 0.14343086632243207, 0.14322543683758185, 0.14302059496567457, 0.14281633818908834, 0.14261266400456313, 0.14240956992309836, 0.14220705346985163, 0.14200511218403813, 0.14180374361883108, 0.1416029453412626, 0.14140271493212622, 0.1412030499858792, 0.14100394811054656, 0.1408054069276255, 0.14060742407199045, 0.1404099971917995, 0.14021312394840102, 0.14001680201624142, 0.13982102908277352, 0.13962580284836584, 0.13943112102621252, 0.139236981342244, 0.13904338153503842, 0.13885031935573403, 0.13865779256794183, 0.13846579894765945, 0.1382743362831854, 0.13808340237503408, 0.13789299503585176, 0.1377031120903328, 0.13751375137513708, 0.13732491073880757, 0.13713658804168907, 0.13694878115584727, 0.13676148796498863, 0.1365747063643809, 0.13638843426077432, 0.13620266957232324, 0.13601741022850888, 0.13583265417006213, 0.13564839934888734, 0.13546464372798664, 0.13528138528138492, 0.13509862199405528, 0.13491635186184525, 0.13473457289140353, 0.13455328310010725, 0.13437248051598993, 0.13419216317767002, 0.13401232913427996, 0.13383297644539577, 0.13365410318096727, 0.13347570742124895, 0.1332977872567311, 0.133120340788072, 0.13294336612602992, 0.13276686139139632, 0.13259082471492933, 0.13241525423728776, 0.1322401481089655, 0.13206550449022678, 0.13189132155104158, 0.13171759747102174, 0.13154433043935768, 0.13137151865475527, 0.13119916032537357, 0.13102725366876275, 0.13085579691180285, 0.13068478829064262, 0.1305142260506392, 0.1303441084462979, 0.1301744337412129, 0.13000520020800801, 0.12983640612827807, 0.12966804979253083, 0.12950012950012924, 0.1293326435592341, 0.12916559028674734, 0.12899896800825567, 0.12883277505797447, 0.12866700977869247, 0.12850167052171652, 0.12833675564681699, 0.12817226352217354, 0.1280081925243213, 0.12784454103809742, 0.12768130745658812, 0.12751849018107603, 0.12735608762098805, 0.12719409819384359, 0.12703252032520304, 0.1268713524486169, 0.12671059300557505, 0.12655024044545662, 0.12639029322548007, 0.12623074981065366, 0.12607160867372647, 0.12591286829513956, 0.12575452716297766, 0.12559658377292118, 0.1254390366281985, 0.12528188423953876, 0.12512512512512491, 0.12496875781054714, 0.12481278082875666, 0.12465719272001972, 0.12450199203187232, 0.12434717731907467, 0.12419274714356661, 0.12403870007442301, 0.12388503468780951, 0.12373174956693868, 0.12357884330202648, 0.12342631449024911, 0.1232741617357, 0.12312238364934726, 0.12297097884899144, 0.12281994595922359, 0.1226692836113835, 0.12251899044351854, 0.12236906510034241, 0.12221950623319461, 0.12207031249999979, 0.12192148256522779, 0.12177301509985367, 0.12162490878131822, 0.12147716229348862, 0.12132977432661955, 0.12118274357731439, 0.12103606874848684, 0.1208897485493228, 0.12074378169524248, 0.12059816690786279, 0.12045290291496004, 0.1203079884504329, 0.1201634222542656, 0.12001920307249138, 0.11987532965715633, 0.1197318007662833, 0.11958861516383618, 0.11944577161968443, 0.11930326890956791, 0.11916110581506177, 0.11901928112354182, 0.11887779362815007, 0.11873664212776043, 0.11859582542694477, 0.11845534233593913, 0.11831519167061028, 0.11817537225242235, 0.1180358829084039, 0.11789672247111507, 0.11775788977861494, 0.11761938367442933, 0.11748120300751858, 0.11734334663224573, 0.11720581340834482, 0.1170686022008895, 0.11693171188026168, 0.11679514132212074, 0.11665888940737258, 0.11652295502213912, 0.11638733705772786, 0.11625203441060192, 0.11611704598234997, 0.11598237067965644, 0.1158480074142722, 0.11571395510298516, 0.11558021266759105, 0.11544677903486467, 0.11531365313653111, 0.11518083390923725, 0.11504832029452346, 0.11491611123879544, 0.11478420569329637, 0.11465260261407911, 0.1145213009619787, 0.11439029970258499, 0.11425959780621552, 0.1141291942478884, 0.1139990880072957, 0.11386927806877681, 0.11373976342129183, 0.11361054305839556, 0.1134816159782113, 0.1133529811834049, 0.11322463768115919, 0.11309658448314837, 0.11296882060551265, 0.11284134506883299, 0.11271415689810617, 0.11258725512271987, 0.11246063877642803, 0.11233430689732625, 0.11220825852782747, 0.1120824927146378, 0.11195700850873247, 0.11183180496533196, 0.11170688114387828, 0.11158223610801143, 0.11145786892554597, 0.11133377866844785, 0.11120996441281124, 0.11108642523883565, 0.1109631602308032, 0.11084016847705591, 0.11071744906997326, 0.11059500110594984, 0.11047282368537324, 0.1103509159126019, 0.11022927689594339, 0.1101079057476325, 0.10998680158380979, 0.10986596352449994, 0.10974539069359068, 0.10962508221881148, 0.10950503723171247, 0.10938525486764365, 0.10926573426573408, 0.10914647456887125, 0.10902747492368058, 0.10890873448050513, 0.10879025239338534, 0.10867202782003893, 0.10855405992184089, 0.10843634786380375, 0.10831889081455785, 0.10820168794633175, 0.10808473843493278, 0.10796804145972771, 0.10785159620362361, 0.10773540185304872, 0.10761945759793352, 0.10750376263169194, 0.10738831615120258, 0.10727311735679022, 0.1071581654522073, 0.10704345964461555, 0.10692899914456784, 0.10681478316599002, 0.10670081092616289, 0.10658708164570439, 0.10647359454855182, 0.10636034886194413, 0.10624734381640448, 0.10613457864572266, 0.10602205258693796, 0.10590976488032185, 0.10579771476936087, 0.10568590150073968, 0.10557432432432422, 0.1054629824931448, 0.10535187526337958, 0.10524100189433792, 0.10513036164844396, 0.10501995379122021, 0.1049097775912714, 0.10479983232026818, 0.10469011725293124, 0.10458063166701519, 0.10447137484329286, 0.1043623460655395, 0.10425354462051706, 0.10414496979795872, 0.10403662089055343, 0.10392849719393053, 0.10382059800664448, 0.10371292263015966, 0.1036054703688354, 0.10349824052991091, 0.10339123242349041, 0.10328444536252833, 0.10317787866281461, 0.10307153164296012, 0.10296540362438213, 0.10285949393128978, 0.10275380189066988, 0.10264832683227254, 0.10254306808859712, 0.102438024994878, 0.10233319688907072, 0.10222858311183797, 0.10212418300653585, 0.10201999591920007, 0.10191602119853231, 0.10181225819588668, 0.1017087062652562, 0.1016053647632594, 0.10150223304912699, 0.10139931048468862, 0.10129659643435972, 0.10119409026512842, 0.10109179134654256, 0.10098969905069671, 0.10088781275221943, 0.10078613182826034, 0.10068465565847755, 0.10058338362502504, 0.10048231511254009, 0.10038144950813079, 0.1002807862013637, 0.10018032458425154, 0.10008006405124087, 0.09998000399920004, 0.09988014382740701, 0.09978048293753732, 0.0996810207336522, 0.09958175662218668, 0.09948269001193778, 0.09938382031405274, 0.09928514694201734, 0.09918666931164438, 0.0990883868410621, 0.09899029895070269, 0.098892405063291, 0.09879470460383309, 0.09869719699960507, 0.09859988168014185, 0.09850275807722603, 0.09840582562487685, 0.09830908375933922, 0.09821253191907273, 0.09811616954474082, 0.0980199960792, 0.09792401096748908, 0.09782821365681849, 0.09773260359655968, 0.09763718023823459, 0.09754194303550513, 0.0974468914441628, 0.09735202492211825, 0.09725734292939105, 0.09716284492809937, 0.09706853038244989, 0.09697439875872757, 0.09688044952528567, 0.09678668215253566, 0.09669309611293739, 0.09659969088098902, 0.09650646593321735, 0.09641342074816799, 0.09632055480639552, 0.09622786759045403, 0.09613535858488734, 0.09604302727621956, 0.09595087315294551, 0.0958588957055213, 0.09576709442635492, 0.09567546880979698, 0.09558401835213133, 0.0954927425515659, 0.09540164090822344, 0.09531071292413248, 0.09521995810321825, 0.09512937595129357, 0.09503896597605, 0.0949487276870488, 0.0948586605957122, 0.09476876421531444, 0.0946790380609731, 0.09458948164964036, 0.0945000945000943, 0.0944108761329303, 0.0943218260705525, 0.09423294383716525, 0.09414422895876462, 0.09405568096312995, 0.0939672993798156, 0.09387908374014246, 0.09379103357718978, 0.09370314842578686, 0.09361542782250491, 0.09352787130564884, 0.09344047841524925, 0.0933532486930543, 0.0932661816825217, 0.09317927692881081, 0.09309253397877466, 0.09300595238095215, 0.09291953168556007, 0.09283327144448549, 0.09274717121127782, 0.09266123054114134, 0.09257544899092736, 0.09248982611912666, 0.0924043614858619, 0.09231905465288012, 0.09223390518354524, 0.09214891264283058, 0.0920640765973115, 0.09197939661515796, 0.0918948722661273, 0.09181050312155685, 0.09172628875435675, 0.09164222873900268, 0.09155832265152876, 0.09147457006952041, 0.09139097057210721, 0.0913075237399559, 0.09122422915526338, 0.09114108640174966, 0.09105809506465098, 0.090975254730713, 0.09089256498818371, 0.09081002542680687, 0.09072763563781504, 0.09064539521392291, 0.09056330374932055, 0.0904813608396668, 0.09039956608208259, 0.09031791907514429, 0.09023641941887724, 0.09015506671474915, 0.09007386056566363, 0.0899928005759537, 0.08991188635137541, 0.08983111749910143, 0.08975049362771469, 0.08967001434720204, 0.08958967926894795, 0.08950948800572835, 0.08942944017170426, 0.08934953538241576, 0.08926977325477568, 0.08919015340706361, 0.08911067545891974, 0.08903133903133878, 0.08895214374666403, 0.08887308922858132, 0.08879417510211304, 0.08871540099361223, 0.0886367665307567, 0.08855827134254313, 0.08847991505928128, 0.08840169731258812, 0.08832361773538216, 0.0882456759618776, 0.08816787162757865, 0.08809020436927388, 0.08801267382503054, 0.08793527963418897, 0.08785802143735696, 0.08778089887640425, 0.08770391159445687, 0.0876270592358918, 0.08755034144633139, 0.08747375787263796, 0.08739730816290833, 0.08732099196646849, 0.08724480893386818, 0.08716875871687564, 0.08709284096847215, 0.08701705534284697, 0.0869414014953919, 0.08686587908269609, 0.086790487762541, 0.08671522719389503, 0.08664009703690846, 0.08656509695290837, 0.08649022660439347, 0.08641548565502914, 0.0863408737696423, 0.08626639061421645, 0.08619203585588667, 0.08611780916293464, 0.08604371020478377, 0.08596973865199424, 0.08589589417625812, 0.08582217645039453, 0.0857485851483448, 0.08567511994516765, 0.08560178051703449, 0.0855285665412245, 0.08545547769612005, 0.08538251366120192, 0.08530967411704461, 0.0852369587453117, 0.08516436722875123, 0.08509189925119104, 0.08501955449753419, 0.08494733265375444, 0.08487523340689164, 0.08480325644504727, 0.08473140145737988, 0.0846596681341007, 0.08458805616646908, 0.08451656524678816, 0.0844451950684004, 0.08437394532568321, 0.08430281571404463, 0.0842318059299189, 0.08416091567076225, 0.08409014463504852, 0.0840194925222649, 0.08394895903290772, 0.08387854386847818, 0.08380824673147813, 0.08373806732540588, 0.08366800535475209, 0.08359806052499559, 0.08352823254259917, 0.08345852111500561, 0.08338892595063352, 0.08331944675887328, 0.083250083250083, 0.08318083513558451, 0.08311170212765932, 0.08304268393954467, 0.08297378028542954, 0.08290499088045074, 0.08283631544068891, 0.08276775368316475, 0.08269930532583496, 0.08263097008758852, 0.08256274768824276, 0.08249463784853954, 0.08242664029014145, 0.08235875473562809, 0.08229098090849211, 0.08222331853313568, 0.08215576733486658, 0.0820883270398946, 0.08202099737532774, 0.08195377806916865, 0.08188666885031083, 0.0818196694485351, 0.08175277959450589, 0.08168599901976768, 0.08161932745674143, 0.08155276463872092, 0.08148631029986929, 0.08141996417521544, 0.08135372600065048, 0.08128759551292437, 0.08122157244964227, 0.08115565654926113, 0.08108984755108625, 0.08102414519526786, 0.0809585492227976, 0.08089305937550524, 0.08082767539605527, 0.08076239702794345, 0.08069722401549353, 0.08063215610385388, 0.08056719303899419, 0.08050233456770213, 0.0804375804375801, 0.08037293039704195, 0.08030838419530968, 0.08024394158241022, 0.08017960230917223, 0.08011536612722289, 0.08005123278898464, 0.07998720204767207, 0.0799232736572887, 0.07985944737262389, 0.07979572294924962, 0.07973210014351749, 0.07966857871255548, 0.07960515841426495, 0.07954183900731757, 0.07947862025115215, 0.07941550190597176, 0.07935248373274055, 0.07928956549318081, 0.07922674694976996, 0.07916402786573751, 0.07910140800506217, 0.07903888713246886, 0.07897646501342569, 0.0789141414141411, 0.07885191610156095, 0.07878978884336557, 0.07872775940796692, 0.07866582756450564, 0.07860399308284828, 0.07854225573358434, 0.07848061528802353, 0.07841907151819291, 0.07835762419683404, 0.07829627309740025, 0.07823501799405383, 0.07817385866166322, 0.07811279487580036, 0.07805182641273777, 0.07799095304944598, 0.07793017456359073, 0.07786949073353032, 0.07780890133831281, 0.07774840615767348, 0.07768800497203203, 0.07762769756249001, 0.07756748371082814, 0.07750736319950367, 0.07744733581164781, 0.07738740133106302, 0.07732755954222058, 0.0772678102302578, 0.07720815318097564, 0.07714858818083603, 0.07708911501695935, 0.07702973347712191, 0.07697044334975343, 0.07691124442393452, 0.07685213648939414, 0.07679311933650719, 0.07673419275629195, 0.07667535654040765, 0.07661661048115205, 0.07655795437145893, 0.07649938800489571, 0.07644091117566099, 0.07638252367858211, 0.07632422530911288, 0.07626601586333105, 0.07620789513793605, 0.07614986293024649, 0.07609191903819791, 0.0760340632603404, 0.07597629539583627, 0.07591861524445771, 0.07586102260658452, 0.07580351728320173, 0.07574609907589737, 0.07568876778686019, 0.0756315232188774, 0.0755743651753323, 0.07551729346020215, 0.0754603078780559, 0.07540340823405194, 0.07534659433393587, 0.0752898659840383, 0.0752332229912727, 0.07517666516313312, 0.07512019230769207, 0.07506380423359832, 0.07500750075007477, 0.07495128166691627, 0.07489514679448749, 0.07483909594372076, 0.07478312892611404, 0.07472724555372866, 0.07467144563918734, 0.07461572899567205, 0.07456009543692191, 0.07450454477723116, 0.07444907683144703, 0.07439369141496775, 0.07433838834374044, 0.07428316743425911, 0.07422802850356267, 0.07417297136923277, 0.07411799584939197, 0.07406310176270156, 0.0740082889283597, 0.07395355716609942, 0.07389890629618655, 0.07384433613941783, 0.07378984651711899, 0.07373543725114265, 0.07368110816386653, 0.07362685907819147, 0.07357268981753949, 0.07351860020585185, 0.0734645900675872, 0.07341065922771964, 0.07335680751173686, 0.07330303474563823, 0.07324934075593297, 0.0731957253696382, 0.07314218841427714, 0.07308872971787729, 0.07303534910896853, 0.0729820464165813, 0.07292882147024483, 0.07287567409998522, 0.0728226041363237, 0.07276961141027485, 0.07271669575334475, 0.07266385699752918, 0.07261109497531198, 0.07255840951966308, 0.07250580046403687, 0.07245326764237042, 0.0724008108890817, 0.07234843003906788, 0.0722961249277036, 0.0722438953908392, 0.07219174126479902, 0.07213966238637974, 0.07208765859284862, 0.07203572972194179, 0.07198387561186266, 0.07193209610128011, 0.07188039102932692, 0.07182876023559806, 0.07177720356014902, 0.0717257208434942, 0.07167431192660523, 0.07162297665090933, 0.07157171485828773, 0.07152052639107395, 0.07146941109205232, 0.07141836880445623, 0.0713673993719666, 0.07131650263871031, 0.07126567844925855, 0.07121492664862526, 0.07116424708226558, 0.07111363959607424, 0.07106310403638402, 0.0710126402499642, 0.07096224808401902, 0.07091192738618607, 0.07086167800453487, 0.07081149978756522, 0.07076139258420577, 0.07071135624381246, 0.07066139061616702, 0.07061149555147547, 0.07056167090036661, 0.07051191651389054, 0.07046223224351716, 0.07041261794113472, 0.07036307345904837, 0.07031359864997859, 0.07026419336705983, 0.07021485746383903, 0.07016559079427417, 0.07011639321273282, 0.0700672645739907, 0.07001820473323031, 0.06996921354603941, 0.06992029086840969, 0.06987143655673528, 0.06982265046781143, 0.06977393245883305, 0.06972528238739335, 0.0696767001114824, 0.06962818548948582, 0.06957973838018336, 0.06953135864274754, 0.06948304613674229, 0.06943480072212159, 0.06938662225922808, 0.06933851060879176, 0.06929046563192869, 0.0692424871901395, 0.06919457514530825, 0.06914672935970093, 0.06909894969596427, 0.06905123601712435, 0.06900358818658534, 0.06895600606812817, 0.06890848952590922, 0.06886103842445906, 0.06881365262868114, 0.0687663320038505, 0.06871907641561256, 0.06867188572998173, 0.06862475981334024, 0.06857769853243684, 0.06853070175438555, 0.06848376934666443, 0.06843690117711429, 0.0683900971139375, 0.06834335702569669, 0.06829668078131362, 0.06825006825006787, 0.0682035193015956, 0.06815703380588839, 0.06811061163329209, 0.06806425265450547, 0.06801795674057914, 0.06797172376291426, 0.0679255535932614, 0.0678794461037194, 0.06783340116673411, 0.06778741865509723, 0.06774149844194516, 0.06769564040075782, 0.0676498444053575, 0.0676041103299077, 0.06755843804891196, 0.06751282743721272, 0.06746727836999021, 0.06742179072276125, 0.06737636437137817, 0.06733099919202766, 0.06728569506122964, 0.06724045185583613, 0.06719526945303016, 0.06715014773032466, 0.06710508656556131, 0.06706008583690952, 0.06701514542286521, 0.06697026520224984, 0.06692544505420923, 0.06688068485821257, 0.06683598449405122, 0.06679134384183771, 0.0667467627820047, 0.06670224119530378, 0.06665777896280456, 0.06661337596589355, 0.06656903208627306, 0.0665247472059602, 0.06648052120728583, 0.06643635397289352, 0.0663922453857385, 0.06634819532908659, 0.06630420368651327, 0.06626027034190254, 0.06621639517944598, 0.06617257808364169, 0.06612881893929329, 0.06608511763150893, 0.06604147404570025, 0.06599788806758139, 0.065954359583168, 0.06591088847877624, 0.06586747464102181, 0.06582411795681893, 0.06578081831337937, 0.06573757559821149, 0.06569438969911924, 0.06565126050420123, 0.0656081879018497, 0.06556517178074964, 0.0655222120298777, 0.0654793085385014, 0.06543646119617808, 0.06539366989275394, 0.06535093451836317, 0.06530825496342693, 0.06526563111865248, 0.06522306287503218, 0.06518055012384262, 0.06513809275664366, 0.06509569066527754, 0.06505334374186791, 0.06501105187881899, 0.06496881496881456, 0.06492663290481715, 0.06488450558006707, 0.06484243288808156, 0.06480041472265383, 0.06475845097785221, 0.06471654154801927, 0.0646746863277709, 0.06463288521199546, 0.06459113809585285, 0.06454944487477368, 0.06450780544445839, 0.06446621970087635, 0.06442468754026504, 0.06438320885912914, 0.06434178355423971, 0.06430041152263333, 0.0642590926616112, 0.06421782686873834, 0.06417661404184273, 0.06413545407901446, 0.06409434687860488, 0.06405329233922581, 0.06401229035974865, 0.06397134083930356, 0.0639304436772787, 0.06388959877331929, 0.06384880602732688, 0.0638080653394585, 0.06376737661012585, 0.06372673973999449, 0.06368615462998303, 0.06364562118126232, 0.06360513929525466, 0.06356470887363297, 0.06352432981832003, 0.06348400203148767, 0.06344372541555601, 0.06340349987319262, 0.06336332530731174, 0.06332320162107359, 0.06328312871788344, 0.06324310650139098, 0.06320313487548945, 0.06316321374431495, 0.06312334301224556, 0.06308352258390072, 0.06304375236414035, 0.06300403225806415, 0.06296436217101084, 0.0629247420085574, 0.0628851716765183, 0.06284565108094482, 0.06280618012812422, 0.06276675872457908, 0.06272738677706649, 0.06268806419257736, 0.06264879087833568, 0.06260956674179778, 0.06257039169065162, 0.06253126563281605, 0.06249218847644009, 0.062453160129902215, 0.06241418050180965, 0.06237524950099764, 0.06233636703652875, 0.062297533017692135, 0.06225874735400287, 0.062220009955201216, 0.06218132073125197, 0.06214267959234365, 0.062104086448887964, 0.06206554121151899, 0.06202704379109254, 0.06198859409868548, 0.06195019204559498, 0.06191183754333793, 0.06187353050365018, 0.061835270838485924, 0.06179705846001694, 0.06175889328063206, 0.06172077521293633, 0.061682704169750455, 0.06164468006411012, 0.0616067028092653, 0.06156877231867962, 0.06153088850602967, 0.06149305128520442, 0.06145526057030447, 0.061417516275641466, 0.061379818315737446, 0.06134216660532416, 0.06130456105934248, 0.061267001592941704, 0.061229488121478964, 0.06119202056051857, 0.061154598825831366, 0.061117222833394116, 0.06107989249938886, 0.06104260774020232, 0.061005368472425235, 0.060968174612851755, 0.06093102607847883, 0.06089392278650557, 0.060856864654332675, 0.06081985159956177, 0.060782883539994816, 0.060745960393633495, 0.060709082078678644, 0.060672248513529585, 0.060635459616783564, 0.06059871530723516, 0.06056201550387564, 0.06052536012589241, 0.06048874909266842, 0.06045218232378155, 0.060415659739004014, 0.060379181258301814, 0.060342746801834095, 0.06030635628995264, 0.06027000964320121, 0.06023370678231504, 0.06019744762822022, 0.06016123210203311, 0.06012506012505979, 0.060088931618795485, 0.06005284650492401, 0.06001680470531716, 0.05998080614203422, 0.05994485073732134, 0.05990893841361098, 0.05987306909352141, 0.05983724269985606, 0.05980145915560306, 0.05976571838393465, 0.05973002030820659, 0.05969436485195766, 0.05965875193890912, 0.059623181492964146, 0.05958765343820729, 0.059552167698903924, 0.05951672419949974, 0.05948132286462019, 0.05944596361906995, 0.05941064638783238, 0.05937537109606903, 0.059340137669119074, 0.05930494603249879, 0.05926979611190106, 0.0592346878331948, 0.05919962112242449, 0.059164595905809636, 0.05912961210974423, 0.05909466966079627, 0.05905976848570721, 0.05902490851139148, 0.05899008966493596, 0.05895531187359949, 0.05892057506481231, 0.05888587916617563, 0.05885122410546107, 0.058816609810610196, 0.058782036209733976, 0.058747503231112344, 0.05871301080319366, 0.0586785588545942, 0.058644147314097714, 0.05860977611065492, 0.058575445173382985, 0.05854115443156505, 0.05850690381464979, 0.05847269325225086, 0.05843852267414646, 0.05840439201027883, 0.0583703011907538, 0.058336250145840284, 0.058302238805969804, 0.05826826710173605, 0.058234334963894366, 0.0582004423233613, 0.05816658911121416, 0.05813277525869049, 0.05809900069718765, 0.05806526535826233, 0.05803156917363009, 0.057997912075164915, 0.05796429399489877, 0.05793071486502107, 0.05789717461787827, 0.05786367318597347, 0.05783021050196586, 0.057796786498670316, 0.05776340110905694, 0.057730054266250656, 0.05769674590353068, 0.05766347595433017, 0.057630244352235696, 0.05759705103098685, 0.057563895924475805, 0.05753077896674684, 0.05749770009199595, 0.05746465923457037, 0.05743165632896817, 0.05739869130983777, 0.0573657641119776, 0.0573328746703356, 0.057300022920008804, 0.05726720879624291, 0.05723443223443188, 0.05720169317011748, 0.0571689915389889, 0.05713632727688229, 0.05710370031978037, 0.057071110603811995, 0.05703855806525176, 0.057006042640519554, 0.05697356426618015, 0.05694112287894283, 0.05690871841566094, 0.056876350813331485, 0.05684402000909471, 0.05681172594023374, 0.0567794685441741, 0.05674724775848339, 0.056715063520870815, 0.05668291576918684, 0.05665080444142273, 0.05661872947571023, 0.056586690810321076, 0.05655468838366667, 0.05652272213429765, 0.056490792000903504, 0.056458897922312214, 0.05642703983748978, 0.056395217685539914, 0.05636343140570363, 0.05633168093735882, 0.05629996622001992, 0.056268287193337485, 0.05623664379709783, 0.05620503597122266, 0.05617346365576864, 0.05614192679092709, 0.05611042531702353, 0.05607895917451734, 0.056047528304001414, 0.056016132646201734, 0.055984772141977, 0.055953446732318335, 0.0559221563583488, 0.055890900961323126, 0.055859680482627266, 0.055828494863778104, 0.05579734404642302, 0.05576622797233958, 0.05573514658343514, 0.055704099821746504, 0.05567308762943955, 0.05564210994880889, 0.055611166722277464, 0.05558025789239625, 0.055549383401843865, 0.05551854319342624, 0.0554877372100762, 0.05545696539485322, 0.055426227690942985, 0.05539552404165707, 0.0553648543904326, 0.055334218680831875, 0.055303616856542066, 0.055273048861374845, 0.05524251463926603, 0.05521201413427527, 0.05518154729058568, 0.055151114052503517, 0.05512071436445782, 0.055090348171000086, 0.05506001541680396, 0.05502971604666485, 0.0549994500054996, 0.054969217238346184, 0.054939017690363356, 0.05490885130683032, 0.0548787180331464, 0.054848617814830726, 0.05481855059752186, 0.054788516326977524, 0.05475851494907425, 0.054728546409807025, 0.054698610655289026, 0.05466870763175125, 0.054638837285542224, 0.054608999563127654, 0.054579194411090146, 0.05454942177612883, 0.05451968160505908, 0.05448997384481221, 0.05446029844243512, 0.05443065534509001, 0.054401044500054056, 0.0543714658547191, 0.054341919356591335, 0.05431240495329099, 0.05428292259255204, 0.05425347222222188, 0.05422405379026101, 0.05419466724474277, 0.05416531253385298, 0.05413598960588966, 0.05410669840926273, 0.05407743889249371, 0.05404821100421542, 0.054019014693171656, 0.05398984990821691, 0.05396071659831608, 0.05393161471254415, 0.0539025442000859, 0.05387350501023563, 0.05384449709239682, 0.05381552039608189, 0.05378657487091189, 0.05375766046661616, 0.05372877713303212, 0.05369992482010492, 0.05367110347788716, 0.05364231305653865, 0.05361355350632605, 0.05358482477762263, 0.05355612682090796, 0.05352745958676766, 0.05349882302589309, 0.05347021708908104, 0.053441641727233515, 0.05341309689135742, 0.05338458253256425, 0.05335609860206987, 0.053327645051194195, 0.05329922183136092, 0.053270828894097254, 0.05324246619103362, 0.053214133673903444, 0.05318583129454279, 0.05315755900489015, 0.053129316756986164, 0.05310110450297332, 0.05307292219509572, 0.053044769785698775, 0.053016647227228986, 0.052988554472233634, 0.05296049147336051, 0.05293245818335768, 0.052904454555073185, 0.05287648054145481, 0.0528485360955498, 0.052820621170504616, 0.05279273571956464, 0.05276487969607394, 0.05273705305347502, 0.05270925574530853, 0.05268148772521301, 0.052653748946924664, 0.05262603936427709, 0.05259835893120099, 0.05257070760172396, 0.052543085329970214, 0.05251549207016034, 0.05248792777661102, 0.052460392403734825, 0.052432885906039915, 0.052405408238129815, 0.052377959354703185, 0.052350539210553514, 0.05232314776056892, 0.05229578495973189, 0.052268450763119034, 0.05224114512590081, 0.052213868003341345, 0.05218661935079811, 0.05215939912372175, 0.052132207277655794, 0.05210504376823642, 0.05207790855119224, 0.05205080158234402, 0.05202372281760448, 0.051996672212978025, 0.051969649724560515, 0.05194265530853904, 0.05191568892119165, 0.05188875051888717, 0.05186184005808491, 0.051834957495334504, 0.05180810278727557, 0.05178127589063758, 0.051754476762239564, 0.0517277053589899, 0.05170096163788609, 0.051674245556014506, 0.05164755707055019, 0.05162089613875658, 0.051594262717985374, 0.05156765676567619, 0.05154107823935639, 0.05151452709664088, 0.051488003295231836, 0.05146150679291853, 0.05143503754757704, 0.05140859551717011, 0.05138218065974684, 0.051355792933442536, 0.05132943229647845, 0.05130309870716157, 0.05127679212388438, 0.05125051250512469, 0.051224259809445394, 0.05119803399549421, 0.05117183502200353, 0.05114566284779015, 0.0511195174317551, 0.05109339873288337, 0.051067306710243766, 0.05104124132298864, 0.05101520253035371, 0.05098919029165783, 0.05096320456630279, 0.05093724531377309, 0.05091131249363574, 0.050885406065540054, 0.05085952598921742, 0.05083367222448114, 0.05080784473122614, 0.05078204346942885, 0.05075626839914694, 0.05073051948051912, 0.050704796673764985, 0.05067909993918472, 0.050653429237159, 0.050627784528148694, 0.05060216577269472, 0.05057657293141782, 0.05055100596501835, 0.05052546483427613, 0.050499949500050156, 0.05047445992327848, 0.05044899606497797, 0.050423557886244114, 0.05039814534825084, 0.050372758412250314, 0.050347397039572715, 0.05032206119162608, 0.05029675082989606, 0.050271465915945786, 0.05024620641141561, 0.050220972278022975, 0.05019576347756216, 0.05017057997190414, 0.05014542172299636, 0.05012028869286254, 0.05009518084360251, 0.050070098137392015, 0.050045040536482496, 0.050020008003200944, 0.04999500049994967], \"yaxis\": \"y\"}, {\"hoverlabel\": {\"namelength\": 0}, \"hovertemplate\": \"variable=CUR_COV_STANDARD<br>value=%{y}\", \"legendgroup\": \"variable=CUR_COV_STANDARD\", \"line\": {\"color\": \"#EF553B\", \"dash\": \"solid\"}, \"mode\": \"lines\", \"name\": \"variable=CUR_COV_STANDARD\", \"showlegend\": true, \"type\": \"scattergl\", \"xaxis\": \"x\", \"y\": [83.33333333333331, 45.45454545454545, 31.249999999999996, 23.80952380952381, 19.23076923076923, 16.129032258064516, 13.88888888888889, 12.195121951219512, 10.869565217391305, 9.803921568627452, 8.928571428571429, 8.196721311475411, 7.575757575757577, 7.042253521126762, 6.578947368421054, 6.17283950617284, 5.813953488372094, 5.494505494505495, 5.208333333333334, 4.950495049504951, 4.716981132075473, 4.504504504504506, 4.310344827586208, 4.132231404958679, 3.9682539682539693, 3.816793893129772, 3.6764705882352953, 3.546099290780143, 3.4246575342465766, 3.3112582781456967, 3.2051282051282066, 3.1055900621118027, 3.012048192771086, 2.923976608187136, 2.840909090909092, 2.7624309392265207, 2.688172043010754, 2.61780104712042, 2.5510204081632666, 2.4875621890547275, 2.4271844660194186, 2.3696682464454986, 2.3148148148148158, 2.262443438914028, 2.2123893805309742, 2.1645021645021654, 2.118644067796611, 2.074688796680499, 2.032520325203253, 1.9920318725099613, 1.953125000000001, 1.9157088122605375, 1.8796992481203019, 1.8450184501845028, 1.8115942028985517, 1.7793594306049831, 1.7482517482517492, 1.718213058419245, 1.6891891891891901, 1.6611295681063132, 1.633986928104576, 1.607717041800644, 1.582278481012659, 1.557632398753895, 1.5337423312883445, 1.5105740181268892, 1.488095238095239, 1.4662756598240478, 1.445086705202313, 1.4245014245014254, 1.4044943820224727, 1.3850415512465382, 1.3661202185792358, 1.347708894878707, 1.329787234042554, 1.3123359580052503, 1.2953367875647677, 1.278772378516625, 1.2626262626262634, 1.246882793017457, 1.2315270935960598, 1.2165450121654509, 1.2019230769230775, 1.1876484560570078, 1.173708920187794, 1.1600928074245944, 1.1467889908256885, 1.1337868480725628, 1.1210762331838569, 1.1086474501108652, 1.096491228070176, 1.0845986984815623, 1.0729613733905585, 1.0615711252653934, 1.0504201680672276, 1.0395010395010402, 1.0288065843621406, 1.0183299389002043, 1.008064516129033, 0.9980039920159687, 0.9881422924901192, 0.9784735812133079, 0.9689922480620161, 0.9596928982725533, 0.9505703422053238, 0.9416195856873829, 0.932835820895523, 0.9242144177449174, 0.9157509157509164, 0.9074410163339389, 0.899280575539569, 0.8912655971479507, 0.8833922261484105, 0.8756567425569183, 0.8680555555555561, 0.8605851979345961, 0.8532423208191132, 0.8460236886632831, 0.8389261744966449, 0.8319467554076545, 0.8250825082508256, 0.8183306055646486, 0.8116883116883122, 0.8051529790660231, 0.7987220447284351, 0.7923930269413635, 0.7861635220125792, 0.7800312012480505, 0.7739938080495361, 0.7680491551459299, 0.7621951219512201, 0.7564296520423606, 0.7507507507507513, 0.7451564828614013, 0.7396449704142016, 0.7342143906020563, 0.7288629737609335, 0.7235890014471785, 0.7183908045977017, 0.713266761768902, 0.7082152974504253, 0.7032348804500708, 0.6983240223463691, 0.6934812760055483, 0.68870523415978, 0.683994528043776, 0.6793478260869569, 0.6747638326585699, 0.6702412868632711, 0.6657789613848206, 0.6613756613756617, 0.6570302233902763, 0.6527415143603137, 0.6485084306095983, 0.6443298969072169, 0.6402048655569786, 0.6361323155216289, 0.6321112515802785, 0.6281407035175883, 0.6242197253433213, 0.6203473945409433, 0.6165228113440201, 0.6127450980392161, 0.6090133982947629, 0.6053268765133175, 0.6016847172081833, 0.5980861244019142, 0.5945303210463737, 0.5910165484633573, 0.5875440658049357, 0.5841121495327106, 0.5807200929152152, 0.5773672055427255, 0.5740528128587833, 0.5707762557077628, 0.5675368898978436, 0.5643340857787812, 0.5611672278338946, 0.5580357142857144, 0.5549389567147615, 0.5518763796909493, 0.5488474204171241, 0.5458515283842795, 0.5428881650380022, 0.5399568034557236, 0.5370569280343717, 0.5341880341880342, 0.5313496280552603, 0.5285412262156448, 0.5257623554153522, 0.5230125523012552, 0.5202913631633714, 0.5175983436853001, 0.5149330587023686, 0.5122950819672131, 0.509683995922528, 0.5070993914807302, 0.5045408678102926, 0.5020080321285141, 0.4995004995004995, 0.4970178926441352, 0.49455984174085066, 0.4921259842519685, 0.48971596474045054, 0.4873294346978557, 0.4849660523763336, 0.4826254826254826, 0.4803073967339097, 0.47801147227533464, 0.4757373929590866, 0.4734848484848485, 0.471253534401508, 0.46904315196998125, 0.4668534080298786, 0.4646840148698885, 0.46253469010175763, 0.4604051565377532, 0.458295142071494, 0.4562043795620438, 0.45413260672116257, 0.45207956600361665, 0.45004500450045004, 0.44802867383512546, 0.44603033006244425, 0.44404973357015987, 0.4420866489832007, 0.44014084507042256, 0.43821209465381245, 0.4363001745200698, 0.43440486533449174, 0.43252595155709345, 0.4306632213608958, 0.42881646655231564, 0.42698548249359525, 0.4251700680272109, 0.42337002540220153, 0.42158516020236086, 0.41981528127623846, 0.4180602006688963, 0.4163197335553705, 0.41459369817578773, 0.41288191577208916, 0.41118421052631576, 0.4095004095004095, 0.4078303425774878, 0.4061738424045492, 0.4045307443365696, 0.40290088638195004, 0.4012841091492777, 0.3996802557953637, 0.39808917197452226, 0.3965107057890563, 0.3949447077409162, 0.3933910306845003, 0.3918495297805642, 0.3903200624512099, 0.3888024883359253, 0.3872966692486444, 0.3858024691358024, 0.38431975403535734, 0.38284839203675336, 0.3813882532418001, 0.3799392097264437, 0.3785011355034064, 0.3770739064856711, 0.37565740045078877, 0.3742514970059879, 0.372856077554064, 0.3714710252600296, 0.3700962250185047, 0.3687315634218288, 0.3673769287288757, 0.3660322108345533, 0.3646973012399707, 0.3633720930232557, 0.3620564808110064, 0.3607503607503606, 0.35945363048166773, 0.3581661891117477, 0.3568879371877229, 0.35561877667140807, 0.35435861091424503, 0.35310734463276816, 0.35186488388458814, 0.3506311360448806, 0.3494060097833681, 0.3481894150417826, 0.3469812630117972, 0.34578146611341615, 0.344589937973811, 0.34340659340659324, 0.3422313483915125, 0.3410641200545701, 0.33990482664853827, 0.3387533875338752, 0.33760972316002685, 0.3364737550471062, 0.33534540576794086, 0.3342245989304812, 0.3331112591605595, 0.33200531208499323, 0.330906684315023, 0.32981530343007903, 0.32873109796186706, 0.3276539973787679, 0.326583932070542, 0.3255208333333332, 0.32446463335496417, 0.32341526520051733, 0.3223726627981946, 0.32133676092544977, 0.3203074951953875, 0.31928480204342263, 0.3182686187141947, 0.3172588832487309, 0.31625553447185323, 0.3152585119798234, 0.3142677561282212, 0.3132832080200501, 0.3123048094940662, 0.311332503113325, 0.3103662321539416, 0.30940594059405935, 0.3084515731030228, 0.30750307503075025, 0.3065603923973022, 0.30562347188264055, 0.30469226081657524, 0.30376670716889426, 0.3028467595396729, 0.3019323671497584, 0.3010234798314268, 0.3001200480192076, 0.29922202274087367, 0.2983293556085918, 0.2974419988102319, 0.2965599051008303, 0.2956830277942045, 0.2948113207547169, 0.2939447383891827, 0.29308323563892136, 0.29222676797194613, 0.2913752913752913, 0.2905287623474723, 0.2896871378910776, 0.2888503755054881, 0.2880184331797234, 0.2871912693854106, 0.2863688430698739, 0.28555111364934316, 0.28473804100227784, 0.28392958546280517, 0.2831257078142695, 0.28232636928289095, 0.2815315315315315, 0.28074115665356536, 0.27995520716685324, 0.2791736460078168, 0.2783964365256124, 0.2776235424764019, 0.27685492801771866, 0.2760905577029265, 0.2753303964757709, 0.27457440966501917, 0.27382256297918944, 0.27307482250136533, 0.2723311546840958, 0.271591526344378, 0.2708559046587215, 0.27012425715829275, 0.26939655172413784, 0.26867275658248246, 0.26795284030010713, 0.2672367717797969, 0.26652452025586354, 0.2658160552897395, 0.2651113467656416, 0.26441036488630354, 0.26371308016877637, 0.2630194634402946, 0.2623294858342078, 0.26164311878597596, 0.2609603340292276, 0.2602811035918792, 0.25960539979231567, 0.2589331952356292, 0.25826446280991733, 0.2575991756826378, 0.2569373072970195, 0.25627883136852897, 0.2556237218813906, 0.25497195308516063, 0.254323499491353, 0.25367833587011673, 0.2530364372469636, 0.25239777889954573, 0.2517623363544814, 0.2511300853842291, 0.2505010020040081, 0.2498750624687657, 0.24925224327018952, 0.24863252113376438, 0.2480158730158731, 0.2474022761009402, 0.24679170779861803, 0.24618414574101435, 0.2455795677799608, 0.24497795198432148, 0.24437927663734121, 0.24378352023403224, 0.24319066147859927, 0.24260067928190204, 0.24201355275895456, 0.24142926122646072, 0.24084778420038544, 0.24026910139356086, 0.239693192713327, 0.2391200382592062, 0.23854961832061075, 0.2379819133745836, 0.23741690408357083, 0.23685457129322604, 0.23629489603024584, 0.23573785950023582, 0.23518344308560685, 0.23463162834350076, 0.2340823970037454, 0.233535730966838, 0.2329916123019572, 0.23245002324500239, 0.23191094619666056, 0.23137436372049985, 0.23084025854108964, 0.23030861354214655, 0.22977941176470595, 0.22925263640531873, 0.22872827081427272, 0.2282062984938385, 0.22768670309653924, 0.22716946842344396, 0.2266545784224842, 0.2261420171867934, 0.22563176895306866, 0.22512381809995505, 0.22461814914645112, 0.22411474675033627, 0.22361359570661907, 0.22311468094600634, 0.2226179875333928, 0.2221235006663706, 0.22163120567375896, 0.22114108801415314, 0.2206531332744926, 0.22016732716864826, 0.2196836555360282, 0.21920210434020174, 0.21872265966754162, 0.21824530772588396, 0.21777003484320565, 0.21729682746631906, 0.21682567215958376, 0.21635655560363484, 0.21588946459412786, 0.21542438604049985, 0.2149613069647464, 0.21450021450021456, 0.214041095890411, 0.21358393848782575, 0.21312872975277072, 0.21267545725223314, 0.21222410865874367, 0.21177467174925882, 0.2113271344040575, 0.21088148460565165, 0.21043771043771045, 0.20999580008399835, 0.2095557418273261, 0.20911752404851527, 0.20868113522537562, 0.20824656393169513, 0.20781379883624274, 0.2073828287017835, 0.206953642384106, 0.2065262288310616, 0.20610057708161586, 0.2056766762649116, 0.2052545155993432, 0.2048340843916428, 0.20441537203597715, 0.20399836801305593, 0.20358306188925085, 0.20316944331572534, 0.20275750202757503, 0.20234722784297857, 0.20193861066235866, 0.20153164046755342, 0.2011263073209976, 0.20072260136491368, 0.2003205128205128, 0.1999200319872051, 0.1995211492418196, 0.1991238550378335, 0.19872813990461047, 0.19833399444664812, 0.1979414093428345, 0.19755037534571313, 0.19716088328075707, 0.19677292404565128, 0.19638648860958363, 0.19600156801254406, 0.1956181533646322, 0.19523623584537286, 0.1948558067030397, 0.19447685725398672, 0.19409937888198753, 0.19372336303758228, 0.19334880123743228, 0.19297568506368193, 0.19260400616332815, 0.19223375624759703, 0.19186492709132766, 0.19149751053236302, 0.19113149847094796, 0.19076688286913387, 0.19040365575019036, 0.19004180919802352, 0.18968133535660087, 0.18932222642938276, 0.18896447467876035, 0.18860807242549976, 0.18825301204819272, 0.18789928598271322, 0.18754688672168038, 0.18719580681392733, 0.18684603886397605, 0.18649757553151805, 0.18615040953090092, 0.18580453363062055, 0.18545994065281896, 0.18511662347278782, 0.1847745750184774, 0.18443378827001103, 0.18409425625920467, 0.1837559720690922, 0.18341892883345556, 0.18308311973636027, 0.18274853801169585, 0.18241517694272158, 0.18208302986161684, 0.18175209014903665, 0.18142235123367192, 0.1810938065918145, 0.18076644974692693, 0.18044027426921685, 0.1801152737752161, 0.17979144192736424, 0.17946877243359655, 0.17914725904693657, 0.17882689556509299, 0.1785076758300607, 0.1781895937277263, 0.17787264318747778, 0.1775568181818182, 0.17724211272598372, 0.1769285208775655, 0.17661603673613568, 0.17630465444287732, 0.17599436818021827, 0.17568517217146876, 0.17537706068046302, 0.1750700280112045, 0.17476406850751486, 0.17445917655268667, 0.17415534656913967, 0.17385257301808066, 0.17355085039916696, 0.17325017325017325, 0.17295053614666206, 0.17265193370165746, 0.1723543605653223, 0.1720578114246387, 0.17176228100309174, 0.17146776406035666, 0.17117425539198905, 0.17088174982911825, 0.17059024223814398, 0.17029972752043596, 0.1700102006120367, 0.16972165648336726, 0.16943409013893593, 0.16914749661705003, 0.16886187098953054, 0.1685772083614295, 0.16829350387075057, 0.16801075268817203, 0.16772895001677288, 0.16744809109176154, 0.16716817118020727, 0.16688918558077434, 0.1666111296234588, 0.16633399866932796, 0.16605778811026234, 0.16578249336870024, 0.16550810989738496, 0.16523463317911433, 0.1649620587264929, 0.1646903820816864, 0.16441959881617887, 0.16414970453053182, 0.16388069485414616, 0.16361256544502617, 0.16334531198954588, 0.16307893020221786, 0.16281341582546402, 0.16254876462938883, 0.1622849724115547, 0.16202203499675957, 0.16175994823681658, 0.16149870801033595, 0.1612383102225089, 0.1609787508048938, 0.16072002571520416, 0.16046213093709888, 0.1602050624799744, 0.15994881637875882, 0.1596933886937081, 0.1594387755102041, 0.15918497293855463, 0.15893197711379534, 0.15867978419549353, 0.1584283903675539, 0.158177791838026, 0.15792798483891352, 0.15767896562598555, 0.15743073047858946, 0.1571832756994656, 0.15693659761456374, 0.1566906925728612, 0.15644555694618276, 0.1562011871290222, 0.1559575795383656, 0.15571473061351607, 0.15547263681592044, 0.15523129462899724, 0.15499070055796654, 0.15475085112968123, 0.15451174289245984, 0.154273372415921, 0.15403573629081946, 0.1537988311288834, 0.15356265356265356, 0.1533272002453235, 0.15309246785058173, 0.15285845307245488, 0.1526251526251526, 0.15239256324291373, 0.15216068167985392, 0.15192950470981464, 0.15169902912621358, 0.15146925174189638, 0.1512401693889897, 0.15101177891875567, 0.15078407720144754, 0.15055706112616682, 0.15033072760072158, 0.15010507355148603, 0.14988009592326137, 0.14965579167913798, 0.14943215780035862, 0.1492091912861832, 0.14898688915375444, 0.14876524843796485, 0.14854426619132496, 0.14832393948383263, 0.14810426540284355, 0.14788524105294287, 0.14766686355581804, 0.14744913005013266, 0.1472320376914016, 0.14701558365186707, 0.14679976512037576, 0.14658457930225735, 0.1463700234192037, 0.1461560947091493, 0.14594279042615288, 0.14573010784027973, 0.14551804423748538, 0.14530659691950007, 0.14509576320371437, 0.1448855404230657, 0.14467592592592585, 0.14446691707598952, 0.1442585112521638, 0.14405070584845858, 0.14384349827387793, 0.14363688595231247, 0.14343086632243252, 0.1432254368375823, 0.14302059496567499, 0.14281633818908876, 0.14261266400456354, 0.14240956992309878, 0.14220705346985205, 0.14200511218403858, 0.1418037436188315, 0.14160294534126305, 0.14140271493212664, 0.14120304998587963, 0.14100394811054703, 0.14080540692762597, 0.14060742407199095, 0.1404099971918, 0.14021312394840152, 0.1400168020162419, 0.139821029082774, 0.13962580284836631, 0.139431121026213, 0.13923698134224444, 0.13904338153503887, 0.13885031935573444, 0.13865779256794225, 0.13846579894765987, 0.13827433628318578, 0.13808340237503447, 0.13789299503585212, 0.13770311209033317, 0.13751375137513744, 0.13732491073880795, 0.13713658804168946, 0.13694878115584766, 0.136761487964989, 0.13657470636438124, 0.1363884342607746, 0.13620266957232352, 0.13601741022850916, 0.1358326541700624, 0.13564839934888762, 0.13546464372798692, 0.1352813852813852, 0.1350986219940556, 0.13491635186184558, 0.13473457289140386, 0.13455328310010758, 0.13437248051599027, 0.13419216317767035, 0.1340123291342803, 0.13383297644539607, 0.13365410318096757, 0.13347570742124926, 0.13329778725673147, 0.13312034078807236, 0.13294336612603025, 0.13276686139139665, 0.13259082471492967, 0.1324152542372881, 0.13224014810896584, 0.1320655044902271, 0.13189132155104188, 0.13171759747102207, 0.131544330439358, 0.1313715186547556, 0.13119916032537388, 0.13102725366876306, 0.13085579691180316, 0.13068478829064292, 0.13051422605063948, 0.13034410844629818, 0.13017443374121318, 0.13000520020800826, 0.12983640612827832, 0.12966804979253108, 0.12950012950012946, 0.1293326435592343, 0.12916559028674757, 0.1289989680082559, 0.1288327750579747, 0.1286670097786927, 0.12850167052171674, 0.1283367556468172, 0.12817226352217376, 0.12800819252432152, 0.12784454103809764, 0.12768130745658832, 0.12751849018107622, 0.12735608762098824, 0.12719409819384375, 0.1270325203252032, 0.12687135244861705, 0.12671059300557522, 0.1265502404454568, 0.12639029322548023, 0.12623074981065383, 0.12607160867372663, 0.12591286829513973, 0.12575452716297783, 0.12559658377292135, 0.12543903662819866, 0.12528188423953893, 0.12512512512512508, 0.12496875781054732, 0.12481278082875683, 0.1246571927200199, 0.12450199203187247, 0.12434717731907481, 0.12419274714356678, 0.12403870007442318, 0.12388503468780968, 0.12373174956693885, 0.12357884330202666, 0.1234263144902493, 0.12327416173570017, 0.12312238364934742, 0.12297097884899161, 0.12281994595922374, 0.12266928361138367, 0.1225189904435187, 0.1223690651003426, 0.12221950623319477, 0.12207031249999996, 0.12192148256522795, 0.12177301509985382, 0.12162490878131836, 0.12147716229348877, 0.1213297743266197, 0.12118274357731454, 0.12103606874848699, 0.12088974854932295, 0.12074378169524264, 0.12059816690786294, 0.12045290291496019, 0.12030798845043306, 0.12016342225426575, 0.12001920307249155, 0.1198753296571565, 0.11973180076628347, 0.11958861516383634, 0.1194457716196846, 0.11930326890956806, 0.11916110581506191, 0.11901928112354196, 0.11887779362815021, 0.11873664212776057, 0.11859582542694491, 0.1184553423359393, 0.11831519167061046, 0.11817537225242254, 0.1180358829084041, 0.11789672247111524, 0.11775788977861511, 0.11761938367442949, 0.11748120300751874, 0.1173433466322459, 0.117205813408345, 0.11706860220088967, 0.11693171188026188, 0.11679514132212096, 0.1166588894073728, 0.11652295502213933, 0.1163873370577281, 0.11625203441060215, 0.11611704598235018, 0.11598237067965667, 0.11584800741427245, 0.11571395510298539, 0.11558021266759128, 0.11544677903486489, 0.11531365313653133, 0.11518083390923747, 0.11504832029452366, 0.11491611123879564, 0.11478420569329656, 0.1146526026140793, 0.11452130096197888, 0.11439029970258517, 0.11425959780621567, 0.11412919424788856, 0.1139990880072959, 0.113869278068777, 0.11373976342129204, 0.11361054305839577, 0.11348161597821148, 0.11335298118340507, 0.11322463768115937, 0.11309658448314856, 0.11296882060551283, 0.11284134506883317, 0.11271415689810635, 0.11258725512272005, 0.1124606387764282, 0.11233430689732639, 0.11220825852782759, 0.11208249271463792, 0.1119570085087326, 0.11183180496533209, 0.1117068811438784, 0.11158223610801155, 0.11145786892554609, 0.11133377866844794, 0.11120996441281132, 0.11108642523883575, 0.1109631602308033, 0.11084016847705601, 0.11071744906997336, 0.11059500110594994, 0.11047282368537333, 0.110350915912602, 0.11022927689594349, 0.1101079057476326, 0.10998680158380986, 0.10986596352450002, 0.10974539069359078, 0.10962508221881158, 0.10950503723171258, 0.10938525486764376, 0.10926573426573419, 0.10914647456887135, 0.10902747492368069, 0.10890873448050525, 0.10879025239338547, 0.10867202782003904, 0.108554059921841, 0.10843634786380388, 0.10831889081455799, 0.10820168794633189, 0.10808473843493292, 0.10796804145972785, 0.10785159620362375, 0.10773540185304885, 0.10761945759793365, 0.10750376263169205, 0.10738831615120269, 0.10727311735679032, 0.1071581654522074, 0.10704345964461565, 0.10692899914456794, 0.10681478316599011, 0.10670081092616297, 0.10658708164570448, 0.10647359454855189, 0.1063603488619442, 0.10624734381640452, 0.1061345786457227, 0.10602205258693802, 0.1059097648803219, 0.10579771476936092, 0.10568590150073974, 0.10557432432432426, 0.10546298249314484, 0.10535187526337962, 0.10524100189433797, 0.105130361648444, 0.10501995379122026, 0.10490977759127143, 0.10479983232026821, 0.10469011725293124, 0.10458063166701519, 0.10447137484329286, 0.10436234606553947, 0.10425354462051702, 0.10414496979795868, 0.10403662089055339, 0.10392849719393049, 0.10382059800664444, 0.10371292263015963, 0.10360547036883538, 0.1034982405299109, 0.1033912324234904, 0.10328444536252832, 0.10317787866281461, 0.10307153164296014, 0.10296540362438213, 0.10285949393128978, 0.10275380189066988, 0.10264832683227255, 0.10254306808859713, 0.10243802499487802, 0.10233319688907073, 0.102228583111838, 0.10212418300653588, 0.1020199959192001, 0.10191602119853234, 0.10181225819588671, 0.10170870626525623, 0.10160536476325942, 0.101502233049127, 0.10139931048468863, 0.10129659643435973, 0.10119409026512845, 0.10109179134654259, 0.10098969905069675, 0.10088781275221946, 0.10078613182826036, 0.10068465565847758, 0.10058338362502507, 0.10048231511254012, 0.10038144950813083, 0.10028078620136374, 0.10018032458425158, 0.10008006405124092, 0.0999800039992001, 0.09988014382740705, 0.09978048293753736, 0.09968102073365225, 0.09958175662218675, 0.09948269001193787, 0.09938382031405281, 0.09928514694201741, 0.09918666931164445, 0.09908838684106216, 0.09899029895070277, 0.09889240506329108, 0.09879470460383317, 0.09869719699960515, 0.09859988168014193, 0.09850275807722611, 0.09840582562487694, 0.09830908375933932, 0.09821253191907282, 0.09811616954474092, 0.0980199960792001, 0.09792401096748918, 0.09782821365681858, 0.09773260359655978, 0.09763718023823469, 0.09754194303550523, 0.0974468914441629, 0.09735202492211835, 0.09725734292939114, 0.09716284492809947, 0.09706853038244999, 0.09697439875872768, 0.09688044952528578, 0.09678668215253579, 0.09669309611293751, 0.09659969088098916, 0.0965064659332175, 0.09641342074816812, 0.09632055480639566, 0.09622786759045417, 0.09613535858488749, 0.09604302727621972, 0.09595087315294566, 0.09585889570552145, 0.09576709442635507, 0.09567546880979713, 0.09558401835213148, 0.09549274255156603, 0.09540164090822358, 0.09531071292413262, 0.09521995810321839, 0.09512937595129371, 0.09503896597605013, 0.09494872768704894, 0.09485866059571234, 0.09476876421531458, 0.09467903806097325, 0.09458948164964051, 0.09450009450009444, 0.09441087613293046, 0.09432182607055267, 0.09423294383716542, 0.09414422895876477, 0.09405568096313012, 0.09396729937981577, 0.09387908374014264, 0.09379103357718997, 0.09370314842578706, 0.0936154278225051, 0.09352787130564905, 0.09344047841524945, 0.09335324869305449, 0.09326618168252189, 0.093179276928811, 0.09309253397877487, 0.09300595238095236, 0.09291953168556027, 0.09283327144448568, 0.09274717121127803, 0.09266123054114156, 0.09257544899092758, 0.09248982611912687, 0.0924043614858621, 0.09231905465288033, 0.09223390518354545, 0.09214891264283079, 0.09206407659731171, 0.09197939661515818, 0.09189487226612753, 0.09181050312155709, 0.09172628875435698, 0.09164222873900292, 0.09155832265152901, 0.09147457006952066, 0.09139097057210746, 0.09130752373995615, 0.09122422915526363, 0.0911410864017499, 0.09105809506465123, 0.09097525473071323, 0.09089256498818395, 0.0908100254268071, 0.09072763563781526, 0.09064539521392312, 0.09056330374932076, 0.09048136083966701, 0.09039956608208279, 0.09031791907514448, 0.09023641941887743, 0.09015506671474934, 0.09007386056566381, 0.0899928005759539, 0.08991188635137562, 0.08983111749910165, 0.08975049362771491, 0.08967001434720225, 0.08958967926894816, 0.08950948800572855, 0.08942944017170447, 0.08934953538241595, 0.08926977325477588, 0.08919015340706381, 0.08911067545891993, 0.08903133903133899, 0.08895214374666426, 0.08887308922858154, 0.08879417510211327, 0.08871540099361246, 0.08863676653075692, 0.08855827134254335, 0.0884799150592815, 0.08840169731258836, 0.0883236177353824, 0.08824567596187782, 0.08816787162757886, 0.08809020436927409, 0.08801267382503075, 0.08793527963418918, 0.08785802143735717, 0.08778089887640443, 0.08770391159445705, 0.08762705923589198, 0.08755034144633157, 0.08747375787263814, 0.08739730816290851, 0.08732099196646867, 0.08724480893386836, 0.08716875871687581, 0.08709284096847232, 0.08701705534284712, 0.08694140149539203, 0.08686587908269625, 0.08679048776254115, 0.08671522719389518, 0.08664009703690861, 0.08656509695290852, 0.08649022660439364, 0.08641548565502931, 0.08634087376964247, 0.08626639061421662, 0.08619203585588683, 0.08611780916293481, 0.08604371020478395, 0.08596973865199442, 0.0858958941762583, 0.08582217645039471, 0.08574858514834498, 0.08567511994516785, 0.08560178051703468, 0.08552856654122469, 0.08545547769612025, 0.08538251366120211, 0.0853096741170448, 0.0852369587453119, 0.08516436722875143, 0.08509189925119122, 0.08501955449753437, 0.0849473326537546, 0.0848752334068918, 0.08480325644504742, 0.08473140145738003, 0.08465966813410085, 0.08458805616646924, 0.08451656524678831, 0.08444519506840055, 0.08437394532568337, 0.0843028157140448, 0.08423180592991909, 0.08416091567076245, 0.08409014463504873, 0.08401949252226512, 0.08394895903290794, 0.0838785438684784, 0.08380824673147834, 0.08373806732540609, 0.0836680053547523, 0.08359806052499578, 0.08352823254259936, 0.0834585211150058, 0.08338892595063371, 0.08331944675887348, 0.0832500832500832, 0.08318083513558472, 0.08311170212765953, 0.08304268393954488, 0.08297378028542976, 0.08290499088045096, 0.08283631544068916, 0.082767753683165, 0.08269930532583522, 0.08263097008758878, 0.08256274768824302, 0.0824946378485398, 0.08242664029014174, 0.08235875473562836, 0.08229098090849239, 0.08222331853313596, 0.08215576733486686, 0.08208832703989488, 0.08202099737532804, 0.08195377806916895, 0.08188666885031114, 0.0818196694485354, 0.08175277959450619, 0.08168599901976799, 0.08161932745674173, 0.08155276463872123, 0.0814863102998696, 0.08141996417521573, 0.0813537260006508, 0.08128759551292469, 0.08122157244964259, 0.08115565654926145, 0.08108984755108657, 0.08102414519526815, 0.0809585492227979, 0.08089305937550555, 0.08082767539605558, 0.08076239702794376, 0.08069722401549384, 0.08063215610385419, 0.08056719303899448, 0.08050233456770242, 0.0804375804375804, 0.08037293039704224, 0.08030838419530996, 0.0802439415824105, 0.08017960230917251, 0.08011536612722317, 0.08005123278898492, 0.07998720204767235, 0.07992327365728898, 0.07985944737262415, 0.07979572294924989, 0.07973210014351775, 0.07966857871255574, 0.07960515841426521, 0.07954183900731782, 0.0794786202511524, 0.079415501905972, 0.0793524837327408, 0.07928956549318106, 0.07922674694977021, 0.07916402786573777, 0.07910140800506245, 0.07903888713246913, 0.07897646501342596, 0.07891414141414138, 0.07885191610156124, 0.07878978884336588, 0.07872775940796722, 0.07866582756450595, 0.07860399308284859, 0.07854225573358464, 0.07848061528802383, 0.0784190715181932, 0.07835762419683433, 0.07829627309740055, 0.07823501799405412, 0.07817385866166353, 0.07811279487580064, 0.07805182641273804, 0.07799095304944625, 0.07793017456359101, 0.0778694907335306, 0.0778089013383131, 0.07774840615767377, 0.07768800497203232, 0.0776276975624903, 0.07756748371082843, 0.07750736319950396, 0.07744733581164809, 0.07738740133106331, 0.07732755954222086, 0.07726781023025808, 0.07720815318097592, 0.0771485881808363, 0.07708911501695961, 0.07702973347712218, 0.0769704433497537, 0.07691124442393478, 0.0768521364893944, 0.07679311933650744, 0.07673419275629219, 0.0766753565404079, 0.0766166104811523, 0.07655795437145918, 0.07649938800489595, 0.0764409111756612, 0.07638252367858232, 0.07632422530911309, 0.07626601586333127, 0.07620789513793627, 0.07614986293024671, 0.07609191903819813, 0.07603406326034062, 0.07597629539583649, 0.07591861524445793, 0.07586102260658473, 0.07580351728320193, 0.07574609907589759, 0.07568876778686043, 0.07563152321887763, 0.07557436517533253, 0.07551729346020239, 0.07546030787805615, 0.07540340823405219, 0.07534659433393612, 0.07528986598403856, 0.07523322299127295, 0.07517666516313337, 0.07512019230769232, 0.07506380423359857, 0.07500750075007502, 0.07495128166691652, 0.07489514679448774, 0.07483909594372101, 0.07478312892611429, 0.07472724555372891, 0.0746714456391876, 0.07461572899567231, 0.07456009543692219, 0.07450454477723144, 0.07444907683144732, 0.07439369141496804, 0.07433838834374074, 0.07428316743425943, 0.07422802850356298, 0.07417297136923309, 0.07411799584939227, 0.07406310176270187, 0.07400828892836002, 0.07395355716609973, 0.07389890629618687, 0.07384433613941815, 0.0737898465171193, 0.07373543725114295, 0.07368110816386685, 0.07362685907819179, 0.0735726898175398, 0.07351860020585214, 0.07346459006758749, 0.07341065922771993, 0.07335680751173715, 0.07330303474563853, 0.07324934075593326, 0.07319572536963848, 0.07314218841427741, 0.07308872971787757, 0.0730353491089688, 0.07298204641658158, 0.0729288214702451, 0.07287567409998548, 0.07282260413632397, 0.07276961141027512, 0.07271669575334502, 0.07266385699752949, 0.07261109497531229, 0.07255840951966339, 0.07250580046403718, 0.07245326764237073, 0.07240081088908201, 0.07234843003906821, 0.07229612492770393, 0.07224389539083953, 0.07219174126479937, 0.07213966238638009, 0.07208765859284896, 0.07203572972194214, 0.071983875611863, 0.07193209610128044, 0.07188039102932725, 0.07182876023559838, 0.07177720356014934, 0.07172572084349452, 0.07167431192660555, 0.07162297665090965, 0.07157171485828805, 0.07152052639107428, 0.07146941109205265, 0.07141836880445655, 0.07136739937196693, 0.07131650263871064, 0.07126567844925888, 0.0712149266486256, 0.07116424708226592, 0.07111363959607457, 0.07106310403638436, 0.07101264024996454, 0.07096224808401934, 0.07091192738618639, 0.07086167800453518, 0.07081149978756553, 0.07076139258420608, 0.07071135624381278, 0.07066139061616734, 0.07061149555147579, 0.07056167090036693, 0.07051191651389085, 0.07046223224351748, 0.07041261794113506, 0.0703630734590487, 0.07031359864997891, 0.07026419336706015, 0.07021485746383935, 0.0701655907942745, 0.07011639321273314, 0.07006726457399103, 0.07001820473323063, 0.06996921354603973, 0.06992029086841, 0.0698714365567356, 0.06982265046781175, 0.06977393245883337, 0.06972528238739366, 0.0696767001114827, 0.06962818548948613, 0.06957973838018368, 0.06953135864274787, 0.06948304613674262, 0.06943480072212192, 0.06938662225922841, 0.06933851060879212, 0.06929046563192905, 0.06924248719013987, 0.0691945751453086, 0.06914672935970129, 0.06909894969596463, 0.0690512360171247, 0.0690035881865857, 0.06895600606812853, 0.06890848952590958, 0.06886103842445943, 0.06881365262868151, 0.06876633200385089, 0.06871907641561295, 0.06867188572998212, 0.06862475981334062, 0.06857769853243723, 0.06853070175438594, 0.06848376934666482, 0.06843690117711468, 0.06839009711393788, 0.06834335702569709, 0.06829668078131401, 0.06825006825006823, 0.06820351930159593, 0.06815703380588874, 0.06811061163329243, 0.06806425265450582, 0.06801795674057948, 0.06797172376291459, 0.06792555359326174, 0.06787944610371975, 0.06783340116673446, 0.06778741865509758, 0.06774149844194549, 0.06769564040075815, 0.06764984440535783, 0.06760411032990803, 0.06755843804891228, 0.06751282743721304, 0.06746727836999053, 0.06742179072276157, 0.06737636437137849, 0.06733099919202798, 0.06728569506122996, 0.06724045185583645, 0.06719526945303049, 0.06715014773032499, 0.06710508656556165, 0.06706008583690985, 0.06701514542286555, 0.06697026520225018, 0.06692544505420958, 0.06688068485821291, 0.06683598449405156, 0.06679134384183806, 0.06674676278200503, 0.06670224119530412, 0.0666577789628049, 0.0666133759658939, 0.0665690320862734, 0.06652474720596056, 0.06648052120728622, 0.06643635397289392, 0.0663922453857389, 0.066348195329087, 0.06630420368651369, 0.06626027034190296, 0.0662163951794464, 0.0661725780836421, 0.0661288189392937, 0.06608511763150934, 0.06604147404570065, 0.06599788806758179, 0.0659543595831684, 0.06591088847877666, 0.06586747464102223, 0.06582411795681935, 0.06578081831337979, 0.0657375755982119, 0.06569438969911966, 0.06565126050420164, 0.0656081879018501, 0.06556517178075003, 0.06552221202987808, 0.06547930853850178, 0.06543646119617846, 0.06539366989275433, 0.06535093451836356, 0.06530825496342732, 0.06526563111865286, 0.06522306287503254, 0.06518055012384298, 0.06513809275664402, 0.0650956906652779, 0.06505334374186827, 0.06501105187881934, 0.0649688149688149, 0.0649266329048175, 0.06488450558006742, 0.0648424328880819, 0.06480041472265417, 0.06475845097785256, 0.06471654154801962, 0.06467468632777125, 0.0646328852119958, 0.06459113809585318, 0.064549444874774, 0.06450780544445871, 0.06446621970087667, 0.06442468754026535, 0.06438320885912946, 0.06434178355424004, 0.06430041152263366, 0.06425909266161153, 0.06421782686873868, 0.06417661404184308, 0.0641354540790148, 0.06409434687860523, 0.06405329233922616, 0.064012290359749, 0.06397134083930392, 0.06393044367727904, 0.06388959877331962, 0.0638488060273272, 0.06380806533945882, 0.06376737661012617, 0.06372673973999482, 0.06368615462998337, 0.06364562118126266, 0.06360513929525498, 0.06356470887363327, 0.06352432981832033, 0.06348400203148798, 0.06344372541555632, 0.06340349987319292, 0.06336332530731205, 0.06332320162107388, 0.06328312871788373, 0.06324310650139127, 0.06320313487548974, 0.06316321374431523, 0.06312334301224584, 0.063083522583901, 0.06304375236414063, 0.06300403225806443, 0.06296436217101112, 0.06292474200855767, 0.06288517167651858, 0.0628456510809451, 0.06280618012812451, 0.06276675872457937, 0.06272738677706678, 0.06268806419257765, 0.06264879087833597, 0.06260956674179807, 0.06257039169065191, 0.06253126563281634, 0.06249218847644038, 0.062453160129902506, 0.06241418050180995, 0.06237524950099794, 0.06233636703652905, 0.06229753301769243, 0.06225874735400317, 0.06222000995520153, 0.062181320731252265, 0.06214267959234396, 0.06210408644888827, 0.0620655412115193, 0.06202704379109285, 0.061988594098685776, 0.06195019204559528, 0.061911837543338226, 0.06187353050365048, 0.061835270838486216, 0.06179705846001725, 0.06175889328063236, 0.061720775212936625, 0.06168270416975075, 0.06164468006411042, 0.0616067028092656, 0.06156877231867992, 0.06153088850602998, 0.06149305128520473, 0.06145526057030477, 0.06141751627564177, 0.061379818315737744, 0.06134216660532446, 0.061304561059342774, 0.061267001592942, 0.06122948812147926, 0.06119202056051887, 0.061154598825831664, 0.061117222833394415, 0.061079892499389166, 0.06104260774020263, 0.06100536847242554, 0.06096817461285206, 0.06093102607847913, 0.06089392278650588, 0.06085686465433298, 0.06081985159956207, 0.06078288353999511, 0.060745960393633794, 0.06070908207867894, 0.06067224851352988, 0.06063545961678387, 0.060598715307235464, 0.060562015503875945, 0.06052536012589273, 0.06048874909266874, 0.06045218232378187, 0.06041565973900433, 0.06037918125830212, 0.0603427468018344, 0.06030635628995294, 0.060270009643201526, 0.06023370678231537, 0.06019744762822055, 0.06016123210203344, 0.060125060125060116, 0.06008893161879581, 0.060052846504924325, 0.06001680470531748, 0.05998080614203454, 0.059944850737321656, 0.0599089384136113, 0.059873069093521726, 0.05983724269985638, 0.059801459155603386, 0.05976571838393496, 0.05973002030820689, 0.05969436485195796, 0.059658751938909425, 0.05962318149296445, 0.05958765343820759, 0.05955216769890423, 0.05951672419950005, 0.059481322864620496, 0.05944596361907025, 0.05941064638783269, 0.059375371096069336, 0.05934013766911938, 0.0593049460324991, 0.05926979611190136, 0.059234687833195104, 0.0591996211224248, 0.05916459590580995, 0.059129612109744545, 0.05909466966079658, 0.05905976848570752, 0.05902490851139179, 0.058990089664936275, 0.05895531187359979, 0.058920575064812616, 0.058885879166175936, 0.058851224105461376, 0.0588166098106105, 0.05878203620973429, 0.05874750323111266, 0.05871301080319397, 0.05867855885459452, 0.05864414731409804, 0.058609776110655244, 0.058575445173383305, 0.05854115443156538, 0.05850690381465012, 0.058472693252251184, 0.05843852267414679, 0.05840439201027916, 0.05837030119075413, 0.05833625014584061, 0.05830223880597013, 0.058268267101736375, 0.05823433496389469, 0.058200442323361634, 0.058166589111214494, 0.05813277525869082, 0.05809900069718798, 0.05806526535826266, 0.05803156917363043, 0.05799791207516527, 0.057964293994899115, 0.05793071486502141, 0.057897174617878626, 0.057863673185973824, 0.057830210501966205, 0.05779678649867065, 0.057763401109057276, 0.05773005426625098, 0.057696745903531015, 0.0576634759543305, 0.05763024435223603, 0.05759705103098719, 0.057563895924476145, 0.05753077896674719, 0.0574977000919963, 0.05746465923457072, 0.05743165632896851, 0.057398691309838115, 0.057365764111977954, 0.05733287467033595, 0.05730002292000915, 0.05726720879624325, 0.05723443223443222, 0.05720169317011782, 0.05716899153898924, 0.05713632727688263, 0.05710370031978071, 0.057071110603812335, 0.05703855806525209, 0.05700604264051987, 0.05697356426618047, 0.05694112287894315, 0.05690871841566126, 0.0568763508133318, 0.056844020009095025, 0.056811725940234044, 0.056779468544174407, 0.05674724775848369, 0.05671506352087112, 0.056682915769187145, 0.05665080444142304, 0.05661872947571054, 0.05658669081032139, 0.05655468838366698, 0.05652272213429796, 0.056490792000903824, 0.056458897922312526, 0.056427039837490096, 0.05639521768554024, 0.056363431405703955, 0.056331680937359144, 0.05629996622002024, 0.056268287193337804, 0.05623664379709816, 0.05620503597122299, 0.05617346365576899, 0.056141926790927436, 0.05611042531702388, 0.0560789591745177, 0.05604752830400177, 0.05601613264620208, 0.055984772141977356, 0.05595344673231868, 0.05592215635834915, 0.055890900961323466, 0.055859680482627606, 0.05582849486377844, 0.05579734404642336, 0.05576622797233992, 0.05573514658343548, 0.055704099821746844, 0.05567308762943989, 0.05564210994880922, 0.0556111667222778, 0.05558025789239658, 0.0555493834018442, 0.05551854319342656, 0.055487737210076535, 0.055456965394853557, 0.05542622769094332, 0.055395524041657394, 0.05536485439043291, 0.05533421868083219, 0.05530361685654238, 0.05527304886137516, 0.05524251463926634, 0.05521201413427558, 0.05518154729058599, 0.05515111405250382, 0.055120714364458125, 0.0550903481710004, 0.055060015416804275, 0.05502971604666516, 0.054999450005499904, 0.05496921723834648, 0.054939017690363655, 0.05490885130683062, 0.0548787180331467, 0.054848617814831024, 0.05481855059752216, 0.05478851632697782, 0.054758514949074535, 0.05472854640980731, 0.05469861065528931, 0.054668707631751544, 0.05463883728554252, 0.05460899956312796, 0.05457919441109045, 0.054549421776129134, 0.054519681605059385, 0.054489973844812516, 0.054460298442435426, 0.05443065534509032, 0.05440104450005436, 0.05437146585471941, 0.05434191935659164, 0.054312404953291295, 0.054282922592552345, 0.05425347222222218, 0.05422405379026132, 0.05419466724474308, 0.05416531253385329, 0.054135989605889966, 0.054106698409263035, 0.05407743889249402, 0.05404821100421573, 0.05401901469317197, 0.05398984990821723, 0.0539607165983164, 0.05393161471254447, 0.05390254420008622, 0.053873505010235946, 0.05384449709239714, 0.05381552039608221, 0.0537865748709122, 0.05375766046661647, 0.05372877713303243, 0.05369992482010523, 0.053671103477887484, 0.05364231305653898, 0.05361355350632638, 0.053584824777622955, 0.05355612682090829, 0.05352745958676799, 0.053498823025893406, 0.05347021708908136, 0.05344164172723384, 0.05341309689135774, 0.053384582532564576, 0.0533560986020702, 0.05332764505119452, 0.053299221831361245, 0.05327082889409757, 0.05324246619103395, 0.05321413367390377, 0.053185831294543115, 0.05315755900489048, 0.05312931675698648, 0.05310110450297364, 0.05307292219509604, 0.05304476978569911, 0.053016647227229326, 0.052988554472233974, 0.05296049147336085, 0.05293245818335801, 0.05290445455507351, 0.052876480541455134, 0.052848536095550125, 0.052820621170504935, 0.05279273571956496, 0.05276487969607426, 0.05273705305347534, 0.052709255745308846, 0.05268148772521333, 0.052653748946925, 0.05262603936427742, 0.05259835893120132, 0.0525707076017243, 0.052543085329970554, 0.05251549207016067, 0.052487927776611355, 0.05246039240373516, 0.05243288590604025, 0.052405408238130155, 0.05237795935470352, 0.05235053921055385, 0.052323147760569254, 0.05229578495973222, 0.05226845076311936, 0.05224114512590114, 0.052213868003341664, 0.05218661935079843, 0.05215939912372207, 0.05213220727765611, 0.05210504376823674, 0.05207790855119256, 0.05205080158234435, 0.052023722817604805, 0.051996672212978344, 0.05196964972456083, 0.051942655308539344, 0.05191568892119196, 0.05188875051888748, 0.05186184005808524, 0.05183495749533483, 0.051808102787275906, 0.05178127589063792, 0.05175447676223991, 0.05172770535899025, 0.05170096163788644, 0.05167424555601486, 0.05164755707055054, 0.05162089613875695, 0.05159426271798574, 0.051567656765676546, 0.05154107823935675, 0.051514527096641234, 0.05148800329523219, 0.051461506792918874, 0.05143503754757739, 0.051408595517170454, 0.05138218065974718, 0.051355792933442876, 0.05132943229647879, 0.0513030987071619, 0.05127679212388472, 0.05125051250512504, 0.05122425980944574, 0.05119803399549456, 0.05117183502200388, 0.05114566284779049, 0.051119517431755426, 0.051093398732883696, 0.051067306710244086, 0.051041241322988956, 0.05101520253035403, 0.05098919029165815, 0.050963204566303114, 0.050937245313773416, 0.05091131249363607, 0.05088540606554039, 0.050859525989217766, 0.050833672224481485, 0.05080784473122649, 0.050782043469429196, 0.05075626839914728, 0.050730519480519466, 0.050704796673765325, 0.05067909993918507, 0.05065342923715934, 0.050627784528149034, 0.05060216577269506, 0.05057657293141815, 0.050551005965018686, 0.05052546483427646, 0.05049994950005048, 0.05047445992327881, 0.05044899606497829, 0.05042355788624443, 0.05039814534825116, 0.05037275841225063, 0.050347397039573034, 0.05032206119162639, 0.05029675082989637, 0.05027146591594609, 0.05024620641141592, 0.05022097227802328, 0.05019576347756247, 0.05017057997190445, 0.050145421722996665, 0.05012028869286284, 0.050095180843602816, 0.05007009813739232, 0.05004504053648281, 0.050020008003201256, 0.04999500049994998], \"yaxis\": \"y\"}],\n",
       "                        {\"height\": 600, \"legend\": {\"tracegroupgap\": 0}, \"template\": {\"data\": {\"bar\": [{\"error_x\": {\"color\": \"#2a3f5f\"}, \"error_y\": {\"color\": \"#2a3f5f\"}, \"marker\": {\"line\": {\"color\": \"#E5ECF6\", \"width\": 0.5}}, \"type\": \"bar\"}], \"barpolar\": [{\"marker\": {\"line\": {\"color\": \"#E5ECF6\", \"width\": 0.5}}, \"type\": \"barpolar\"}], \"carpet\": [{\"aaxis\": {\"endlinecolor\": \"#2a3f5f\", \"gridcolor\": \"white\", \"linecolor\": \"white\", \"minorgridcolor\": \"white\", \"startlinecolor\": \"#2a3f5f\"}, \"baxis\": {\"endlinecolor\": \"#2a3f5f\", \"gridcolor\": \"white\", \"linecolor\": \"white\", \"minorgridcolor\": \"white\", \"startlinecolor\": \"#2a3f5f\"}, \"type\": \"carpet\"}], \"choropleth\": [{\"colorbar\": {\"outlinewidth\": 0, \"ticks\": \"\"}, \"type\": \"choropleth\"}], \"contour\": [{\"colorbar\": {\"outlinewidth\": 0, \"ticks\": \"\"}, \"colorscale\": [[0.0, \"#0d0887\"], [0.1111111111111111, \"#46039f\"], [0.2222222222222222, \"#7201a8\"], [0.3333333333333333, \"#9c179e\"], [0.4444444444444444, \"#bd3786\"], [0.5555555555555556, \"#d8576b\"], [0.6666666666666666, \"#ed7953\"], [0.7777777777777778, \"#fb9f3a\"], [0.8888888888888888, \"#fdca26\"], [1.0, \"#f0f921\"]], \"type\": \"contour\"}], \"contourcarpet\": [{\"colorbar\": {\"outlinewidth\": 0, \"ticks\": \"\"}, \"type\": \"contourcarpet\"}], \"heatmap\": [{\"colorbar\": {\"outlinewidth\": 0, \"ticks\": \"\"}, \"colorscale\": [[0.0, \"#0d0887\"], [0.1111111111111111, \"#46039f\"], [0.2222222222222222, \"#7201a8\"], [0.3333333333333333, \"#9c179e\"], [0.4444444444444444, \"#bd3786\"], [0.5555555555555556, \"#d8576b\"], [0.6666666666666666, \"#ed7953\"], [0.7777777777777778, \"#fb9f3a\"], [0.8888888888888888, \"#fdca26\"], [1.0, \"#f0f921\"]], \"type\": \"heatmap\"}], \"heatmapgl\": [{\"colorbar\": {\"outlinewidth\": 0, \"ticks\": \"\"}, \"colorscale\": [[0.0, \"#0d0887\"], [0.1111111111111111, \"#46039f\"], [0.2222222222222222, \"#7201a8\"], [0.3333333333333333, \"#9c179e\"], [0.4444444444444444, \"#bd3786\"], [0.5555555555555556, \"#d8576b\"], [0.6666666666666666, \"#ed7953\"], [0.7777777777777778, \"#fb9f3a\"], [0.8888888888888888, \"#fdca26\"], [1.0, \"#f0f921\"]], \"type\": \"heatmapgl\"}], \"histogram\": [{\"marker\": {\"colorbar\": {\"outlinewidth\": 0, \"ticks\": \"\"}}, \"type\": \"histogram\"}], \"histogram2d\": [{\"colorbar\": {\"outlinewidth\": 0, \"ticks\": \"\"}, \"colorscale\": [[0.0, \"#0d0887\"], [0.1111111111111111, \"#46039f\"], [0.2222222222222222, \"#7201a8\"], [0.3333333333333333, \"#9c179e\"], [0.4444444444444444, \"#bd3786\"], [0.5555555555555556, \"#d8576b\"], [0.6666666666666666, \"#ed7953\"], [0.7777777777777778, \"#fb9f3a\"], [0.8888888888888888, \"#fdca26\"], [1.0, \"#f0f921\"]], \"type\": \"histogram2d\"}], \"histogram2dcontour\": [{\"colorbar\": {\"outlinewidth\": 0, \"ticks\": \"\"}, \"colorscale\": [[0.0, \"#0d0887\"], [0.1111111111111111, \"#46039f\"], [0.2222222222222222, \"#7201a8\"], [0.3333333333333333, \"#9c179e\"], [0.4444444444444444, \"#bd3786\"], [0.5555555555555556, \"#d8576b\"], [0.6666666666666666, \"#ed7953\"], [0.7777777777777778, \"#fb9f3a\"], [0.8888888888888888, \"#fdca26\"], [1.0, \"#f0f921\"]], \"type\": \"histogram2dcontour\"}], \"mesh3d\": [{\"colorbar\": {\"outlinewidth\": 0, \"ticks\": \"\"}, \"type\": \"mesh3d\"}], \"parcoords\": [{\"line\": {\"colorbar\": {\"outlinewidth\": 0, \"ticks\": \"\"}}, \"type\": \"parcoords\"}], \"scatter\": [{\"marker\": {\"colorbar\": {\"outlinewidth\": 0, \"ticks\": \"\"}}, \"type\": \"scatter\"}], \"scatter3d\": [{\"line\": {\"colorbar\": {\"outlinewidth\": 0, \"ticks\": \"\"}}, \"marker\": {\"colorbar\": {\"outlinewidth\": 0, \"ticks\": \"\"}}, \"type\": \"scatter3d\"}], \"scattercarpet\": [{\"marker\": {\"colorbar\": {\"outlinewidth\": 0, \"ticks\": \"\"}}, \"type\": \"scattercarpet\"}], \"scattergeo\": [{\"marker\": {\"colorbar\": {\"outlinewidth\": 0, \"ticks\": \"\"}}, \"type\": \"scattergeo\"}], \"scattergl\": [{\"marker\": {\"colorbar\": {\"outlinewidth\": 0, \"ticks\": \"\"}}, \"type\": \"scattergl\"}], \"scattermapbox\": [{\"marker\": {\"colorbar\": {\"outlinewidth\": 0, \"ticks\": \"\"}}, \"type\": \"scattermapbox\"}], \"scatterpolar\": [{\"marker\": {\"colorbar\": {\"outlinewidth\": 0, \"ticks\": \"\"}}, \"type\": \"scatterpolar\"}], \"scatterpolargl\": [{\"marker\": {\"colorbar\": {\"outlinewidth\": 0, \"ticks\": \"\"}}, \"type\": \"scatterpolargl\"}], \"scatterternary\": [{\"marker\": {\"colorbar\": {\"outlinewidth\": 0, \"ticks\": \"\"}}, \"type\": \"scatterternary\"}], \"surface\": [{\"colorbar\": {\"outlinewidth\": 0, \"ticks\": \"\"}, \"colorscale\": [[0.0, \"#0d0887\"], [0.1111111111111111, \"#46039f\"], [0.2222222222222222, \"#7201a8\"], [0.3333333333333333, \"#9c179e\"], [0.4444444444444444, \"#bd3786\"], [0.5555555555555556, \"#d8576b\"], [0.6666666666666666, \"#ed7953\"], [0.7777777777777778, \"#fb9f3a\"], [0.8888888888888888, \"#fdca26\"], [1.0, \"#f0f921\"]], \"type\": \"surface\"}], \"table\": [{\"cells\": {\"fill\": {\"color\": \"#EBF0F8\"}, \"line\": {\"color\": \"white\"}}, \"header\": {\"fill\": {\"color\": \"#C8D4E3\"}, \"line\": {\"color\": \"white\"}}, \"type\": \"table\"}]}, \"layout\": {\"annotationdefaults\": {\"arrowcolor\": \"#2a3f5f\", \"arrowhead\": 0, \"arrowwidth\": 1}, \"colorscale\": {\"diverging\": [[0, \"#8e0152\"], [0.1, \"#c51b7d\"], [0.2, \"#de77ae\"], [0.3, \"#f1b6da\"], [0.4, \"#fde0ef\"], [0.5, \"#f7f7f7\"], [0.6, \"#e6f5d0\"], [0.7, \"#b8e186\"], [0.8, \"#7fbc41\"], [0.9, \"#4d9221\"], [1, \"#276419\"]], \"sequential\": [[0.0, \"#0d0887\"], [0.1111111111111111, \"#46039f\"], [0.2222222222222222, \"#7201a8\"], [0.3333333333333333, \"#9c179e\"], [0.4444444444444444, \"#bd3786\"], [0.5555555555555556, \"#d8576b\"], [0.6666666666666666, \"#ed7953\"], [0.7777777777777778, \"#fb9f3a\"], [0.8888888888888888, \"#fdca26\"], [1.0, \"#f0f921\"]], \"sequentialminus\": [[0.0, \"#0d0887\"], [0.1111111111111111, \"#46039f\"], [0.2222222222222222, \"#7201a8\"], [0.3333333333333333, \"#9c179e\"], [0.4444444444444444, \"#bd3786\"], [0.5555555555555556, \"#d8576b\"], [0.6666666666666666, \"#ed7953\"], [0.7777777777777778, \"#fb9f3a\"], [0.8888888888888888, \"#fdca26\"], [1.0, \"#f0f921\"]]}, \"colorway\": [\"#636efa\", \"#EF553B\", \"#00cc96\", \"#ab63fa\", \"#FFA15A\", \"#19d3f3\", \"#FF6692\", \"#B6E880\", \"#FF97FF\", \"#FECB52\"], \"font\": {\"color\": \"#2a3f5f\"}, \"geo\": {\"bgcolor\": \"white\", \"lakecolor\": \"white\", \"landcolor\": \"#E5ECF6\", \"showlakes\": true, \"showland\": true, \"subunitcolor\": \"white\"}, \"hoverlabel\": {\"align\": \"left\"}, \"hovermode\": \"closest\", \"mapbox\": {\"style\": \"light\"}, \"paper_bgcolor\": \"white\", \"plot_bgcolor\": \"#E5ECF6\", \"polar\": {\"angularaxis\": {\"gridcolor\": \"white\", \"linecolor\": \"white\", \"ticks\": \"\"}, \"bgcolor\": \"#E5ECF6\", \"radialaxis\": {\"gridcolor\": \"white\", \"linecolor\": \"white\", \"ticks\": \"\"}}, \"scene\": {\"xaxis\": {\"backgroundcolor\": \"#E5ECF6\", \"gridcolor\": \"white\", \"gridwidth\": 2, \"linecolor\": \"white\", \"showbackground\": true, \"ticks\": \"\", \"zerolinecolor\": \"white\"}, \"yaxis\": {\"backgroundcolor\": \"#E5ECF6\", \"gridcolor\": \"white\", \"gridwidth\": 2, \"linecolor\": \"white\", \"showbackground\": true, \"ticks\": \"\", \"zerolinecolor\": \"white\"}, \"zaxis\": {\"backgroundcolor\": \"#E5ECF6\", \"gridcolor\": \"white\", \"gridwidth\": 2, \"linecolor\": \"white\", \"showbackground\": true, \"ticks\": \"\", \"zerolinecolor\": \"white\"}}, \"shapedefaults\": {\"line\": {\"color\": \"#2a3f5f\"}}, \"ternary\": {\"aaxis\": {\"gridcolor\": \"white\", \"linecolor\": \"white\", \"ticks\": \"\"}, \"baxis\": {\"gridcolor\": \"white\", \"linecolor\": \"white\", \"ticks\": \"\"}, \"bgcolor\": \"#E5ECF6\", \"caxis\": {\"gridcolor\": \"white\", \"linecolor\": \"white\", \"ticks\": \"\"}}, \"title\": {\"x\": 0.05}, \"xaxis\": {\"automargin\": true, \"gridcolor\": \"white\", \"linecolor\": \"white\", \"ticks\": \"\", \"zerolinecolor\": \"white\", \"zerolinewidth\": 2}, \"yaxis\": {\"automargin\": true, \"gridcolor\": \"white\", \"linecolor\": \"white\", \"ticks\": \"\", \"zerolinecolor\": \"white\", \"zerolinewidth\": 2}}}, \"title\": {\"text\": \"KALMAN GAIN ITERATION\"}, \"xaxis\": {\"anchor\": \"y\", \"domain\": [0.0, 0.98]}, \"yaxis\": {\"anchor\": \"x\", \"domain\": [0.0, 1.0], \"title\": {\"text\": \"value\"}}},\n",
       "                        {\"responsive\": true}\n",
       "                    ).then(function(){\n",
       "                            \n",
       "var gd = document.getElementById('a92bd88a-6daa-4706-90c3-769fb24eabfd');\n",
       "var x = new MutationObserver(function (mutations, observer) {{\n",
       "        var display = window.getComputedStyle(gd).display;\n",
       "        if (!display || display === 'none') {{\n",
       "            console.log([gd, 'removed!']);\n",
       "            Plotly.purge(gd);\n",
       "            observer.disconnect();\n",
       "        }}\n",
       "}});\n",
       "\n",
       "// Listen for the removal of the full notebook cells\n",
       "var notebookContainer = gd.closest('#notebook-container');\n",
       "if (notebookContainer) {{\n",
       "    x.observe(notebookContainer, {childList: true});\n",
       "}}\n",
       "\n",
       "// Listen for the clearing of the current output cell\n",
       "var outputEl = gd.closest('.output');\n",
       "if (outputEl) {{\n",
       "    x.observe(outputEl, {childList: true});\n",
       "}}\n",
       "\n",
       "                        })\n",
       "                };\n",
       "                });\n",
       "            </script>\n",
       "        </div>"
      ]
     },
     "metadata": {},
     "output_type": "display_data"
    }
   ],
   "source": [
    "px.line(pd.melt(\n",
    "    res_df, value_vars=['CUR_COV', 'CUR_COV_STANDARD']), y='value', color='variable',\n",
    "       title='KALMAN GAIN ITERATION')"
   ]
  },
  {
   "cell_type": "markdown",
   "metadata": {},
   "source": [
    "### Constant Velocity Aircraft in One Dimension (Comparing results with pyKalman)\n",
    "- State is Position\n",
    "- Control is Velocity\n",
    "\n",
    "\n",
    "- PyKalman merges control and transition into one matrices, so had to maneuver\n",
    "- Vec, Cov shape in pyKalman is different\n",
    "- Results are identical\n",
    "- pyKalman disadvantage (Cannot set error in the control matrix straightforwardly)\n",
    "\n",
    "\n",
    "- Assumption is good initial estiate(low covariance, close to true value initial estimate)\n",
    "- Large Measurement Error"
   ]
  },
  {
   "cell_type": "code",
   "execution_count": 1146,
   "metadata": {},
   "outputs": [],
   "source": [
    "measure_var = 10\n",
    "init_state_vec = np.array([7,10])#.reshape(-1,1)\n",
    "init_state_cov = np.matrix([[250,0],[0,0]]) #Assume I am highly confident of velocity, but not position\n",
    "transition_mat = np.matrix([[1,1],[0,1]])\n",
    "control_mat = np.matrix([1,0])#.reshape(-1,1)\n",
    "control_vec = np.array([10]) # Velocity is constant at 10\n",
    "observation_mat = np.matrix([1,0])#.reshape(-1,1) # Can only observe position\n",
    "measure_noise_mat = np.matrix(measure_var)\n",
    "process_noise_mat = np.matrix([[1,0],[0,0]])"
   ]
  },
  {
   "cell_type": "code",
   "execution_count": 1147,
   "metadata": {},
   "outputs": [],
   "source": [
    "kf = KalmanFilter(n_dim_obs=1, \n",
    "                  n_dim_state=2, \n",
    "                  initial_state_mean=init_state_vec,\n",
    "                  initial_state_covariance=init_state_cov,\n",
    "                  transition_matrices=transition_mat,\n",
    "                  observation_matrices=observation_mat,\n",
    "                  observation_covariance=measure_noise_mat,\n",
    "                  transition_covariance=process_noise_mat)"
   ]
  },
  {
   "cell_type": "code",
   "execution_count": 1148,
   "metadata": {},
   "outputs": [],
   "source": [
    " # Can only observe position\n",
    "init_state_vec = init_state_vec.reshape(-1,1)\n",
    "control_mat = control_mat.reshape(-1,1)\n",
    "transition_mat = np.matrix(np.eye(2))"
   ]
  },
  {
   "cell_type": "code",
   "execution_count": 1158,
   "metadata": {},
   "outputs": [],
   "source": [
    "num_moves = 100"
   ]
  },
  {
   "cell_type": "code",
   "execution_count": 1159,
   "metadata": {},
   "outputs": [
    {
     "name": "stdout",
     "output_type": "stream",
     "text": [
      "0.01087564101908356\n",
      "0.06614747701678425\n"
     ]
    }
   ],
   "source": [
    "start = timeit.default_timer()\n",
    "prev_next_state_vec = state_extrapolation(init_state_vec, control_vec, transition_mat, control_mat)\n",
    "prev_next_cov_mat = cov_extrapolation(init_state_cov, transition_mat, process_noise_mat)\n",
    "\n",
    "kalman_gain_list = []\n",
    "cur_state_vec_list = []\n",
    "cur_state_cov_list = []\n",
    "measurements = np.arange(0, num_moves, 1) * 10 + 50 + measure_var * np.random.randn(num_moves)\n",
    "true_value = np.arange(0, num_moves, 1) * 10 + 50\n",
    "\n",
    "for measure in measurements:\n",
    "    measure_vec = np.asarray(measure)\n",
    "    kalman_gain_mat = calc_kalman_gain(prev_next_cov_mat, observation_mat, measure_noise_mat)\n",
    "    kalman_gain_list.append(kalman_gain_mat.item(0))\n",
    "\n",
    "    cur_state_vec = state_update(prev_next_state_vec, kalman_gain_mat, measure_vec, observation_mat)\n",
    "    cur_state_cov_mat = cov_update(prev_next_cov_mat, kalman_gain_mat, observation_mat, measure_noise_mat)\n",
    "    \n",
    "    cur_state_vec_list.append(cur_state_vec.item(0))\n",
    "    cur_state_cov_list.append(cur_state_cov_mat.item(0))\n",
    "    \n",
    "    prev_next_state_vec = state_extrapolation(cur_state_vec, control_vec, transition_mat, control_mat)\n",
    "    prev_next_cov_mat = cov_extrapolation(cur_state_cov_mat, transition_mat, process_noise_mat)\n",
    "\n",
    "    \n",
    "end = timeit.default_timer()\n",
    "print(end - start)\n",
    "start = timeit.default_timer()\n",
    "\n",
    "prev_next_cov_mat = init_state_cov\n",
    "prev_next_state_vec = init_state_vec\n",
    "\n",
    "cur_state_vec_list_2 = []\n",
    "cur_state_cov_list_2 = []\n",
    "    \n",
    "for measure in measurements:\n",
    "    measure_vec = np.asarray(measure)\n",
    "    prev_next_state_vec, prev_next_cov_mat = kf.filter_update(prev_next_state_vec, prev_next_cov_mat,\n",
    "                    observation=measure_vec,\n",
    "                    observation_matrix=observation_mat)\n",
    "    cur_state_vec_list_2.append(prev_next_state_vec.item(0))\n",
    "    cur_state_cov_list_2.append(prev_next_cov_mat.item(0))\n",
    "    \n",
    "end = timeit.default_timer()   \n",
    "print(end - start)\n",
    "\n",
    "    \n",
    "res_df = pd.DataFrame({'KALMAN_GAIN': kalman_gain_list, \n",
    "                       'CUR_STATE': cur_state_vec_list, \n",
    "                       'CUR_STATE_STANDARD': cur_state_vec_list_2, \n",
    "                       'CUR_COV_STANDARD': cur_state_cov_list_2, \n",
    "                       'CUR_COV': cur_state_cov_list, \n",
    "                       'TRUE_VALUE': true_value, \n",
    "                       'MEASUREMENT': measurements})"
   ]
  },
  {
   "cell_type": "code",
   "execution_count": 1160,
   "metadata": {},
   "outputs": [],
   "source": [
    "res_df['MEASUREMENT_ERROR'] = res_df['MEASUREMENT'] - res_df['TRUE_VALUE']\n",
    "res_df['KALMAN_ERROR'] = res_df['CUR_STATE'] - res_df['TRUE_VALUE']"
   ]
  },
  {
   "cell_type": "code",
   "execution_count": 1161,
   "metadata": {},
   "outputs": [
    {
     "data": {
      "application/vnd.plotly.v1+json": {
       "config": {
        "plotlyServerURL": "https://plot.ly"
       },
       "data": [
        {
         "hoverlabel": {
          "namelength": 0
         },
         "hovertemplate": "variable=CUR_STATE<br>value=%{y}",
         "legendgroup": "variable=CUR_STATE",
         "line": {
          "color": "#636efa",
          "dash": "solid"
         },
         "mode": "lines",
         "name": "variable=CUR_STATE",
         "showlegend": true,
         "type": "scatter",
         "xaxis": "x",
         "y": [
          52.393993585216805,
          61.905726944963305,
          65.32153310541169,
          81.52385586810405,
          87.43059779687236,
          96.6957315499742,
          109.69198098327965,
          118.51029197391112,
          128.46493913100971,
          139.7728471654595,
          149.8377694221697,
          157.91686174349346,
          168.68448291273006,
          175.38340825857765,
          186.80304525352864,
          201.10798649312326,
          214.88567684626003,
          221.18883331538672,
          235.5712614852762,
          245.01602048553337,
          253.40327384369473,
          261.6232160732756,
          276.1697283527859,
          280.4921807622279,
          287.13251440355816,
          296.46948115918315,
          303.70756347615776,
          312.7522312477886,
          327.5042574427982,
          335.7755439465862,
          342.9041436236022,
          358.6054853635927,
          370.453851355857,
          374.2302122600581,
          386.4197141850583,
          396.49537655502746,
          407.61701934576206,
          420.5714329536212,
          429.28639912735014,
          439.24043576061604,
          448.49097218086223,
          461.09436550375824,
          472.90545359486026,
          482.6312259305602,
          492.19932790313925,
          501.70342995786655,
          510.7428574744694,
          518.4742299295215,
          530.5786733710254,
          540.0914247655827,
          550.523490061149,
          561.5417978012396,
          571.0515317082476,
          581.436302095092,
          594.7864349161732,
          603.517513918565,
          609.898134054388,
          624.7490731678002,
          631.5913482654204,
          638.8344449814538,
          650.8699091182187,
          658.8799921411103,
          667.7785060447106,
          682.4339130666759,
          693.4268308606527,
          702.8264469656588,
          716.6365587913292,
          726.949112296422,
          738.1090025503707,
          746.5884059629205,
          754.2533314983208,
          764.697011872129,
          769.7612215146274,
          780.0620953517098,
          786.7949720509041,
          797.5328117557675,
          805.711803063742,
          816.6282401551891,
          829.4522893366634,
          839.1636742506953,
          845.2708532521978,
          858.2867274099708,
          871.207778959998,
          876.7085421733151,
          888.268313991918,
          895.7132976025762,
          905.6600321782348,
          916.3967768661643,
          929.8942907631583,
          948.2325427372032,
          959.3619187102775,
          962.8476521025248,
          975.850117499858,
          982.1722694263777,
          990.1174074038846,
          1002.0343671385731,
          1007.2962346585613,
          1016.9288900872057,
          1029.7438688350442,
          1038.077499134876
         ],
         "yaxis": "y"
        },
        {
         "hoverlabel": {
          "namelength": 0
         },
         "hovertemplate": "variable=CUR_STATE_STANDARD<br>value=%{y}",
         "legendgroup": "variable=CUR_STATE_STANDARD",
         "line": {
          "color": "#EF553B",
          "dash": "solid"
         },
         "mode": "lines",
         "name": "variable=CUR_STATE_STANDARD",
         "showlegend": true,
         "type": "scatter",
         "xaxis": "x",
         "y": [
          52.393993585216805,
          61.905726944963305,
          65.32153310541167,
          81.52385586810405,
          87.43059779687236,
          96.6957315499742,
          109.69198098327965,
          118.51029197391112,
          128.46493913100971,
          139.7728471654595,
          149.8377694221697,
          157.91686174349346,
          168.68448291273006,
          175.38340825857765,
          186.80304525352864,
          201.10798649312326,
          214.88567684626003,
          221.18883331538672,
          235.5712614852762,
          245.01602048553337,
          253.40327384369473,
          261.6232160732756,
          276.1697283527859,
          280.4921807622279,
          287.13251440355816,
          296.46948115918315,
          303.70756347615776,
          312.7522312477886,
          327.5042574427982,
          335.7755439465862,
          342.9041436236022,
          358.6054853635927,
          370.453851355857,
          374.2302122600581,
          386.4197141850583,
          396.49537655502746,
          407.61701934576206,
          420.5714329536212,
          429.28639912735014,
          439.24043576061604,
          448.49097218086223,
          461.09436550375824,
          472.90545359486026,
          482.6312259305602,
          492.19932790313925,
          501.70342995786655,
          510.7428574744694,
          518.4742299295215,
          530.5786733710254,
          540.0914247655827,
          550.523490061149,
          561.5417978012396,
          571.0515317082476,
          581.436302095092,
          594.7864349161732,
          603.517513918565,
          609.898134054388,
          624.7490731678002,
          631.5913482654204,
          638.8344449814538,
          650.8699091182187,
          658.8799921411103,
          667.7785060447106,
          682.4339130666759,
          693.4268308606527,
          702.8264469656588,
          716.6365587913292,
          726.949112296422,
          738.1090025503707,
          746.5884059629205,
          754.2533314983208,
          764.697011872129,
          769.7612215146274,
          780.0620953517098,
          786.7949720509041,
          797.5328117557675,
          805.711803063742,
          816.6282401551891,
          829.4522893366634,
          839.1636742506953,
          845.2708532521978,
          858.2867274099708,
          871.207778959998,
          876.7085421733151,
          888.268313991918,
          895.7132976025762,
          905.6600321782348,
          916.3967768661643,
          929.8942907631583,
          948.2325427372032,
          959.3619187102775,
          962.8476521025248,
          975.850117499858,
          982.1722694263777,
          990.1174074038846,
          1002.0343671385731,
          1007.2962346585613,
          1016.9288900872057,
          1029.7438688350442,
          1038.077499134876
         ],
         "yaxis": "y"
        },
        {
         "hoverlabel": {
          "namelength": 0
         },
         "hovertemplate": "variable=TRUE_VALUE<br>value=%{y}",
         "legendgroup": "variable=TRUE_VALUE",
         "line": {
          "color": "#00cc96",
          "dash": "solid"
         },
         "mode": "lines",
         "name": "variable=TRUE_VALUE",
         "showlegend": true,
         "type": "scatter",
         "xaxis": "x",
         "y": [
          50,
          60,
          70,
          80,
          90,
          100,
          110,
          120,
          130,
          140,
          150,
          160,
          170,
          180,
          190,
          200,
          210,
          220,
          230,
          240,
          250,
          260,
          270,
          280,
          290,
          300,
          310,
          320,
          330,
          340,
          350,
          360,
          370,
          380,
          390,
          400,
          410,
          420,
          430,
          440,
          450,
          460,
          470,
          480,
          490,
          500,
          510,
          520,
          530,
          540,
          550,
          560,
          570,
          580,
          590,
          600,
          610,
          620,
          630,
          640,
          650,
          660,
          670,
          680,
          690,
          700,
          710,
          720,
          730,
          740,
          750,
          760,
          770,
          780,
          790,
          800,
          810,
          820,
          830,
          840,
          850,
          860,
          870,
          880,
          890,
          900,
          910,
          920,
          930,
          940,
          950,
          960,
          970,
          980,
          990,
          1000,
          1010,
          1020,
          1030,
          1040
         ],
         "yaxis": "y"
        },
        {
         "hoverlabel": {
          "namelength": 0
         },
         "hovertemplate": "variable=MEASUREMENT<br>value=%{y}",
         "legendgroup": "variable=MEASUREMENT",
         "line": {
          "color": "#ab63fa",
          "dash": "solid"
         },
         "mode": "lines",
         "name": "variable=MEASUREMENT",
         "showlegend": true,
         "type": "scatter",
         "xaxis": "x",
         "y": [
          53.804112851560106,
          61.44582945991761,
          54.61483126786453,
          94.424139738101,
          77.79225022307789,
          94.84975264190426,
          117.47973454154356,
          115.38282368857368,
          128.34374853227376,
          143.2857222967491,
          150.01261775106974,
          152.73597640580317,
          170.756435189371,
          166.46952897371028,
          190.63732539053055,
          212.73650613194795,
          225.0906190796602,
          211.20195771735828,
          247.41042545473584,
          243.5160184935337,
          249.04636345646588,
          256.8142940402348,
          288.45239382405526,
          265.15394648513933,
          278.0561712047245,
          294.67825610080774,
          296.24607226072845,
          310.1713420679351,
          340.3421509238427,
          331.10531714306165,
          335.14687736471814,
          374.00801414815777,
          375.44732688722183,
          357.4166646649378,
          392.3347896395009,
          396.69978314745646,
          410.64720701921607,
          428.5529648386152,
          425.81480042126316,
          439.116262870203,
          446.4662497644808,
          468.12759428494104,
          477.79822057541315,
          481.8903828607852,
          491.0325285531123,
          500.36373085416966,
          508.14781124104354,
          512.3453916926148,
          536.2639580535729,
          538.7750923907213,
          551.6907412964628,
          564.292819417064,
          569.7270474033294,
          582.4757831965944,
          603.8370268382748,
          600.0894450197826,
          600.1201545200828,
          637.8541865167944,
          623.0605582878234,
          631.3864995045247,
          656.368841924109,
          653.5041078163633,
          664.8027729323846,
          695.0107843244238,
          696.1092599598595,
          701.2044725782558,
          726.9298125676339,
          727.7934950058526,
          741.2425181223072,
          742.4804198244158,
          747.9449827803762,
          765.8956419628272,
          756.4268772588754,
          780.8749247124844,
          777.9686355042716,
          799.5261315521112,
          800.7922349635122,
          819.1040518856294,
          837.0816336267263,
          838.3839626675538,
          834.754155507713,
          866.4342987894264,
          879.0991811743692,
          864.5535745072771,
          892.4821344508973,
          888.8107621124308,
          905.516132325597,
          918.3871384062402,
          939.3430418169619,
          970.7588484065951,
          962.4129980569234,
          945.2489562038008,
          983.9614642800504,
          972.2363343926693,
          984.5660700047283,
          1007.2131529409123,
          994.4958754371016,
          1015.9364859087154,
          1037.348708785196,
          1033.5756978771249
         ],
         "yaxis": "y"
        }
       ],
       "layout": {
        "height": 600,
        "legend": {
         "tracegroupgap": 0
        },
        "template": {
         "data": {
          "bar": [
           {
            "error_x": {
             "color": "#2a3f5f"
            },
            "error_y": {
             "color": "#2a3f5f"
            },
            "marker": {
             "line": {
              "color": "#E5ECF6",
              "width": 0.5
             }
            },
            "type": "bar"
           }
          ],
          "barpolar": [
           {
            "marker": {
             "line": {
              "color": "#E5ECF6",
              "width": 0.5
             }
            },
            "type": "barpolar"
           }
          ],
          "carpet": [
           {
            "aaxis": {
             "endlinecolor": "#2a3f5f",
             "gridcolor": "white",
             "linecolor": "white",
             "minorgridcolor": "white",
             "startlinecolor": "#2a3f5f"
            },
            "baxis": {
             "endlinecolor": "#2a3f5f",
             "gridcolor": "white",
             "linecolor": "white",
             "minorgridcolor": "white",
             "startlinecolor": "#2a3f5f"
            },
            "type": "carpet"
           }
          ],
          "choropleth": [
           {
            "colorbar": {
             "outlinewidth": 0,
             "ticks": ""
            },
            "type": "choropleth"
           }
          ],
          "contour": [
           {
            "colorbar": {
             "outlinewidth": 0,
             "ticks": ""
            },
            "colorscale": [
             [
              0,
              "#0d0887"
             ],
             [
              0.1111111111111111,
              "#46039f"
             ],
             [
              0.2222222222222222,
              "#7201a8"
             ],
             [
              0.3333333333333333,
              "#9c179e"
             ],
             [
              0.4444444444444444,
              "#bd3786"
             ],
             [
              0.5555555555555556,
              "#d8576b"
             ],
             [
              0.6666666666666666,
              "#ed7953"
             ],
             [
              0.7777777777777778,
              "#fb9f3a"
             ],
             [
              0.8888888888888888,
              "#fdca26"
             ],
             [
              1,
              "#f0f921"
             ]
            ],
            "type": "contour"
           }
          ],
          "contourcarpet": [
           {
            "colorbar": {
             "outlinewidth": 0,
             "ticks": ""
            },
            "type": "contourcarpet"
           }
          ],
          "heatmap": [
           {
            "colorbar": {
             "outlinewidth": 0,
             "ticks": ""
            },
            "colorscale": [
             [
              0,
              "#0d0887"
             ],
             [
              0.1111111111111111,
              "#46039f"
             ],
             [
              0.2222222222222222,
              "#7201a8"
             ],
             [
              0.3333333333333333,
              "#9c179e"
             ],
             [
              0.4444444444444444,
              "#bd3786"
             ],
             [
              0.5555555555555556,
              "#d8576b"
             ],
             [
              0.6666666666666666,
              "#ed7953"
             ],
             [
              0.7777777777777778,
              "#fb9f3a"
             ],
             [
              0.8888888888888888,
              "#fdca26"
             ],
             [
              1,
              "#f0f921"
             ]
            ],
            "type": "heatmap"
           }
          ],
          "heatmapgl": [
           {
            "colorbar": {
             "outlinewidth": 0,
             "ticks": ""
            },
            "colorscale": [
             [
              0,
              "#0d0887"
             ],
             [
              0.1111111111111111,
              "#46039f"
             ],
             [
              0.2222222222222222,
              "#7201a8"
             ],
             [
              0.3333333333333333,
              "#9c179e"
             ],
             [
              0.4444444444444444,
              "#bd3786"
             ],
             [
              0.5555555555555556,
              "#d8576b"
             ],
             [
              0.6666666666666666,
              "#ed7953"
             ],
             [
              0.7777777777777778,
              "#fb9f3a"
             ],
             [
              0.8888888888888888,
              "#fdca26"
             ],
             [
              1,
              "#f0f921"
             ]
            ],
            "type": "heatmapgl"
           }
          ],
          "histogram": [
           {
            "marker": {
             "colorbar": {
              "outlinewidth": 0,
              "ticks": ""
             }
            },
            "type": "histogram"
           }
          ],
          "histogram2d": [
           {
            "colorbar": {
             "outlinewidth": 0,
             "ticks": ""
            },
            "colorscale": [
             [
              0,
              "#0d0887"
             ],
             [
              0.1111111111111111,
              "#46039f"
             ],
             [
              0.2222222222222222,
              "#7201a8"
             ],
             [
              0.3333333333333333,
              "#9c179e"
             ],
             [
              0.4444444444444444,
              "#bd3786"
             ],
             [
              0.5555555555555556,
              "#d8576b"
             ],
             [
              0.6666666666666666,
              "#ed7953"
             ],
             [
              0.7777777777777778,
              "#fb9f3a"
             ],
             [
              0.8888888888888888,
              "#fdca26"
             ],
             [
              1,
              "#f0f921"
             ]
            ],
            "type": "histogram2d"
           }
          ],
          "histogram2dcontour": [
           {
            "colorbar": {
             "outlinewidth": 0,
             "ticks": ""
            },
            "colorscale": [
             [
              0,
              "#0d0887"
             ],
             [
              0.1111111111111111,
              "#46039f"
             ],
             [
              0.2222222222222222,
              "#7201a8"
             ],
             [
              0.3333333333333333,
              "#9c179e"
             ],
             [
              0.4444444444444444,
              "#bd3786"
             ],
             [
              0.5555555555555556,
              "#d8576b"
             ],
             [
              0.6666666666666666,
              "#ed7953"
             ],
             [
              0.7777777777777778,
              "#fb9f3a"
             ],
             [
              0.8888888888888888,
              "#fdca26"
             ],
             [
              1,
              "#f0f921"
             ]
            ],
            "type": "histogram2dcontour"
           }
          ],
          "mesh3d": [
           {
            "colorbar": {
             "outlinewidth": 0,
             "ticks": ""
            },
            "type": "mesh3d"
           }
          ],
          "parcoords": [
           {
            "line": {
             "colorbar": {
              "outlinewidth": 0,
              "ticks": ""
             }
            },
            "type": "parcoords"
           }
          ],
          "scatter": [
           {
            "marker": {
             "colorbar": {
              "outlinewidth": 0,
              "ticks": ""
             }
            },
            "type": "scatter"
           }
          ],
          "scatter3d": [
           {
            "line": {
             "colorbar": {
              "outlinewidth": 0,
              "ticks": ""
             }
            },
            "marker": {
             "colorbar": {
              "outlinewidth": 0,
              "ticks": ""
             }
            },
            "type": "scatter3d"
           }
          ],
          "scattercarpet": [
           {
            "marker": {
             "colorbar": {
              "outlinewidth": 0,
              "ticks": ""
             }
            },
            "type": "scattercarpet"
           }
          ],
          "scattergeo": [
           {
            "marker": {
             "colorbar": {
              "outlinewidth": 0,
              "ticks": ""
             }
            },
            "type": "scattergeo"
           }
          ],
          "scattergl": [
           {
            "marker": {
             "colorbar": {
              "outlinewidth": 0,
              "ticks": ""
             }
            },
            "type": "scattergl"
           }
          ],
          "scattermapbox": [
           {
            "marker": {
             "colorbar": {
              "outlinewidth": 0,
              "ticks": ""
             }
            },
            "type": "scattermapbox"
           }
          ],
          "scatterpolar": [
           {
            "marker": {
             "colorbar": {
              "outlinewidth": 0,
              "ticks": ""
             }
            },
            "type": "scatterpolar"
           }
          ],
          "scatterpolargl": [
           {
            "marker": {
             "colorbar": {
              "outlinewidth": 0,
              "ticks": ""
             }
            },
            "type": "scatterpolargl"
           }
          ],
          "scatterternary": [
           {
            "marker": {
             "colorbar": {
              "outlinewidth": 0,
              "ticks": ""
             }
            },
            "type": "scatterternary"
           }
          ],
          "surface": [
           {
            "colorbar": {
             "outlinewidth": 0,
             "ticks": ""
            },
            "colorscale": [
             [
              0,
              "#0d0887"
             ],
             [
              0.1111111111111111,
              "#46039f"
             ],
             [
              0.2222222222222222,
              "#7201a8"
             ],
             [
              0.3333333333333333,
              "#9c179e"
             ],
             [
              0.4444444444444444,
              "#bd3786"
             ],
             [
              0.5555555555555556,
              "#d8576b"
             ],
             [
              0.6666666666666666,
              "#ed7953"
             ],
             [
              0.7777777777777778,
              "#fb9f3a"
             ],
             [
              0.8888888888888888,
              "#fdca26"
             ],
             [
              1,
              "#f0f921"
             ]
            ],
            "type": "surface"
           }
          ],
          "table": [
           {
            "cells": {
             "fill": {
              "color": "#EBF0F8"
             },
             "line": {
              "color": "white"
             }
            },
            "header": {
             "fill": {
              "color": "#C8D4E3"
             },
             "line": {
              "color": "white"
             }
            },
            "type": "table"
           }
          ]
         },
         "layout": {
          "annotationdefaults": {
           "arrowcolor": "#2a3f5f",
           "arrowhead": 0,
           "arrowwidth": 1
          },
          "colorscale": {
           "diverging": [
            [
             0,
             "#8e0152"
            ],
            [
             0.1,
             "#c51b7d"
            ],
            [
             0.2,
             "#de77ae"
            ],
            [
             0.3,
             "#f1b6da"
            ],
            [
             0.4,
             "#fde0ef"
            ],
            [
             0.5,
             "#f7f7f7"
            ],
            [
             0.6,
             "#e6f5d0"
            ],
            [
             0.7,
             "#b8e186"
            ],
            [
             0.8,
             "#7fbc41"
            ],
            [
             0.9,
             "#4d9221"
            ],
            [
             1,
             "#276419"
            ]
           ],
           "sequential": [
            [
             0,
             "#0d0887"
            ],
            [
             0.1111111111111111,
             "#46039f"
            ],
            [
             0.2222222222222222,
             "#7201a8"
            ],
            [
             0.3333333333333333,
             "#9c179e"
            ],
            [
             0.4444444444444444,
             "#bd3786"
            ],
            [
             0.5555555555555556,
             "#d8576b"
            ],
            [
             0.6666666666666666,
             "#ed7953"
            ],
            [
             0.7777777777777778,
             "#fb9f3a"
            ],
            [
             0.8888888888888888,
             "#fdca26"
            ],
            [
             1,
             "#f0f921"
            ]
           ],
           "sequentialminus": [
            [
             0,
             "#0d0887"
            ],
            [
             0.1111111111111111,
             "#46039f"
            ],
            [
             0.2222222222222222,
             "#7201a8"
            ],
            [
             0.3333333333333333,
             "#9c179e"
            ],
            [
             0.4444444444444444,
             "#bd3786"
            ],
            [
             0.5555555555555556,
             "#d8576b"
            ],
            [
             0.6666666666666666,
             "#ed7953"
            ],
            [
             0.7777777777777778,
             "#fb9f3a"
            ],
            [
             0.8888888888888888,
             "#fdca26"
            ],
            [
             1,
             "#f0f921"
            ]
           ]
          },
          "colorway": [
           "#636efa",
           "#EF553B",
           "#00cc96",
           "#ab63fa",
           "#FFA15A",
           "#19d3f3",
           "#FF6692",
           "#B6E880",
           "#FF97FF",
           "#FECB52"
          ],
          "font": {
           "color": "#2a3f5f"
          },
          "geo": {
           "bgcolor": "white",
           "lakecolor": "white",
           "landcolor": "#E5ECF6",
           "showlakes": true,
           "showland": true,
           "subunitcolor": "white"
          },
          "hoverlabel": {
           "align": "left"
          },
          "hovermode": "closest",
          "mapbox": {
           "style": "light"
          },
          "paper_bgcolor": "white",
          "plot_bgcolor": "#E5ECF6",
          "polar": {
           "angularaxis": {
            "gridcolor": "white",
            "linecolor": "white",
            "ticks": ""
           },
           "bgcolor": "#E5ECF6",
           "radialaxis": {
            "gridcolor": "white",
            "linecolor": "white",
            "ticks": ""
           }
          },
          "scene": {
           "xaxis": {
            "backgroundcolor": "#E5ECF6",
            "gridcolor": "white",
            "gridwidth": 2,
            "linecolor": "white",
            "showbackground": true,
            "ticks": "",
            "zerolinecolor": "white"
           },
           "yaxis": {
            "backgroundcolor": "#E5ECF6",
            "gridcolor": "white",
            "gridwidth": 2,
            "linecolor": "white",
            "showbackground": true,
            "ticks": "",
            "zerolinecolor": "white"
           },
           "zaxis": {
            "backgroundcolor": "#E5ECF6",
            "gridcolor": "white",
            "gridwidth": 2,
            "linecolor": "white",
            "showbackground": true,
            "ticks": "",
            "zerolinecolor": "white"
           }
          },
          "shapedefaults": {
           "line": {
            "color": "#2a3f5f"
           }
          },
          "ternary": {
           "aaxis": {
            "gridcolor": "white",
            "linecolor": "white",
            "ticks": ""
           },
           "baxis": {
            "gridcolor": "white",
            "linecolor": "white",
            "ticks": ""
           },
           "bgcolor": "#E5ECF6",
           "caxis": {
            "gridcolor": "white",
            "linecolor": "white",
            "ticks": ""
           }
          },
          "title": {
           "x": 0.05
          },
          "xaxis": {
           "automargin": true,
           "gridcolor": "white",
           "linecolor": "white",
           "ticks": "",
           "zerolinecolor": "white",
           "zerolinewidth": 2
          },
          "yaxis": {
           "automargin": true,
           "gridcolor": "white",
           "linecolor": "white",
           "ticks": "",
           "zerolinecolor": "white",
           "zerolinewidth": 2
          }
         }
        },
        "title": {
         "text": "PREDICTION ITERATION"
        },
        "xaxis": {
         "anchor": "y",
         "domain": [
          0,
          0.98
         ]
        },
        "yaxis": {
         "anchor": "x",
         "domain": [
          0,
          1
         ],
         "title": {
          "text": "value"
         }
        }
       }
      },
      "text/html": [
       "<div>\n",
       "        \n",
       "        \n",
       "            <div id=\"7711f054-2750-4890-be06-c9aa2f10e081\" class=\"plotly-graph-div\" style=\"height:600px; width:100%;\"></div>\n",
       "            <script type=\"text/javascript\">\n",
       "                require([\"plotly\"], function(Plotly) {\n",
       "                    window.PLOTLYENV=window.PLOTLYENV || {};\n",
       "                    \n",
       "                if (document.getElementById(\"7711f054-2750-4890-be06-c9aa2f10e081\")) {\n",
       "                    Plotly.newPlot(\n",
       "                        '7711f054-2750-4890-be06-c9aa2f10e081',\n",
       "                        [{\"hoverlabel\": {\"namelength\": 0}, \"hovertemplate\": \"variable=CUR_STATE<br>value=%{y}\", \"legendgroup\": \"variable=CUR_STATE\", \"line\": {\"color\": \"#636efa\", \"dash\": \"solid\"}, \"mode\": \"lines\", \"name\": \"variable=CUR_STATE\", \"showlegend\": true, \"type\": \"scatter\", \"xaxis\": \"x\", \"y\": [52.393993585216805, 61.905726944963305, 65.32153310541169, 81.52385586810405, 87.43059779687236, 96.6957315499742, 109.69198098327965, 118.51029197391112, 128.46493913100971, 139.7728471654595, 149.8377694221697, 157.91686174349346, 168.68448291273006, 175.38340825857765, 186.80304525352864, 201.10798649312326, 214.88567684626003, 221.18883331538672, 235.5712614852762, 245.01602048553337, 253.40327384369473, 261.6232160732756, 276.1697283527859, 280.4921807622279, 287.13251440355816, 296.46948115918315, 303.70756347615776, 312.7522312477886, 327.5042574427982, 335.7755439465862, 342.9041436236022, 358.6054853635927, 370.453851355857, 374.2302122600581, 386.4197141850583, 396.49537655502746, 407.61701934576206, 420.5714329536212, 429.28639912735014, 439.24043576061604, 448.49097218086223, 461.09436550375824, 472.90545359486026, 482.6312259305602, 492.19932790313925, 501.70342995786655, 510.7428574744694, 518.4742299295215, 530.5786733710254, 540.0914247655827, 550.523490061149, 561.5417978012396, 571.0515317082476, 581.436302095092, 594.7864349161732, 603.517513918565, 609.898134054388, 624.7490731678002, 631.5913482654204, 638.8344449814538, 650.8699091182187, 658.8799921411103, 667.7785060447106, 682.4339130666759, 693.4268308606527, 702.8264469656588, 716.6365587913292, 726.949112296422, 738.1090025503707, 746.5884059629205, 754.2533314983208, 764.697011872129, 769.7612215146274, 780.0620953517098, 786.7949720509041, 797.5328117557675, 805.711803063742, 816.6282401551891, 829.4522893366634, 839.1636742506953, 845.2708532521978, 858.2867274099708, 871.207778959998, 876.7085421733151, 888.268313991918, 895.7132976025762, 905.6600321782348, 916.3967768661643, 929.8942907631583, 948.2325427372032, 959.3619187102775, 962.8476521025248, 975.850117499858, 982.1722694263777, 990.1174074038846, 1002.0343671385731, 1007.2962346585613, 1016.9288900872057, 1029.7438688350442, 1038.077499134876], \"yaxis\": \"y\"}, {\"hoverlabel\": {\"namelength\": 0}, \"hovertemplate\": \"variable=CUR_STATE_STANDARD<br>value=%{y}\", \"legendgroup\": \"variable=CUR_STATE_STANDARD\", \"line\": {\"color\": \"#EF553B\", \"dash\": \"solid\"}, \"mode\": \"lines\", \"name\": \"variable=CUR_STATE_STANDARD\", \"showlegend\": true, \"type\": \"scatter\", \"xaxis\": \"x\", \"y\": [52.393993585216805, 61.905726944963305, 65.32153310541167, 81.52385586810405, 87.43059779687236, 96.6957315499742, 109.69198098327965, 118.51029197391112, 128.46493913100971, 139.7728471654595, 149.8377694221697, 157.91686174349346, 168.68448291273006, 175.38340825857765, 186.80304525352864, 201.10798649312326, 214.88567684626003, 221.18883331538672, 235.5712614852762, 245.01602048553337, 253.40327384369473, 261.6232160732756, 276.1697283527859, 280.4921807622279, 287.13251440355816, 296.46948115918315, 303.70756347615776, 312.7522312477886, 327.5042574427982, 335.7755439465862, 342.9041436236022, 358.6054853635927, 370.453851355857, 374.2302122600581, 386.4197141850583, 396.49537655502746, 407.61701934576206, 420.5714329536212, 429.28639912735014, 439.24043576061604, 448.49097218086223, 461.09436550375824, 472.90545359486026, 482.6312259305602, 492.19932790313925, 501.70342995786655, 510.7428574744694, 518.4742299295215, 530.5786733710254, 540.0914247655827, 550.523490061149, 561.5417978012396, 571.0515317082476, 581.436302095092, 594.7864349161732, 603.517513918565, 609.898134054388, 624.7490731678002, 631.5913482654204, 638.8344449814538, 650.8699091182187, 658.8799921411103, 667.7785060447106, 682.4339130666759, 693.4268308606527, 702.8264469656588, 716.6365587913292, 726.949112296422, 738.1090025503707, 746.5884059629205, 754.2533314983208, 764.697011872129, 769.7612215146274, 780.0620953517098, 786.7949720509041, 797.5328117557675, 805.711803063742, 816.6282401551891, 829.4522893366634, 839.1636742506953, 845.2708532521978, 858.2867274099708, 871.207778959998, 876.7085421733151, 888.268313991918, 895.7132976025762, 905.6600321782348, 916.3967768661643, 929.8942907631583, 948.2325427372032, 959.3619187102775, 962.8476521025248, 975.850117499858, 982.1722694263777, 990.1174074038846, 1002.0343671385731, 1007.2962346585613, 1016.9288900872057, 1029.7438688350442, 1038.077499134876], \"yaxis\": \"y\"}, {\"hoverlabel\": {\"namelength\": 0}, \"hovertemplate\": \"variable=TRUE_VALUE<br>value=%{y}\", \"legendgroup\": \"variable=TRUE_VALUE\", \"line\": {\"color\": \"#00cc96\", \"dash\": \"solid\"}, \"mode\": \"lines\", \"name\": \"variable=TRUE_VALUE\", \"showlegend\": true, \"type\": \"scatter\", \"xaxis\": \"x\", \"y\": [50.0, 60.0, 70.0, 80.0, 90.0, 100.0, 110.0, 120.0, 130.0, 140.0, 150.0, 160.0, 170.0, 180.0, 190.0, 200.0, 210.0, 220.0, 230.0, 240.0, 250.0, 260.0, 270.0, 280.0, 290.0, 300.0, 310.0, 320.0, 330.0, 340.0, 350.0, 360.0, 370.0, 380.0, 390.0, 400.0, 410.0, 420.0, 430.0, 440.0, 450.0, 460.0, 470.0, 480.0, 490.0, 500.0, 510.0, 520.0, 530.0, 540.0, 550.0, 560.0, 570.0, 580.0, 590.0, 600.0, 610.0, 620.0, 630.0, 640.0, 650.0, 660.0, 670.0, 680.0, 690.0, 700.0, 710.0, 720.0, 730.0, 740.0, 750.0, 760.0, 770.0, 780.0, 790.0, 800.0, 810.0, 820.0, 830.0, 840.0, 850.0, 860.0, 870.0, 880.0, 890.0, 900.0, 910.0, 920.0, 930.0, 940.0, 950.0, 960.0, 970.0, 980.0, 990.0, 1000.0, 1010.0, 1020.0, 1030.0, 1040.0], \"yaxis\": \"y\"}, {\"hoverlabel\": {\"namelength\": 0}, \"hovertemplate\": \"variable=MEASUREMENT<br>value=%{y}\", \"legendgroup\": \"variable=MEASUREMENT\", \"line\": {\"color\": \"#ab63fa\", \"dash\": \"solid\"}, \"mode\": \"lines\", \"name\": \"variable=MEASUREMENT\", \"showlegend\": true, \"type\": \"scatter\", \"xaxis\": \"x\", \"y\": [53.804112851560106, 61.44582945991761, 54.61483126786453, 94.424139738101, 77.79225022307789, 94.84975264190426, 117.47973454154356, 115.38282368857368, 128.34374853227376, 143.2857222967491, 150.01261775106974, 152.73597640580317, 170.756435189371, 166.46952897371028, 190.63732539053055, 212.73650613194795, 225.0906190796602, 211.20195771735828, 247.41042545473584, 243.5160184935337, 249.04636345646588, 256.8142940402348, 288.45239382405526, 265.15394648513933, 278.0561712047245, 294.67825610080774, 296.24607226072845, 310.1713420679351, 340.3421509238427, 331.10531714306165, 335.14687736471814, 374.00801414815777, 375.44732688722183, 357.4166646649378, 392.3347896395009, 396.69978314745646, 410.64720701921607, 428.5529648386152, 425.81480042126316, 439.116262870203, 446.4662497644808, 468.12759428494104, 477.79822057541315, 481.8903828607852, 491.0325285531123, 500.36373085416966, 508.14781124104354, 512.3453916926148, 536.2639580535729, 538.7750923907213, 551.6907412964628, 564.292819417064, 569.7270474033294, 582.4757831965944, 603.8370268382748, 600.0894450197826, 600.1201545200828, 637.8541865167944, 623.0605582878234, 631.3864995045247, 656.368841924109, 653.5041078163633, 664.8027729323846, 695.0107843244238, 696.1092599598595, 701.2044725782558, 726.9298125676339, 727.7934950058526, 741.2425181223072, 742.4804198244158, 747.9449827803762, 765.8956419628272, 756.4268772588754, 780.8749247124844, 777.9686355042716, 799.5261315521112, 800.7922349635122, 819.1040518856294, 837.0816336267263, 838.3839626675538, 834.754155507713, 866.4342987894264, 879.0991811743692, 864.5535745072771, 892.4821344508973, 888.8107621124308, 905.516132325597, 918.3871384062402, 939.3430418169619, 970.7588484065951, 962.4129980569234, 945.2489562038008, 983.9614642800504, 972.2363343926693, 984.5660700047283, 1007.2131529409123, 994.4958754371016, 1015.9364859087154, 1037.348708785196, 1033.5756978771249], \"yaxis\": \"y\"}],\n",
       "                        {\"height\": 600, \"legend\": {\"tracegroupgap\": 0}, \"template\": {\"data\": {\"bar\": [{\"error_x\": {\"color\": \"#2a3f5f\"}, \"error_y\": {\"color\": \"#2a3f5f\"}, \"marker\": {\"line\": {\"color\": \"#E5ECF6\", \"width\": 0.5}}, \"type\": \"bar\"}], \"barpolar\": [{\"marker\": {\"line\": {\"color\": \"#E5ECF6\", \"width\": 0.5}}, \"type\": \"barpolar\"}], \"carpet\": [{\"aaxis\": {\"endlinecolor\": \"#2a3f5f\", \"gridcolor\": \"white\", \"linecolor\": \"white\", \"minorgridcolor\": \"white\", \"startlinecolor\": \"#2a3f5f\"}, \"baxis\": {\"endlinecolor\": \"#2a3f5f\", \"gridcolor\": \"white\", \"linecolor\": \"white\", \"minorgridcolor\": \"white\", \"startlinecolor\": \"#2a3f5f\"}, \"type\": \"carpet\"}], \"choropleth\": [{\"colorbar\": {\"outlinewidth\": 0, \"ticks\": \"\"}, \"type\": \"choropleth\"}], \"contour\": [{\"colorbar\": {\"outlinewidth\": 0, \"ticks\": \"\"}, \"colorscale\": [[0.0, \"#0d0887\"], [0.1111111111111111, \"#46039f\"], [0.2222222222222222, \"#7201a8\"], [0.3333333333333333, \"#9c179e\"], [0.4444444444444444, \"#bd3786\"], [0.5555555555555556, \"#d8576b\"], [0.6666666666666666, \"#ed7953\"], [0.7777777777777778, \"#fb9f3a\"], [0.8888888888888888, \"#fdca26\"], [1.0, \"#f0f921\"]], \"type\": \"contour\"}], \"contourcarpet\": [{\"colorbar\": {\"outlinewidth\": 0, \"ticks\": \"\"}, \"type\": \"contourcarpet\"}], \"heatmap\": [{\"colorbar\": {\"outlinewidth\": 0, \"ticks\": \"\"}, \"colorscale\": [[0.0, \"#0d0887\"], [0.1111111111111111, \"#46039f\"], [0.2222222222222222, \"#7201a8\"], [0.3333333333333333, \"#9c179e\"], [0.4444444444444444, \"#bd3786\"], [0.5555555555555556, \"#d8576b\"], [0.6666666666666666, \"#ed7953\"], [0.7777777777777778, \"#fb9f3a\"], [0.8888888888888888, \"#fdca26\"], [1.0, \"#f0f921\"]], \"type\": \"heatmap\"}], \"heatmapgl\": [{\"colorbar\": {\"outlinewidth\": 0, \"ticks\": \"\"}, \"colorscale\": [[0.0, \"#0d0887\"], [0.1111111111111111, \"#46039f\"], [0.2222222222222222, \"#7201a8\"], [0.3333333333333333, \"#9c179e\"], [0.4444444444444444, \"#bd3786\"], [0.5555555555555556, \"#d8576b\"], [0.6666666666666666, \"#ed7953\"], [0.7777777777777778, \"#fb9f3a\"], [0.8888888888888888, \"#fdca26\"], [1.0, \"#f0f921\"]], \"type\": \"heatmapgl\"}], \"histogram\": [{\"marker\": {\"colorbar\": {\"outlinewidth\": 0, \"ticks\": \"\"}}, \"type\": \"histogram\"}], \"histogram2d\": [{\"colorbar\": {\"outlinewidth\": 0, \"ticks\": \"\"}, \"colorscale\": [[0.0, \"#0d0887\"], [0.1111111111111111, \"#46039f\"], [0.2222222222222222, \"#7201a8\"], [0.3333333333333333, \"#9c179e\"], [0.4444444444444444, \"#bd3786\"], [0.5555555555555556, \"#d8576b\"], [0.6666666666666666, \"#ed7953\"], [0.7777777777777778, \"#fb9f3a\"], [0.8888888888888888, \"#fdca26\"], [1.0, \"#f0f921\"]], \"type\": \"histogram2d\"}], \"histogram2dcontour\": [{\"colorbar\": {\"outlinewidth\": 0, \"ticks\": \"\"}, \"colorscale\": [[0.0, \"#0d0887\"], [0.1111111111111111, \"#46039f\"], [0.2222222222222222, \"#7201a8\"], [0.3333333333333333, \"#9c179e\"], [0.4444444444444444, \"#bd3786\"], [0.5555555555555556, \"#d8576b\"], [0.6666666666666666, \"#ed7953\"], [0.7777777777777778, \"#fb9f3a\"], [0.8888888888888888, \"#fdca26\"], [1.0, \"#f0f921\"]], \"type\": \"histogram2dcontour\"}], \"mesh3d\": [{\"colorbar\": {\"outlinewidth\": 0, \"ticks\": \"\"}, \"type\": \"mesh3d\"}], \"parcoords\": [{\"line\": {\"colorbar\": {\"outlinewidth\": 0, \"ticks\": \"\"}}, \"type\": \"parcoords\"}], \"scatter\": [{\"marker\": {\"colorbar\": {\"outlinewidth\": 0, \"ticks\": \"\"}}, \"type\": \"scatter\"}], \"scatter3d\": [{\"line\": {\"colorbar\": {\"outlinewidth\": 0, \"ticks\": \"\"}}, \"marker\": {\"colorbar\": {\"outlinewidth\": 0, \"ticks\": \"\"}}, \"type\": \"scatter3d\"}], \"scattercarpet\": [{\"marker\": {\"colorbar\": {\"outlinewidth\": 0, \"ticks\": \"\"}}, \"type\": \"scattercarpet\"}], \"scattergeo\": [{\"marker\": {\"colorbar\": {\"outlinewidth\": 0, \"ticks\": \"\"}}, \"type\": \"scattergeo\"}], \"scattergl\": [{\"marker\": {\"colorbar\": {\"outlinewidth\": 0, \"ticks\": \"\"}}, \"type\": \"scattergl\"}], \"scattermapbox\": [{\"marker\": {\"colorbar\": {\"outlinewidth\": 0, \"ticks\": \"\"}}, \"type\": \"scattermapbox\"}], \"scatterpolar\": [{\"marker\": {\"colorbar\": {\"outlinewidth\": 0, \"ticks\": \"\"}}, \"type\": \"scatterpolar\"}], \"scatterpolargl\": [{\"marker\": {\"colorbar\": {\"outlinewidth\": 0, \"ticks\": \"\"}}, \"type\": \"scatterpolargl\"}], \"scatterternary\": [{\"marker\": {\"colorbar\": {\"outlinewidth\": 0, \"ticks\": \"\"}}, \"type\": \"scatterternary\"}], \"surface\": [{\"colorbar\": {\"outlinewidth\": 0, \"ticks\": \"\"}, \"colorscale\": [[0.0, \"#0d0887\"], [0.1111111111111111, \"#46039f\"], [0.2222222222222222, \"#7201a8\"], [0.3333333333333333, \"#9c179e\"], [0.4444444444444444, \"#bd3786\"], [0.5555555555555556, \"#d8576b\"], [0.6666666666666666, \"#ed7953\"], [0.7777777777777778, \"#fb9f3a\"], [0.8888888888888888, \"#fdca26\"], [1.0, \"#f0f921\"]], \"type\": \"surface\"}], \"table\": [{\"cells\": {\"fill\": {\"color\": \"#EBF0F8\"}, \"line\": {\"color\": \"white\"}}, \"header\": {\"fill\": {\"color\": \"#C8D4E3\"}, \"line\": {\"color\": \"white\"}}, \"type\": \"table\"}]}, \"layout\": {\"annotationdefaults\": {\"arrowcolor\": \"#2a3f5f\", \"arrowhead\": 0, \"arrowwidth\": 1}, \"colorscale\": {\"diverging\": [[0, \"#8e0152\"], [0.1, \"#c51b7d\"], [0.2, \"#de77ae\"], [0.3, \"#f1b6da\"], [0.4, \"#fde0ef\"], [0.5, \"#f7f7f7\"], [0.6, \"#e6f5d0\"], [0.7, \"#b8e186\"], [0.8, \"#7fbc41\"], [0.9, \"#4d9221\"], [1, \"#276419\"]], \"sequential\": [[0.0, \"#0d0887\"], [0.1111111111111111, \"#46039f\"], [0.2222222222222222, \"#7201a8\"], [0.3333333333333333, \"#9c179e\"], [0.4444444444444444, \"#bd3786\"], [0.5555555555555556, \"#d8576b\"], [0.6666666666666666, \"#ed7953\"], [0.7777777777777778, \"#fb9f3a\"], [0.8888888888888888, \"#fdca26\"], [1.0, \"#f0f921\"]], \"sequentialminus\": [[0.0, \"#0d0887\"], [0.1111111111111111, \"#46039f\"], [0.2222222222222222, \"#7201a8\"], [0.3333333333333333, \"#9c179e\"], [0.4444444444444444, \"#bd3786\"], [0.5555555555555556, \"#d8576b\"], [0.6666666666666666, \"#ed7953\"], [0.7777777777777778, \"#fb9f3a\"], [0.8888888888888888, \"#fdca26\"], [1.0, \"#f0f921\"]]}, \"colorway\": [\"#636efa\", \"#EF553B\", \"#00cc96\", \"#ab63fa\", \"#FFA15A\", \"#19d3f3\", \"#FF6692\", \"#B6E880\", \"#FF97FF\", \"#FECB52\"], \"font\": {\"color\": \"#2a3f5f\"}, \"geo\": {\"bgcolor\": \"white\", \"lakecolor\": \"white\", \"landcolor\": \"#E5ECF6\", \"showlakes\": true, \"showland\": true, \"subunitcolor\": \"white\"}, \"hoverlabel\": {\"align\": \"left\"}, \"hovermode\": \"closest\", \"mapbox\": {\"style\": \"light\"}, \"paper_bgcolor\": \"white\", \"plot_bgcolor\": \"#E5ECF6\", \"polar\": {\"angularaxis\": {\"gridcolor\": \"white\", \"linecolor\": \"white\", \"ticks\": \"\"}, \"bgcolor\": \"#E5ECF6\", \"radialaxis\": {\"gridcolor\": \"white\", \"linecolor\": \"white\", \"ticks\": \"\"}}, \"scene\": {\"xaxis\": {\"backgroundcolor\": \"#E5ECF6\", \"gridcolor\": \"white\", \"gridwidth\": 2, \"linecolor\": \"white\", \"showbackground\": true, \"ticks\": \"\", \"zerolinecolor\": \"white\"}, \"yaxis\": {\"backgroundcolor\": \"#E5ECF6\", \"gridcolor\": \"white\", \"gridwidth\": 2, \"linecolor\": \"white\", \"showbackground\": true, \"ticks\": \"\", \"zerolinecolor\": \"white\"}, \"zaxis\": {\"backgroundcolor\": \"#E5ECF6\", \"gridcolor\": \"white\", \"gridwidth\": 2, \"linecolor\": \"white\", \"showbackground\": true, \"ticks\": \"\", \"zerolinecolor\": \"white\"}}, \"shapedefaults\": {\"line\": {\"color\": \"#2a3f5f\"}}, \"ternary\": {\"aaxis\": {\"gridcolor\": \"white\", \"linecolor\": \"white\", \"ticks\": \"\"}, \"baxis\": {\"gridcolor\": \"white\", \"linecolor\": \"white\", \"ticks\": \"\"}, \"bgcolor\": \"#E5ECF6\", \"caxis\": {\"gridcolor\": \"white\", \"linecolor\": \"white\", \"ticks\": \"\"}}, \"title\": {\"x\": 0.05}, \"xaxis\": {\"automargin\": true, \"gridcolor\": \"white\", \"linecolor\": \"white\", \"ticks\": \"\", \"zerolinecolor\": \"white\", \"zerolinewidth\": 2}, \"yaxis\": {\"automargin\": true, \"gridcolor\": \"white\", \"linecolor\": \"white\", \"ticks\": \"\", \"zerolinecolor\": \"white\", \"zerolinewidth\": 2}}}, \"title\": {\"text\": \"PREDICTION ITERATION\"}, \"xaxis\": {\"anchor\": \"y\", \"domain\": [0.0, 0.98]}, \"yaxis\": {\"anchor\": \"x\", \"domain\": [0.0, 1.0], \"title\": {\"text\": \"value\"}}},\n",
       "                        {\"responsive\": true}\n",
       "                    ).then(function(){\n",
       "                            \n",
       "var gd = document.getElementById('7711f054-2750-4890-be06-c9aa2f10e081');\n",
       "var x = new MutationObserver(function (mutations, observer) {{\n",
       "        var display = window.getComputedStyle(gd).display;\n",
       "        if (!display || display === 'none') {{\n",
       "            console.log([gd, 'removed!']);\n",
       "            Plotly.purge(gd);\n",
       "            observer.disconnect();\n",
       "        }}\n",
       "}});\n",
       "\n",
       "// Listen for the removal of the full notebook cells\n",
       "var notebookContainer = gd.closest('#notebook-container');\n",
       "if (notebookContainer) {{\n",
       "    x.observe(notebookContainer, {childList: true});\n",
       "}}\n",
       "\n",
       "// Listen for the clearing of the current output cell\n",
       "var outputEl = gd.closest('.output');\n",
       "if (outputEl) {{\n",
       "    x.observe(outputEl, {childList: true});\n",
       "}}\n",
       "\n",
       "                        })\n",
       "                };\n",
       "                });\n",
       "            </script>\n",
       "        </div>"
      ]
     },
     "metadata": {},
     "output_type": "display_data"
    }
   ],
   "source": [
    "px.line(pd.melt(\n",
    "    res_df, value_vars=['CUR_STATE', 'CUR_STATE_STANDARD', 'TRUE_VALUE', 'MEASUREMENT']), y='value', color='variable',\n",
    "       title='PREDICTION ITERATION')"
   ]
  },
  {
   "cell_type": "code",
   "execution_count": 1162,
   "metadata": {},
   "outputs": [
    {
     "data": {
      "application/vnd.plotly.v1+json": {
       "config": {
        "plotlyServerURL": "https://plot.ly"
       },
       "data": [
        {
         "hoverlabel": {
          "namelength": 0
         },
         "hovertemplate": "variable=CUR_COV<br>value=%{y}",
         "legendgroup": "variable=CUR_COV",
         "line": {
          "color": "#636efa",
          "dash": "solid"
         },
         "mode": "lines",
         "name": "variable=CUR_COV",
         "showlegend": true,
         "type": "scatter",
         "xaxis": "x",
         "y": [
          9.616858237547893,
          5.149600446013752,
          3.8078963418142484,
          3.2468462979699586,
          2.9809027269249713,
          2.847386041287872,
          2.7784204396529173,
          2.7422740191459107,
          2.7231839606255317,
          2.713061321124942,
          2.7076822849212956,
          2.7048207040805248,
          2.7032974630433784,
          2.702486370912443,
          2.702054408732753,
          2.7018243383804665,
          2.7017017931044474,
          2.70163651858733,
          2.7016017492259223,
          2.7015832287163404,
          2.7015733634040267,
          2.7015681084412377,
          2.701565309273456,
          2.7015638182362802,
          2.7015630240028767,
          2.7015626009370965,
          2.701562375581844,
          2.7015622555414267,
          2.7015621915992654,
          2.7015621575390694,
          2.7015621393961586,
          2.701562129731939,
          2.70156212458408,
          2.7015621218419597,
          2.7015621203813094,
          2.7015621196032615,
          2.7015621191888175,
          2.701562118968055,
          2.701562118850461,
          2.7015621187878223,
          2.701562118754456,
          2.701562118736683,
          2.701562118727215,
          2.7015621187221726,
          2.7015621187194863,
          2.701562118718055,
          2.701562118717293,
          2.701562118716887,
          2.7015621187166703,
          2.7015621187165553,
          2.701562118716494,
          2.7015621187164616,
          2.701562118716444,
          2.701562118716435,
          2.70156211871643,
          2.7015621187164274,
          2.701562118716426,
          2.701562118716425,
          2.7015621187164247,
          2.7015621187164243,
          2.701562118716424,
          2.7015621187164243,
          2.701562118716424,
          2.7015621187164243,
          2.701562118716424,
          2.7015621187164243,
          2.701562118716424,
          2.7015621187164243,
          2.701562118716424,
          2.7015621187164243,
          2.701562118716424,
          2.7015621187164243,
          2.701562118716424,
          2.7015621187164243,
          2.701562118716424,
          2.7015621187164243,
          2.701562118716424,
          2.7015621187164243,
          2.701562118716424,
          2.7015621187164243,
          2.701562118716424,
          2.7015621187164243,
          2.701562118716424,
          2.7015621187164243,
          2.701562118716424,
          2.7015621187164243,
          2.701562118716424,
          2.7015621187164243,
          2.701562118716424,
          2.7015621187164243,
          2.701562118716424,
          2.7015621187164243,
          2.701562118716424,
          2.7015621187164243,
          2.701562118716424,
          2.7015621187164243,
          2.701562118716424,
          2.7015621187164243,
          2.701562118716424,
          2.7015621187164243
         ],
         "yaxis": "y"
        },
        {
         "hoverlabel": {
          "namelength": 0
         },
         "hovertemplate": "variable=CUR_COV_STANDARD<br>value=%{y}",
         "legendgroup": "variable=CUR_COV_STANDARD",
         "line": {
          "color": "#EF553B",
          "dash": "solid"
         },
         "mode": "lines",
         "name": "variable=CUR_COV_STANDARD",
         "showlegend": true,
         "type": "scatter",
         "xaxis": "x",
         "y": [
          9.616858237547916,
          5.149600446013757,
          3.80789634181425,
          3.246846297969959,
          2.980902726924972,
          2.847386041287873,
          2.7784204396529173,
          2.7422740191459107,
          2.7231839606255317,
          2.7130613211249415,
          2.707682284921295,
          2.7048207040805243,
          2.703297463043378,
          2.7024863709124425,
          2.702054408732753,
          2.701824338380467,
          2.701701793104448,
          2.70163651858733,
          2.701601749225922,
          2.7015832287163404,
          2.7015733634040267,
          2.701568108441238,
          2.701565309273456,
          2.7015638182362802,
          2.7015630240028763,
          2.701562600937097,
          2.701562375581844,
          2.701562255541427,
          2.7015621915992654,
          2.70156215753907,
          2.7015621393961586,
          2.701562129731939,
          2.70156212458408,
          2.7015621218419597,
          2.7015621203813094,
          2.701562119603262,
          2.701562119188818,
          2.701562118968055,
          2.701562118850461,
          2.7015621187878223,
          2.701562118754456,
          2.7015621187366827,
          2.7015621187272156,
          2.7015621187221726,
          2.7015621187194863,
          2.7015621187180554,
          2.701562118717293,
          2.701562118716887,
          2.7015621187166707,
          2.7015621187165557,
          2.7015621187164944,
          2.7015621187164616,
          2.7015621187164442,
          2.701562118716435,
          2.7015621187164296,
          2.701562118716427,
          2.701562118716426,
          2.701562118716425,
          2.7015621187164247,
          2.7015621187164243,
          2.7015621187164243,
          2.7015621187164243,
          2.7015621187164243,
          2.7015621187164243,
          2.7015621187164243,
          2.7015621187164243,
          2.7015621187164243,
          2.7015621187164243,
          2.7015621187164243,
          2.7015621187164243,
          2.7015621187164243,
          2.7015621187164243,
          2.7015621187164243,
          2.7015621187164243,
          2.7015621187164243,
          2.7015621187164243,
          2.7015621187164243,
          2.7015621187164243,
          2.7015621187164243,
          2.7015621187164243,
          2.7015621187164243,
          2.7015621187164243,
          2.7015621187164243,
          2.7015621187164243,
          2.7015621187164243,
          2.7015621187164243,
          2.7015621187164243,
          2.7015621187164243,
          2.7015621187164243,
          2.7015621187164243,
          2.7015621187164243,
          2.7015621187164243,
          2.7015621187164243,
          2.7015621187164243,
          2.7015621187164243,
          2.7015621187164243,
          2.7015621187164243,
          2.7015621187164243,
          2.7015621187164243,
          2.7015621187164243
         ],
         "yaxis": "y"
        }
       ],
       "layout": {
        "height": 600,
        "legend": {
         "tracegroupgap": 0
        },
        "template": {
         "data": {
          "bar": [
           {
            "error_x": {
             "color": "#2a3f5f"
            },
            "error_y": {
             "color": "#2a3f5f"
            },
            "marker": {
             "line": {
              "color": "#E5ECF6",
              "width": 0.5
             }
            },
            "type": "bar"
           }
          ],
          "barpolar": [
           {
            "marker": {
             "line": {
              "color": "#E5ECF6",
              "width": 0.5
             }
            },
            "type": "barpolar"
           }
          ],
          "carpet": [
           {
            "aaxis": {
             "endlinecolor": "#2a3f5f",
             "gridcolor": "white",
             "linecolor": "white",
             "minorgridcolor": "white",
             "startlinecolor": "#2a3f5f"
            },
            "baxis": {
             "endlinecolor": "#2a3f5f",
             "gridcolor": "white",
             "linecolor": "white",
             "minorgridcolor": "white",
             "startlinecolor": "#2a3f5f"
            },
            "type": "carpet"
           }
          ],
          "choropleth": [
           {
            "colorbar": {
             "outlinewidth": 0,
             "ticks": ""
            },
            "type": "choropleth"
           }
          ],
          "contour": [
           {
            "colorbar": {
             "outlinewidth": 0,
             "ticks": ""
            },
            "colorscale": [
             [
              0,
              "#0d0887"
             ],
             [
              0.1111111111111111,
              "#46039f"
             ],
             [
              0.2222222222222222,
              "#7201a8"
             ],
             [
              0.3333333333333333,
              "#9c179e"
             ],
             [
              0.4444444444444444,
              "#bd3786"
             ],
             [
              0.5555555555555556,
              "#d8576b"
             ],
             [
              0.6666666666666666,
              "#ed7953"
             ],
             [
              0.7777777777777778,
              "#fb9f3a"
             ],
             [
              0.8888888888888888,
              "#fdca26"
             ],
             [
              1,
              "#f0f921"
             ]
            ],
            "type": "contour"
           }
          ],
          "contourcarpet": [
           {
            "colorbar": {
             "outlinewidth": 0,
             "ticks": ""
            },
            "type": "contourcarpet"
           }
          ],
          "heatmap": [
           {
            "colorbar": {
             "outlinewidth": 0,
             "ticks": ""
            },
            "colorscale": [
             [
              0,
              "#0d0887"
             ],
             [
              0.1111111111111111,
              "#46039f"
             ],
             [
              0.2222222222222222,
              "#7201a8"
             ],
             [
              0.3333333333333333,
              "#9c179e"
             ],
             [
              0.4444444444444444,
              "#bd3786"
             ],
             [
              0.5555555555555556,
              "#d8576b"
             ],
             [
              0.6666666666666666,
              "#ed7953"
             ],
             [
              0.7777777777777778,
              "#fb9f3a"
             ],
             [
              0.8888888888888888,
              "#fdca26"
             ],
             [
              1,
              "#f0f921"
             ]
            ],
            "type": "heatmap"
           }
          ],
          "heatmapgl": [
           {
            "colorbar": {
             "outlinewidth": 0,
             "ticks": ""
            },
            "colorscale": [
             [
              0,
              "#0d0887"
             ],
             [
              0.1111111111111111,
              "#46039f"
             ],
             [
              0.2222222222222222,
              "#7201a8"
             ],
             [
              0.3333333333333333,
              "#9c179e"
             ],
             [
              0.4444444444444444,
              "#bd3786"
             ],
             [
              0.5555555555555556,
              "#d8576b"
             ],
             [
              0.6666666666666666,
              "#ed7953"
             ],
             [
              0.7777777777777778,
              "#fb9f3a"
             ],
             [
              0.8888888888888888,
              "#fdca26"
             ],
             [
              1,
              "#f0f921"
             ]
            ],
            "type": "heatmapgl"
           }
          ],
          "histogram": [
           {
            "marker": {
             "colorbar": {
              "outlinewidth": 0,
              "ticks": ""
             }
            },
            "type": "histogram"
           }
          ],
          "histogram2d": [
           {
            "colorbar": {
             "outlinewidth": 0,
             "ticks": ""
            },
            "colorscale": [
             [
              0,
              "#0d0887"
             ],
             [
              0.1111111111111111,
              "#46039f"
             ],
             [
              0.2222222222222222,
              "#7201a8"
             ],
             [
              0.3333333333333333,
              "#9c179e"
             ],
             [
              0.4444444444444444,
              "#bd3786"
             ],
             [
              0.5555555555555556,
              "#d8576b"
             ],
             [
              0.6666666666666666,
              "#ed7953"
             ],
             [
              0.7777777777777778,
              "#fb9f3a"
             ],
             [
              0.8888888888888888,
              "#fdca26"
             ],
             [
              1,
              "#f0f921"
             ]
            ],
            "type": "histogram2d"
           }
          ],
          "histogram2dcontour": [
           {
            "colorbar": {
             "outlinewidth": 0,
             "ticks": ""
            },
            "colorscale": [
             [
              0,
              "#0d0887"
             ],
             [
              0.1111111111111111,
              "#46039f"
             ],
             [
              0.2222222222222222,
              "#7201a8"
             ],
             [
              0.3333333333333333,
              "#9c179e"
             ],
             [
              0.4444444444444444,
              "#bd3786"
             ],
             [
              0.5555555555555556,
              "#d8576b"
             ],
             [
              0.6666666666666666,
              "#ed7953"
             ],
             [
              0.7777777777777778,
              "#fb9f3a"
             ],
             [
              0.8888888888888888,
              "#fdca26"
             ],
             [
              1,
              "#f0f921"
             ]
            ],
            "type": "histogram2dcontour"
           }
          ],
          "mesh3d": [
           {
            "colorbar": {
             "outlinewidth": 0,
             "ticks": ""
            },
            "type": "mesh3d"
           }
          ],
          "parcoords": [
           {
            "line": {
             "colorbar": {
              "outlinewidth": 0,
              "ticks": ""
             }
            },
            "type": "parcoords"
           }
          ],
          "scatter": [
           {
            "marker": {
             "colorbar": {
              "outlinewidth": 0,
              "ticks": ""
             }
            },
            "type": "scatter"
           }
          ],
          "scatter3d": [
           {
            "line": {
             "colorbar": {
              "outlinewidth": 0,
              "ticks": ""
             }
            },
            "marker": {
             "colorbar": {
              "outlinewidth": 0,
              "ticks": ""
             }
            },
            "type": "scatter3d"
           }
          ],
          "scattercarpet": [
           {
            "marker": {
             "colorbar": {
              "outlinewidth": 0,
              "ticks": ""
             }
            },
            "type": "scattercarpet"
           }
          ],
          "scattergeo": [
           {
            "marker": {
             "colorbar": {
              "outlinewidth": 0,
              "ticks": ""
             }
            },
            "type": "scattergeo"
           }
          ],
          "scattergl": [
           {
            "marker": {
             "colorbar": {
              "outlinewidth": 0,
              "ticks": ""
             }
            },
            "type": "scattergl"
           }
          ],
          "scattermapbox": [
           {
            "marker": {
             "colorbar": {
              "outlinewidth": 0,
              "ticks": ""
             }
            },
            "type": "scattermapbox"
           }
          ],
          "scatterpolar": [
           {
            "marker": {
             "colorbar": {
              "outlinewidth": 0,
              "ticks": ""
             }
            },
            "type": "scatterpolar"
           }
          ],
          "scatterpolargl": [
           {
            "marker": {
             "colorbar": {
              "outlinewidth": 0,
              "ticks": ""
             }
            },
            "type": "scatterpolargl"
           }
          ],
          "scatterternary": [
           {
            "marker": {
             "colorbar": {
              "outlinewidth": 0,
              "ticks": ""
             }
            },
            "type": "scatterternary"
           }
          ],
          "surface": [
           {
            "colorbar": {
             "outlinewidth": 0,
             "ticks": ""
            },
            "colorscale": [
             [
              0,
              "#0d0887"
             ],
             [
              0.1111111111111111,
              "#46039f"
             ],
             [
              0.2222222222222222,
              "#7201a8"
             ],
             [
              0.3333333333333333,
              "#9c179e"
             ],
             [
              0.4444444444444444,
              "#bd3786"
             ],
             [
              0.5555555555555556,
              "#d8576b"
             ],
             [
              0.6666666666666666,
              "#ed7953"
             ],
             [
              0.7777777777777778,
              "#fb9f3a"
             ],
             [
              0.8888888888888888,
              "#fdca26"
             ],
             [
              1,
              "#f0f921"
             ]
            ],
            "type": "surface"
           }
          ],
          "table": [
           {
            "cells": {
             "fill": {
              "color": "#EBF0F8"
             },
             "line": {
              "color": "white"
             }
            },
            "header": {
             "fill": {
              "color": "#C8D4E3"
             },
             "line": {
              "color": "white"
             }
            },
            "type": "table"
           }
          ]
         },
         "layout": {
          "annotationdefaults": {
           "arrowcolor": "#2a3f5f",
           "arrowhead": 0,
           "arrowwidth": 1
          },
          "colorscale": {
           "diverging": [
            [
             0,
             "#8e0152"
            ],
            [
             0.1,
             "#c51b7d"
            ],
            [
             0.2,
             "#de77ae"
            ],
            [
             0.3,
             "#f1b6da"
            ],
            [
             0.4,
             "#fde0ef"
            ],
            [
             0.5,
             "#f7f7f7"
            ],
            [
             0.6,
             "#e6f5d0"
            ],
            [
             0.7,
             "#b8e186"
            ],
            [
             0.8,
             "#7fbc41"
            ],
            [
             0.9,
             "#4d9221"
            ],
            [
             1,
             "#276419"
            ]
           ],
           "sequential": [
            [
             0,
             "#0d0887"
            ],
            [
             0.1111111111111111,
             "#46039f"
            ],
            [
             0.2222222222222222,
             "#7201a8"
            ],
            [
             0.3333333333333333,
             "#9c179e"
            ],
            [
             0.4444444444444444,
             "#bd3786"
            ],
            [
             0.5555555555555556,
             "#d8576b"
            ],
            [
             0.6666666666666666,
             "#ed7953"
            ],
            [
             0.7777777777777778,
             "#fb9f3a"
            ],
            [
             0.8888888888888888,
             "#fdca26"
            ],
            [
             1,
             "#f0f921"
            ]
           ],
           "sequentialminus": [
            [
             0,
             "#0d0887"
            ],
            [
             0.1111111111111111,
             "#46039f"
            ],
            [
             0.2222222222222222,
             "#7201a8"
            ],
            [
             0.3333333333333333,
             "#9c179e"
            ],
            [
             0.4444444444444444,
             "#bd3786"
            ],
            [
             0.5555555555555556,
             "#d8576b"
            ],
            [
             0.6666666666666666,
             "#ed7953"
            ],
            [
             0.7777777777777778,
             "#fb9f3a"
            ],
            [
             0.8888888888888888,
             "#fdca26"
            ],
            [
             1,
             "#f0f921"
            ]
           ]
          },
          "colorway": [
           "#636efa",
           "#EF553B",
           "#00cc96",
           "#ab63fa",
           "#FFA15A",
           "#19d3f3",
           "#FF6692",
           "#B6E880",
           "#FF97FF",
           "#FECB52"
          ],
          "font": {
           "color": "#2a3f5f"
          },
          "geo": {
           "bgcolor": "white",
           "lakecolor": "white",
           "landcolor": "#E5ECF6",
           "showlakes": true,
           "showland": true,
           "subunitcolor": "white"
          },
          "hoverlabel": {
           "align": "left"
          },
          "hovermode": "closest",
          "mapbox": {
           "style": "light"
          },
          "paper_bgcolor": "white",
          "plot_bgcolor": "#E5ECF6",
          "polar": {
           "angularaxis": {
            "gridcolor": "white",
            "linecolor": "white",
            "ticks": ""
           },
           "bgcolor": "#E5ECF6",
           "radialaxis": {
            "gridcolor": "white",
            "linecolor": "white",
            "ticks": ""
           }
          },
          "scene": {
           "xaxis": {
            "backgroundcolor": "#E5ECF6",
            "gridcolor": "white",
            "gridwidth": 2,
            "linecolor": "white",
            "showbackground": true,
            "ticks": "",
            "zerolinecolor": "white"
           },
           "yaxis": {
            "backgroundcolor": "#E5ECF6",
            "gridcolor": "white",
            "gridwidth": 2,
            "linecolor": "white",
            "showbackground": true,
            "ticks": "",
            "zerolinecolor": "white"
           },
           "zaxis": {
            "backgroundcolor": "#E5ECF6",
            "gridcolor": "white",
            "gridwidth": 2,
            "linecolor": "white",
            "showbackground": true,
            "ticks": "",
            "zerolinecolor": "white"
           }
          },
          "shapedefaults": {
           "line": {
            "color": "#2a3f5f"
           }
          },
          "ternary": {
           "aaxis": {
            "gridcolor": "white",
            "linecolor": "white",
            "ticks": ""
           },
           "baxis": {
            "gridcolor": "white",
            "linecolor": "white",
            "ticks": ""
           },
           "bgcolor": "#E5ECF6",
           "caxis": {
            "gridcolor": "white",
            "linecolor": "white",
            "ticks": ""
           }
          },
          "title": {
           "x": 0.05
          },
          "xaxis": {
           "automargin": true,
           "gridcolor": "white",
           "linecolor": "white",
           "ticks": "",
           "zerolinecolor": "white",
           "zerolinewidth": 2
          },
          "yaxis": {
           "automargin": true,
           "gridcolor": "white",
           "linecolor": "white",
           "ticks": "",
           "zerolinecolor": "white",
           "zerolinewidth": 2
          }
         }
        },
        "title": {
         "text": "COV ITERATION"
        },
        "xaxis": {
         "anchor": "y",
         "domain": [
          0,
          0.98
         ]
        },
        "yaxis": {
         "anchor": "x",
         "domain": [
          0,
          1
         ],
         "title": {
          "text": "value"
         }
        }
       }
      },
      "text/html": [
       "<div>\n",
       "        \n",
       "        \n",
       "            <div id=\"50d57694-3e73-4d5a-bcbf-4a475eb179a3\" class=\"plotly-graph-div\" style=\"height:600px; width:100%;\"></div>\n",
       "            <script type=\"text/javascript\">\n",
       "                require([\"plotly\"], function(Plotly) {\n",
       "                    window.PLOTLYENV=window.PLOTLYENV || {};\n",
       "                    \n",
       "                if (document.getElementById(\"50d57694-3e73-4d5a-bcbf-4a475eb179a3\")) {\n",
       "                    Plotly.newPlot(\n",
       "                        '50d57694-3e73-4d5a-bcbf-4a475eb179a3',\n",
       "                        [{\"hoverlabel\": {\"namelength\": 0}, \"hovertemplate\": \"variable=CUR_COV<br>value=%{y}\", \"legendgroup\": \"variable=CUR_COV\", \"line\": {\"color\": \"#636efa\", \"dash\": \"solid\"}, \"mode\": \"lines\", \"name\": \"variable=CUR_COV\", \"showlegend\": true, \"type\": \"scatter\", \"xaxis\": \"x\", \"y\": [9.616858237547893, 5.149600446013752, 3.8078963418142484, 3.2468462979699586, 2.9809027269249713, 2.847386041287872, 2.7784204396529173, 2.7422740191459107, 2.7231839606255317, 2.713061321124942, 2.7076822849212956, 2.7048207040805248, 2.7032974630433784, 2.702486370912443, 2.702054408732753, 2.7018243383804665, 2.7017017931044474, 2.70163651858733, 2.7016017492259223, 2.7015832287163404, 2.7015733634040267, 2.7015681084412377, 2.701565309273456, 2.7015638182362802, 2.7015630240028767, 2.7015626009370965, 2.701562375581844, 2.7015622555414267, 2.7015621915992654, 2.7015621575390694, 2.7015621393961586, 2.701562129731939, 2.70156212458408, 2.7015621218419597, 2.7015621203813094, 2.7015621196032615, 2.7015621191888175, 2.701562118968055, 2.701562118850461, 2.7015621187878223, 2.701562118754456, 2.701562118736683, 2.701562118727215, 2.7015621187221726, 2.7015621187194863, 2.701562118718055, 2.701562118717293, 2.701562118716887, 2.7015621187166703, 2.7015621187165553, 2.701562118716494, 2.7015621187164616, 2.701562118716444, 2.701562118716435, 2.70156211871643, 2.7015621187164274, 2.701562118716426, 2.701562118716425, 2.7015621187164247, 2.7015621187164243, 2.701562118716424, 2.7015621187164243, 2.701562118716424, 2.7015621187164243, 2.701562118716424, 2.7015621187164243, 2.701562118716424, 2.7015621187164243, 2.701562118716424, 2.7015621187164243, 2.701562118716424, 2.7015621187164243, 2.701562118716424, 2.7015621187164243, 2.701562118716424, 2.7015621187164243, 2.701562118716424, 2.7015621187164243, 2.701562118716424, 2.7015621187164243, 2.701562118716424, 2.7015621187164243, 2.701562118716424, 2.7015621187164243, 2.701562118716424, 2.7015621187164243, 2.701562118716424, 2.7015621187164243, 2.701562118716424, 2.7015621187164243, 2.701562118716424, 2.7015621187164243, 2.701562118716424, 2.7015621187164243, 2.701562118716424, 2.7015621187164243, 2.701562118716424, 2.7015621187164243, 2.701562118716424, 2.7015621187164243], \"yaxis\": \"y\"}, {\"hoverlabel\": {\"namelength\": 0}, \"hovertemplate\": \"variable=CUR_COV_STANDARD<br>value=%{y}\", \"legendgroup\": \"variable=CUR_COV_STANDARD\", \"line\": {\"color\": \"#EF553B\", \"dash\": \"solid\"}, \"mode\": \"lines\", \"name\": \"variable=CUR_COV_STANDARD\", \"showlegend\": true, \"type\": \"scatter\", \"xaxis\": \"x\", \"y\": [9.616858237547916, 5.149600446013757, 3.80789634181425, 3.246846297969959, 2.980902726924972, 2.847386041287873, 2.7784204396529173, 2.7422740191459107, 2.7231839606255317, 2.7130613211249415, 2.707682284921295, 2.7048207040805243, 2.703297463043378, 2.7024863709124425, 2.702054408732753, 2.701824338380467, 2.701701793104448, 2.70163651858733, 2.701601749225922, 2.7015832287163404, 2.7015733634040267, 2.701568108441238, 2.701565309273456, 2.7015638182362802, 2.7015630240028763, 2.701562600937097, 2.701562375581844, 2.701562255541427, 2.7015621915992654, 2.70156215753907, 2.7015621393961586, 2.701562129731939, 2.70156212458408, 2.7015621218419597, 2.7015621203813094, 2.701562119603262, 2.701562119188818, 2.701562118968055, 2.701562118850461, 2.7015621187878223, 2.701562118754456, 2.7015621187366827, 2.7015621187272156, 2.7015621187221726, 2.7015621187194863, 2.7015621187180554, 2.701562118717293, 2.701562118716887, 2.7015621187166707, 2.7015621187165557, 2.7015621187164944, 2.7015621187164616, 2.7015621187164442, 2.701562118716435, 2.7015621187164296, 2.701562118716427, 2.701562118716426, 2.701562118716425, 2.7015621187164247, 2.7015621187164243, 2.7015621187164243, 2.7015621187164243, 2.7015621187164243, 2.7015621187164243, 2.7015621187164243, 2.7015621187164243, 2.7015621187164243, 2.7015621187164243, 2.7015621187164243, 2.7015621187164243, 2.7015621187164243, 2.7015621187164243, 2.7015621187164243, 2.7015621187164243, 2.7015621187164243, 2.7015621187164243, 2.7015621187164243, 2.7015621187164243, 2.7015621187164243, 2.7015621187164243, 2.7015621187164243, 2.7015621187164243, 2.7015621187164243, 2.7015621187164243, 2.7015621187164243, 2.7015621187164243, 2.7015621187164243, 2.7015621187164243, 2.7015621187164243, 2.7015621187164243, 2.7015621187164243, 2.7015621187164243, 2.7015621187164243, 2.7015621187164243, 2.7015621187164243, 2.7015621187164243, 2.7015621187164243, 2.7015621187164243, 2.7015621187164243, 2.7015621187164243], \"yaxis\": \"y\"}],\n",
       "                        {\"height\": 600, \"legend\": {\"tracegroupgap\": 0}, \"template\": {\"data\": {\"bar\": [{\"error_x\": {\"color\": \"#2a3f5f\"}, \"error_y\": {\"color\": \"#2a3f5f\"}, \"marker\": {\"line\": {\"color\": \"#E5ECF6\", \"width\": 0.5}}, \"type\": \"bar\"}], \"barpolar\": [{\"marker\": {\"line\": {\"color\": \"#E5ECF6\", \"width\": 0.5}}, \"type\": \"barpolar\"}], \"carpet\": [{\"aaxis\": {\"endlinecolor\": \"#2a3f5f\", \"gridcolor\": \"white\", \"linecolor\": \"white\", \"minorgridcolor\": \"white\", \"startlinecolor\": \"#2a3f5f\"}, \"baxis\": {\"endlinecolor\": \"#2a3f5f\", \"gridcolor\": \"white\", \"linecolor\": \"white\", \"minorgridcolor\": \"white\", \"startlinecolor\": \"#2a3f5f\"}, \"type\": \"carpet\"}], \"choropleth\": [{\"colorbar\": {\"outlinewidth\": 0, \"ticks\": \"\"}, \"type\": \"choropleth\"}], \"contour\": [{\"colorbar\": {\"outlinewidth\": 0, \"ticks\": \"\"}, \"colorscale\": [[0.0, \"#0d0887\"], [0.1111111111111111, \"#46039f\"], [0.2222222222222222, \"#7201a8\"], [0.3333333333333333, \"#9c179e\"], [0.4444444444444444, \"#bd3786\"], [0.5555555555555556, \"#d8576b\"], [0.6666666666666666, \"#ed7953\"], [0.7777777777777778, \"#fb9f3a\"], [0.8888888888888888, \"#fdca26\"], [1.0, \"#f0f921\"]], \"type\": \"contour\"}], \"contourcarpet\": [{\"colorbar\": {\"outlinewidth\": 0, \"ticks\": \"\"}, \"type\": \"contourcarpet\"}], \"heatmap\": [{\"colorbar\": {\"outlinewidth\": 0, \"ticks\": \"\"}, \"colorscale\": [[0.0, \"#0d0887\"], [0.1111111111111111, \"#46039f\"], [0.2222222222222222, \"#7201a8\"], [0.3333333333333333, \"#9c179e\"], [0.4444444444444444, \"#bd3786\"], [0.5555555555555556, \"#d8576b\"], [0.6666666666666666, \"#ed7953\"], [0.7777777777777778, \"#fb9f3a\"], [0.8888888888888888, \"#fdca26\"], [1.0, \"#f0f921\"]], \"type\": \"heatmap\"}], \"heatmapgl\": [{\"colorbar\": {\"outlinewidth\": 0, \"ticks\": \"\"}, \"colorscale\": [[0.0, \"#0d0887\"], [0.1111111111111111, \"#46039f\"], [0.2222222222222222, \"#7201a8\"], [0.3333333333333333, \"#9c179e\"], [0.4444444444444444, \"#bd3786\"], [0.5555555555555556, \"#d8576b\"], [0.6666666666666666, \"#ed7953\"], [0.7777777777777778, \"#fb9f3a\"], [0.8888888888888888, \"#fdca26\"], [1.0, \"#f0f921\"]], \"type\": \"heatmapgl\"}], \"histogram\": [{\"marker\": {\"colorbar\": {\"outlinewidth\": 0, \"ticks\": \"\"}}, \"type\": \"histogram\"}], \"histogram2d\": [{\"colorbar\": {\"outlinewidth\": 0, \"ticks\": \"\"}, \"colorscale\": [[0.0, \"#0d0887\"], [0.1111111111111111, \"#46039f\"], [0.2222222222222222, \"#7201a8\"], [0.3333333333333333, \"#9c179e\"], [0.4444444444444444, \"#bd3786\"], [0.5555555555555556, \"#d8576b\"], [0.6666666666666666, \"#ed7953\"], [0.7777777777777778, \"#fb9f3a\"], [0.8888888888888888, \"#fdca26\"], [1.0, \"#f0f921\"]], \"type\": \"histogram2d\"}], \"histogram2dcontour\": [{\"colorbar\": {\"outlinewidth\": 0, \"ticks\": \"\"}, \"colorscale\": [[0.0, \"#0d0887\"], [0.1111111111111111, \"#46039f\"], [0.2222222222222222, \"#7201a8\"], [0.3333333333333333, \"#9c179e\"], [0.4444444444444444, \"#bd3786\"], [0.5555555555555556, \"#d8576b\"], [0.6666666666666666, \"#ed7953\"], [0.7777777777777778, \"#fb9f3a\"], [0.8888888888888888, \"#fdca26\"], [1.0, \"#f0f921\"]], \"type\": \"histogram2dcontour\"}], \"mesh3d\": [{\"colorbar\": {\"outlinewidth\": 0, \"ticks\": \"\"}, \"type\": \"mesh3d\"}], \"parcoords\": [{\"line\": {\"colorbar\": {\"outlinewidth\": 0, \"ticks\": \"\"}}, \"type\": \"parcoords\"}], \"scatter\": [{\"marker\": {\"colorbar\": {\"outlinewidth\": 0, \"ticks\": \"\"}}, \"type\": \"scatter\"}], \"scatter3d\": [{\"line\": {\"colorbar\": {\"outlinewidth\": 0, \"ticks\": \"\"}}, \"marker\": {\"colorbar\": {\"outlinewidth\": 0, \"ticks\": \"\"}}, \"type\": \"scatter3d\"}], \"scattercarpet\": [{\"marker\": {\"colorbar\": {\"outlinewidth\": 0, \"ticks\": \"\"}}, \"type\": \"scattercarpet\"}], \"scattergeo\": [{\"marker\": {\"colorbar\": {\"outlinewidth\": 0, \"ticks\": \"\"}}, \"type\": \"scattergeo\"}], \"scattergl\": [{\"marker\": {\"colorbar\": {\"outlinewidth\": 0, \"ticks\": \"\"}}, \"type\": \"scattergl\"}], \"scattermapbox\": [{\"marker\": {\"colorbar\": {\"outlinewidth\": 0, \"ticks\": \"\"}}, \"type\": \"scattermapbox\"}], \"scatterpolar\": [{\"marker\": {\"colorbar\": {\"outlinewidth\": 0, \"ticks\": \"\"}}, \"type\": \"scatterpolar\"}], \"scatterpolargl\": [{\"marker\": {\"colorbar\": {\"outlinewidth\": 0, \"ticks\": \"\"}}, \"type\": \"scatterpolargl\"}], \"scatterternary\": [{\"marker\": {\"colorbar\": {\"outlinewidth\": 0, \"ticks\": \"\"}}, \"type\": \"scatterternary\"}], \"surface\": [{\"colorbar\": {\"outlinewidth\": 0, \"ticks\": \"\"}, \"colorscale\": [[0.0, \"#0d0887\"], [0.1111111111111111, \"#46039f\"], [0.2222222222222222, \"#7201a8\"], [0.3333333333333333, \"#9c179e\"], [0.4444444444444444, \"#bd3786\"], [0.5555555555555556, \"#d8576b\"], [0.6666666666666666, \"#ed7953\"], [0.7777777777777778, \"#fb9f3a\"], [0.8888888888888888, \"#fdca26\"], [1.0, \"#f0f921\"]], \"type\": \"surface\"}], \"table\": [{\"cells\": {\"fill\": {\"color\": \"#EBF0F8\"}, \"line\": {\"color\": \"white\"}}, \"header\": {\"fill\": {\"color\": \"#C8D4E3\"}, \"line\": {\"color\": \"white\"}}, \"type\": \"table\"}]}, \"layout\": {\"annotationdefaults\": {\"arrowcolor\": \"#2a3f5f\", \"arrowhead\": 0, \"arrowwidth\": 1}, \"colorscale\": {\"diverging\": [[0, \"#8e0152\"], [0.1, \"#c51b7d\"], [0.2, \"#de77ae\"], [0.3, \"#f1b6da\"], [0.4, \"#fde0ef\"], [0.5, \"#f7f7f7\"], [0.6, \"#e6f5d0\"], [0.7, \"#b8e186\"], [0.8, \"#7fbc41\"], [0.9, \"#4d9221\"], [1, \"#276419\"]], \"sequential\": [[0.0, \"#0d0887\"], [0.1111111111111111, \"#46039f\"], [0.2222222222222222, \"#7201a8\"], [0.3333333333333333, \"#9c179e\"], [0.4444444444444444, \"#bd3786\"], [0.5555555555555556, \"#d8576b\"], [0.6666666666666666, \"#ed7953\"], [0.7777777777777778, \"#fb9f3a\"], [0.8888888888888888, \"#fdca26\"], [1.0, \"#f0f921\"]], \"sequentialminus\": [[0.0, \"#0d0887\"], [0.1111111111111111, \"#46039f\"], [0.2222222222222222, \"#7201a8\"], [0.3333333333333333, \"#9c179e\"], [0.4444444444444444, \"#bd3786\"], [0.5555555555555556, \"#d8576b\"], [0.6666666666666666, \"#ed7953\"], [0.7777777777777778, \"#fb9f3a\"], [0.8888888888888888, \"#fdca26\"], [1.0, \"#f0f921\"]]}, \"colorway\": [\"#636efa\", \"#EF553B\", \"#00cc96\", \"#ab63fa\", \"#FFA15A\", \"#19d3f3\", \"#FF6692\", \"#B6E880\", \"#FF97FF\", \"#FECB52\"], \"font\": {\"color\": \"#2a3f5f\"}, \"geo\": {\"bgcolor\": \"white\", \"lakecolor\": \"white\", \"landcolor\": \"#E5ECF6\", \"showlakes\": true, \"showland\": true, \"subunitcolor\": \"white\"}, \"hoverlabel\": {\"align\": \"left\"}, \"hovermode\": \"closest\", \"mapbox\": {\"style\": \"light\"}, \"paper_bgcolor\": \"white\", \"plot_bgcolor\": \"#E5ECF6\", \"polar\": {\"angularaxis\": {\"gridcolor\": \"white\", \"linecolor\": \"white\", \"ticks\": \"\"}, \"bgcolor\": \"#E5ECF6\", \"radialaxis\": {\"gridcolor\": \"white\", \"linecolor\": \"white\", \"ticks\": \"\"}}, \"scene\": {\"xaxis\": {\"backgroundcolor\": \"#E5ECF6\", \"gridcolor\": \"white\", \"gridwidth\": 2, \"linecolor\": \"white\", \"showbackground\": true, \"ticks\": \"\", \"zerolinecolor\": \"white\"}, \"yaxis\": {\"backgroundcolor\": \"#E5ECF6\", \"gridcolor\": \"white\", \"gridwidth\": 2, \"linecolor\": \"white\", \"showbackground\": true, \"ticks\": \"\", \"zerolinecolor\": \"white\"}, \"zaxis\": {\"backgroundcolor\": \"#E5ECF6\", \"gridcolor\": \"white\", \"gridwidth\": 2, \"linecolor\": \"white\", \"showbackground\": true, \"ticks\": \"\", \"zerolinecolor\": \"white\"}}, \"shapedefaults\": {\"line\": {\"color\": \"#2a3f5f\"}}, \"ternary\": {\"aaxis\": {\"gridcolor\": \"white\", \"linecolor\": \"white\", \"ticks\": \"\"}, \"baxis\": {\"gridcolor\": \"white\", \"linecolor\": \"white\", \"ticks\": \"\"}, \"bgcolor\": \"#E5ECF6\", \"caxis\": {\"gridcolor\": \"white\", \"linecolor\": \"white\", \"ticks\": \"\"}}, \"title\": {\"x\": 0.05}, \"xaxis\": {\"automargin\": true, \"gridcolor\": \"white\", \"linecolor\": \"white\", \"ticks\": \"\", \"zerolinecolor\": \"white\", \"zerolinewidth\": 2}, \"yaxis\": {\"automargin\": true, \"gridcolor\": \"white\", \"linecolor\": \"white\", \"ticks\": \"\", \"zerolinecolor\": \"white\", \"zerolinewidth\": 2}}}, \"title\": {\"text\": \"COV ITERATION\"}, \"xaxis\": {\"anchor\": \"y\", \"domain\": [0.0, 0.98]}, \"yaxis\": {\"anchor\": \"x\", \"domain\": [0.0, 1.0], \"title\": {\"text\": \"value\"}}},\n",
       "                        {\"responsive\": true}\n",
       "                    ).then(function(){\n",
       "                            \n",
       "var gd = document.getElementById('50d57694-3e73-4d5a-bcbf-4a475eb179a3');\n",
       "var x = new MutationObserver(function (mutations, observer) {{\n",
       "        var display = window.getComputedStyle(gd).display;\n",
       "        if (!display || display === 'none') {{\n",
       "            console.log([gd, 'removed!']);\n",
       "            Plotly.purge(gd);\n",
       "            observer.disconnect();\n",
       "        }}\n",
       "}});\n",
       "\n",
       "// Listen for the removal of the full notebook cells\n",
       "var notebookContainer = gd.closest('#notebook-container');\n",
       "if (notebookContainer) {{\n",
       "    x.observe(notebookContainer, {childList: true});\n",
       "}}\n",
       "\n",
       "// Listen for the clearing of the current output cell\n",
       "var outputEl = gd.closest('.output');\n",
       "if (outputEl) {{\n",
       "    x.observe(outputEl, {childList: true});\n",
       "}}\n",
       "\n",
       "                        })\n",
       "                };\n",
       "                });\n",
       "            </script>\n",
       "        </div>"
      ]
     },
     "metadata": {},
     "output_type": "display_data"
    }
   ],
   "source": [
    "px.line(pd.melt(\n",
    "    res_df, value_vars=['CUR_COV', 'CUR_COV_STANDARD']), y='value', color='variable',\n",
    "       title='COV ITERATION')"
   ]
  },
  {
   "cell_type": "code",
   "execution_count": 1163,
   "metadata": {},
   "outputs": [
    {
     "data": {
      "application/vnd.plotly.v1+json": {
       "config": {
        "plotlyServerURL": "https://plot.ly"
       },
       "data": [
        {
         "hoverlabel": {
          "namelength": 0
         },
         "hovertemplate": "variable=KALMAN_GAIN<br>value=%{y}",
         "legendgroup": "variable=KALMAN_GAIN",
         "line": {
          "color": "#636efa",
          "dash": "solid"
         },
         "mode": "lines",
         "name": "variable=KALMAN_GAIN",
         "showlegend": true,
         "type": "scatter",
         "xaxis": "x",
         "y": [
          0.9616858237547892,
          0.5149600446013752,
          0.38078963418142486,
          0.32468462979699586,
          0.29809027269249716,
          0.28473860412878726,
          0.2778420439652917,
          0.2742274019145911,
          0.2723183960625532,
          0.2713061321124942,
          0.27076822849212956,
          0.2704820704080525,
          0.2703297463043378,
          0.27024863709124425,
          0.27020544087327536,
          0.2701824338380467,
          0.27017017931044474,
          0.270163651858733,
          0.2701601749225922,
          0.27015832287163405,
          0.2701573363404026,
          0.2701568108441238,
          0.2701565309273456,
          0.2701563818236281,
          0.2701563024002876,
          0.2701562600937097,
          0.27015623755818435,
          0.2701562255541427,
          0.2701562191599265,
          0.27015621575390697,
          0.27015621393961586,
          0.27015621297319387,
          0.270156212458408,
          0.270156212184196,
          0.27015621203813095,
          0.2701562119603262,
          0.2701562119188818,
          0.2701562118968055,
          0.27015621188504607,
          0.2701562118787822,
          0.2701562118754456,
          0.2701562118736683,
          0.2701562118727216,
          0.2701562118722172,
          0.2701562118719486,
          0.2701562118718055,
          0.2701562118717293,
          0.2701562118716887,
          0.2701562118716671,
          0.27015621187165556,
          0.2701562118716494,
          0.2701562118716461,
          0.2701562118716444,
          0.27015621187164346,
          0.270156211871643,
          0.27015621187164274,
          0.27015621187164257,
          0.2701562118716425,
          0.2701562118716425,
          0.27015621187164246,
          0.27015621187164246,
          0.2701562118716424,
          0.27015621187164246,
          0.2701562118716424,
          0.27015621187164246,
          0.2701562118716424,
          0.27015621187164246,
          0.2701562118716424,
          0.27015621187164246,
          0.2701562118716424,
          0.27015621187164246,
          0.2701562118716424,
          0.27015621187164246,
          0.2701562118716424,
          0.27015621187164246,
          0.2701562118716424,
          0.27015621187164246,
          0.2701562118716424,
          0.27015621187164246,
          0.2701562118716424,
          0.27015621187164246,
          0.2701562118716424,
          0.27015621187164246,
          0.2701562118716424,
          0.27015621187164246,
          0.2701562118716424,
          0.27015621187164246,
          0.2701562118716424,
          0.27015621187164246,
          0.2701562118716424,
          0.27015621187164246,
          0.2701562118716424,
          0.27015621187164246,
          0.2701562118716424,
          0.27015621187164246,
          0.2701562118716424,
          0.27015621187164246,
          0.2701562118716424,
          0.27015621187164246,
          0.2701562118716424
         ],
         "yaxis": "y"
        }
       ],
       "layout": {
        "height": 600,
        "legend": {
         "tracegroupgap": 0
        },
        "template": {
         "data": {
          "bar": [
           {
            "error_x": {
             "color": "#2a3f5f"
            },
            "error_y": {
             "color": "#2a3f5f"
            },
            "marker": {
             "line": {
              "color": "#E5ECF6",
              "width": 0.5
             }
            },
            "type": "bar"
           }
          ],
          "barpolar": [
           {
            "marker": {
             "line": {
              "color": "#E5ECF6",
              "width": 0.5
             }
            },
            "type": "barpolar"
           }
          ],
          "carpet": [
           {
            "aaxis": {
             "endlinecolor": "#2a3f5f",
             "gridcolor": "white",
             "linecolor": "white",
             "minorgridcolor": "white",
             "startlinecolor": "#2a3f5f"
            },
            "baxis": {
             "endlinecolor": "#2a3f5f",
             "gridcolor": "white",
             "linecolor": "white",
             "minorgridcolor": "white",
             "startlinecolor": "#2a3f5f"
            },
            "type": "carpet"
           }
          ],
          "choropleth": [
           {
            "colorbar": {
             "outlinewidth": 0,
             "ticks": ""
            },
            "type": "choropleth"
           }
          ],
          "contour": [
           {
            "colorbar": {
             "outlinewidth": 0,
             "ticks": ""
            },
            "colorscale": [
             [
              0,
              "#0d0887"
             ],
             [
              0.1111111111111111,
              "#46039f"
             ],
             [
              0.2222222222222222,
              "#7201a8"
             ],
             [
              0.3333333333333333,
              "#9c179e"
             ],
             [
              0.4444444444444444,
              "#bd3786"
             ],
             [
              0.5555555555555556,
              "#d8576b"
             ],
             [
              0.6666666666666666,
              "#ed7953"
             ],
             [
              0.7777777777777778,
              "#fb9f3a"
             ],
             [
              0.8888888888888888,
              "#fdca26"
             ],
             [
              1,
              "#f0f921"
             ]
            ],
            "type": "contour"
           }
          ],
          "contourcarpet": [
           {
            "colorbar": {
             "outlinewidth": 0,
             "ticks": ""
            },
            "type": "contourcarpet"
           }
          ],
          "heatmap": [
           {
            "colorbar": {
             "outlinewidth": 0,
             "ticks": ""
            },
            "colorscale": [
             [
              0,
              "#0d0887"
             ],
             [
              0.1111111111111111,
              "#46039f"
             ],
             [
              0.2222222222222222,
              "#7201a8"
             ],
             [
              0.3333333333333333,
              "#9c179e"
             ],
             [
              0.4444444444444444,
              "#bd3786"
             ],
             [
              0.5555555555555556,
              "#d8576b"
             ],
             [
              0.6666666666666666,
              "#ed7953"
             ],
             [
              0.7777777777777778,
              "#fb9f3a"
             ],
             [
              0.8888888888888888,
              "#fdca26"
             ],
             [
              1,
              "#f0f921"
             ]
            ],
            "type": "heatmap"
           }
          ],
          "heatmapgl": [
           {
            "colorbar": {
             "outlinewidth": 0,
             "ticks": ""
            },
            "colorscale": [
             [
              0,
              "#0d0887"
             ],
             [
              0.1111111111111111,
              "#46039f"
             ],
             [
              0.2222222222222222,
              "#7201a8"
             ],
             [
              0.3333333333333333,
              "#9c179e"
             ],
             [
              0.4444444444444444,
              "#bd3786"
             ],
             [
              0.5555555555555556,
              "#d8576b"
             ],
             [
              0.6666666666666666,
              "#ed7953"
             ],
             [
              0.7777777777777778,
              "#fb9f3a"
             ],
             [
              0.8888888888888888,
              "#fdca26"
             ],
             [
              1,
              "#f0f921"
             ]
            ],
            "type": "heatmapgl"
           }
          ],
          "histogram": [
           {
            "marker": {
             "colorbar": {
              "outlinewidth": 0,
              "ticks": ""
             }
            },
            "type": "histogram"
           }
          ],
          "histogram2d": [
           {
            "colorbar": {
             "outlinewidth": 0,
             "ticks": ""
            },
            "colorscale": [
             [
              0,
              "#0d0887"
             ],
             [
              0.1111111111111111,
              "#46039f"
             ],
             [
              0.2222222222222222,
              "#7201a8"
             ],
             [
              0.3333333333333333,
              "#9c179e"
             ],
             [
              0.4444444444444444,
              "#bd3786"
             ],
             [
              0.5555555555555556,
              "#d8576b"
             ],
             [
              0.6666666666666666,
              "#ed7953"
             ],
             [
              0.7777777777777778,
              "#fb9f3a"
             ],
             [
              0.8888888888888888,
              "#fdca26"
             ],
             [
              1,
              "#f0f921"
             ]
            ],
            "type": "histogram2d"
           }
          ],
          "histogram2dcontour": [
           {
            "colorbar": {
             "outlinewidth": 0,
             "ticks": ""
            },
            "colorscale": [
             [
              0,
              "#0d0887"
             ],
             [
              0.1111111111111111,
              "#46039f"
             ],
             [
              0.2222222222222222,
              "#7201a8"
             ],
             [
              0.3333333333333333,
              "#9c179e"
             ],
             [
              0.4444444444444444,
              "#bd3786"
             ],
             [
              0.5555555555555556,
              "#d8576b"
             ],
             [
              0.6666666666666666,
              "#ed7953"
             ],
             [
              0.7777777777777778,
              "#fb9f3a"
             ],
             [
              0.8888888888888888,
              "#fdca26"
             ],
             [
              1,
              "#f0f921"
             ]
            ],
            "type": "histogram2dcontour"
           }
          ],
          "mesh3d": [
           {
            "colorbar": {
             "outlinewidth": 0,
             "ticks": ""
            },
            "type": "mesh3d"
           }
          ],
          "parcoords": [
           {
            "line": {
             "colorbar": {
              "outlinewidth": 0,
              "ticks": ""
             }
            },
            "type": "parcoords"
           }
          ],
          "scatter": [
           {
            "marker": {
             "colorbar": {
              "outlinewidth": 0,
              "ticks": ""
             }
            },
            "type": "scatter"
           }
          ],
          "scatter3d": [
           {
            "line": {
             "colorbar": {
              "outlinewidth": 0,
              "ticks": ""
             }
            },
            "marker": {
             "colorbar": {
              "outlinewidth": 0,
              "ticks": ""
             }
            },
            "type": "scatter3d"
           }
          ],
          "scattercarpet": [
           {
            "marker": {
             "colorbar": {
              "outlinewidth": 0,
              "ticks": ""
             }
            },
            "type": "scattercarpet"
           }
          ],
          "scattergeo": [
           {
            "marker": {
             "colorbar": {
              "outlinewidth": 0,
              "ticks": ""
             }
            },
            "type": "scattergeo"
           }
          ],
          "scattergl": [
           {
            "marker": {
             "colorbar": {
              "outlinewidth": 0,
              "ticks": ""
             }
            },
            "type": "scattergl"
           }
          ],
          "scattermapbox": [
           {
            "marker": {
             "colorbar": {
              "outlinewidth": 0,
              "ticks": ""
             }
            },
            "type": "scattermapbox"
           }
          ],
          "scatterpolar": [
           {
            "marker": {
             "colorbar": {
              "outlinewidth": 0,
              "ticks": ""
             }
            },
            "type": "scatterpolar"
           }
          ],
          "scatterpolargl": [
           {
            "marker": {
             "colorbar": {
              "outlinewidth": 0,
              "ticks": ""
             }
            },
            "type": "scatterpolargl"
           }
          ],
          "scatterternary": [
           {
            "marker": {
             "colorbar": {
              "outlinewidth": 0,
              "ticks": ""
             }
            },
            "type": "scatterternary"
           }
          ],
          "surface": [
           {
            "colorbar": {
             "outlinewidth": 0,
             "ticks": ""
            },
            "colorscale": [
             [
              0,
              "#0d0887"
             ],
             [
              0.1111111111111111,
              "#46039f"
             ],
             [
              0.2222222222222222,
              "#7201a8"
             ],
             [
              0.3333333333333333,
              "#9c179e"
             ],
             [
              0.4444444444444444,
              "#bd3786"
             ],
             [
              0.5555555555555556,
              "#d8576b"
             ],
             [
              0.6666666666666666,
              "#ed7953"
             ],
             [
              0.7777777777777778,
              "#fb9f3a"
             ],
             [
              0.8888888888888888,
              "#fdca26"
             ],
             [
              1,
              "#f0f921"
             ]
            ],
            "type": "surface"
           }
          ],
          "table": [
           {
            "cells": {
             "fill": {
              "color": "#EBF0F8"
             },
             "line": {
              "color": "white"
             }
            },
            "header": {
             "fill": {
              "color": "#C8D4E3"
             },
             "line": {
              "color": "white"
             }
            },
            "type": "table"
           }
          ]
         },
         "layout": {
          "annotationdefaults": {
           "arrowcolor": "#2a3f5f",
           "arrowhead": 0,
           "arrowwidth": 1
          },
          "colorscale": {
           "diverging": [
            [
             0,
             "#8e0152"
            ],
            [
             0.1,
             "#c51b7d"
            ],
            [
             0.2,
             "#de77ae"
            ],
            [
             0.3,
             "#f1b6da"
            ],
            [
             0.4,
             "#fde0ef"
            ],
            [
             0.5,
             "#f7f7f7"
            ],
            [
             0.6,
             "#e6f5d0"
            ],
            [
             0.7,
             "#b8e186"
            ],
            [
             0.8,
             "#7fbc41"
            ],
            [
             0.9,
             "#4d9221"
            ],
            [
             1,
             "#276419"
            ]
           ],
           "sequential": [
            [
             0,
             "#0d0887"
            ],
            [
             0.1111111111111111,
             "#46039f"
            ],
            [
             0.2222222222222222,
             "#7201a8"
            ],
            [
             0.3333333333333333,
             "#9c179e"
            ],
            [
             0.4444444444444444,
             "#bd3786"
            ],
            [
             0.5555555555555556,
             "#d8576b"
            ],
            [
             0.6666666666666666,
             "#ed7953"
            ],
            [
             0.7777777777777778,
             "#fb9f3a"
            ],
            [
             0.8888888888888888,
             "#fdca26"
            ],
            [
             1,
             "#f0f921"
            ]
           ],
           "sequentialminus": [
            [
             0,
             "#0d0887"
            ],
            [
             0.1111111111111111,
             "#46039f"
            ],
            [
             0.2222222222222222,
             "#7201a8"
            ],
            [
             0.3333333333333333,
             "#9c179e"
            ],
            [
             0.4444444444444444,
             "#bd3786"
            ],
            [
             0.5555555555555556,
             "#d8576b"
            ],
            [
             0.6666666666666666,
             "#ed7953"
            ],
            [
             0.7777777777777778,
             "#fb9f3a"
            ],
            [
             0.8888888888888888,
             "#fdca26"
            ],
            [
             1,
             "#f0f921"
            ]
           ]
          },
          "colorway": [
           "#636efa",
           "#EF553B",
           "#00cc96",
           "#ab63fa",
           "#FFA15A",
           "#19d3f3",
           "#FF6692",
           "#B6E880",
           "#FF97FF",
           "#FECB52"
          ],
          "font": {
           "color": "#2a3f5f"
          },
          "geo": {
           "bgcolor": "white",
           "lakecolor": "white",
           "landcolor": "#E5ECF6",
           "showlakes": true,
           "showland": true,
           "subunitcolor": "white"
          },
          "hoverlabel": {
           "align": "left"
          },
          "hovermode": "closest",
          "mapbox": {
           "style": "light"
          },
          "paper_bgcolor": "white",
          "plot_bgcolor": "#E5ECF6",
          "polar": {
           "angularaxis": {
            "gridcolor": "white",
            "linecolor": "white",
            "ticks": ""
           },
           "bgcolor": "#E5ECF6",
           "radialaxis": {
            "gridcolor": "white",
            "linecolor": "white",
            "ticks": ""
           }
          },
          "scene": {
           "xaxis": {
            "backgroundcolor": "#E5ECF6",
            "gridcolor": "white",
            "gridwidth": 2,
            "linecolor": "white",
            "showbackground": true,
            "ticks": "",
            "zerolinecolor": "white"
           },
           "yaxis": {
            "backgroundcolor": "#E5ECF6",
            "gridcolor": "white",
            "gridwidth": 2,
            "linecolor": "white",
            "showbackground": true,
            "ticks": "",
            "zerolinecolor": "white"
           },
           "zaxis": {
            "backgroundcolor": "#E5ECF6",
            "gridcolor": "white",
            "gridwidth": 2,
            "linecolor": "white",
            "showbackground": true,
            "ticks": "",
            "zerolinecolor": "white"
           }
          },
          "shapedefaults": {
           "line": {
            "color": "#2a3f5f"
           }
          },
          "ternary": {
           "aaxis": {
            "gridcolor": "white",
            "linecolor": "white",
            "ticks": ""
           },
           "baxis": {
            "gridcolor": "white",
            "linecolor": "white",
            "ticks": ""
           },
           "bgcolor": "#E5ECF6",
           "caxis": {
            "gridcolor": "white",
            "linecolor": "white",
            "ticks": ""
           }
          },
          "title": {
           "x": 0.05
          },
          "xaxis": {
           "automargin": true,
           "gridcolor": "white",
           "linecolor": "white",
           "ticks": "",
           "zerolinecolor": "white",
           "zerolinewidth": 2
          },
          "yaxis": {
           "automargin": true,
           "gridcolor": "white",
           "linecolor": "white",
           "ticks": "",
           "zerolinecolor": "white",
           "zerolinewidth": 2
          }
         }
        },
        "title": {
         "text": "KALMAN GAIN ITERATION"
        },
        "xaxis": {
         "anchor": "y",
         "domain": [
          0,
          0.98
         ]
        },
        "yaxis": {
         "anchor": "x",
         "domain": [
          0,
          1
         ],
         "title": {
          "text": "value"
         }
        }
       }
      },
      "text/html": [
       "<div>\n",
       "        \n",
       "        \n",
       "            <div id=\"3659d84f-5191-4d81-af24-8039bf5f9585\" class=\"plotly-graph-div\" style=\"height:600px; width:100%;\"></div>\n",
       "            <script type=\"text/javascript\">\n",
       "                require([\"plotly\"], function(Plotly) {\n",
       "                    window.PLOTLYENV=window.PLOTLYENV || {};\n",
       "                    \n",
       "                if (document.getElementById(\"3659d84f-5191-4d81-af24-8039bf5f9585\")) {\n",
       "                    Plotly.newPlot(\n",
       "                        '3659d84f-5191-4d81-af24-8039bf5f9585',\n",
       "                        [{\"hoverlabel\": {\"namelength\": 0}, \"hovertemplate\": \"variable=KALMAN_GAIN<br>value=%{y}\", \"legendgroup\": \"variable=KALMAN_GAIN\", \"line\": {\"color\": \"#636efa\", \"dash\": \"solid\"}, \"mode\": \"lines\", \"name\": \"variable=KALMAN_GAIN\", \"showlegend\": true, \"type\": \"scatter\", \"xaxis\": \"x\", \"y\": [0.9616858237547892, 0.5149600446013752, 0.38078963418142486, 0.32468462979699586, 0.29809027269249716, 0.28473860412878726, 0.2778420439652917, 0.2742274019145911, 0.2723183960625532, 0.2713061321124942, 0.27076822849212956, 0.2704820704080525, 0.2703297463043378, 0.27024863709124425, 0.27020544087327536, 0.2701824338380467, 0.27017017931044474, 0.270163651858733, 0.2701601749225922, 0.27015832287163405, 0.2701573363404026, 0.2701568108441238, 0.2701565309273456, 0.2701563818236281, 0.2701563024002876, 0.2701562600937097, 0.27015623755818435, 0.2701562255541427, 0.2701562191599265, 0.27015621575390697, 0.27015621393961586, 0.27015621297319387, 0.270156212458408, 0.270156212184196, 0.27015621203813095, 0.2701562119603262, 0.2701562119188818, 0.2701562118968055, 0.27015621188504607, 0.2701562118787822, 0.2701562118754456, 0.2701562118736683, 0.2701562118727216, 0.2701562118722172, 0.2701562118719486, 0.2701562118718055, 0.2701562118717293, 0.2701562118716887, 0.2701562118716671, 0.27015621187165556, 0.2701562118716494, 0.2701562118716461, 0.2701562118716444, 0.27015621187164346, 0.270156211871643, 0.27015621187164274, 0.27015621187164257, 0.2701562118716425, 0.2701562118716425, 0.27015621187164246, 0.27015621187164246, 0.2701562118716424, 0.27015621187164246, 0.2701562118716424, 0.27015621187164246, 0.2701562118716424, 0.27015621187164246, 0.2701562118716424, 0.27015621187164246, 0.2701562118716424, 0.27015621187164246, 0.2701562118716424, 0.27015621187164246, 0.2701562118716424, 0.27015621187164246, 0.2701562118716424, 0.27015621187164246, 0.2701562118716424, 0.27015621187164246, 0.2701562118716424, 0.27015621187164246, 0.2701562118716424, 0.27015621187164246, 0.2701562118716424, 0.27015621187164246, 0.2701562118716424, 0.27015621187164246, 0.2701562118716424, 0.27015621187164246, 0.2701562118716424, 0.27015621187164246, 0.2701562118716424, 0.27015621187164246, 0.2701562118716424, 0.27015621187164246, 0.2701562118716424, 0.27015621187164246, 0.2701562118716424, 0.27015621187164246, 0.2701562118716424], \"yaxis\": \"y\"}],\n",
       "                        {\"height\": 600, \"legend\": {\"tracegroupgap\": 0}, \"template\": {\"data\": {\"bar\": [{\"error_x\": {\"color\": \"#2a3f5f\"}, \"error_y\": {\"color\": \"#2a3f5f\"}, \"marker\": {\"line\": {\"color\": \"#E5ECF6\", \"width\": 0.5}}, \"type\": \"bar\"}], \"barpolar\": [{\"marker\": {\"line\": {\"color\": \"#E5ECF6\", \"width\": 0.5}}, \"type\": \"barpolar\"}], \"carpet\": [{\"aaxis\": {\"endlinecolor\": \"#2a3f5f\", \"gridcolor\": \"white\", \"linecolor\": \"white\", \"minorgridcolor\": \"white\", \"startlinecolor\": \"#2a3f5f\"}, \"baxis\": {\"endlinecolor\": \"#2a3f5f\", \"gridcolor\": \"white\", \"linecolor\": \"white\", \"minorgridcolor\": \"white\", \"startlinecolor\": \"#2a3f5f\"}, \"type\": \"carpet\"}], \"choropleth\": [{\"colorbar\": {\"outlinewidth\": 0, \"ticks\": \"\"}, \"type\": \"choropleth\"}], \"contour\": [{\"colorbar\": {\"outlinewidth\": 0, \"ticks\": \"\"}, \"colorscale\": [[0.0, \"#0d0887\"], [0.1111111111111111, \"#46039f\"], [0.2222222222222222, \"#7201a8\"], [0.3333333333333333, \"#9c179e\"], [0.4444444444444444, \"#bd3786\"], [0.5555555555555556, \"#d8576b\"], [0.6666666666666666, \"#ed7953\"], [0.7777777777777778, \"#fb9f3a\"], [0.8888888888888888, \"#fdca26\"], [1.0, \"#f0f921\"]], \"type\": \"contour\"}], \"contourcarpet\": [{\"colorbar\": {\"outlinewidth\": 0, \"ticks\": \"\"}, \"type\": \"contourcarpet\"}], \"heatmap\": [{\"colorbar\": {\"outlinewidth\": 0, \"ticks\": \"\"}, \"colorscale\": [[0.0, \"#0d0887\"], [0.1111111111111111, \"#46039f\"], [0.2222222222222222, \"#7201a8\"], [0.3333333333333333, \"#9c179e\"], [0.4444444444444444, \"#bd3786\"], [0.5555555555555556, \"#d8576b\"], [0.6666666666666666, \"#ed7953\"], [0.7777777777777778, \"#fb9f3a\"], [0.8888888888888888, \"#fdca26\"], [1.0, \"#f0f921\"]], \"type\": \"heatmap\"}], \"heatmapgl\": [{\"colorbar\": {\"outlinewidth\": 0, \"ticks\": \"\"}, \"colorscale\": [[0.0, \"#0d0887\"], [0.1111111111111111, \"#46039f\"], [0.2222222222222222, \"#7201a8\"], [0.3333333333333333, \"#9c179e\"], [0.4444444444444444, \"#bd3786\"], [0.5555555555555556, \"#d8576b\"], [0.6666666666666666, \"#ed7953\"], [0.7777777777777778, \"#fb9f3a\"], [0.8888888888888888, \"#fdca26\"], [1.0, \"#f0f921\"]], \"type\": \"heatmapgl\"}], \"histogram\": [{\"marker\": {\"colorbar\": {\"outlinewidth\": 0, \"ticks\": \"\"}}, \"type\": \"histogram\"}], \"histogram2d\": [{\"colorbar\": {\"outlinewidth\": 0, \"ticks\": \"\"}, \"colorscale\": [[0.0, \"#0d0887\"], [0.1111111111111111, \"#46039f\"], [0.2222222222222222, \"#7201a8\"], [0.3333333333333333, \"#9c179e\"], [0.4444444444444444, \"#bd3786\"], [0.5555555555555556, \"#d8576b\"], [0.6666666666666666, \"#ed7953\"], [0.7777777777777778, \"#fb9f3a\"], [0.8888888888888888, \"#fdca26\"], [1.0, \"#f0f921\"]], \"type\": \"histogram2d\"}], \"histogram2dcontour\": [{\"colorbar\": {\"outlinewidth\": 0, \"ticks\": \"\"}, \"colorscale\": [[0.0, \"#0d0887\"], [0.1111111111111111, \"#46039f\"], [0.2222222222222222, \"#7201a8\"], [0.3333333333333333, \"#9c179e\"], [0.4444444444444444, \"#bd3786\"], [0.5555555555555556, \"#d8576b\"], [0.6666666666666666, \"#ed7953\"], [0.7777777777777778, \"#fb9f3a\"], [0.8888888888888888, \"#fdca26\"], [1.0, \"#f0f921\"]], \"type\": \"histogram2dcontour\"}], \"mesh3d\": [{\"colorbar\": {\"outlinewidth\": 0, \"ticks\": \"\"}, \"type\": \"mesh3d\"}], \"parcoords\": [{\"line\": {\"colorbar\": {\"outlinewidth\": 0, \"ticks\": \"\"}}, \"type\": \"parcoords\"}], \"scatter\": [{\"marker\": {\"colorbar\": {\"outlinewidth\": 0, \"ticks\": \"\"}}, \"type\": \"scatter\"}], \"scatter3d\": [{\"line\": {\"colorbar\": {\"outlinewidth\": 0, \"ticks\": \"\"}}, \"marker\": {\"colorbar\": {\"outlinewidth\": 0, \"ticks\": \"\"}}, \"type\": \"scatter3d\"}], \"scattercarpet\": [{\"marker\": {\"colorbar\": {\"outlinewidth\": 0, \"ticks\": \"\"}}, \"type\": \"scattercarpet\"}], \"scattergeo\": [{\"marker\": {\"colorbar\": {\"outlinewidth\": 0, \"ticks\": \"\"}}, \"type\": \"scattergeo\"}], \"scattergl\": [{\"marker\": {\"colorbar\": {\"outlinewidth\": 0, \"ticks\": \"\"}}, \"type\": \"scattergl\"}], \"scattermapbox\": [{\"marker\": {\"colorbar\": {\"outlinewidth\": 0, \"ticks\": \"\"}}, \"type\": \"scattermapbox\"}], \"scatterpolar\": [{\"marker\": {\"colorbar\": {\"outlinewidth\": 0, \"ticks\": \"\"}}, \"type\": \"scatterpolar\"}], \"scatterpolargl\": [{\"marker\": {\"colorbar\": {\"outlinewidth\": 0, \"ticks\": \"\"}}, \"type\": \"scatterpolargl\"}], \"scatterternary\": [{\"marker\": {\"colorbar\": {\"outlinewidth\": 0, \"ticks\": \"\"}}, \"type\": \"scatterternary\"}], \"surface\": [{\"colorbar\": {\"outlinewidth\": 0, \"ticks\": \"\"}, \"colorscale\": [[0.0, \"#0d0887\"], [0.1111111111111111, \"#46039f\"], [0.2222222222222222, \"#7201a8\"], [0.3333333333333333, \"#9c179e\"], [0.4444444444444444, \"#bd3786\"], [0.5555555555555556, \"#d8576b\"], [0.6666666666666666, \"#ed7953\"], [0.7777777777777778, \"#fb9f3a\"], [0.8888888888888888, \"#fdca26\"], [1.0, \"#f0f921\"]], \"type\": \"surface\"}], \"table\": [{\"cells\": {\"fill\": {\"color\": \"#EBF0F8\"}, \"line\": {\"color\": \"white\"}}, \"header\": {\"fill\": {\"color\": \"#C8D4E3\"}, \"line\": {\"color\": \"white\"}}, \"type\": \"table\"}]}, \"layout\": {\"annotationdefaults\": {\"arrowcolor\": \"#2a3f5f\", \"arrowhead\": 0, \"arrowwidth\": 1}, \"colorscale\": {\"diverging\": [[0, \"#8e0152\"], [0.1, \"#c51b7d\"], [0.2, \"#de77ae\"], [0.3, \"#f1b6da\"], [0.4, \"#fde0ef\"], [0.5, \"#f7f7f7\"], [0.6, \"#e6f5d0\"], [0.7, \"#b8e186\"], [0.8, \"#7fbc41\"], [0.9, \"#4d9221\"], [1, \"#276419\"]], \"sequential\": [[0.0, \"#0d0887\"], [0.1111111111111111, \"#46039f\"], [0.2222222222222222, \"#7201a8\"], [0.3333333333333333, \"#9c179e\"], [0.4444444444444444, \"#bd3786\"], [0.5555555555555556, \"#d8576b\"], [0.6666666666666666, \"#ed7953\"], [0.7777777777777778, \"#fb9f3a\"], [0.8888888888888888, \"#fdca26\"], [1.0, \"#f0f921\"]], \"sequentialminus\": [[0.0, \"#0d0887\"], [0.1111111111111111, \"#46039f\"], [0.2222222222222222, \"#7201a8\"], [0.3333333333333333, \"#9c179e\"], [0.4444444444444444, \"#bd3786\"], [0.5555555555555556, \"#d8576b\"], [0.6666666666666666, \"#ed7953\"], [0.7777777777777778, \"#fb9f3a\"], [0.8888888888888888, \"#fdca26\"], [1.0, \"#f0f921\"]]}, \"colorway\": [\"#636efa\", \"#EF553B\", \"#00cc96\", \"#ab63fa\", \"#FFA15A\", \"#19d3f3\", \"#FF6692\", \"#B6E880\", \"#FF97FF\", \"#FECB52\"], \"font\": {\"color\": \"#2a3f5f\"}, \"geo\": {\"bgcolor\": \"white\", \"lakecolor\": \"white\", \"landcolor\": \"#E5ECF6\", \"showlakes\": true, \"showland\": true, \"subunitcolor\": \"white\"}, \"hoverlabel\": {\"align\": \"left\"}, \"hovermode\": \"closest\", \"mapbox\": {\"style\": \"light\"}, \"paper_bgcolor\": \"white\", \"plot_bgcolor\": \"#E5ECF6\", \"polar\": {\"angularaxis\": {\"gridcolor\": \"white\", \"linecolor\": \"white\", \"ticks\": \"\"}, \"bgcolor\": \"#E5ECF6\", \"radialaxis\": {\"gridcolor\": \"white\", \"linecolor\": \"white\", \"ticks\": \"\"}}, \"scene\": {\"xaxis\": {\"backgroundcolor\": \"#E5ECF6\", \"gridcolor\": \"white\", \"gridwidth\": 2, \"linecolor\": \"white\", \"showbackground\": true, \"ticks\": \"\", \"zerolinecolor\": \"white\"}, \"yaxis\": {\"backgroundcolor\": \"#E5ECF6\", \"gridcolor\": \"white\", \"gridwidth\": 2, \"linecolor\": \"white\", \"showbackground\": true, \"ticks\": \"\", \"zerolinecolor\": \"white\"}, \"zaxis\": {\"backgroundcolor\": \"#E5ECF6\", \"gridcolor\": \"white\", \"gridwidth\": 2, \"linecolor\": \"white\", \"showbackground\": true, \"ticks\": \"\", \"zerolinecolor\": \"white\"}}, \"shapedefaults\": {\"line\": {\"color\": \"#2a3f5f\"}}, \"ternary\": {\"aaxis\": {\"gridcolor\": \"white\", \"linecolor\": \"white\", \"ticks\": \"\"}, \"baxis\": {\"gridcolor\": \"white\", \"linecolor\": \"white\", \"ticks\": \"\"}, \"bgcolor\": \"#E5ECF6\", \"caxis\": {\"gridcolor\": \"white\", \"linecolor\": \"white\", \"ticks\": \"\"}}, \"title\": {\"x\": 0.05}, \"xaxis\": {\"automargin\": true, \"gridcolor\": \"white\", \"linecolor\": \"white\", \"ticks\": \"\", \"zerolinecolor\": \"white\", \"zerolinewidth\": 2}, \"yaxis\": {\"automargin\": true, \"gridcolor\": \"white\", \"linecolor\": \"white\", \"ticks\": \"\", \"zerolinecolor\": \"white\", \"zerolinewidth\": 2}}}, \"title\": {\"text\": \"KALMAN GAIN ITERATION\"}, \"xaxis\": {\"anchor\": \"y\", \"domain\": [0.0, 0.98]}, \"yaxis\": {\"anchor\": \"x\", \"domain\": [0.0, 1.0], \"title\": {\"text\": \"value\"}}},\n",
       "                        {\"responsive\": true}\n",
       "                    ).then(function(){\n",
       "                            \n",
       "var gd = document.getElementById('3659d84f-5191-4d81-af24-8039bf5f9585');\n",
       "var x = new MutationObserver(function (mutations, observer) {{\n",
       "        var display = window.getComputedStyle(gd).display;\n",
       "        if (!display || display === 'none') {{\n",
       "            console.log([gd, 'removed!']);\n",
       "            Plotly.purge(gd);\n",
       "            observer.disconnect();\n",
       "        }}\n",
       "}});\n",
       "\n",
       "// Listen for the removal of the full notebook cells\n",
       "var notebookContainer = gd.closest('#notebook-container');\n",
       "if (notebookContainer) {{\n",
       "    x.observe(notebookContainer, {childList: true});\n",
       "}}\n",
       "\n",
       "// Listen for the clearing of the current output cell\n",
       "var outputEl = gd.closest('.output');\n",
       "if (outputEl) {{\n",
       "    x.observe(outputEl, {childList: true});\n",
       "}}\n",
       "\n",
       "                        })\n",
       "                };\n",
       "                });\n",
       "            </script>\n",
       "        </div>"
      ]
     },
     "metadata": {},
     "output_type": "display_data"
    }
   ],
   "source": [
    "px.line(pd.melt(\n",
    "    res_df, value_vars=['KALMAN_GAIN']), y='value', color='variable',\n",
    "       title='KALMAN GAIN ITERATION')"
   ]
  },
  {
   "cell_type": "code",
   "execution_count": 1164,
   "metadata": {},
   "outputs": [
    {
     "data": {
      "application/vnd.plotly.v1+json": {
       "config": {
        "plotlyServerURL": "https://plot.ly"
       },
       "data": [
        {
         "hoverlabel": {
          "namelength": 0
         },
         "hovertemplate": "variable=MEASUREMENT_ERROR<br>value=%{y}",
         "legendgroup": "variable=MEASUREMENT_ERROR",
         "line": {
          "color": "#636efa",
          "dash": "solid"
         },
         "mode": "lines",
         "name": "variable=MEASUREMENT_ERROR",
         "showlegend": true,
         "type": "scatter",
         "xaxis": "x",
         "y": [
          3.804112851560106,
          1.4458294599176114,
          -15.385168732135469,
          14.424139738101005,
          -12.207749776922114,
          -5.15024735809574,
          7.479734541543564,
          -4.61717631142632,
          -1.6562514677262357,
          3.2857222967490998,
          0.01261775106974028,
          -7.2640235941968285,
          0.7564351893709897,
          -13.530471026289717,
          0.6373253905305489,
          12.736506131947948,
          15.0906190796602,
          -8.798042282641717,
          17.410425454735844,
          3.516018493533693,
          -0.9536365435341168,
          -3.185705959765187,
          18.452393824055264,
          -14.846053514860671,
          -11.943828795275522,
          -5.321743899192256,
          -13.753927739271546,
          -9.828657932064914,
          10.342150923842723,
          -8.894682856938346,
          -14.853122635281863,
          14.00801414815777,
          5.447326887221834,
          -22.583335335062202,
          2.3347896395009116,
          -3.3002168525435422,
          0.6472070192160686,
          8.552964838615196,
          -4.185199578736842,
          -0.883737129796998,
          -3.5337502355192214,
          8.12759428494104,
          7.798220575413154,
          1.8903828607852233,
          1.0325285531122859,
          0.3637308541696598,
          -1.8521887589564585,
          -7.6546083073851605,
          6.263958053572878,
          -1.2249076092787163,
          1.690741296462761,
          4.292819417064038,
          -0.27295259667062055,
          2.4757831965944206,
          13.837026838274824,
          0.08944501978260178,
          -9.879845479917208,
          17.854186516794357,
          -6.939441712176631,
          -8.61350049547525,
          6.368841924109006,
          -6.49589218363667,
          -5.1972270676153585,
          15.010784324423753,
          6.109259959859514,
          1.2044725782558316,
          16.929812567633917,
          7.793495005852606,
          11.24251812230716,
          2.480419824415776,
          -2.055017219623778,
          5.895641962827199,
          -13.573122741124621,
          0.8749247124843578,
          -12.03136449572844,
          -0.47386844788877625,
          -9.207765036487785,
          -0.8959481143706398,
          7.08163362672633,
          -1.6160373324462398,
          -15.245844492287006,
          6.434298789426407,
          9.099181174369164,
          -15.446425492722938,
          2.4821344508973198,
          -11.18923788756922,
          -4.483867674402973,
          -1.612861593759817,
          9.343041816961886,
          30.75884840659512,
          12.412998056923357,
          -14.751043796199156,
          13.96146428005045,
          -7.763665607330722,
          -5.433929995271683,
          7.213152940912323,
          -15.504124562898369,
          -4.06351409128456,
          7.348708785196095,
          -6.424302122875133
         ],
         "yaxis": "y"
        },
        {
         "hoverlabel": {
          "namelength": 0
         },
         "hovertemplate": "variable=KALMAN_ERROR<br>value=%{y}",
         "legendgroup": "variable=KALMAN_ERROR",
         "line": {
          "color": "#EF553B",
          "dash": "solid"
         },
         "mode": "lines",
         "name": "variable=KALMAN_ERROR",
         "showlegend": true,
         "type": "scatter",
         "xaxis": "x",
         "y": [
          2.393993585216805,
          1.9057269449633054,
          -4.678466894588311,
          1.5238558681040502,
          -2.5694022031276376,
          -3.304268450025802,
          -0.30801901672035115,
          -1.489708026088877,
          -1.5350608689902856,
          -0.2271528345405045,
          -0.16223057783028594,
          -2.083138256506544,
          -1.3155170872699387,
          -4.616591741422354,
          -3.196954746471363,
          1.1079864931232635,
          4.885676846260026,
          1.1888333153867165,
          5.57126148527621,
          5.0160204855333745,
          3.403273843694734,
          1.6232160732756142,
          6.16972835278591,
          0.4921807622279175,
          -2.8674855964418384,
          -3.5305188408168533,
          -6.292436523842241,
          -7.247768752211414,
          -2.4957425572018224,
          -4.224456053413803,
          -7.095856376397819,
          -1.3945146364072798,
          0.45385135585701164,
          -5.769787739941876,
          -3.5802858149417034,
          -3.5046234449725375,
          -2.38298065423794,
          0.5714329536211835,
          -0.713600872649863,
          -0.7595642393839626,
          -1.5090278191377706,
          1.0943655037582403,
          2.905453594860262,
          2.6312259305602197,
          2.199327903139249,
          1.7034299578665468,
          0.7428574744694174,
          -1.5257700704785293,
          0.5786733710253884,
          0.09142476558270118,
          0.5234900611490048,
          1.5417978012395679,
          1.0515317082475804,
          1.4363020950919463,
          4.786434916173221,
          3.517513918564987,
          -0.10186594561196216,
          4.749073167800248,
          1.591348265420379,
          -1.165555018546229,
          0.8699091182187431,
          -1.1200078588897213,
          -2.221493955289361,
          2.4339130666759274,
          3.4268308606526716,
          2.8264469656587607,
          6.6365587913292075,
          6.9491122964219585,
          8.109002550370747,
          6.588405962920547,
          4.25333149832079,
          4.697011872128996,
          -0.2387784853725634,
          0.06209535170978597,
          -3.205027949095893,
          -2.4671882442324886,
          -4.288196936258032,
          -3.3717598448108674,
          -0.547710663336602,
          -0.8363257493047058,
          -4.729146747802247,
          -1.7132725900291916,
          1.2077789599979951,
          -3.291457826684905,
          -1.7316860080819652,
          -4.286702397423824,
          -4.339967821765185,
          -3.6032231338357406,
          -0.1057092368416761,
          8.232542737203175,
          9.36191871027745,
          2.847652102524762,
          5.850117499858015,
          2.1722694263777385,
          0.1174074038846129,
          2.0343671385730886,
          -2.703765341438725,
          -3.071109912794327,
          -0.256131164955832,
          -1.9225008651239932
         ],
         "yaxis": "y"
        }
       ],
       "layout": {
        "height": 600,
        "legend": {
         "tracegroupgap": 0
        },
        "template": {
         "data": {
          "bar": [
           {
            "error_x": {
             "color": "#2a3f5f"
            },
            "error_y": {
             "color": "#2a3f5f"
            },
            "marker": {
             "line": {
              "color": "#E5ECF6",
              "width": 0.5
             }
            },
            "type": "bar"
           }
          ],
          "barpolar": [
           {
            "marker": {
             "line": {
              "color": "#E5ECF6",
              "width": 0.5
             }
            },
            "type": "barpolar"
           }
          ],
          "carpet": [
           {
            "aaxis": {
             "endlinecolor": "#2a3f5f",
             "gridcolor": "white",
             "linecolor": "white",
             "minorgridcolor": "white",
             "startlinecolor": "#2a3f5f"
            },
            "baxis": {
             "endlinecolor": "#2a3f5f",
             "gridcolor": "white",
             "linecolor": "white",
             "minorgridcolor": "white",
             "startlinecolor": "#2a3f5f"
            },
            "type": "carpet"
           }
          ],
          "choropleth": [
           {
            "colorbar": {
             "outlinewidth": 0,
             "ticks": ""
            },
            "type": "choropleth"
           }
          ],
          "contour": [
           {
            "colorbar": {
             "outlinewidth": 0,
             "ticks": ""
            },
            "colorscale": [
             [
              0,
              "#0d0887"
             ],
             [
              0.1111111111111111,
              "#46039f"
             ],
             [
              0.2222222222222222,
              "#7201a8"
             ],
             [
              0.3333333333333333,
              "#9c179e"
             ],
             [
              0.4444444444444444,
              "#bd3786"
             ],
             [
              0.5555555555555556,
              "#d8576b"
             ],
             [
              0.6666666666666666,
              "#ed7953"
             ],
             [
              0.7777777777777778,
              "#fb9f3a"
             ],
             [
              0.8888888888888888,
              "#fdca26"
             ],
             [
              1,
              "#f0f921"
             ]
            ],
            "type": "contour"
           }
          ],
          "contourcarpet": [
           {
            "colorbar": {
             "outlinewidth": 0,
             "ticks": ""
            },
            "type": "contourcarpet"
           }
          ],
          "heatmap": [
           {
            "colorbar": {
             "outlinewidth": 0,
             "ticks": ""
            },
            "colorscale": [
             [
              0,
              "#0d0887"
             ],
             [
              0.1111111111111111,
              "#46039f"
             ],
             [
              0.2222222222222222,
              "#7201a8"
             ],
             [
              0.3333333333333333,
              "#9c179e"
             ],
             [
              0.4444444444444444,
              "#bd3786"
             ],
             [
              0.5555555555555556,
              "#d8576b"
             ],
             [
              0.6666666666666666,
              "#ed7953"
             ],
             [
              0.7777777777777778,
              "#fb9f3a"
             ],
             [
              0.8888888888888888,
              "#fdca26"
             ],
             [
              1,
              "#f0f921"
             ]
            ],
            "type": "heatmap"
           }
          ],
          "heatmapgl": [
           {
            "colorbar": {
             "outlinewidth": 0,
             "ticks": ""
            },
            "colorscale": [
             [
              0,
              "#0d0887"
             ],
             [
              0.1111111111111111,
              "#46039f"
             ],
             [
              0.2222222222222222,
              "#7201a8"
             ],
             [
              0.3333333333333333,
              "#9c179e"
             ],
             [
              0.4444444444444444,
              "#bd3786"
             ],
             [
              0.5555555555555556,
              "#d8576b"
             ],
             [
              0.6666666666666666,
              "#ed7953"
             ],
             [
              0.7777777777777778,
              "#fb9f3a"
             ],
             [
              0.8888888888888888,
              "#fdca26"
             ],
             [
              1,
              "#f0f921"
             ]
            ],
            "type": "heatmapgl"
           }
          ],
          "histogram": [
           {
            "marker": {
             "colorbar": {
              "outlinewidth": 0,
              "ticks": ""
             }
            },
            "type": "histogram"
           }
          ],
          "histogram2d": [
           {
            "colorbar": {
             "outlinewidth": 0,
             "ticks": ""
            },
            "colorscale": [
             [
              0,
              "#0d0887"
             ],
             [
              0.1111111111111111,
              "#46039f"
             ],
             [
              0.2222222222222222,
              "#7201a8"
             ],
             [
              0.3333333333333333,
              "#9c179e"
             ],
             [
              0.4444444444444444,
              "#bd3786"
             ],
             [
              0.5555555555555556,
              "#d8576b"
             ],
             [
              0.6666666666666666,
              "#ed7953"
             ],
             [
              0.7777777777777778,
              "#fb9f3a"
             ],
             [
              0.8888888888888888,
              "#fdca26"
             ],
             [
              1,
              "#f0f921"
             ]
            ],
            "type": "histogram2d"
           }
          ],
          "histogram2dcontour": [
           {
            "colorbar": {
             "outlinewidth": 0,
             "ticks": ""
            },
            "colorscale": [
             [
              0,
              "#0d0887"
             ],
             [
              0.1111111111111111,
              "#46039f"
             ],
             [
              0.2222222222222222,
              "#7201a8"
             ],
             [
              0.3333333333333333,
              "#9c179e"
             ],
             [
              0.4444444444444444,
              "#bd3786"
             ],
             [
              0.5555555555555556,
              "#d8576b"
             ],
             [
              0.6666666666666666,
              "#ed7953"
             ],
             [
              0.7777777777777778,
              "#fb9f3a"
             ],
             [
              0.8888888888888888,
              "#fdca26"
             ],
             [
              1,
              "#f0f921"
             ]
            ],
            "type": "histogram2dcontour"
           }
          ],
          "mesh3d": [
           {
            "colorbar": {
             "outlinewidth": 0,
             "ticks": ""
            },
            "type": "mesh3d"
           }
          ],
          "parcoords": [
           {
            "line": {
             "colorbar": {
              "outlinewidth": 0,
              "ticks": ""
             }
            },
            "type": "parcoords"
           }
          ],
          "scatter": [
           {
            "marker": {
             "colorbar": {
              "outlinewidth": 0,
              "ticks": ""
             }
            },
            "type": "scatter"
           }
          ],
          "scatter3d": [
           {
            "line": {
             "colorbar": {
              "outlinewidth": 0,
              "ticks": ""
             }
            },
            "marker": {
             "colorbar": {
              "outlinewidth": 0,
              "ticks": ""
             }
            },
            "type": "scatter3d"
           }
          ],
          "scattercarpet": [
           {
            "marker": {
             "colorbar": {
              "outlinewidth": 0,
              "ticks": ""
             }
            },
            "type": "scattercarpet"
           }
          ],
          "scattergeo": [
           {
            "marker": {
             "colorbar": {
              "outlinewidth": 0,
              "ticks": ""
             }
            },
            "type": "scattergeo"
           }
          ],
          "scattergl": [
           {
            "marker": {
             "colorbar": {
              "outlinewidth": 0,
              "ticks": ""
             }
            },
            "type": "scattergl"
           }
          ],
          "scattermapbox": [
           {
            "marker": {
             "colorbar": {
              "outlinewidth": 0,
              "ticks": ""
             }
            },
            "type": "scattermapbox"
           }
          ],
          "scatterpolar": [
           {
            "marker": {
             "colorbar": {
              "outlinewidth": 0,
              "ticks": ""
             }
            },
            "type": "scatterpolar"
           }
          ],
          "scatterpolargl": [
           {
            "marker": {
             "colorbar": {
              "outlinewidth": 0,
              "ticks": ""
             }
            },
            "type": "scatterpolargl"
           }
          ],
          "scatterternary": [
           {
            "marker": {
             "colorbar": {
              "outlinewidth": 0,
              "ticks": ""
             }
            },
            "type": "scatterternary"
           }
          ],
          "surface": [
           {
            "colorbar": {
             "outlinewidth": 0,
             "ticks": ""
            },
            "colorscale": [
             [
              0,
              "#0d0887"
             ],
             [
              0.1111111111111111,
              "#46039f"
             ],
             [
              0.2222222222222222,
              "#7201a8"
             ],
             [
              0.3333333333333333,
              "#9c179e"
             ],
             [
              0.4444444444444444,
              "#bd3786"
             ],
             [
              0.5555555555555556,
              "#d8576b"
             ],
             [
              0.6666666666666666,
              "#ed7953"
             ],
             [
              0.7777777777777778,
              "#fb9f3a"
             ],
             [
              0.8888888888888888,
              "#fdca26"
             ],
             [
              1,
              "#f0f921"
             ]
            ],
            "type": "surface"
           }
          ],
          "table": [
           {
            "cells": {
             "fill": {
              "color": "#EBF0F8"
             },
             "line": {
              "color": "white"
             }
            },
            "header": {
             "fill": {
              "color": "#C8D4E3"
             },
             "line": {
              "color": "white"
             }
            },
            "type": "table"
           }
          ]
         },
         "layout": {
          "annotationdefaults": {
           "arrowcolor": "#2a3f5f",
           "arrowhead": 0,
           "arrowwidth": 1
          },
          "colorscale": {
           "diverging": [
            [
             0,
             "#8e0152"
            ],
            [
             0.1,
             "#c51b7d"
            ],
            [
             0.2,
             "#de77ae"
            ],
            [
             0.3,
             "#f1b6da"
            ],
            [
             0.4,
             "#fde0ef"
            ],
            [
             0.5,
             "#f7f7f7"
            ],
            [
             0.6,
             "#e6f5d0"
            ],
            [
             0.7,
             "#b8e186"
            ],
            [
             0.8,
             "#7fbc41"
            ],
            [
             0.9,
             "#4d9221"
            ],
            [
             1,
             "#276419"
            ]
           ],
           "sequential": [
            [
             0,
             "#0d0887"
            ],
            [
             0.1111111111111111,
             "#46039f"
            ],
            [
             0.2222222222222222,
             "#7201a8"
            ],
            [
             0.3333333333333333,
             "#9c179e"
            ],
            [
             0.4444444444444444,
             "#bd3786"
            ],
            [
             0.5555555555555556,
             "#d8576b"
            ],
            [
             0.6666666666666666,
             "#ed7953"
            ],
            [
             0.7777777777777778,
             "#fb9f3a"
            ],
            [
             0.8888888888888888,
             "#fdca26"
            ],
            [
             1,
             "#f0f921"
            ]
           ],
           "sequentialminus": [
            [
             0,
             "#0d0887"
            ],
            [
             0.1111111111111111,
             "#46039f"
            ],
            [
             0.2222222222222222,
             "#7201a8"
            ],
            [
             0.3333333333333333,
             "#9c179e"
            ],
            [
             0.4444444444444444,
             "#bd3786"
            ],
            [
             0.5555555555555556,
             "#d8576b"
            ],
            [
             0.6666666666666666,
             "#ed7953"
            ],
            [
             0.7777777777777778,
             "#fb9f3a"
            ],
            [
             0.8888888888888888,
             "#fdca26"
            ],
            [
             1,
             "#f0f921"
            ]
           ]
          },
          "colorway": [
           "#636efa",
           "#EF553B",
           "#00cc96",
           "#ab63fa",
           "#FFA15A",
           "#19d3f3",
           "#FF6692",
           "#B6E880",
           "#FF97FF",
           "#FECB52"
          ],
          "font": {
           "color": "#2a3f5f"
          },
          "geo": {
           "bgcolor": "white",
           "lakecolor": "white",
           "landcolor": "#E5ECF6",
           "showlakes": true,
           "showland": true,
           "subunitcolor": "white"
          },
          "hoverlabel": {
           "align": "left"
          },
          "hovermode": "closest",
          "mapbox": {
           "style": "light"
          },
          "paper_bgcolor": "white",
          "plot_bgcolor": "#E5ECF6",
          "polar": {
           "angularaxis": {
            "gridcolor": "white",
            "linecolor": "white",
            "ticks": ""
           },
           "bgcolor": "#E5ECF6",
           "radialaxis": {
            "gridcolor": "white",
            "linecolor": "white",
            "ticks": ""
           }
          },
          "scene": {
           "xaxis": {
            "backgroundcolor": "#E5ECF6",
            "gridcolor": "white",
            "gridwidth": 2,
            "linecolor": "white",
            "showbackground": true,
            "ticks": "",
            "zerolinecolor": "white"
           },
           "yaxis": {
            "backgroundcolor": "#E5ECF6",
            "gridcolor": "white",
            "gridwidth": 2,
            "linecolor": "white",
            "showbackground": true,
            "ticks": "",
            "zerolinecolor": "white"
           },
           "zaxis": {
            "backgroundcolor": "#E5ECF6",
            "gridcolor": "white",
            "gridwidth": 2,
            "linecolor": "white",
            "showbackground": true,
            "ticks": "",
            "zerolinecolor": "white"
           }
          },
          "shapedefaults": {
           "line": {
            "color": "#2a3f5f"
           }
          },
          "ternary": {
           "aaxis": {
            "gridcolor": "white",
            "linecolor": "white",
            "ticks": ""
           },
           "baxis": {
            "gridcolor": "white",
            "linecolor": "white",
            "ticks": ""
           },
           "bgcolor": "#E5ECF6",
           "caxis": {
            "gridcolor": "white",
            "linecolor": "white",
            "ticks": ""
           }
          },
          "title": {
           "x": 0.05
          },
          "xaxis": {
           "automargin": true,
           "gridcolor": "white",
           "linecolor": "white",
           "ticks": "",
           "zerolinecolor": "white",
           "zerolinewidth": 2
          },
          "yaxis": {
           "automargin": true,
           "gridcolor": "white",
           "linecolor": "white",
           "ticks": "",
           "zerolinecolor": "white",
           "zerolinewidth": 2
          }
         }
        },
        "title": {
         "text": "PREDICTION ITERATION"
        },
        "xaxis": {
         "anchor": "y",
         "domain": [
          0,
          0.98
         ]
        },
        "yaxis": {
         "anchor": "x",
         "domain": [
          0,
          1
         ],
         "title": {
          "text": "value"
         }
        }
       }
      },
      "text/html": [
       "<div>\n",
       "        \n",
       "        \n",
       "            <div id=\"66c9a3e8-9be7-4743-8f16-5f3f1dbadb4a\" class=\"plotly-graph-div\" style=\"height:600px; width:100%;\"></div>\n",
       "            <script type=\"text/javascript\">\n",
       "                require([\"plotly\"], function(Plotly) {\n",
       "                    window.PLOTLYENV=window.PLOTLYENV || {};\n",
       "                    \n",
       "                if (document.getElementById(\"66c9a3e8-9be7-4743-8f16-5f3f1dbadb4a\")) {\n",
       "                    Plotly.newPlot(\n",
       "                        '66c9a3e8-9be7-4743-8f16-5f3f1dbadb4a',\n",
       "                        [{\"hoverlabel\": {\"namelength\": 0}, \"hovertemplate\": \"variable=MEASUREMENT_ERROR<br>value=%{y}\", \"legendgroup\": \"variable=MEASUREMENT_ERROR\", \"line\": {\"color\": \"#636efa\", \"dash\": \"solid\"}, \"mode\": \"lines\", \"name\": \"variable=MEASUREMENT_ERROR\", \"showlegend\": true, \"type\": \"scatter\", \"xaxis\": \"x\", \"y\": [3.804112851560106, 1.4458294599176114, -15.385168732135469, 14.424139738101005, -12.207749776922114, -5.15024735809574, 7.479734541543564, -4.61717631142632, -1.6562514677262357, 3.2857222967490998, 0.01261775106974028, -7.2640235941968285, 0.7564351893709897, -13.530471026289717, 0.6373253905305489, 12.736506131947948, 15.0906190796602, -8.798042282641717, 17.410425454735844, 3.516018493533693, -0.9536365435341168, -3.185705959765187, 18.452393824055264, -14.846053514860671, -11.943828795275522, -5.321743899192256, -13.753927739271546, -9.828657932064914, 10.342150923842723, -8.894682856938346, -14.853122635281863, 14.00801414815777, 5.447326887221834, -22.583335335062202, 2.3347896395009116, -3.3002168525435422, 0.6472070192160686, 8.552964838615196, -4.185199578736842, -0.883737129796998, -3.5337502355192214, 8.12759428494104, 7.798220575413154, 1.8903828607852233, 1.0325285531122859, 0.3637308541696598, -1.8521887589564585, -7.6546083073851605, 6.263958053572878, -1.2249076092787163, 1.690741296462761, 4.292819417064038, -0.27295259667062055, 2.4757831965944206, 13.837026838274824, 0.08944501978260178, -9.879845479917208, 17.854186516794357, -6.939441712176631, -8.61350049547525, 6.368841924109006, -6.49589218363667, -5.1972270676153585, 15.010784324423753, 6.109259959859514, 1.2044725782558316, 16.929812567633917, 7.793495005852606, 11.24251812230716, 2.480419824415776, -2.055017219623778, 5.895641962827199, -13.573122741124621, 0.8749247124843578, -12.03136449572844, -0.47386844788877625, -9.207765036487785, -0.8959481143706398, 7.08163362672633, -1.6160373324462398, -15.245844492287006, 6.434298789426407, 9.099181174369164, -15.446425492722938, 2.4821344508973198, -11.18923788756922, -4.483867674402973, -1.612861593759817, 9.343041816961886, 30.75884840659512, 12.412998056923357, -14.751043796199156, 13.96146428005045, -7.763665607330722, -5.433929995271683, 7.213152940912323, -15.504124562898369, -4.06351409128456, 7.348708785196095, -6.424302122875133], \"yaxis\": \"y\"}, {\"hoverlabel\": {\"namelength\": 0}, \"hovertemplate\": \"variable=KALMAN_ERROR<br>value=%{y}\", \"legendgroup\": \"variable=KALMAN_ERROR\", \"line\": {\"color\": \"#EF553B\", \"dash\": \"solid\"}, \"mode\": \"lines\", \"name\": \"variable=KALMAN_ERROR\", \"showlegend\": true, \"type\": \"scatter\", \"xaxis\": \"x\", \"y\": [2.393993585216805, 1.9057269449633054, -4.678466894588311, 1.5238558681040502, -2.5694022031276376, -3.304268450025802, -0.30801901672035115, -1.489708026088877, -1.5350608689902856, -0.2271528345405045, -0.16223057783028594, -2.083138256506544, -1.3155170872699387, -4.616591741422354, -3.196954746471363, 1.1079864931232635, 4.885676846260026, 1.1888333153867165, 5.57126148527621, 5.0160204855333745, 3.403273843694734, 1.6232160732756142, 6.16972835278591, 0.4921807622279175, -2.8674855964418384, -3.5305188408168533, -6.292436523842241, -7.247768752211414, -2.4957425572018224, -4.224456053413803, -7.095856376397819, -1.3945146364072798, 0.45385135585701164, -5.769787739941876, -3.5802858149417034, -3.5046234449725375, -2.38298065423794, 0.5714329536211835, -0.713600872649863, -0.7595642393839626, -1.5090278191377706, 1.0943655037582403, 2.905453594860262, 2.6312259305602197, 2.199327903139249, 1.7034299578665468, 0.7428574744694174, -1.5257700704785293, 0.5786733710253884, 0.09142476558270118, 0.5234900611490048, 1.5417978012395679, 1.0515317082475804, 1.4363020950919463, 4.786434916173221, 3.517513918564987, -0.10186594561196216, 4.749073167800248, 1.591348265420379, -1.165555018546229, 0.8699091182187431, -1.1200078588897213, -2.221493955289361, 2.4339130666759274, 3.4268308606526716, 2.8264469656587607, 6.6365587913292075, 6.9491122964219585, 8.109002550370747, 6.588405962920547, 4.25333149832079, 4.697011872128996, -0.2387784853725634, 0.06209535170978597, -3.205027949095893, -2.4671882442324886, -4.288196936258032, -3.3717598448108674, -0.547710663336602, -0.8363257493047058, -4.729146747802247, -1.7132725900291916, 1.2077789599979951, -3.291457826684905, -1.7316860080819652, -4.286702397423824, -4.339967821765185, -3.6032231338357406, -0.1057092368416761, 8.232542737203175, 9.36191871027745, 2.847652102524762, 5.850117499858015, 2.1722694263777385, 0.1174074038846129, 2.0343671385730886, -2.703765341438725, -3.071109912794327, -0.256131164955832, -1.9225008651239932], \"yaxis\": \"y\"}],\n",
       "                        {\"height\": 600, \"legend\": {\"tracegroupgap\": 0}, \"template\": {\"data\": {\"bar\": [{\"error_x\": {\"color\": \"#2a3f5f\"}, \"error_y\": {\"color\": \"#2a3f5f\"}, \"marker\": {\"line\": {\"color\": \"#E5ECF6\", \"width\": 0.5}}, \"type\": \"bar\"}], \"barpolar\": [{\"marker\": {\"line\": {\"color\": \"#E5ECF6\", \"width\": 0.5}}, \"type\": \"barpolar\"}], \"carpet\": [{\"aaxis\": {\"endlinecolor\": \"#2a3f5f\", \"gridcolor\": \"white\", \"linecolor\": \"white\", \"minorgridcolor\": \"white\", \"startlinecolor\": \"#2a3f5f\"}, \"baxis\": {\"endlinecolor\": \"#2a3f5f\", \"gridcolor\": \"white\", \"linecolor\": \"white\", \"minorgridcolor\": \"white\", \"startlinecolor\": \"#2a3f5f\"}, \"type\": \"carpet\"}], \"choropleth\": [{\"colorbar\": {\"outlinewidth\": 0, \"ticks\": \"\"}, \"type\": \"choropleth\"}], \"contour\": [{\"colorbar\": {\"outlinewidth\": 0, \"ticks\": \"\"}, \"colorscale\": [[0.0, \"#0d0887\"], [0.1111111111111111, \"#46039f\"], [0.2222222222222222, \"#7201a8\"], [0.3333333333333333, \"#9c179e\"], [0.4444444444444444, \"#bd3786\"], [0.5555555555555556, \"#d8576b\"], [0.6666666666666666, \"#ed7953\"], [0.7777777777777778, \"#fb9f3a\"], [0.8888888888888888, \"#fdca26\"], [1.0, \"#f0f921\"]], \"type\": \"contour\"}], \"contourcarpet\": [{\"colorbar\": {\"outlinewidth\": 0, \"ticks\": \"\"}, \"type\": \"contourcarpet\"}], \"heatmap\": [{\"colorbar\": {\"outlinewidth\": 0, \"ticks\": \"\"}, \"colorscale\": [[0.0, \"#0d0887\"], [0.1111111111111111, \"#46039f\"], [0.2222222222222222, \"#7201a8\"], [0.3333333333333333, \"#9c179e\"], [0.4444444444444444, \"#bd3786\"], [0.5555555555555556, \"#d8576b\"], [0.6666666666666666, \"#ed7953\"], [0.7777777777777778, \"#fb9f3a\"], [0.8888888888888888, \"#fdca26\"], [1.0, \"#f0f921\"]], \"type\": \"heatmap\"}], \"heatmapgl\": [{\"colorbar\": {\"outlinewidth\": 0, \"ticks\": \"\"}, \"colorscale\": [[0.0, \"#0d0887\"], [0.1111111111111111, \"#46039f\"], [0.2222222222222222, \"#7201a8\"], [0.3333333333333333, \"#9c179e\"], [0.4444444444444444, \"#bd3786\"], [0.5555555555555556, \"#d8576b\"], [0.6666666666666666, \"#ed7953\"], [0.7777777777777778, \"#fb9f3a\"], [0.8888888888888888, \"#fdca26\"], [1.0, \"#f0f921\"]], \"type\": \"heatmapgl\"}], \"histogram\": [{\"marker\": {\"colorbar\": {\"outlinewidth\": 0, \"ticks\": \"\"}}, \"type\": \"histogram\"}], \"histogram2d\": [{\"colorbar\": {\"outlinewidth\": 0, \"ticks\": \"\"}, \"colorscale\": [[0.0, \"#0d0887\"], [0.1111111111111111, \"#46039f\"], [0.2222222222222222, \"#7201a8\"], [0.3333333333333333, \"#9c179e\"], [0.4444444444444444, \"#bd3786\"], [0.5555555555555556, \"#d8576b\"], [0.6666666666666666, \"#ed7953\"], [0.7777777777777778, \"#fb9f3a\"], [0.8888888888888888, \"#fdca26\"], [1.0, \"#f0f921\"]], \"type\": \"histogram2d\"}], \"histogram2dcontour\": [{\"colorbar\": {\"outlinewidth\": 0, \"ticks\": \"\"}, \"colorscale\": [[0.0, \"#0d0887\"], [0.1111111111111111, \"#46039f\"], [0.2222222222222222, \"#7201a8\"], [0.3333333333333333, \"#9c179e\"], [0.4444444444444444, \"#bd3786\"], [0.5555555555555556, \"#d8576b\"], [0.6666666666666666, \"#ed7953\"], [0.7777777777777778, \"#fb9f3a\"], [0.8888888888888888, \"#fdca26\"], [1.0, \"#f0f921\"]], \"type\": \"histogram2dcontour\"}], \"mesh3d\": [{\"colorbar\": {\"outlinewidth\": 0, \"ticks\": \"\"}, \"type\": \"mesh3d\"}], \"parcoords\": [{\"line\": {\"colorbar\": {\"outlinewidth\": 0, \"ticks\": \"\"}}, \"type\": \"parcoords\"}], \"scatter\": [{\"marker\": {\"colorbar\": {\"outlinewidth\": 0, \"ticks\": \"\"}}, \"type\": \"scatter\"}], \"scatter3d\": [{\"line\": {\"colorbar\": {\"outlinewidth\": 0, \"ticks\": \"\"}}, \"marker\": {\"colorbar\": {\"outlinewidth\": 0, \"ticks\": \"\"}}, \"type\": \"scatter3d\"}], \"scattercarpet\": [{\"marker\": {\"colorbar\": {\"outlinewidth\": 0, \"ticks\": \"\"}}, \"type\": \"scattercarpet\"}], \"scattergeo\": [{\"marker\": {\"colorbar\": {\"outlinewidth\": 0, \"ticks\": \"\"}}, \"type\": \"scattergeo\"}], \"scattergl\": [{\"marker\": {\"colorbar\": {\"outlinewidth\": 0, \"ticks\": \"\"}}, \"type\": \"scattergl\"}], \"scattermapbox\": [{\"marker\": {\"colorbar\": {\"outlinewidth\": 0, \"ticks\": \"\"}}, \"type\": \"scattermapbox\"}], \"scatterpolar\": [{\"marker\": {\"colorbar\": {\"outlinewidth\": 0, \"ticks\": \"\"}}, \"type\": \"scatterpolar\"}], \"scatterpolargl\": [{\"marker\": {\"colorbar\": {\"outlinewidth\": 0, \"ticks\": \"\"}}, \"type\": \"scatterpolargl\"}], \"scatterternary\": [{\"marker\": {\"colorbar\": {\"outlinewidth\": 0, \"ticks\": \"\"}}, \"type\": \"scatterternary\"}], \"surface\": [{\"colorbar\": {\"outlinewidth\": 0, \"ticks\": \"\"}, \"colorscale\": [[0.0, \"#0d0887\"], [0.1111111111111111, \"#46039f\"], [0.2222222222222222, \"#7201a8\"], [0.3333333333333333, \"#9c179e\"], [0.4444444444444444, \"#bd3786\"], [0.5555555555555556, \"#d8576b\"], [0.6666666666666666, \"#ed7953\"], [0.7777777777777778, \"#fb9f3a\"], [0.8888888888888888, \"#fdca26\"], [1.0, \"#f0f921\"]], \"type\": \"surface\"}], \"table\": [{\"cells\": {\"fill\": {\"color\": \"#EBF0F8\"}, \"line\": {\"color\": \"white\"}}, \"header\": {\"fill\": {\"color\": \"#C8D4E3\"}, \"line\": {\"color\": \"white\"}}, \"type\": \"table\"}]}, \"layout\": {\"annotationdefaults\": {\"arrowcolor\": \"#2a3f5f\", \"arrowhead\": 0, \"arrowwidth\": 1}, \"colorscale\": {\"diverging\": [[0, \"#8e0152\"], [0.1, \"#c51b7d\"], [0.2, \"#de77ae\"], [0.3, \"#f1b6da\"], [0.4, \"#fde0ef\"], [0.5, \"#f7f7f7\"], [0.6, \"#e6f5d0\"], [0.7, \"#b8e186\"], [0.8, \"#7fbc41\"], [0.9, \"#4d9221\"], [1, \"#276419\"]], \"sequential\": [[0.0, \"#0d0887\"], [0.1111111111111111, \"#46039f\"], [0.2222222222222222, \"#7201a8\"], [0.3333333333333333, \"#9c179e\"], [0.4444444444444444, \"#bd3786\"], [0.5555555555555556, \"#d8576b\"], [0.6666666666666666, \"#ed7953\"], [0.7777777777777778, \"#fb9f3a\"], [0.8888888888888888, \"#fdca26\"], [1.0, \"#f0f921\"]], \"sequentialminus\": [[0.0, \"#0d0887\"], [0.1111111111111111, \"#46039f\"], [0.2222222222222222, \"#7201a8\"], [0.3333333333333333, \"#9c179e\"], [0.4444444444444444, \"#bd3786\"], [0.5555555555555556, \"#d8576b\"], [0.6666666666666666, \"#ed7953\"], [0.7777777777777778, \"#fb9f3a\"], [0.8888888888888888, \"#fdca26\"], [1.0, \"#f0f921\"]]}, \"colorway\": [\"#636efa\", \"#EF553B\", \"#00cc96\", \"#ab63fa\", \"#FFA15A\", \"#19d3f3\", \"#FF6692\", \"#B6E880\", \"#FF97FF\", \"#FECB52\"], \"font\": {\"color\": \"#2a3f5f\"}, \"geo\": {\"bgcolor\": \"white\", \"lakecolor\": \"white\", \"landcolor\": \"#E5ECF6\", \"showlakes\": true, \"showland\": true, \"subunitcolor\": \"white\"}, \"hoverlabel\": {\"align\": \"left\"}, \"hovermode\": \"closest\", \"mapbox\": {\"style\": \"light\"}, \"paper_bgcolor\": \"white\", \"plot_bgcolor\": \"#E5ECF6\", \"polar\": {\"angularaxis\": {\"gridcolor\": \"white\", \"linecolor\": \"white\", \"ticks\": \"\"}, \"bgcolor\": \"#E5ECF6\", \"radialaxis\": {\"gridcolor\": \"white\", \"linecolor\": \"white\", \"ticks\": \"\"}}, \"scene\": {\"xaxis\": {\"backgroundcolor\": \"#E5ECF6\", \"gridcolor\": \"white\", \"gridwidth\": 2, \"linecolor\": \"white\", \"showbackground\": true, \"ticks\": \"\", \"zerolinecolor\": \"white\"}, \"yaxis\": {\"backgroundcolor\": \"#E5ECF6\", \"gridcolor\": \"white\", \"gridwidth\": 2, \"linecolor\": \"white\", \"showbackground\": true, \"ticks\": \"\", \"zerolinecolor\": \"white\"}, \"zaxis\": {\"backgroundcolor\": \"#E5ECF6\", \"gridcolor\": \"white\", \"gridwidth\": 2, \"linecolor\": \"white\", \"showbackground\": true, \"ticks\": \"\", \"zerolinecolor\": \"white\"}}, \"shapedefaults\": {\"line\": {\"color\": \"#2a3f5f\"}}, \"ternary\": {\"aaxis\": {\"gridcolor\": \"white\", \"linecolor\": \"white\", \"ticks\": \"\"}, \"baxis\": {\"gridcolor\": \"white\", \"linecolor\": \"white\", \"ticks\": \"\"}, \"bgcolor\": \"#E5ECF6\", \"caxis\": {\"gridcolor\": \"white\", \"linecolor\": \"white\", \"ticks\": \"\"}}, \"title\": {\"x\": 0.05}, \"xaxis\": {\"automargin\": true, \"gridcolor\": \"white\", \"linecolor\": \"white\", \"ticks\": \"\", \"zerolinecolor\": \"white\", \"zerolinewidth\": 2}, \"yaxis\": {\"automargin\": true, \"gridcolor\": \"white\", \"linecolor\": \"white\", \"ticks\": \"\", \"zerolinecolor\": \"white\", \"zerolinewidth\": 2}}}, \"title\": {\"text\": \"PREDICTION ITERATION\"}, \"xaxis\": {\"anchor\": \"y\", \"domain\": [0.0, 0.98]}, \"yaxis\": {\"anchor\": \"x\", \"domain\": [0.0, 1.0], \"title\": {\"text\": \"value\"}}},\n",
       "                        {\"responsive\": true}\n",
       "                    ).then(function(){\n",
       "                            \n",
       "var gd = document.getElementById('66c9a3e8-9be7-4743-8f16-5f3f1dbadb4a');\n",
       "var x = new MutationObserver(function (mutations, observer) {{\n",
       "        var display = window.getComputedStyle(gd).display;\n",
       "        if (!display || display === 'none') {{\n",
       "            console.log([gd, 'removed!']);\n",
       "            Plotly.purge(gd);\n",
       "            observer.disconnect();\n",
       "        }}\n",
       "}});\n",
       "\n",
       "// Listen for the removal of the full notebook cells\n",
       "var notebookContainer = gd.closest('#notebook-container');\n",
       "if (notebookContainer) {{\n",
       "    x.observe(notebookContainer, {childList: true});\n",
       "}}\n",
       "\n",
       "// Listen for the clearing of the current output cell\n",
       "var outputEl = gd.closest('.output');\n",
       "if (outputEl) {{\n",
       "    x.observe(outputEl, {childList: true});\n",
       "}}\n",
       "\n",
       "                        })\n",
       "                };\n",
       "                });\n",
       "            </script>\n",
       "        </div>"
      ]
     },
     "metadata": {},
     "output_type": "display_data"
    }
   ],
   "source": [
    "px.line(pd.melt(\n",
    "    res_df, value_vars=['MEASUREMENT_ERROR', 'KALMAN_ERROR']), y='value', color='variable',\n",
    "       title='PREDICTION ITERATION')"
   ]
  },
  {
   "cell_type": "code",
   "execution_count": 1165,
   "metadata": {},
   "outputs": [
    {
     "data": {
      "text/plain": [
       "(0.09567149963863635, 9.658235674913794)"
      ]
     },
     "execution_count": 1165,
     "metadata": {},
     "output_type": "execute_result"
    }
   ],
   "source": [
    "res_df['MEASUREMENT_ERROR'].mean(), res_df['MEASUREMENT_ERROR'].std()"
   ]
  },
  {
   "cell_type": "code",
   "execution_count": 1166,
   "metadata": {},
   "outputs": [
    {
     "data": {
      "text/plain": [
       "(0.14428446719794508, 3.507830554480268)"
      ]
     },
     "execution_count": 1166,
     "metadata": {},
     "output_type": "execute_result"
    }
   ],
   "source": [
    "res_df['KALMAN_ERROR'].mean(), res_df['KALMAN_ERROR'].std()"
   ]
  },
  {
   "cell_type": "markdown",
   "metadata": {},
   "source": [
    "### Constant Acceleration Aircraft in One Dimension (Comparing results with pyKalman)"
   ]
  },
  {
   "cell_type": "markdown",
   "metadata": {},
   "source": [
    "### Changing  Aircraft in One Dimension (Comparing results with pyKalman)"
   ]
  }
 ],
 "metadata": {
  "kernelspec": {
   "display_name": "analysis_env",
   "language": "python",
   "name": "analysis_env"
  },
  "language_info": {
   "codemirror_mode": {
    "name": "ipython",
    "version": 3
   },
   "file_extension": ".py",
   "mimetype": "text/x-python",
   "name": "python",
   "nbconvert_exporter": "python",
   "pygments_lexer": "ipython3",
   "version": "3.7.4"
  }
 },
 "nbformat": 4,
 "nbformat_minor": 2
}

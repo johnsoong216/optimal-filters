{
 "cells": [
  {
   "cell_type": "code",
   "execution_count": 1,
   "metadata": {},
   "outputs": [],
   "source": [
    "import os\n",
    "os.chdir('..')"
   ]
  },
  {
   "cell_type": "code",
   "execution_count": 2,
   "metadata": {},
   "outputs": [],
   "source": [
    "import numpy as np\n",
    "import pandas as pd\n",
    "import matplotlib.pyplot as plt\n",
    "import seaborn as sns\n",
    "import backtrader as bt"
   ]
  },
  {
   "cell_type": "code",
   "execution_count": 3,
   "metadata": {},
   "outputs": [],
   "source": [
    "from trackingfilters.kalman import LinKalmanFilter as lkf"
   ]
  },
  {
   "cell_type": "code",
   "execution_count": 4,
   "metadata": {},
   "outputs": [],
   "source": [
    "%load_ext autoreload\n",
    "%autoreload 2"
   ]
  },
  {
   "cell_type": "code",
   "execution_count": 8,
   "metadata": {},
   "outputs": [],
   "source": [
    "sp500 = pd.read_csv(\"datasets/sp500_modified.csv\").drop(['Unnamed: 0'], axis=1).set_index('DATE')"
   ]
  },
  {
   "cell_type": "code",
   "execution_count": 12,
   "metadata": {},
   "outputs": [],
   "source": [
    "bank_df = sp500.loc[:, ['WFC', 'JPM']]"
   ]
  },
  {
   "cell_type": "code",
   "execution_count": 15,
   "metadata": {},
   "outputs": [],
   "source": [
    "bank_return = bank_df.pct_change().dropna(how='any')"
   ]
  },
  {
   "cell_type": "code",
   "execution_count": 31,
   "metadata": {},
   "outputs": [],
   "source": [
    "delta = 0.001\n",
    "init_state_vec = np.zeros(1).reshape(-1,1)\n",
    "init_state_cov_mat = np.ones((2,2))\n",
    "process_noise_mat = delta/(1-delta) * np.eye(1)\n",
    "transition_mat = np.eye(1)\n",
    "control_mat = np.array([0]).reshape(-1,1)\n",
    "control_vec = np.array([0]).reshape(-1,1)\n",
    "observation_mat = np.array([1]).reshape(-1,1)\n",
    "measure_noise_mat = np.array([1]).reshape(-1,1)"
   ]
  },
  {
   "cell_type": "code",
   "execution_count": null,
   "metadata": {},
   "outputs": [],
   "source": [
    "kf = KalmanFilter(n_dim_obs=1, \n",
    "                  n_dim_state=1, \n",
    "                  initial_state_mean=init_state_vec,\n",
    "                  initial_state_covariance=init_state_cov,\n",
    "                  transition_matrices=transition_mat,\n",
    "                  observation_matrices=observation_mat,\n",
    "                  observation_covariance=measure_noise_mat,\n",
    "                  transition_covariance=process_noise_mat)"
   ]
  },
  {
   "cell_type": "code",
   "execution_count": null,
   "metadata": {},
   "outputs": [],
   "source": [
    "    kf = KalmanFilter(n_dim_obs=1, n_dim_state=dim,\n",
    "                          initial_state_mean=np.zeros(2),\n",
    "                          initial_state_covariance=np.ones((2, 2)),\n",
    "                          transition_matrices=np.eye(2),\n",
    "                          observation_matrices=obs_matrix,\n",
    "                          observation_covariance=obs_covariance,\n",
    "                          transition_covariance=trans_cov)\n"
   ]
  },
  {
   "cell_type": "code",
   "execution_count": 34,
   "metadata": {},
   "outputs": [],
   "source": [
    "stock_weighter = lkf(init_state_vec=init_state_vec, \n",
    "                    init_state_cov_mat = init_state_cov_mat,\n",
    "                    transition_mat=transition_mat,\n",
    "                    observation_mat=observation_mat,\n",
    "                    control_vec=control_vec,\n",
    "                    control_mat=control_mat,\n",
    "                    process_noise_mat=process_noise_mat,\n",
    "                    measure_noise_mat=measure_noise_mat)\n",
    "\n",
    "\n",
    "cur_state_list = []\n",
    "cur_cov_list = []\n",
    "\n",
    "for index, row in bank_return.iterrows():\n",
    "    cur_state, cur_cov = stock_weighter.update(row['JPM'])\n",
    "    cur_state_list.append(cur_state[0][0])\n",
    "    cur_cov_list.append(cur_cov[0][0])"
   ]
  },
  {
   "cell_type": "code",
   "execution_count": 35,
   "metadata": {},
   "outputs": [],
   "source": [
    "res_array = np.array([np.array(x) for x in [cur_state_list, cur_cov_list]]).transpose()\n",
    "res_df = pd.DataFrame(res_array, columns=['ESTIMATE', 'COVARIANCE'])"
   ]
  },
  {
   "cell_type": "code",
   "execution_count": 39,
   "metadata": {},
   "outputs": [
    {
     "data": {
      "text/plain": [
       "<matplotlib.axes._subplots.AxesSubplot at 0x273e5b8d288>"
      ]
     },
     "execution_count": 39,
     "metadata": {},
     "output_type": "execute_result"
    },
    {
     "data": {
      "image/png": "[encoded data removed]",
      "text/plain": [
       "<Figure size 432x288 with 1 Axes>"
      ]
     },
     "metadata": {
      "needs_background": "light"
     },
     "output_type": "display_data"
    }
   ],
   "source": [
    "sns.lineplot(data=res_df, x='TIME', y='ESTIMATE')"
   ]
  },
  {
   "cell_type": "code",
   "execution_count": 38,
   "metadata": {},
   "outputs": [],
   "source": [
    "res_df['TIME'] = res_df.index"
   ]
  },
  {
   "cell_type": "code",
   "execution_count": 43,
   "metadata": {},
   "outputs": [],
   "source": [
    "from pykalman import KalmanFilter"
   ]
  },
  {
   "cell_type": "code",
   "execution_count": 47,
   "metadata": {},
   "outputs": [],
   "source": [
    "bank_return.index = np.arange(0,len(bank_return))"
   ]
  },
  {
   "cell_type": "code",
   "execution_count": 56,
   "metadata": {},
   "outputs": [],
   "source": [
    "def kalman_beta(df_return, ind_var, dep_var, delta=0.001, obs_covariance=1):\n",
    "    size = len(df_return.index)\n",
    "    dim = 2 # ind var, dep var\n",
    "    \n",
    "    state_means = np.zeros((size, dim))\n",
    "    state_covs = np.zeros((size, dim, dim))\n",
    "    ### Initialize Kalman Filter\n",
    "    trans_cov = delta/(1 - delta) * np.eye(2)\n",
    "    obs_matrix = [df_return.iloc[0][ind_var], 1]\n",
    "    kf = KalmanFilter(n_dim_obs=1, n_dim_state=dim,\n",
    "                          initial_state_mean=np.zeros(2),\n",
    "                          initial_state_covariance=np.ones((2, 2)),\n",
    "                          transition_matrices=np.eye(2),\n",
    "                          observation_matrices=obs_matrix,\n",
    "                          observation_covariance=obs_covariance,\n",
    "                          transition_covariance=trans_cov)\n",
    "    \n",
    "    i = 0\n",
    "    \n",
    "    for index, row in df_return.iterrows():\n",
    "        obs_matrix = np.asarray([[df_return.iloc[index][ind_var], 1]])\n",
    "        \n",
    "        print(obs_matrix, 'obs_mat')\n",
    "        print(df_return.iloc[index][dep_var], 'obs')\n",
    "            \n",
    "        if index == 0:\n",
    "            state_means[0], state_covs[0] = kf.filter(np.asarray(df_return.iloc[index][dep_var]))\n",
    "        else:\n",
    "            state_means[index], state_covs[index] = kf.filter_update(state_means[index-1], \n",
    "                                                            state_covs[index-1], \n",
    "                                                            observation = df_return.iloc[index][dep_var], \n",
    "                                                            observation_matrix=obs_matrix)\n",
    "        i += 1\n",
    "        if i == 5:\n",
    "            break"
   ]
  },
  {
   "cell_type": "code",
   "execution_count": 57,
   "metadata": {},
   "outputs": [
    {
     "name": "stdout",
     "output_type": "stream",
     "text": [
      "[[10.0417  1.    ]] obs_mat\n",
      "2.8281 obs\n",
      "[[10.3333  1.    ]] obs_mat\n",
      "2.7031 obs\n",
      "[[10.375  1.   ]] obs_mat\n",
      "2.6719 obs\n",
      "[[10.4167  1.    ]] obs_mat\n",
      "2.5938 obs\n",
      "[[10.4167  1.    ]] obs_mat\n",
      "2.6719 obs\n"
     ]
    }
   ],
   "source": [
    "kalman_beta(bank_df, 'JPM', 'WFC')"
   ]
  },
  {
   "cell_type": "code",
   "execution_count": 51,
   "metadata": {},
   "outputs": [],
   "source": [
    "bank_df.index = np.arange(0, len(bank_df))"
   ]
  },
  {
   "cell_type": "code",
   "execution_count": 59,
   "metadata": {},
   "outputs": [],
   "source": [
    "x = bank_df['JPM']\n",
    "y = bank_df['WFC']"
   ]
  },
  {
   "cell_type": "code",
   "execution_count": 63,
   "metadata": {},
   "outputs": [
    {
     "data": {
      "text/plain": [
       "array([[[10.0417,  1.    ]],\n",
       "\n",
       "       [[10.3333,  1.    ]],\n",
       "\n",
       "       [[10.375 ,  1.    ]],\n",
       "\n",
       "       ...,\n",
       "\n",
       "       [[46.375 ,  1.    ]],\n",
       "\n",
       "       [[46.9375,  1.    ]],\n",
       "\n",
       "       [[45.4375,  1.    ]]])"
      ]
     },
     "execution_count": 63,
     "metadata": {},
     "output_type": "execute_result"
    }
   ],
   "source": [
    "obs_mat"
   ]
  },
  {
   "cell_type": "code",
   "execution_count": 60,
   "metadata": {},
   "outputs": [],
   "source": [
    "delta = 1e-3  \n",
    "trans_cov = delta / (1 - delta) * np.eye(2) # How much random walk wiggles  \n",
    "obs_mat = np.expand_dims(np.vstack([[x], [np.ones(len(x))]]).T, axis=1)\n",
    "\n",
    "kf = KalmanFilter(n_dim_obs=1, n_dim_state=2, # y is 1-dimensional, (alpha, beta) is 2-dimensional  \n",
    "                  initial_state_mean=[0,0],  \n",
    "                  initial_state_covariance=np.ones((2, 2)),  \n",
    "                  transition_matrices=np.eye(2),  \n",
    "                  observation_matrices=obs_mat,  \n",
    "                  observation_covariance=2,  \n",
    "                  transition_covariance=trans_cov)\n",
    "\n",
    "# Use the observations y to get running estimates and errors for the state parameters  \n",
    "state_means, state_covs = kf.filter(y.values)"
   ]
  },
  {
   "cell_type": "code",
   "execution_count": 67,
   "metadata": {},
   "outputs": [
    {
     "ename": "AttributeError",
     "evalue": "'KalmanFilter' object has no attribute '__name__'",
     "output_type": "error",
     "traceback": [
      "\u001b[1;31m---------------------------------------------------------------------------\u001b[0m",
      "\u001b[1;31mAttributeError\u001b[0m                            Traceback (most recent call last)",
      "\u001b[1;32m<ipython-input-67-3d0de48c5a42>\u001b[0m in \u001b[0;36m<module>\u001b[1;34m\u001b[0m\n\u001b[1;32m----> 1\u001b[1;33m \u001b[0mkf\u001b[0m\u001b[1;33m.\u001b[0m\u001b[0m__name__\u001b[0m\u001b[1;33m\u001b[0m\u001b[1;33m\u001b[0m\u001b[0m\n\u001b[0m",
      "\u001b[1;31mAttributeError\u001b[0m: 'KalmanFilter' object has no attribute '__name__'"
     ]
    }
   ],
   "source": [
    "kf.__name__"
   ]
  },
  {
   "cell_type": "code",
   "execution_count": 65,
   "metadata": {},
   "outputs": [],
   "source": [
    "KalmanFilter.filter_update??"
   ]
  },
  {
   "cell_type": "code",
   "execution_count": 70,
   "metadata": {},
   "outputs": [
    {
     "data": {
      "text/plain": [
       "'[[[ 1.61395570e-02  1.61395570e-02]\\n  [ 1.61395570e-02  1.61395570e-02]]\\n\\n [[ 8.20740840e-03  7.63826113e-03]\\n  [ 7.63826113e-03  9.05023882e-03]]\\n\\n [[ 5.83940696e-03  4.72239617e-03]\\n  [ 4.72239617e-03  7.52756446e-03]]\\n\\n ...\\n\\n [[ 1.53889271e-03 -4.38505441e-02]\\n  [-4.38505441e-02  2.02245579e+00]]\\n\\n [[ 1.50767479e-03 -4.33742183e-02]\\n  [-4.33742183e-02  2.02323699e+00]]\\n\\n [[ 1.56105837e-03 -4.40911265e-02]\\n  [-4.40911265e-02  2.02369562e+00]]]'"
      ]
     },
     "execution_count": 70,
     "metadata": {},
     "output_type": "execute_result"
    }
   ],
   "source": [
    "str(state_covs)"
   ]
  },
  {
   "cell_type": "code",
   "execution_count": 80,
   "metadata": {},
   "outputs": [
    {
     "data": {
      "text/plain": [
       "3"
      ]
     },
     "execution_count": 80,
     "metadata": {},
     "output_type": "execute_result"
    }
   ],
   "source": [
    "np.zeros(shape=(3,5,1)).ndim"
   ]
  },
  {
   "cell_type": "code",
   "execution_count": 94,
   "metadata": {},
   "outputs": [],
   "source": [
    "g = np.ones(shape=(1,5,1))"
   ]
  },
  {
   "cell_type": "code",
   "execution_count": 92,
   "metadata": {},
   "outputs": [],
   "source": [
    "res = np.ones(shape=(5,1))"
   ]
  },
  {
   "cell_type": "code",
   "execution_count": 98,
   "metadata": {},
   "outputs": [
    {
     "data": {
      "text/plain": [
       "array([[[1.],\n",
       "        [1.],\n",
       "        [1.],\n",
       "        [1.],\n",
       "        [1.]],\n",
       "\n",
       "       [[1.],\n",
       "        [1.],\n",
       "        [1.],\n",
       "        [1.],\n",
       "        [1.]]])"
      ]
     },
     "execution_count": 98,
     "metadata": {},
     "output_type": "execute_result"
    }
   ],
   "source": [
    "np.concatenate([g, res.reshape(1, res.shape[0], res.shape[1])])"
   ]
  },
  {
   "cell_type": "code",
   "execution_count": 97,
   "metadata": {},
   "outputs": [
    {
     "data": {
      "text/plain": [
       "array([[[1.],\n",
       "        [1.],\n",
       "        [1.],\n",
       "        [1.],\n",
       "        [1.]]])"
      ]
     },
     "execution_count": 97,
     "metadata": {},
     "output_type": "execute_result"
    }
   ],
   "source": [
    "res.reshape(1, res.shape[0], res.shape[1])"
   ]
  },
  {
   "cell_type": "code",
   "execution_count": 101,
   "metadata": {},
   "outputs": [],
   "source": [
    "a = np.concatenate(res.reshape(1, res.shape[0], res.shape[1]))"
   ]
  },
  {
   "cell_type": "code",
   "execution_count": 102,
   "metadata": {},
   "outputs": [
    {
     "name": "stdout",
     "output_type": "stream",
     "text": [
      "[1.]\n",
      "[1.]\n",
      "[1.]\n",
      "[1.]\n",
      "[1.]\n"
     ]
    }
   ],
   "source": [
    "for i in a:\n",
    "    print(i)"
   ]
  },
  {
   "cell_type": "code",
   "execution_count": 103,
   "metadata": {},
   "outputs": [
    {
     "data": {
      "text/plain": [
       "array([[1.],\n",
       "       [1.],\n",
       "       [1.],\n",
       "       [1.],\n",
       "       [1.]])"
      ]
     },
     "execution_count": 103,
     "metadata": {},
     "output_type": "execute_result"
    }
   ],
   "source": [
    "a"
   ]
  },
  {
   "cell_type": "code",
   "execution_count": null,
   "metadata": {},
   "outputs": [],
   "source": []
  }
 ],
 "metadata": {
  "kernelspec": {
   "display_name": "analysis_env",
   "language": "python",
   "name": "analysis_env"
  },
  "language_info": {
   "codemirror_mode": {
    "name": "ipython",
    "version": 3
   },
   "file_extension": ".py",
   "mimetype": "text/x-python",
   "name": "python",
   "nbconvert_exporter": "python",
   "pygments_lexer": "ipython3",
   "version": "3.7.4"
  }
 },
 "nbformat": 4,
 "nbformat_minor": 2
}
